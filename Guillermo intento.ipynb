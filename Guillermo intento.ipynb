{
 "cells": [
  {
   "cell_type": "markdown",
   "source": "\n## Mi intento Memo",
   "metadata": {
    "cell_id": "da540409c3654f309de9d71f5f8412bd",
    "tags": [],
    "is_code_hidden": false,
    "deepnote_cell_type": "markdown",
    "deepnote_cell_height": 69.66667175292969
   }
  },
  {
   "cell_type": "markdown",
   "source": "## Paso 1 \nDefinimos nuestro una lista de palabras de prueba:",
   "metadata": {
    "cell_id": "8e6738b02a17422abdde2bca4833bb01",
    "tags": [],
    "is_code_hidden": false,
    "deepnote_cell_type": "markdown",
    "deepnote_cell_height": 108.06666564941406
   }
  },
  {
   "cell_type": "code",
   "metadata": {
    "cell_id": "c00737e3b5034d8f82affe4f7f36eb18",
    "tags": [],
    "deepnote_to_be_reexecuted": false,
    "source_hash": "c48dd67f",
    "execution_start": 1651170841588,
    "execution_millis": 2,
    "is_code_hidden": false,
    "deepnote_cell_type": "code",
    "deepnote_cell_height": 80.66667175292969
   },
   "source": "words = [\"Gato\", \"Escuela\", \"Perro\", \"Niño\", \"Casa\"]",
   "execution_count": null,
   "outputs": []
  },
  {
   "cell_type": "markdown",
   "source": "\nCreación de red neuraonal para la conversión de español a nahualt (https://huggingface.co/hackathon-pln-es/t5-small-spanish-nahuatl)",
   "metadata": {
    "cell_id": "e1e693edc36a4bf8a778ec5acf7cd9bf",
    "tags": [],
    "is_code_hidden": false,
    "deepnote_cell_type": "markdown",
    "deepnote_cell_height": 52.06666564941406
   }
  },
  {
   "cell_type": "code",
   "metadata": {
    "cell_id": "5e96ee1c260c46b7b5628eed55a2147c",
    "tags": [],
    "deepnote_to_be_reexecuted": false,
    "source_hash": "8b9d864a",
    "execution_start": 1651173592805,
    "execution_millis": 7434,
    "is_code_hidden": false,
    "deepnote_cell_type": "code",
    "deepnote_cell_height": 344.83331298828125
   },
   "source": "from transformers import AutoModelForSeq2SeqLM\nfrom transformers import AutoTokenizer\n\nmodel = AutoModelForSeq2SeqLM.from_pretrained('hackathon-pln-es/t5-small-spanish-nahuatl')\ntokenizer = AutoTokenizer.from_pretrained('hackathon-pln-es/t5-small-spanish-nahuatl')\nmodel.eval();",
   "execution_count": null,
   "outputs": [
    {
     "data": {
      "text/plain": "Downloading:   0%|          | 0.00/1.37k [00:00<?, ?B/s]",
      "application/vnd.jupyter.widget-view+json": {
       "version_major": 2,
       "version_minor": 0,
       "model_id": "40f362ac6eac47faba39429211ec4342"
      }
     },
     "metadata": {},
     "output_type": "display_data"
    },
    {
     "data": {
      "text/plain": "Downloading:   0%|          | 0.00/231M [00:00<?, ?B/s]",
      "application/vnd.jupyter.widget-view+json": {
       "version_major": 2,
       "version_minor": 0,
       "model_id": "f1cdb45a1fa249b2836505ec2250a88b"
      }
     },
     "metadata": {},
     "output_type": "display_data"
    },
    {
     "data": {
      "text/plain": "Downloading:   0%|          | 0.00/1.90k [00:00<?, ?B/s]",
      "application/vnd.jupyter.widget-view+json": {
       "version_major": 2,
       "version_minor": 0,
       "model_id": "f66ad411c9154c7487d783308971d3b6"
      }
     },
     "metadata": {},
     "output_type": "display_data"
    },
    {
     "data": {
      "text/plain": "Downloading:   0%|          | 0.00/2.31M [00:00<?, ?B/s]",
      "application/vnd.jupyter.widget-view+json": {
       "version_major": 2,
       "version_minor": 0,
       "model_id": "e0bddaef6c2e48aca6a4daa6b47de752"
      }
     },
     "metadata": {},
     "output_type": "display_data"
    },
    {
     "data": {
      "text/plain": "Downloading:   0%|          | 0.00/1.74k [00:00<?, ?B/s]",
      "application/vnd.jupyter.widget-view+json": {
       "version_major": 2,
       "version_minor": 0,
       "model_id": "62bc5baebad649da96f966306fd0e192"
      }
     },
     "metadata": {},
     "output_type": "display_data"
    }
   ]
  },
  {
   "cell_type": "markdown",
   "source": "\nDefinimos una función para pasar una palabra de español a nahualt utilizando el modelo creado:",
   "metadata": {
    "cell_id": "ddfa4cdaf5d0402facd130598b73b98e",
    "tags": [],
    "is_code_hidden": false,
    "deepnote_cell_type": "markdown",
    "deepnote_cell_height": 52.06666564941406
   }
  },
  {
   "cell_type": "code",
   "metadata": {
    "cell_id": "88479e40517b465e80bbd12e42ea0c21",
    "tags": [],
    "deepnote_to_be_reexecuted": false,
    "source_hash": "922d885",
    "execution_start": 1651173612446,
    "execution_millis": 0,
    "is_code_hidden": false,
    "deepnote_cell_type": "code",
    "deepnote_cell_height": 170.6666717529297
   },
   "source": "def word_spanish_nahualt(word, model, tokenizer):\n    input_ids = tokenizer('translate Spanish to Nahuatl: ' + word, return_tensors='pt').input_ids # tensores\n    outputs = model.generate(input_ids) # tensores\n    word_nahuatl = tokenizer.batch_decode(outputs, skip_special_tokens=True)[0] # word in nahuatl\n    return word_nahuatl\n",
   "execution_count": null,
   "outputs": []
  },
  {
   "cell_type": "markdown",
   "source": "\nLe damos una lista de palabras:",
   "metadata": {
    "cell_id": "4469949dcb6740b083c0cd05cb0ccad9",
    "tags": [],
    "is_code_hidden": false,
    "deepnote_cell_type": "markdown",
    "deepnote_cell_height": 52.06666564941406
   }
  },
  {
   "cell_type": "code",
   "metadata": {
    "cell_id": "a1ada6ff7ed34383bd5397ad4355180e",
    "tags": [],
    "deepnote_to_be_reexecuted": false,
    "source_hash": "f6afdea2",
    "execution_start": 1651167938699,
    "execution_millis": 1082,
    "is_code_hidden": false,
    "deepnote_cell_type": "code",
    "deepnote_cell_height": 116.66667175292969
   },
   "source": "words_nahuatl = []\nfor word in words:\n    words_nahuatl.append(word_spanish_nahualt(word, model, tokenizer))",
   "execution_count": null,
   "outputs": []
  },
  {
   "cell_type": "code",
   "metadata": {
    "cell_id": "37bcafab762a4e8cb625fe7c95be5edb",
    "tags": [],
    "deepnote_to_be_reexecuted": false,
    "source_hash": "e6181a1e",
    "execution_start": 1651167940665,
    "execution_millis": 8,
    "is_code_hidden": false,
    "deepnote_cell_type": "code",
    "deepnote_cell_height": 117.5,
    "deepnote_output_heights": [
     21
    ]
   },
   "source": "words_nahuatl",
   "execution_count": null,
   "outputs": [
    {
     "output_type": "execute_result",
     "execution_count": 29,
     "data": {
      "text/plain": "['tsontli', 'tlajkuiloa', 'chichi', 'pili', 'kali']"
     },
     "metadata": {}
    }
   ]
  },
  {
   "cell_type": "markdown",
   "source": "### Paso 2) Decir oraciones con esas palabras en español (Voz)\nPor ejemplo: \"Mi miztli tiene hambre\"",
   "metadata": {
    "cell_id": "bf474b7616e74ec4a755b720f1514a23",
    "tags": [],
    "is_code_hidden": false,
    "deepnote_cell_type": "markdown",
    "deepnote_cell_height": 100.06666564941406
   }
  },
  {
   "cell_type": "code",
   "metadata": {
    "cell_id": "1edda0e10ad14880a2999927d39e3a66",
    "tags": [],
    "deepnote_to_be_reexecuted": false,
    "source_hash": "1f605e5c",
    "execution_start": 1651293726821,
    "execution_millis": 2608,
    "is_code_hidden": false,
    "deepnote_cell_type": "code",
    "deepnote_cell_height": 116.66667175292969
   },
   "source": "from ipywebrtc import AudioRecorder, CameraStream\nimport torchaudio\nfrom IPython.display import Audio",
   "execution_count": null,
   "outputs": []
  },
  {
   "cell_type": "markdown",
   "source": "Grabamos la oracion de prueba:",
   "metadata": {
    "cell_id": "864c4943e19f4bffb8166e64635fbe83",
    "tags": [],
    "is_code_hidden": false,
    "deepnote_cell_type": "markdown",
    "deepnote_cell_height": 52.06666564941406
   }
  },
  {
   "cell_type": "code",
   "metadata": {
    "cell_id": "1e6ae9c0b4d64a569b1a537cb91ad4a8",
    "tags": [],
    "deepnote_to_be_reexecuted": false,
    "source_hash": "c7e053f3",
    "execution_start": 1651293732191,
    "execution_millis": 13,
    "is_code_hidden": false,
    "deepnote_cell_type": "code",
    "deepnote_cell_height": 133.5
   },
   "source": "camera = CameraStream(constraints={'audio': True,'video':False})\nrecorder = AudioRecorder(stream=camera)\nrecorder",
   "execution_count": null,
   "outputs": [
    {
     "data": {
      "text/plain": "AudioRecorder(audio=Audio(value=b'', format='webm'), stream=CameraStream(constraints={'audio': True, 'video': …",
      "application/vnd.jupyter.widget-view+json": {
       "version_major": 2,
       "version_minor": 0,
       "model_id": "cefab50b7e76438e9c4a8b918dee4e30"
      }
     },
     "metadata": {},
     "output_type": "display_data"
    }
   ]
  },
  {
   "cell_type": "markdown",
   "source": "Creamos nuestro audio y con ayuda ffmpeg los convertimos en .wav",
   "metadata": {
    "cell_id": "8b6aeaaedf2c4441b7433334b3baff9d",
    "tags": [],
    "is_code_hidden": false,
    "deepnote_cell_type": "markdown",
    "deepnote_cell_height": 52.06666564941406
   }
  },
  {
   "cell_type": "code",
   "metadata": {
    "cell_id": "e501c990b31e4394b1969e24ebe412bf",
    "tags": [],
    "deepnote_to_be_reexecuted": false,
    "source_hash": "a74f06eb",
    "execution_start": 1651172868093,
    "execution_millis": 758,
    "is_code_hidden": false,
    "deepnote_cell_type": "code",
    "deepnote_cell_height": 134.6666717529297
   },
   "source": "with open('./grabaciones-webm/test.webm', 'wb') as f:\n    f.write(recorder.audio.value)\n\n!ffmpeg -i ./grabaciones-webm/test.webm -ac 1 -f wav ./grabaciones-wav/test.wav -y -hide_banner -loglevel panic",
   "execution_count": null,
   "outputs": []
  },
  {
   "cell_type": "markdown",
   "source": "**Modelo voz español -> texto** (https://huggingface.co/patrickvonplaten/wav2vec2-large-xlsr-53-spanish-with-lm)\n\nUtilizamos el modelo huggin face y probamos con nuestra oración:",
   "metadata": {
    "cell_id": "ead3d619ad334bf19117a26a1ca5fe64",
    "tags": [],
    "deepnote_to_be_reexecuted": false,
    "source_hash": "f5bbc30c",
    "execution_start": 1651171950041,
    "execution_millis": 710,
    "is_code_hidden": false,
    "deepnote_cell_type": "markdown",
    "deepnote_cell_height": 88.46665954589844
   }
  },
  {
   "cell_type": "code",
   "metadata": {
    "cell_id": "fb4c1ce917984c3891b6ec127014edd6",
    "tags": [],
    "deepnote_to_be_reexecuted": false,
    "source_hash": "450ec55d",
    "execution_start": 1651172905888,
    "execution_millis": 25911,
    "is_code_hidden": false,
    "deepnote_cell_type": "code",
    "deepnote_cell_height": 271.6333312988281
   },
   "source": "from huggingsound import SpeechRecognitionModel\n\nmodel = SpeechRecognitionModel(\"patrickvonplaten/wav2vec2-large-xlsr-53-spanish-with-lm\")\naudio_paths = [\"./grabaciones-wav/test.wav\"]\n\ntranscriptions_es = model.transcribe(audio_paths)[0]",
   "execution_count": null,
   "outputs": [
    {
     "name": "stdout",
     "text": "04/28/2022 19:08:36 - INFO - huggingsound.speech_recognition.model - Loading model...\n/root/venv/lib/python3.7/site-packages/transformers/configuration_utils.py:359: UserWarning: Passing `gradient_checkpointing` to a config initialization is deprecated and will be removed in v5 Transformers. Using `model.gradient_checkpointing_enable()` instead, or if you are using the `Trainer` API, pass `gradient_checkpointing=True` in your `TrainingArguments`.\n  \"Passing `gradient_checkpointing` to a config initialization is deprecated and will be removed in v5 \"\n100%|██████████| 1/1 [00:03<00:00,  3.46s/it]\n",
     "output_type": "stream"
    }
   ]
  },
  {
   "cell_type": "code",
   "metadata": {
    "cell_id": "ff2e38f1db2942dab188fc31a4d3b293",
    "tags": [],
    "deepnote_to_be_reexecuted": false,
    "source_hash": "15c1be73",
    "execution_start": 1651173077278,
    "execution_millis": 9,
    "is_code_hidden": false,
    "deepnote_cell_type": "code",
    "deepnote_cell_height": 117.5,
    "deepnote_output_heights": [
     21
    ]
   },
   "source": "transcriptions_es['transcription']",
   "execution_count": null,
   "outputs": [
    {
     "output_type": "execute_result",
     "execution_count": 20,
     "data": {
      "text/plain": "'hola cómo estás'"
     },
     "metadata": {}
    }
   ]
  },
  {
   "cell_type": "markdown",
   "source": "**Modelo voz nahual -> texto**\nhttps://huggingface.co/tyoc213/wav2vec2-large-xlsr-nahuatl\n\nUtilizamos el modelo huggin face y probamos con nuestra oración:",
   "metadata": {
    "cell_id": "42f53de002fd4844b1d848ea6dae67c3",
    "tags": [],
    "is_code_hidden": false,
    "deepnote_cell_type": "markdown",
    "deepnote_cell_height": 88.46665954589844
   }
  },
  {
   "cell_type": "code",
   "metadata": {
    "cell_id": "b8c8d176542c4766a7853cf0070e7be2",
    "tags": [],
    "deepnote_to_be_reexecuted": false,
    "source_hash": "1388554",
    "execution_start": 1651173484354,
    "execution_millis": 27125,
    "is_code_hidden": false,
    "deepnote_cell_type": "code",
    "deepnote_cell_height": 331.73333740234375
   },
   "source": "from huggingsound import SpeechRecognitionModel\n\nmodel = SpeechRecognitionModel(\"tyoc213/wav2vec2-large-xlsr-nahuatl\")\naudio_paths = [\"./grabaciones-wav/audio.mp3\"]\n\ntranscriptions_nah = model.transcribe(audio_paths)[0]",
   "execution_count": null,
   "outputs": [
    {
     "name": "stdout",
     "text": "04/28/2022 19:18:15 - INFO - huggingsound.speech_recognition.model - Loading model...\n/root/venv/lib/python3.7/site-packages/transformers/configuration_utils.py:359: UserWarning: Passing `gradient_checkpointing` to a config initialization is deprecated and will be removed in v5 Transformers. Using `model.gradient_checkpointing_enable()` instead, or if you are using the `Trainer` API, pass `gradient_checkpointing=True` in your `TrainingArguments`.\n  \"Passing `gradient_checkpointing` to a config initialization is deprecated and will be removed in v5 \"\nSpecial tokens have been added in the vocabulary, make sure the associated word embeddings are fine-tuned or trained.\n04/28/2022 19:18:27 - WARNING - root - bos_token <s> not in provided tokens. It will be added to the list of tokens\n04/28/2022 19:18:27 - WARNING - root - eos_token </s> not in provided tokens. It will be added to the list of tokens\n100%|██████████| 1/1 [00:03<00:00,  3.78s/it]\n",
     "output_type": "stream"
    }
   ]
  },
  {
   "cell_type": "code",
   "metadata": {
    "cell_id": "496973eb83ad4e40aeab5bda89cde271",
    "tags": [],
    "deepnote_to_be_reexecuted": false,
    "source_hash": "9c419f23",
    "execution_start": 1651173516076,
    "execution_millis": 2,
    "is_code_hidden": false,
    "deepnote_cell_type": "code",
    "deepnote_cell_height": 117.5,
    "deepnote_output_heights": [
     21
    ]
   },
   "source": "transcriptions_nah['transcription']",
   "execution_count": null,
   "outputs": [
    {
     "output_type": "execute_result",
     "execution_count": 2,
     "data": {
      "text/plain": "\"nas yoxofio no y n' ei\""
     },
     "metadata": {}
    }
   ]
  },
  {
   "cell_type": "markdown",
   "source": "**Observacion: Todavia no hay un traductor de nahual al español**",
   "metadata": {
    "cell_id": "655f7964e67041e480e25ebbb4ad0b58",
    "tags": [],
    "is_code_hidden": false,
    "deepnote_cell_type": "markdown",
    "deepnote_cell_height": 52.06666564941406
   }
  },
  {
   "cell_type": "code",
   "metadata": {
    "cell_id": "c905fd4a12b64239abc31aad68d686d9",
    "tags": [],
    "is_code_hidden": false,
    "deepnote_cell_type": "code",
    "deepnote_cell_height": 65.66667175292969
   },
   "source": "",
   "execution_count": null,
   "outputs": []
  },
  {
   "cell_type": "code",
   "metadata": {
    "cell_id": "036c0fccc8df4428879a4452c33e46c1",
    "tags": [],
    "is_code_hidden": false,
    "deepnote_cell_type": "code",
    "deepnote_cell_height": 65.66667175292969
   },
   "source": "",
   "execution_count": null,
   "outputs": []
  },
  {
   "cell_type": "code",
   "metadata": {
    "cell_id": "c724ca3412274d9488add1b953665fb8",
    "tags": [],
    "is_code_hidden": false,
    "deepnote_cell_type": "code",
    "deepnote_cell_height": 65.66667175292969
   },
   "source": "",
   "execution_count": null,
   "outputs": []
  },
  {
   "cell_type": "markdown",
   "source": "## Referecia\n- https://huggingface.co/hackathon-pln-es/t5-small-spanish-nahuatl (Existen diferente versiones de nahual para escribirlo)\n- https://huggingface.co/patrickvonplaten/wav2vec2-large-xlsr-53-spanish-with-lm\n- https://huggingface.co/tyoc213/wav2vec2-large-xlsr-nahuatl\n- https://huggingface.co/spaces?sort=modified&search=spee (Ejemplos)\n- https://colab.research.google.com/gist/omarespejel/af89fe202db90c21320c1313b6fe2e2f#scrollTo=ayOhsxluT8Xj\n\n**Audios en jupyter notebooks**\n- https://medium.com/@harrycblum/record-audio-in-a-jupyter-notebook-da08a88278bb\n- https://stackoverflow.com/questions/52442361/record-audio-in-jupyter-notebook\n- https://ipywebrtc.readthedocs.io/en/latest/api.html#module-ipywebrtc.webrtc\n- https://ipywebrtc.readthedocs.io/en/latest/index.html\n- https://stackoverflow.com/questions/156767/whats-the-difference-between-an-argument-and-a-parameter",
   "metadata": {
    "cell_id": "cdc2e7dc6d6646429907244f2efe7ba9",
    "tags": [],
    "is_code_hidden": false,
    "deepnote_cell_type": "markdown",
    "deepnote_cell_height": 402.23333740234375
   }
  },
  {
   "cell_type": "markdown",
   "source": "---\n\n### Voice code",
   "metadata": {
    "cell_id": "d6e9a1b8a25c4379bb64c630cb454c61",
    "tags": [],
    "is_code_hidden": false,
    "deepnote_cell_type": "markdown",
    "deepnote_cell_height": 62.5
   }
  },
  {
   "cell_type": "code",
   "metadata": {
    "cell_id": "fe6c6758b4ad4cf3b58a690b74b8fff0",
    "tags": [],
    "deepnote_to_be_reexecuted": false,
    "source_hash": "94b30f86",
    "execution_start": 1651337694373,
    "execution_millis": 2687,
    "is_code_hidden": false,
    "deepnote_cell_type": "code",
    "deepnote_cell_height": 205.5
   },
   "source": "from ipywebrtc import AudioRecorder, CameraStream\nimport torchaudio\nfrom IPython.display import Audio\n\ncamera = CameraStream(constraints={'audio': True,'video':False})\nrecorder = AudioRecorder(stream=camera)\nrecorder",
   "execution_count": null,
   "outputs": [
    {
     "data": {
      "text/plain": "AudioRecorder(audio=Audio(value=b'', format='webm'), stream=CameraStream(constraints={'audio': True, 'video': …",
      "application/vnd.jupyter.widget-view+json": {
       "version_major": 2,
       "version_minor": 0,
       "model_id": "9b121170fd2f4ef3a25cb22c47a366fd"
      }
     },
     "metadata": {},
     "output_type": "display_data"
    }
   ]
  },
  {
   "cell_type": "code",
   "metadata": {
    "cell_id": "bfa63f18362b4f7aa5a24cad9891eeca",
    "tags": [],
    "deepnote_to_be_reexecuted": false,
    "source_hash": "b4dbf27",
    "execution_start": 1651337844736,
    "execution_millis": 844,
    "is_code_hidden": false,
    "deepnote_cell_type": "code",
    "deepnote_cell_height": 134.6666717529297
   },
   "source": "with open('./grabaciones-webm/testmemo.webm', 'wb') as f:\n    f.write(recorder.audio.value)\n\n!ffmpeg -i ./grabaciones-webm/testmemo.webm -ac 1 -f wav ./grabaciones-wav/testmemo.wav -y -hide_banner -loglevel panic",
   "execution_count": null,
   "outputs": []
  },
  {
   "cell_type": "code",
   "metadata": {
    "cell_id": "c0987fbe6d0c4570898e6a6a8ff833dc",
    "tags": [],
    "deepnote_to_be_reexecuted": false,
    "source_hash": "cd272080",
    "execution_start": 1651337849276,
    "execution_millis": 4506,
    "is_code_hidden": false,
    "deepnote_cell_type": "code",
    "deepnote_cell_height": 197.60000610351562
   },
   "source": "from huggingsound import SpeechRecognitionModel\n\nmodel = SpeechRecognitionModel(\"patrickvonplaten/wav2vec2-large-xlsr-53-spanish-with-lm\")",
   "execution_count": null,
   "outputs": [
    {
     "name": "stdout",
     "text": "04/30/2022 16:57:29 - INFO - huggingsound.speech_recognition.model - Loading model...\n/root/venv/lib/python3.7/site-packages/transformers/configuration_utils.py:359: UserWarning: Passing `gradient_checkpointing` to a config initialization is deprecated and will be removed in v5 Transformers. Using `model.gradient_checkpointing_enable()` instead, or if you are using the `Trainer` API, pass `gradient_checkpointing=True` in your `TrainingArguments`.\n  \"Passing `gradient_checkpointing` to a config initialization is deprecated and will be removed in v5 \"\n",
     "output_type": "stream"
    }
   ]
  },
  {
   "cell_type": "code",
   "metadata": {
    "cell_id": "c9326b37b3184db190c1f1cf24c06b09",
    "tags": [],
    "deepnote_to_be_reexecuted": false,
    "source_hash": "1fc6b364",
    "execution_start": 1651337857863,
    "execution_millis": 2069,
    "is_code_hidden": false,
    "deepnote_cell_type": "code",
    "deepnote_cell_height": 165.53334045410156
   },
   "source": "audio_paths = [\"./grabaciones-wav/test.wav\"]\n\n# Obtenemos la frase del usuario\ntranscriptions_es = model.transcribe(audio_paths)[0]",
   "execution_count": null,
   "outputs": [
    {
     "name": "stderr",
     "text": "100%|██████████| 1/1 [00:01<00:00,  1.90s/it]\n",
     "output_type": "stream"
    }
   ]
  },
  {
   "cell_type": "code",
   "metadata": {
    "cell_id": "a8b639186d1549b88b6d52238587f808",
    "tags": [],
    "deepnote_to_be_reexecuted": false,
    "source_hash": "a11b08fd",
    "execution_start": 1651337946381,
    "execution_millis": 0,
    "is_code_hidden": false,
    "owner_user_id": "e0c6afe4-99d0-40b0-b8eb-7b5ca2d084e6",
    "deepnote_cell_type": "code",
    "deepnote_cell_height": 386.66668701171875
   },
   "source": "def sim_jac(s1, s2):\n\n    bigrams_s1 = []\n    bigrams_s2 = []\n    \n    for i in range(len(s1) - 1):\n        bigrams_s1.append(s1[i:i+2])\n    \n    for i in range(len(s2) - 1):\n        bigrams_s2.append(s2[i:i+2])\n\n    c_common = 0\n\n    for i in bigrams_s1:\n        if bigrams_s2.count(i) > 0:\n            c_common += 1\n\n    return c_common / ((len(s1) - 1) + (len(s2) - 1) - c_common)",
   "execution_count": null,
   "outputs": []
  },
  {
   "cell_type": "code",
   "metadata": {
    "cell_id": "5a52072380894ed89949247b9d38acbc",
    "tags": [],
    "is_code_hidden": false,
    "deepnote_cell_type": "code",
    "deepnote_cell_height": 155.6666717529297
   },
   "source": "def definir_funcion():\n    code = \"\"\"\n    def nombre_function():\n        pass\n    \"\"\"\n    return code",
   "execution_count": null,
   "outputs": []
  },
  {
   "cell_type": "code",
   "metadata": {
    "cell_id": "973354c174104a2295c963e021ba5e04",
    "tags": [],
    "deepnote_to_be_reexecuted": false,
    "source_hash": "df915b29",
    "execution_start": 1651338252265,
    "execution_millis": 534,
    "is_code_hidden": false,
    "deepnote_cell_type": "code",
    "deepnote_cell_height": 171.5,
    "deepnote_output_heights": [
     21
    ]
   },
   "source": "frase_usuario = transcriptions_es['transcription']\n\n# Ver similitud\nsim_jac('definir función', frase_usuario)",
   "execution_count": null,
   "outputs": [
    {
     "output_type": "execute_result",
     "execution_count": 15,
     "data": {
      "text/plain": "1.0"
     },
     "metadata": {}
    }
   ]
  },
  {
   "cell_type": "code",
   "metadata": {
    "cell_id": "d97a0764d53c44e8927e946e9271c5a2",
    "tags": [],
    "deepnote_to_be_reexecuted": false,
    "source_hash": "e81b2ce",
    "execution_start": 1651338112389,
    "execution_millis": 9,
    "is_code_hidden": false,
    "deepnote_cell_type": "code",
    "deepnote_cell_height": 117.5,
    "deepnote_output_heights": [
     21
    ]
   },
   "source": "frase_usuario",
   "execution_count": null,
   "outputs": [
    {
     "output_type": "execute_result",
     "execution_count": 14,
     "data": {
      "text/plain": "'definir función'"
     },
     "metadata": {}
    }
   ]
  },
  {
   "cell_type": "code",
   "metadata": {
    "cell_id": "8855188233db43c28feaef1ddba377e1",
    "tags": [],
    "deepnote_to_be_reexecuted": false,
    "source_hash": "191662e9",
    "execution_start": 1651339528150,
    "execution_millis": 3,
    "is_code_hidden": false,
    "deepnote_cell_type": "code",
    "deepnote_cell_height": 134.6666717529297
   },
   "source": "def funcion(x, y):\n    for i in range(50):\n        print(f'Paso {i} listo')\n    return x + y",
   "execution_count": null,
   "outputs": []
  },
  {
   "cell_type": "code",
   "metadata": {
    "cell_id": "36520dfca2fc472cb53b12092f7d9fbc",
    "tags": [],
    "deepnote_to_be_reexecuted": false,
    "source_hash": "5f52f4c3",
    "execution_start": 1651339529451,
    "execution_millis": 8,
    "is_code_hidden": false,
    "deepnote_cell_type": "code",
    "deepnote_cell_height": 824.3333129882812,
    "deepnote_output_heights": [
     null,
     21
    ]
   },
   "source": "a = 3\nb = 7\n# voz llamar funcion: (nombre de la func)\n# definir argumentos\nfuncion(a, b)",
   "execution_count": null,
   "outputs": [
    {
     "name": "stdout",
     "text": "Paso 0 listo\nPaso 1 listo\nPaso 2 listo\nPaso 3 listo\nPaso 4 listo\nPaso 5 listo\nPaso 6 listo\nPaso 7 listo\nPaso 8 listo\nPaso 9 listo\nPaso 10 listo\nPaso 11 listo\nPaso 12 listo\nPaso 13 listo\nPaso 14 listo\nPaso 15 listo\nPaso 16 listo\nPaso 17 listo\nPaso 18 listo\nPaso 19 listo\nPaso 20 listo\nPaso 21 listo\nPaso 22 listo\nPaso 23 listo\nPaso 24 listo\nPaso 25 listo\nPaso 26 listo\nPaso 27 listo\nPaso 28 listo\nPaso 29 listo\nPaso 30 listo\nPaso 31 listo\nPaso 32 listo\nPaso 33 listo\nPaso 34 listo\nPaso 35 listo\nPaso 36 listo\nPaso 37 listo\nPaso 38 listo\nPaso 39 listo\nPaso 40 listo\nPaso 41 listo\nPaso 42 listo\nPaso 43 listo\nPaso 44 listo\nPaso 45 listo\nPaso 46 listo\nPaso 47 listo\nPaso 48 listo\nPaso 49 listo\n",
     "output_type": "stream"
    },
    {
     "output_type": "execute_result",
     "execution_count": 21,
     "data": {
      "text/plain": "10"
     },
     "metadata": {}
    }
   ]
  },
  {
   "cell_type": "code",
   "metadata": {
    "cell_id": "c567415527f942dbb9a2ef74edff30b8",
    "tags": [],
    "owner_user_id": "b7f90450-0770-40af-820a-2f5d5913daed",
    "is_code_hidden": false,
    "deepnote_cell_type": "code",
    "deepnote_cell_height": 65.66667175292969
   },
   "source": "",
   "execution_count": null,
   "outputs": []
  },
  {
   "cell_type": "markdown",
   "source": "<a style='text-decoration:none;line-height:16px;display:flex;color:#5B5B62;padding:10px;justify-content:end;' href='https://deepnote.com?utm_source=created-in-deepnote-cell&projectId=17740a58-e960-4de3-bb66-1575286930f1' target=\"_blank\">\n<img alt='Created in deepnote.com' style='display:inline;max-height:16px;margin:0px;margin-right:7.5px;' src='data:image/svg+xml;base64,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' > </img>\nCreated in <span style='font-weight:600;margin-left:4px;'>Deepnote</span></a>",
   "metadata": {
    "tags": [],
    "created_in_deepnote_cell": true,
    "deepnote_cell_type": "markdown"
   }
  }
 ],
 "nbformat": 4,
 "nbformat_minor": 2,
 "metadata": {
  "orig_nbformat": 2,
  "deepnote": {},
  "deepnote_notebook_id": "66c9d9f4-544d-4fbe-a2ee-304baadb0af5",
  "deepnote_execution_queue": []
 }
}