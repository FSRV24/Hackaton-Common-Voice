{
 "cells": [
  {
   "cell_type": "code",
   "metadata": {
    "id": "mIBC_dgS780R",
    "cell_id": "b9991cd5-16de-44af-840d-ddf11a2ac28c",
    "deepnote_cell_type": "code"
   },
   "source": "!pip install -q gradio\n!pip install huggingsound",
   "execution_count": null,
   "outputs": []
  },
  {
   "cell_type": "code",
   "metadata": {
    "colab": {
     "base_uri": "https://localhost:8080/"
    },
    "id": "bBh_f-QO9FQ9",
    "outputId": "07ecb632-38fc-45ec-b254-5cbc12a3c952",
    "cell_id": "00001-4dc92ef1-0a06-446f-8688-d8624961c28f",
    "deepnote_cell_type": "code"
   },
   "source": "# cargamos el modelo de huggingsound\nimport re\nfrom huggingsound import SpeechRecognitionModel\n\n# creación del modelo\nmodel = SpeechRecognitionModel(\"patrickvonplaten/wav2vec2-large-xlsr-53-spanish-with-lm\")",
   "execution_count": 2,
   "outputs": [
    {
     "output_type": "stream",
     "name": "stderr",
     "text": "/usr/local/lib/python3.7/dist-packages/paramiko/transport.py:236: CryptographyDeprecationWarning: Blowfish has been deprecated\n  \"class\": algorithms.Blowfish,\n"
    },
    {
     "output_type": "stream",
     "name": "stdout",
     "text": "05/01/2022 00:58:50 - INFO - huggingsound.speech_recognition.model - Loading model...\n"
    },
    {
     "output_type": "stream",
     "name": "stderr",
     "text": "/usr/local/lib/python3.7/dist-packages/transformers/configuration_utils.py:359: UserWarning: Passing `gradient_checkpointing` to a config initialization is deprecated and will be removed in v5 Transformers. Using `model.gradient_checkpointing_enable()` instead, or if you are using the `Trainer` API, pass `gradient_checkpointing=True` in your `TrainingArguments`.\n  \"Passing `gradient_checkpointing` to a config initialization is deprecated and will be removed in v5 \"\n"
    }
   ]
  },
  {
   "cell_type": "code",
   "metadata": {
    "id": "6sCDtYLa87Ta",
    "cell_id": "00002-4fe29c42-2664-4e53-bc3a-6414e83167b0",
    "deepnote_cell_type": "code"
   },
   "source": "def sim_jac(s1, s2):\n\n    bigrams_s1 = []\n    bigrams_s2 = []\n\n    for i in range(len(s1) - 1):\n        bigrams_s1.append(s1[i:i+2])\n    \n    for i in range(len(s2) - 1):\n        bigrams_s2.append(s2[i:i+2])\n\n    c_common = 0\n\n    for i in bigrams_s1:\n        if bigrams_s2.count(i) > 0:\n            c_common += 1\n\n    return c_common / ((len(s1) - 1) + (len(s2) - 1) - c_common)",
   "execution_count": 3,
   "outputs": []
  },
  {
   "cell_type": "code",
   "metadata": {
    "id": "0bD475ZO_f6E",
    "cell_id": "00003-abbeeb4f-6434-4b28-a865-74217bbcc377",
    "deepnote_cell_type": "code"
   },
   "source": "def plantilla_funcion(instruccion):\n\n    before_keyword, keyword, after_keyword = instruccion.partition('nombre')\n\n    recomendacion = ''\n    output = ''\n\n    if len(after_keyword) == 0:\n        recomendacion = f'¡No me dijiste el nombre de la función!'\n\n    else:\n        # quitar acentos\n        name_func = after_keyword.split(' ')[1]\n\n        if instruccion.strip().split(' ')[-1] == name_func:\n            parametros = ''\n\n        else:\n            before_keyword, keyword, after_keyword = instruccion.partition('parámetros')\n\n            if len(after_keyword) == 0:\n                parametros = ''\n                recomendacion = f'¡No me dijiste el nombre de los parámetros!'\n\n            else:\n                parametros = after_keyword.split(' ')[1:]\n                parametros = ', '.join(parametros)\n\n        output = f\"\"\"\n        def {name_func}({parametros}):\n            \n        \"\"\"\n\n    return output, recomendacion",
   "execution_count": 33,
   "outputs": []
  },
  {
   "cell_type": "code",
   "metadata": {
    "colab": {
     "base_uri": "https://localhost:8080/"
    },
    "id": "r5SZwXWkBwtv",
    "outputId": "91d8fd75-006f-4cc1-94bf-faff0476fcdf",
    "cell_id": "00004-937bcd8d-6559-4adc-bb7e-848fc81ccbd9",
    "deepnote_cell_type": "code"
   },
   "source": "plantilla_funcion('definir función con nombre magica y parámetros')",
   "execution_count": 34,
   "outputs": [
    {
     "output_type": "execute_result",
     "data": {
      "text/plain": "('\\n        def magica():\\n            \\n        ',\n '¡No me dijiste el nombre de los parámetros!')"
     },
     "metadata": {},
     "execution_count": 34
    }
   ]
  },
  {
   "cell_type": "code",
   "metadata": {
    "colab": {
     "base_uri": "https://localhost:8080/",
     "height": 35
    },
    "id": "bC-mJZraFhZ1",
    "outputId": "f31c1435-93ea-47e2-89b1-fc8bd184c506",
    "cell_id": "00005-8d8bbfd1-4f99-4de8-b746-b93b8c835999",
    "deepnote_cell_type": "code"
   },
   "source": "cadena = '    holaa   mundo    '\ncadena.strip()",
   "execution_count": 6,
   "outputs": [
    {
     "output_type": "execute_result",
     "data": {
      "text/plain": "'holaa   mundo'",
      "application/vnd.google.colaboratory.intrinsic+json": {
       "type": "string"
      }
     },
     "metadata": {},
     "execution_count": 6
    }
   ]
  },
  {
   "cell_type": "markdown",
   "source": "definir función genérica con parametros x g s",
   "metadata": {
    "id": "Imu6XmymBrJf",
    "cell_id": "00006-68a95474-039d-4ded-983b-cb66a1e60822",
    "deepnote_cell_type": "markdown"
   }
  },
  {
   "cell_type": "code",
   "metadata": {
    "id": "diXn-8Zd9ACC",
    "cell_id": "00007-3e6dcea3-9dcd-482b-8ad1-961378eee5ad",
    "deepnote_cell_type": "code"
   },
   "source": "def main(instruccion):\n\n    # lista de comandos disponibles\n    comandos = ['definir función',\n                'definir parámetro',\n                'definir variable']\n\n    # plantillas\n    plantillas = [plantilla_funcion]\n\n    # buscar el comando correspondiente más cercano al deseado\n    scores = []\n    ind_max_score = 0\n\n    # similitud de Jaccard para las primeras dos palabras de la grabación\n    for i, comando in enumerate(comandos):\n        scores.append(sim_jac(instruccion.split(' ')[0],\n                              comando.split(' ')[0]) * 0.3 + sim_jac(instruccion.split(' ')[1],\n                                                                     comando.split(' ')[1]) * 0.7)\n\n        # guardamos índice de la instrucción con más similitud\n        if scores[-1] > scores[ind_max_score]:\n            ind_max_score = i\n    \n    return plantillas[ind_max_score](instruccion)",
   "execution_count": 7,
   "outputs": []
  },
  {
   "cell_type": "code",
   "metadata": {
    "colab": {
     "base_uri": "https://localhost:8080/",
     "height": 643
    },
    "id": "2xwqihCl8KK6",
    "outputId": "18a64435-b1f8-48de-c281-8ba0e94957f3",
    "cell_id": "00008-7599e16e-81a9-4037-a7ac-96f64c8522cc",
    "deepnote_cell_type": "code"
   },
   "source": "import gradio as gr\n\ndef transcribe(audio, state=\"\"):    \n    transcriptions_es = model.transcribe([audio])[0]    \n    # Algoritmo here\n    codigo, recomendacion = main(transcriptions_es['transcription'])\n    return codigo, recomendacion\n\ninputs = gr.inputs.Audio(label=\"Dar click para escuchar tu voz\", type=\"filepath\", source=\"microphone\")\noutput1 = gr.outputs.Textbox(label=\"Asi se ve tu código\")\noutput2 = gr.outputs.Textbox(label=\"Sugerencia\")\n\ntitle = \"Expresate con voz\"\ndescription = \"Aplicación que ayuda a programar a traves de tu voz\"\nexamples = ['definir función', 'definir variable', 'definir clase']\narticle = \"<a  style='color:#eb9f59;' href = 'https://github.com/gandres-dev/Hackaton-Common-Voice'> Repositorio de la app\"\ndemo = gr.Interface(fn=transcribe, inputs=inputs, outputs=[output1,output2],\n                    title=title, description=description, article=article,\n                    allow_flagging=\"never\", theme=\"darkpeach\", examples=examples,\n                    #live=True\n                    )\n\nif __name__ == \"__main__\":\n    demo.launch()",
   "execution_count": 35,
   "outputs": [
    {
     "output_type": "stream",
     "name": "stderr",
     "text": "/usr/local/lib/python3.7/dist-packages/gradio/interface.py:317: UserWarning: 'darkpeach' theme name is deprecated, using dark-peach instead.\n  f\"'{theme}' theme name is deprecated, using {DEPRECATED_THEME_MAP[theme]} instead.\"\n"
    },
    {
     "output_type": "stream",
     "name": "stdout",
     "text": "Colab notebook detected. To show errors in colab notebook, set `debug=True` in `launch()`\nYour interface requires microphone or webcam permissions - this may cause issues in Colab. Use the External URL in case of issues.\nRunning on public URL: https://17937.gradio.app\n\nThis share link expires in 72 hours. For free permanent hosting, check out Spaces (https://huggingface.co/spaces)\n"
    },
    {
     "output_type": "display_data",
     "data": {
      "text/plain": "<IPython.lib.display.IFrame at 0x7f96c1b99e10>",
      "text/html": "\n        <iframe\n            width=\"900\"\n            height=\"500\"\n            src=\"https://17937.gradio.app\"\n            frameborder=\"0\"\n            allowfullscreen\n        ></iframe>\n        "
     },
     "metadata": {}
    }
   ]
  },
  {
   "cell_type": "code",
   "metadata": {
    "colab": {
     "base_uri": "https://localhost:8080/"
    },
    "id": "zA00QF1fA4mM",
    "outputId": "6a537c31-6831-425f-cb58-67f52e22e0ce",
    "cell_id": "00009-cc608c2a-8eb3-443c-9bef-53f14e589a7e",
    "deepnote_cell_type": "code"
   },
   "source": "!pip install ipywebrtc",
   "execution_count": 9,
   "outputs": [
    {
     "output_type": "stream",
     "name": "stdout",
     "text": "Requirement already satisfied: ipywebrtc in /usr/local/lib/python3.7/dist-packages (0.6.0)\n"
    }
   ]
  },
  {
   "cell_type": "code",
   "metadata": {
    "id": "W6Zxdt1EiY2j",
    "cell_id": "00010-71fd1aa2-87c6-4370-88b6-14b2d3063377",
    "deepnote_cell_type": "code"
   },
   "source": "from google.colab import output\noutput.enable_custom_widget_manager()",
   "execution_count": 10,
   "outputs": []
  },
  {
   "cell_type": "markdown",
   "source": "Crea el widget de audio",
   "metadata": {
    "id": "ZTN3PO3XjJH9",
    "cell_id": "00011-3c82c78f-6814-43c7-b0d8-d12a840a4d7a",
    "deepnote_cell_type": "markdown"
   }
  },
  {
   "cell_type": "code",
   "metadata": {
    "colab": {
     "base_uri": "https://localhost:8080/",
     "height": 107,
     "referenced_widgets": [
      "2d8978d96f7c46c4b4e8b6ddef86b93f",
      "3b535e9ad8ce4aa5867fae59d66c4ae4",
      "29c4ae058eba4febb2e49620f2ac69c0",
      "a6aee5c3e65541c0a551106a8de8c44d",
      "b30ee27461124a31a3f6deee8ecb0d1b",
      "764f15ed0e7c4ce2a247ab9bb383dbb5"
     ]
    },
    "id": "xidhCTEyh76O",
    "outputId": "5f98daa3-ffa2-4039-c7c9-9146210a9828",
    "cell_id": "00012-ab28dfb7-e71a-4c3b-be17-52736abef93c",
    "deepnote_cell_type": "code"
   },
   "source": "from ipywebrtc import AudioRecorder, CameraStream\nfrom IPython.display import Audio\n\ncamera = CameraStream(constraints={'audio': True,'video':False})\nrecorder = AudioRecorder(stream=camera)\nrecorder",
   "execution_count": 11,
   "outputs": [
    {
     "output_type": "display_data",
     "data": {
      "text/plain": "AudioRecorder(audio=Audio(value=b'', format='webm'), stream=CameraStream(constraints={'audio': True, 'video': …",
      "application/vnd.jupyter.widget-view+json": {
       "version_major": 2,
       "version_minor": 0,
       "model_id": "2d8978d96f7c46c4b4e8b6ddef86b93f"
      }
     },
     "metadata": {
      "application/vnd.jupyter.widget-view+json": {
       "colab": {
        "custom_widget_manager": {
         "url": "https://ssl.gstatic.com/colaboratory-static/widgets/colab-cdn-widget-manager/a8874ba6619b6106/manager.min.js"
        }
       }
      }
     }
    }
   ]
  },
  {
   "cell_type": "markdown",
   "source": "Reescribir audio ahora en formato .wav",
   "metadata": {
    "id": "xCWsb1Aui69D",
    "cell_id": "00013-06e0029f-81a4-47de-94dc-2f409d270f0f",
    "deepnote_cell_type": "markdown"
   }
  },
  {
   "cell_type": "code",
   "metadata": {
    "id": "87c8iXXdiG6A",
    "cell_id": "00014-8e995ab6-a822-45a7-ac56-5b2363bcc3b1",
    "deepnote_cell_type": "code"
   },
   "source": "# Escribe el formato en webm\nwith open('test_audio.webm', 'wb') as f:\n    f.write(recorder.audio.value)\n\n# Convierte en webm -> wav\n!ffmpeg -i test_audio.webm -ac 1 -f wav test_audio.wav -y -hide_banner -loglevel panic",
   "execution_count": 21,
   "outputs": []
  },
  {
   "cell_type": "markdown",
   "source": "## Modelos",
   "metadata": {
    "id": "osf6ApA4i5HT",
    "cell_id": "00015-b2168563-22ef-44a6-8145-d692b4c0ef1b",
    "deepnote_cell_type": "markdown"
   }
  },
  {
   "cell_type": "code",
   "metadata": {
    "id": "jGJ1e8Dbi4Al",
    "colab": {
     "base_uri": "https://localhost:8080/",
     "height": 52
    },
    "outputId": "8dc513fc-57b1-47e0-f6a4-da20c5ee54ce",
    "cell_id": "00016-1da561b6-314b-4843-ba0a-4ec08ad95eff",
    "deepnote_cell_type": "code"
   },
   "source": "audio_paths = [\"test_audio.wav\"]\n\n# Obtenemos la frase del usuario\ntranscriptions_es = model.transcribe(audio_paths)[0]\n# Obtener la frase\ntranscriptions_es['transcription']",
   "execution_count": 22,
   "outputs": [
    {
     "output_type": "stream",
     "name": "stderr",
     "text": "100%|██████████| 1/1 [00:02<00:00,  2.27s/it]\n"
    },
    {
     "output_type": "execute_result",
     "data": {
      "text/plain": "'definir mágica'",
      "application/vnd.google.colaboratory.intrinsic+json": {
       "type": "string"
      }
     },
     "metadata": {},
     "execution_count": 22
    }
   ]
  },
  {
   "cell_type": "code",
   "metadata": {
    "colab": {
     "base_uri": "https://localhost:8080/",
     "height": 311
    },
    "id": "4Ce8vwrKBL0P",
    "outputId": "895acff2-4bfc-48f2-9ab5-a75f41789a9c",
    "cell_id": "00017-b4978cc9-5b38-46f0-87bb-09e7e1bbeb38",
    "deepnote_cell_type": "code"
   },
   "source": "main(transcriptions_es['transcription'])",
   "execution_count": 23,
   "outputs": [
    {
     "output_type": "error",
     "ename": "UnboundLocalError",
     "evalue": "ignored",
     "traceback": [
      "\u001b[0;31m---------------------------------------------------------------------------\u001b[0m",
      "\u001b[0;31mUnboundLocalError\u001b[0m                         Traceback (most recent call last)",
      "\u001b[0;32m<ipython-input-23-fccd183a8968>\u001b[0m in \u001b[0;36m<module>\u001b[0;34m()\u001b[0m\n\u001b[0;32m----> 1\u001b[0;31m \u001b[0mmain\u001b[0m\u001b[0;34m(\u001b[0m\u001b[0mtranscriptions_es\u001b[0m\u001b[0;34m[\u001b[0m\u001b[0;34m'transcription'\u001b[0m\u001b[0;34m]\u001b[0m\u001b[0;34m)\u001b[0m\u001b[0;34m\u001b[0m\u001b[0;34m\u001b[0m\u001b[0m\n\u001b[0m",
      "\u001b[0;32m<ipython-input-7-13080d3e60f2>\u001b[0m in \u001b[0;36mmain\u001b[0;34m(instruccion)\u001b[0m\n\u001b[1;32m     24\u001b[0m \u001b[0;34m\u001b[0m\u001b[0m\n\u001b[1;32m     25\u001b[0m \u001b[0;34m\u001b[0m\u001b[0m\n\u001b[0;32m---> 26\u001b[0;31m     \u001b[0;32mreturn\u001b[0m \u001b[0mplantillas\u001b[0m\u001b[0;34m[\u001b[0m\u001b[0mind_max_score\u001b[0m\u001b[0;34m]\u001b[0m\u001b[0;34m(\u001b[0m\u001b[0minstruccion\u001b[0m\u001b[0;34m)\u001b[0m\u001b[0;34m\u001b[0m\u001b[0;34m\u001b[0m\u001b[0m\n\u001b[0m",
      "\u001b[0;32m<ipython-input-19-31bc02b84608>\u001b[0m in \u001b[0;36mplantilla_funcion\u001b[0;34m(instruccion)\u001b[0m\n\u001b[1;32m     10\u001b[0m         \u001b[0mname_func\u001b[0m \u001b[0;34m=\u001b[0m \u001b[0mafter_keyword\u001b[0m\u001b[0;34m.\u001b[0m\u001b[0msplit\u001b[0m\u001b[0;34m(\u001b[0m\u001b[0;34m' '\u001b[0m\u001b[0;34m)\u001b[0m\u001b[0;34m[\u001b[0m\u001b[0;36m1\u001b[0m\u001b[0;34m]\u001b[0m\u001b[0;34m\u001b[0m\u001b[0;34m\u001b[0m\u001b[0m\n\u001b[1;32m     11\u001b[0m \u001b[0;34m\u001b[0m\u001b[0m\n\u001b[0;32m---> 12\u001b[0;31m     \u001b[0;32mif\u001b[0m \u001b[0minstruccion\u001b[0m\u001b[0;34m.\u001b[0m\u001b[0mstrip\u001b[0m\u001b[0;34m(\u001b[0m\u001b[0;34m)\u001b[0m\u001b[0;34m.\u001b[0m\u001b[0msplit\u001b[0m\u001b[0;34m(\u001b[0m\u001b[0;34m' '\u001b[0m\u001b[0;34m)\u001b[0m\u001b[0;34m[\u001b[0m\u001b[0;34m-\u001b[0m\u001b[0;36m1\u001b[0m\u001b[0;34m]\u001b[0m \u001b[0;34m==\u001b[0m \u001b[0mname_func\u001b[0m\u001b[0;34m:\u001b[0m\u001b[0;34m\u001b[0m\u001b[0;34m\u001b[0m\u001b[0m\n\u001b[0m\u001b[1;32m     13\u001b[0m         \u001b[0mparametros\u001b[0m \u001b[0;34m=\u001b[0m \u001b[0;34m''\u001b[0m\u001b[0;34m\u001b[0m\u001b[0;34m\u001b[0m\u001b[0m\n\u001b[1;32m     14\u001b[0m \u001b[0;34m\u001b[0m\u001b[0m\n",
      "\u001b[0;31mUnboundLocalError\u001b[0m: local variable 'name_func' referenced before assignment"
     ]
    }
   ]
  },
  {
   "cell_type": "code",
   "metadata": {
    "id": "Ay4JvjSzBO0_",
    "cell_id": "00018-479ec46d-e7d3-4066-8359-68b5d9ccdbf7",
    "deepnote_cell_type": "code"
   },
   "source": "",
   "execution_count": 14,
   "outputs": []
  },
  {
   "cell_type": "markdown",
   "source": "<a style='text-decoration:none;line-height:16px;display:flex;color:#5B5B62;padding:10px;justify-content:end;' href='https://deepnote.com?utm_source=created-in-deepnote-cell&projectId=17740a58-e960-4de3-bb66-1575286930f1' target=\"_blank\">\n<img alt='Created in deepnote.com' style='display:inline;max-height:16px;margin:0px;margin-right:7.5px;' src='data:image/svg+xml;base64,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' > </img>\nCreated in <span style='font-weight:600;margin-left:4px;'>Deepnote</span></a>",
   "metadata": {
    "tags": [],
    "created_in_deepnote_cell": true,
    "deepnote_cell_type": "markdown"
   }
  }
 ],
 "nbformat": 4,
 "nbformat_minor": 0,
 "metadata": {
  "colab": {
   "name": "Hackatón_v2.ipynb",
   "provenance": []
  },
  "kernelspec": {
   "name": "python3",
   "display_name": "Python 3"
  },
  "language_info": {
   "name": "python"
  },
  "widgets": {
   "application/vnd.jupyter.widget-state+json": {
    "2d8978d96f7c46c4b4e8b6ddef86b93f": {
     "model_module": "jupyter-webrtc",
     "model_name": "AudioRecorderModel",
     "model_module_version": "~0.6.0",
     "state": {
      "_data_src": "blob:https://3gzej102oqc-496ff2e9c6d22116-0-colab.googleusercontent.com/5aaa6483-fb11-4cab-926e-c7704c445979",
      "_dom_classes": [],
      "_model_module": "jupyter-webrtc",
      "_model_module_version": "~0.6.0",
      "_model_name": "AudioRecorderModel",
      "_view_count": null,
      "_view_module": "jupyter-webrtc",
      "_view_module_version": "~0.6.0",
      "_view_name": "AudioRecorderView",
      "audio": "IPY_MODEL_3b535e9ad8ce4aa5867fae59d66c4ae4",
      "autosave": false,
      "codecs": "",
      "filename": "record",
      "format": "webm",
      "layout": "IPY_MODEL_29c4ae058eba4febb2e49620f2ac69c0",
      "recording": false,
      "stream": "IPY_MODEL_a6aee5c3e65541c0a551106a8de8c44d"
     }
    },
    "3b535e9ad8ce4aa5867fae59d66c4ae4": {
     "model_module": "@jupyter-widgets/controls",
     "model_name": "AudioModel",
     "model_module_version": "1.5.0",
     "state": {
      "_dom_classes": [],
      "_model_module": "@jupyter-widgets/controls",
      "_model_module_version": "1.5.0",
      "_model_name": "AudioModel",
      "_view_count": null,
      "_view_module": "@jupyter-widgets/controls",
      "_view_module_version": "1.5.0",
      "_view_name": "AudioView",
      "autoplay": true,
      "controls": true,
      "format": "webm",
      "layout": "IPY_MODEL_b30ee27461124a31a3f6deee8ecb0d1b",
      "loop": true
     }
    },
    "29c4ae058eba4febb2e49620f2ac69c0": {
     "model_module": "@jupyter-widgets/base",
     "model_name": "LayoutModel",
     "model_module_version": "1.2.0",
     "state": {
      "_model_module": "@jupyter-widgets/base",
      "_model_module_version": "1.2.0",
      "_model_name": "LayoutModel",
      "_view_count": null,
      "_view_module": "@jupyter-widgets/base",
      "_view_module_version": "1.2.0",
      "_view_name": "LayoutView",
      "align_content": null,
      "align_items": null,
      "align_self": null,
      "border": null,
      "bottom": null,
      "display": null,
      "flex": null,
      "flex_flow": null,
      "grid_area": null,
      "grid_auto_columns": null,
      "grid_auto_flow": null,
      "grid_auto_rows": null,
      "grid_column": null,
      "grid_gap": null,
      "grid_row": null,
      "grid_template_areas": null,
      "grid_template_columns": null,
      "grid_template_rows": null,
      "height": null,
      "justify_content": null,
      "justify_items": null,
      "left": null,
      "margin": null,
      "max_height": null,
      "max_width": null,
      "min_height": null,
      "min_width": null,
      "object_fit": null,
      "object_position": null,
      "order": null,
      "overflow": null,
      "overflow_x": null,
      "overflow_y": null,
      "padding": null,
      "right": null,
      "top": null,
      "visibility": null,
      "width": null
     }
    },
    "a6aee5c3e65541c0a551106a8de8c44d": {
     "model_module": "jupyter-webrtc",
     "model_name": "CameraStreamModel",
     "model_module_version": "~0.6.0",
     "state": {
      "_dom_classes": [],
      "_model_module": "jupyter-webrtc",
      "_model_module_version": "~0.6.0",
      "_model_name": "CameraStreamModel",
      "_view_count": null,
      "_view_module": "jupyter-webrtc",
      "_view_module_version": "~0.6.0",
      "_view_name": "MediaStreamView",
      "constraints": {
       "audio": true,
       "video": false
      },
      "layout": "IPY_MODEL_764f15ed0e7c4ce2a247ab9bb383dbb5"
     }
    },
    "b30ee27461124a31a3f6deee8ecb0d1b": {
     "model_module": "@jupyter-widgets/base",
     "model_name": "LayoutModel",
     "model_module_version": "1.2.0",
     "state": {
      "_model_module": "@jupyter-widgets/base",
      "_model_module_version": "1.2.0",
      "_model_name": "LayoutModel",
      "_view_count": null,
      "_view_module": "@jupyter-widgets/base",
      "_view_module_version": "1.2.0",
      "_view_name": "LayoutView",
      "align_content": null,
      "align_items": null,
      "align_self": null,
      "border": null,
      "bottom": null,
      "display": null,
      "flex": null,
      "flex_flow": null,
      "grid_area": null,
      "grid_auto_columns": null,
      "grid_auto_flow": null,
      "grid_auto_rows": null,
      "grid_column": null,
      "grid_gap": null,
      "grid_row": null,
      "grid_template_areas": null,
      "grid_template_columns": null,
      "grid_template_rows": null,
      "height": null,
      "justify_content": null,
      "justify_items": null,
      "left": null,
      "margin": null,
      "max_height": null,
      "max_width": null,
      "min_height": null,
      "min_width": null,
      "object_fit": null,
      "object_position": null,
      "order": null,
      "overflow": null,
      "overflow_x": null,
      "overflow_y": null,
      "padding": null,
      "right": null,
      "top": null,
      "visibility": null,
      "width": null
     }
    },
    "764f15ed0e7c4ce2a247ab9bb383dbb5": {
     "model_module": "@jupyter-widgets/base",
     "model_name": "LayoutModel",
     "model_module_version": "1.2.0",
     "state": {
      "_model_module": "@jupyter-widgets/base",
      "_model_module_version": "1.2.0",
      "_model_name": "LayoutModel",
      "_view_count": null,
      "_view_module": "@jupyter-widgets/base",
      "_view_module_version": "1.2.0",
      "_view_name": "LayoutView",
      "align_content": null,
      "align_items": null,
      "align_self": null,
      "border": null,
      "bottom": null,
      "display": null,
      "flex": null,
      "flex_flow": null,
      "grid_area": null,
      "grid_auto_columns": null,
      "grid_auto_flow": null,
      "grid_auto_rows": null,
      "grid_column": null,
      "grid_gap": null,
      "grid_row": null,
      "grid_template_areas": null,
      "grid_template_columns": null,
      "grid_template_rows": null,
      "height": null,
      "justify_content": null,
      "justify_items": null,
      "left": null,
      "margin": null,
      "max_height": null,
      "max_width": null,
      "min_height": null,
      "min_width": null,
      "object_fit": null,
      "object_position": null,
      "order": null,
      "overflow": null,
      "overflow_x": null,
      "overflow_y": null,
      "padding": null,
      "right": null,
      "top": null,
      "visibility": null,
      "width": null
     }
    }
   }
  },
  "deepnote_notebook_id": "81e9bb09-3e2c-43ce-8da8-dbea61d55969",
  "deepnote": {},
  "deepnote_execution_queue": []
 }
}