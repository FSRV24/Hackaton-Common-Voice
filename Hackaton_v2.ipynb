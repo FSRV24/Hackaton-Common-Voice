{
 "cells": [
  {
   "cell_type": "code",
   "metadata": {
    "colab": {
     "base_uri": "https://localhost:8080/"
    },
    "id": "bBh_f-QO9FQ9",
    "outputId": "ebb6f5d4-8bdf-44f8-b19f-db63b554568a",
    "cell_id": "00001-4d5daa15-267f-4370-8ff2-4dc78eecbf82",
    "deepnote_to_be_reexecuted": false,
    "source_hash": "501f0361",
    "execution_start": 1651457778747,
    "execution_millis": 79654,
    "deepnote_cell_type": "code",
    "deepnote_cell_height": 667.796875
   },
   "source": "# cargamos el modelo de huggingsound\nimport re\nfrom huggingsound import SpeechRecognitionModel\n\n# creación del modelo\nmodel = SpeechRecognitionModel(\"patrickvonplaten/wav2vec2-large-xlsr-53-spanish-with-lm\")",
   "execution_count": 2,
   "outputs": [
    {
     "name": "stdout",
     "text": "05/02/2022 02:16:32 - INFO - huggingsound.speech_recognition.model - Loading model...\n",
     "output_type": "stream"
    },
    {
     "data": {
      "text/plain": "Downloading:   0%|          | 0.00/1.53k [00:00<?, ?B/s]",
      "application/vnd.jupyter.widget-view+json": {
       "version_major": 2,
       "version_minor": 0,
       "model_id": "406a134f2d5f426b89cf766a4e5b09c8"
      }
     },
     "metadata": {},
     "output_type": "display_data"
    },
    {
     "name": "stderr",
     "text": "/root/venv/lib/python3.7/site-packages/transformers/configuration_utils.py:359: UserWarning: Passing `gradient_checkpointing` to a config initialization is deprecated and will be removed in v5 Transformers. Using `model.gradient_checkpointing_enable()` instead, or if you are using the `Trainer` API, pass `gradient_checkpointing=True` in your `TrainingArguments`.\n  \"Passing `gradient_checkpointing` to a config initialization is deprecated and will be removed in v5 \"\n",
     "output_type": "stream"
    },
    {
     "data": {
      "text/plain": "Downloading:   0%|          | 0.00/1.18G [00:00<?, ?B/s]",
      "application/vnd.jupyter.widget-view+json": {
       "version_major": 2,
       "version_minor": 0,
       "model_id": "727e5fb38b3a4e42ae962bdcecee82ae"
      }
     },
     "metadata": {},
     "output_type": "display_data"
    },
    {
     "data": {
      "text/plain": "Downloading:   0%|          | 0.00/262 [00:00<?, ?B/s]",
      "application/vnd.jupyter.widget-view+json": {
       "version_major": 2,
       "version_minor": 0,
       "model_id": "246767dfa6574ecf8b4382a5614efee0"
      }
     },
     "metadata": {},
     "output_type": "display_data"
    },
    {
     "data": {
      "text/plain": "Downloading:   0%|          | 0.00/412 [00:00<?, ?B/s]",
      "application/vnd.jupyter.widget-view+json": {
       "version_major": 2,
       "version_minor": 0,
       "model_id": "57cfd58cdd4a46d4bdb6be09524239f2"
      }
     },
     "metadata": {},
     "output_type": "display_data"
    },
    {
     "data": {
      "text/plain": "Downloading:   0%|          | 0.00/85.0 [00:00<?, ?B/s]",
      "application/vnd.jupyter.widget-view+json": {
       "version_major": 2,
       "version_minor": 0,
       "model_id": "c774bc97c42a4dddad542ad53c1ce7e5"
      }
     },
     "metadata": {},
     "output_type": "display_data"
    }
   ]
  },
  {
   "cell_type": "code",
   "metadata": {
    "id": "jnnbnk7v5LBu",
    "cell_id": "00002-16b815f4-5961-4062-a4f4-bcc1bf1e5cc1",
    "deepnote_to_be_reexecuted": false,
    "source_hash": "4eaf9df2",
    "execution_start": 1651457879796,
    "execution_millis": 2097,
    "owner_user_id": "0c4dcfb5-18e5-4741-8d58-1d382d2f5d7d",
    "deepnote_cell_type": "code",
    "deepnote_cell_height": 189
   },
   "source": "import gradio as gr\n\nbloque = ''\ncodigo = None\nindentacion = 0\n# Esto para dar seguimiento al eliminado de una linea\nlinea_codigo = 0",
   "execution_count": 3,
   "outputs": []
  },
  {
   "cell_type": "code",
   "metadata": {
    "id": "6sCDtYLa87Ta",
    "cell_id": "00003-9ffe7b6d-a21c-4f9e-aeaa-50d567f4b433",
    "deepnote_to_be_reexecuted": false,
    "source_hash": "a11b08fd",
    "execution_start": 1651457886009,
    "execution_millis": 1,
    "deepnote_cell_type": "code",
    "deepnote_cell_height": 387
   },
   "source": "def sim_jac(s1, s2):\n\n    bigrams_s1 = []\n    bigrams_s2 = []\n\n    for i in range(len(s1) - 1):\n        bigrams_s1.append(s1[i:i+2])\n    \n    for i in range(len(s2) - 1):\n        bigrams_s2.append(s2[i:i+2])\n\n    c_common = 0\n\n    for i in bigrams_s1:\n        if bigrams_s2.count(i) > 0:\n            c_common += 1\n\n    return c_common / ((len(s1) - 1) + (len(s2) - 1) - c_common)",
   "execution_count": 4,
   "outputs": []
  },
  {
   "cell_type": "markdown",
   "source": "## Funciones por implementar\n",
   "metadata": {
    "cell_id": "263888b70ef34493bd9f32a24916e608",
    "tags": [],
    "deepnote_cell_type": "markdown",
    "deepnote_cell_height": 70
   },
   "outputs": [],
   "execution_count": null
  },
  {
   "cell_type": "code",
   "source": "def crear_clase():\n    global indentacion\n    # ....\n    \n    indentacion += 1\n    pass         ",
   "metadata": {
    "cell_id": "1121c9c368c646f4b18b3cd0f82584eb",
    "tags": [],
    "deepnote_cell_type": "code",
    "deepnote_cell_height": 156
   },
   "outputs": [],
   "execution_count": null
  },
  {
   "cell_type": "code",
   "metadata": {
    "id": "0bD475ZO_f6E",
    "cell_id": "00004-7d72592e-4e32-4bf9-a13f-4f4c576ef535",
    "deepnote_to_be_reexecuted": false,
    "source_hash": "bcf7ee0f",
    "execution_start": 1651468686112,
    "execution_millis": 7,
    "deepnote_cell_type": "code",
    "deepnote_cell_height": 1197
   },
   "source": "def crear_funcion(instruccion):\n    \"\"\"\n    Crea el template de la estructura de una función\n\n    Parametros\n    ----------\n    instrucion: str\n        La intruccion de voz en texto.\n\n    Regresa\n    ---------\n    output: str\n        Codigo generado\n    recomendacion: str\n        Una sugerencia o fallo\n    \"\"\"\n\n    global indentacion\n\n    # guarda los avisos o recomendaciones que el programa te hace\n    recomendacion = ''\n\n    # guarda la línea de código\n    output = ''\n    \n    # pivote que ayuda a definir el nombre de una función\n    before_keyword, keyword, after_keyword = instruccion.partition('nombre')\n\n    # verifica que haya o esté escrita la frase \"nombre\"\n    if len(after_keyword) == 0:\n        recomendacion = f'¡No me dijiste el nombre de la función!'\n\n    # de otro modo, si tiene nombre la función\n    else:\n\n        # obtenemos el nombre de la función por el usuario\n        name_func = after_keyword.split(' ')[1]\n\n        # verificamos si no desea poner parametros                                \n        if instruccion.strip().split(' ')[-1] == name_func:\n            parametros = ''\n\n        # de otro modo, si desea una función con parámetros\n        else:\n            before_keyword, keyword, after_keyword = instruccion.partition('parametros')\n\n            # verifica que si exista el nombre de los parámetros\n            if len(after_keyword) == 0:\n                parametros = ''\n                recomendacion = f'¡No me dijiste el nombre de los parámetros!'\n\n            # escribe como parámetros todo lo que está después de \"parámetros\"\n            else:\n                parametros = after_keyword.split(' ')[1:]\n                parametros = ', '.join(parametros)\n\n        # indenta aunque marque que detecte que no le dije parámetros\n        if not recomendacion or recomendacion == '¡No me dijiste el nombre de los parámetros!':\n            indentacion += 1\n\n        # concatenación del nombre y parámetros de la función\n        output = f'def {name_func}({parametros}):\\n' + '\\t' * indentacion\n    return output, recomendacion",
   "execution_count": 299,
   "outputs": []
  },
  {
   "cell_type": "code",
   "metadata": {
    "colab": {
     "base_uri": "https://localhost:8080/",
     "height": 36
    },
    "id": "3qVMj5h5Mayk",
    "outputId": "687c1889-ec26-4175-876a-e175c99526fa",
    "cell_id": "00005-a52ae582-02a5-427d-a05e-4613e4f93cce",
    "deepnote_to_be_reexecuted": false,
    "source_hash": "f5071a7f",
    "execution_start": 1651457890852,
    "execution_millis": 17,
    "deepnote_cell_type": "code",
    "deepnote_cell_height": 118.1875,
    "deepnote_output_heights": [
     21.1875
    ]
   },
   "source": "crear_funcion('definir función con nombre magica y parametros x y z')[0]",
   "execution_count": 6,
   "outputs": [
    {
     "output_type": "execute_result",
     "execution_count": 6,
     "data": {
      "text/plain": "'def magica(x, y, z):\\n\\t'"
     },
     "metadata": {}
    }
   ]
  },
  {
   "cell_type": "code",
   "source": "diccionario_fonetico={'alfa':'a','india':'i'}\n\ndict_numeros = {\n    'uno': 1,\n    'dos': 2,\n    'tres': 3,\n    'cuatro':4,\n    'cinco': 5,\n    'seis': 6,\n    'siete': 7,\n    'ocho': 8,\n    'nueve': 9,\n    'diez': 10,\n    'once': 11,\n    'doce': 12,\n    'trece': 13,\n    'catorce': 14,\n    'quince': 15,\n    'dieciseis': 16,\n    'diecisiete': 17,\n    'dieciocho': 18,\n    'diecinueve': 19,\n    'veinte': 20,\n    'treinta': 30,\n    'cuarenta': 40,\n    'cicuenta': 50,\n}\n\n# Diccionario de funciones\ntipos_datos ={\n    'numero': numero\n}",
   "metadata": {
    "cell_id": "525f8c0327bc4aada4f893ecb9cdb3d1",
    "tags": [],
    "deepnote_to_be_reexecuted": false,
    "source_hash": "e792f351",
    "execution_start": 1651468897605,
    "execution_millis": 6,
    "deepnote_cell_type": "code",
    "deepnote_cell_height": 639
   },
   "outputs": [],
   "execution_count": 323
  },
  {
   "cell_type": "code",
   "source": "def encontrar_palabras(transcript,cjto_palabras):\n    '''\n    Toma un string (en minúsculos) y un conjunto de palabras. Busca el primer match\n    de cjto_palabras en transcript y particiona el string en:\n        1. El slice de la cadena antes del primer match (antes_palabra)\n        2. La cadena del primer match (coincidencia de cjto_palabras)\n        3. El slice de la cadena después del match (despues_palabra)\n    '''\n    inicio,final=list(re.finditer(r'|'.join(cjto_palabras),transcript))[0].span()\n    antes_palabra=transcript[:inicio].strip()\n    despues_palabra=transcript[final:].strip()\n    palabra=transcript[inicio:final]\n    return antes_palabra,palabra,despues_palabra\n\ndef crear_condicional(transcript):\n    ''' \n    Toma transcript y condicional (if,elif,while) y devuelve código\n    El transcript ya está preprocesado para comenzar con la palabra \"mientras\"\n\n    Test\n    >>> mientras variable india sea menor igual a numero seis => while (i<=6):\n    '''    \n\n    keyword_mapeo={'mientras':'while','si':'if','no si':'elif'}\n    antes_keyword,keyword,desp_keyword=encontrar_palabras(transcript,keyword_mapeo.keys())\n    cadena=keyword_mapeo[keyword]\n\n    # Primera división\n    condicional_mapeo={'menor estricto':'<','menor o igual':'<=','igual':'==','diferente':'!='\n    ,'mayor estricto':'>','mayor o igual':'>='}\n    cjto_condicional=condicional_mapeo.keys()\n    antes_condicional,palabra_condicional,despues_condicional=encontrar_palabras(transcript,cjto_condicional) \n    \n\n    # Buscar en antes condicional la lista de variables\n    \n\n    a_var,var,d_var=encontrar_palabras(antes_condicional,['variable'])\n    nombre_var=d_var.split(' ')[0]\n\n    if diccionario_fonetico.get(nombre_var,False):\n        nombre_var=diccionario_fonetico[nombre_var]\n\n\n    cadena+=' '+nombre_var+' ' +condicional_mapeo[palabra_condicional]\n\n    # Buscar en despues_condicional el número \n\n    valor=despues_condicional.split(' ')[-1]\n\n    if dict_numeros.get(valor,False):\n        valor=str(dict_numeros[valor])\n\n    global indentacion\n    indentacion+=1\n\n    return cadena+' '+ valor+':\\n'+ '\\t'* indentacion+'|'\n\nindentacion=0\na=['si variable india es menor o igual a numero seis','mientras variable alpha es menor igual a numero dos']\nfor ai in a:\n    print(crear_condicional(ai))\n",
   "metadata": {
    "cell_id": "4175ec2b064c4e1d9619555ed638fa1e",
    "tags": [],
    "deepnote_to_be_reexecuted": false,
    "source_hash": "11a99017",
    "execution_start": 1651469108837,
    "execution_millis": 2,
    "deepnote_cell_type": "code",
    "deepnote_cell_height": 1288,
    "deepnote_output_heights": [
     386,
     21.1875
    ]
   },
   "outputs": [
    {
     "name": "stdout",
     "text": "if i <= 6:\n\t|\nwhile alpha == 2:\n\t\t|\n",
     "output_type": "stream"
    }
   ],
   "execution_count": 334
  },
  {
   "cell_type": "code",
   "source": "",
   "metadata": {
    "cell_id": "f7de46e7c72642de9bcd37b80205df92",
    "tags": [],
    "deepnote_cell_type": "code",
    "deepnote_cell_height": 66
   },
   "outputs": [],
   "execution_count": null
  },
  {
   "cell_type": "code",
   "source": "def numero(text):\n    \"\"\"Convierte un texto de numero en numero entero (int)\"\"\"\n    global dict_numeros    \n    return dict_numeros[text]    \n\ndef crear_variable(instruccion):\n    \"\"\"\n    Estructura:\n    definir variable con nombre [nombre_variable] igual a /*objeto_basico* valor/ \n\n    Parametros\n    ----------\n    instrucion: str\n        La intruccion de voz en texto.\n\n    Regresa\n    ---------\n    output: str\n        Codigo generado\n    recomendacion: str\n        Una sugerencia o fallo\n\n    Testing\n    -------\n    >>> definir variable con nombre india igual a número uno\n    >>> Definir variable con nombre i igual a numero 1 (int)\n    >>> Definir variable con nombre i igual a numero 3.5 (float) \n    >>> Definir variable con nombre i igual a cadena hola (string) \n    >>> Definir variable con nombre i igual a lista/dic (string)   \n    \"\"\"     \n    global indentacion\n\n    # pivote que ayuda a definir el nombre de la variable\n    before_keyword, keyword, after_keyword = instruccion.partition('nombre')\n    after_keyword_list = after_keyword.strip().split(' ')\n    name_variable = after_keyword_list[0]\n    # Como sabemos que despues del nombre va seguido de \"igual a\"\n    tipo_dato = after_keyword_list[3]        \n    #print(after_keyword_list[4:]) -> lista\n    valor = tipos_datos[tipo_dato](after_keyword_list[4:][0])        \n    # Verificamos si es una palabra fonetica\n    if diccionario_fonetico.get(name_variable,False):\n        name_variable=diccionario_fonetico[name_variable] \n\n    codigo_generado = f'{name_variable} = {valor}\\n'+ '\\t' * indentacion\n    return codigo_generado    ",
   "metadata": {
    "cell_id": "3d50d90fac204d2ab862b8fbc4f28729",
    "tags": [],
    "deepnote_to_be_reexecuted": false,
    "source_hash": "c3d89247",
    "execution_start": 1651468949299,
    "execution_millis": 3,
    "deepnote_cell_type": "code",
    "deepnote_cell_height": 891
   },
   "outputs": [],
   "execution_count": 329
  },
  {
   "cell_type": "markdown",
   "source": "### Test de la funcion crear variable",
   "metadata": {
    "cell_id": "139d9c4314344e419c926e50034096c0",
    "tags": [],
    "deepnote_cell_type": "markdown",
    "deepnote_cell_height": 62
   },
   "outputs": [],
   "execution_count": null
  },
  {
   "cell_type": "code",
   "source": "crear_variable('definir variable con nombre india igual a numero cuatro')",
   "metadata": {
    "cell_id": "abfebb5dceb44f12afc91160d4682eb2",
    "tags": [],
    "deepnote_to_be_reexecuted": false,
    "source_hash": "3d87a7b7",
    "execution_start": 1651468950873,
    "execution_millis": 14,
    "deepnote_cell_type": "code",
    "deepnote_cell_height": 118.1875,
    "deepnote_output_heights": [
     21.1875,
     21.1875
    ]
   },
   "outputs": [
    {
     "output_type": "execute_result",
     "execution_count": 330,
     "data": {
      "text/plain": "'i = 4\\n\\t\\t'"
     },
     "metadata": {}
    }
   ],
   "execution_count": 330
  },
  {
   "cell_type": "code",
   "metadata": {
    "id": "diXn-8Zd9ACC",
    "cell_id": "00008-528a7dab-f94e-4ce3-81e2-6269c1cf13db",
    "deepnote_to_be_reexecuted": false,
    "source_hash": "249a5426",
    "execution_start": 1651462736894,
    "execution_millis": 2,
    "deepnote_cell_type": "code",
    "deepnote_cell_height": 801
   },
   "source": "import unidecode\nimport re\n\ndef main(instruccion):\n    global bloque\n\n    # Obtenemos el bloque que será del contexto\n    # Porque son los unicos que va modificar la identacion\n    # bloque = {funcion, clase, estructura_control}        \n    bloques_patrones = r'(funcion|clase|mientras|si)'\n    bloque = re.findall(bloques_patrones, instruccion)[0]\n\n    # lista de comandos disponibles\n    # []: Todo lo que esta corchetes son los valores que vamos obtener\n    # (): Son sentencias opciones para agregar más cosas    \n    comandos = [\n                'funcion',  # con nombre [nameFuc](y parámetros [x y z])                \n                'variable', # con nombre [nombre_variable] igual a /objeto_basico/\n                'mientras',\n                'cadena',\n                'numero',\n                'lista',\n                'diccionario',                                                   \n                ]\n\n    # Lista de funciones que nos devolveran las plantillas\n    plantillas = [crear_funcion, crear_variable]\n\n    # buscar el comando correspondiente más cercano al deseado\n    scores = []\n    ind_max_score = 0\n\n    # similitud de Jaccard para las primeras dos palabras de la grabación\n    for i, comando in enumerate(comandos):\n        scores.append(sim_jac(instruccion.split(' ')[1], comando))\n\n        # guardamos índice de la instrucción con más similitud\n        if scores[-1] > scores[ind_max_score]:\n            ind_max_score = i\n    \n    return plantillas[ind_max_score](instruccion)",
   "execution_count": 80,
   "outputs": []
  },
  {
   "cell_type": "markdown",
   "source": "## Test funcionalidad de la aplicación",
   "metadata": {
    "cell_id": "5c168f59f1734e93b1591cd63f767608",
    "tags": [],
    "deepnote_cell_type": "markdown",
    "deepnote_cell_height": 70
   },
   "outputs": [],
   "execution_count": null
  },
  {
   "cell_type": "markdown",
   "source": "### Probando frase 1",
   "metadata": {
    "cell_id": "aa902d3bc6804c0a8a10f28fde621b75",
    "tags": [],
    "deepnote_cell_type": "markdown",
    "deepnote_cell_height": 62
   },
   "outputs": [],
   "execution_count": null
  },
  {
   "cell_type": "code",
   "source": "# Probando cuando se desea crear una funcion\ncodigo_generado, sugerencia = main('Definir funcion con nombre saludar y parametros mensaje')\nprint('Codigo generado')\nprint(codigo_generado)\nprint('---------------')\nprint('Sugerencia')\nprint(sugerencia)",
   "metadata": {
    "cell_id": "5d85039b2dbb43268fb15c0007d1c009",
    "tags": [],
    "deepnote_to_be_reexecuted": false,
    "source_hash": "11269a85",
    "execution_start": 1651461355117,
    "execution_millis": 5,
    "deepnote_cell_type": "code",
    "deepnote_cell_height": 320,
    "deepnote_output_heights": [
     21.1875
    ]
   },
   "outputs": [
    {
     "name": "stdout",
     "text": "Codigo generado\ndef saludar(mensaje):\n\t\t\t\t\t\t\t\t\n---------------\nSugerencia\n\n",
     "output_type": "stream"
    }
   ],
   "execution_count": 66
  },
  {
   "cell_type": "markdown",
   "source": "El valor de la variable de `codigo_generado` es que se mandara a la interfaz del usuario.",
   "metadata": {
    "cell_id": "6fc7d983706640a7a01dbd2ea3dd25ac",
    "tags": [],
    "deepnote_cell_type": "markdown",
    "deepnote_cell_height": 52.390625
   },
   "outputs": [],
   "execution_count": null
  },
  {
   "cell_type": "markdown",
   "source": "### Probando frase 2",
   "metadata": {
    "cell_id": "fd07f520d7224852aa4129e443116aa2",
    "tags": [],
    "deepnote_cell_type": "markdown",
    "deepnote_cell_height": 62
   },
   "outputs": [],
   "execution_count": null
  },
  {
   "cell_type": "code",
   "source": "# Probando cuando se desea crear una funcion\nvoice1 = 'definir variable con nombre india igual a número uno'\ncodigo_generado, sugerencia = main(voice1)\nprint('Codigo generado')\nprint(codigo_generado)\nprint('---------------')\nprint('Sugerencia')\nprint(sugerencia)",
   "metadata": {
    "cell_id": "46b2192c43f649c5810e3a8be9269151",
    "tags": [],
    "deepnote_cell_type": "code",
    "deepnote_cell_height": 192
   },
   "outputs": [],
   "execution_count": null
  },
  {
   "cell_type": "code",
   "source": "import unidecode\nimport re\n\ndef main2(instruccion):\n    global bloque\n    \n    candidatos_instruccion = instruccion.split(' ')[:5]\n\n    # lista de comandos disponibles\n    # []: Todo lo que esta corchetes son los valores que vamos obtener\n    comandos = [\n                'funcion',  # con nombre [nameFuc](y parámetros [x y z])\n                'mientras',\n                'variable', # con nombre [nombre_variable] igual a /objeto_basico/\n                'cadena',\n                'numero',\n                'lista',\n                'diccionario'                       \n                ]\n\n    # Lista de funciones que nos devolveran las plantillas\n    plantillas = [crear_funcion, crear_condicional, crear_variable]\n\n    # buscar el comando correspondiente más cercano al deseado\n    scores = [[] for _ in range(len(comandos))]\n\n    ind_max_score = [0, 0]\n\n    # similitud de Jaccard para las primeras dos palabras de la grabación\n    \n    for i, comando in enumerate(comandos):\n        for j, palabra in enumerate(candidatos_instruccion):\n            scores[i].append(sim_jac(palabra, comando))\n\n            # guardamos índice de la instrucción con más similitud\n            if scores[i][-1] > scores[ind_max_score[0]][ind_max_score[1]]:\n                ind_max_score = [i, j]    \n    \n    return plantillas[ind_max_score[0]](instruccion)",
   "metadata": {
    "cell_id": "0d5068a22f3a44ecbdc0b853f691c75d",
    "tags": [],
    "deepnote_to_be_reexecuted": false,
    "source_hash": "6dbf6649",
    "execution_start": 1651469150777,
    "execution_millis": 0,
    "deepnote_cell_type": "code",
    "deepnote_cell_height": 765
   },
   "outputs": [],
   "execution_count": 339
  },
  {
   "cell_type": "markdown",
   "source": "## Prueba con similación",
   "metadata": {
    "cell_id": "c13f710d39e54e00aa87e3ea49714939",
    "tags": [],
    "owner_user_id": "b7f90450-0770-40af-820a-2f5d5913daed",
    "deepnote_cell_type": "markdown",
    "deepnote_cell_height": 70
   },
   "outputs": [],
   "execution_count": null
  },
  {
   "cell_type": "markdown",
   "source": "Voz 1",
   "metadata": {
    "cell_id": "9760ddb994ef4259b26e10b56c9d2f30",
    "tags": [],
    "deepnote_cell_type": "markdown",
    "deepnote_cell_height": 52.390625
   },
   "outputs": [],
   "execution_count": null
  },
  {
   "cell_type": "code",
   "source": "main2('mientras variable india es menor o igual a seis')",
   "metadata": {
    "cell_id": "a68f3470234847aea7030f910d368e87",
    "tags": [],
    "deepnote_to_be_reexecuted": false,
    "source_hash": "18768a41",
    "execution_start": 1651469158342,
    "execution_millis": 381,
    "deepnote_cell_type": "code",
    "deepnote_cell_height": 118.1875,
    "deepnote_output_heights": [
     21.1875
    ]
   },
   "outputs": [
    {
     "output_type": "execute_result",
     "execution_count": 340,
     "data": {
      "text/plain": "'while i <= 6:\\n\\t\\t\\t\\t|'"
     },
     "metadata": {}
    }
   ],
   "execution_count": 340
  },
  {
   "cell_type": "markdown",
   "source": "Voz 2",
   "metadata": {
    "cell_id": "7c7456702fff4fcc90340d5e3070fb21",
    "tags": [],
    "deepnote_cell_type": "markdown",
    "deepnote_cell_height": 52.390625
   },
   "outputs": [],
   "execution_count": null
  },
  {
   "cell_type": "code",
   "source": "main2('definir variable con nombre india igual a numero cinco')",
   "metadata": {
    "cell_id": "95cb3710133344c58d2010a70be10a03",
    "tags": [],
    "deepnote_to_be_reexecuted": false,
    "source_hash": "7a458162",
    "execution_start": 1651469125921,
    "execution_millis": 9,
    "deepnote_cell_type": "code",
    "deepnote_cell_height": 118.1875,
    "deepnote_output_heights": [
     21.1875
    ]
   },
   "outputs": [
    {
     "output_type": "execute_result",
     "execution_count": 336,
     "data": {
      "text/plain": "'i = 5\\n\\t\\t\\t'"
     },
     "metadata": {}
    }
   ],
   "execution_count": 336
  },
  {
   "cell_type": "code",
   "source": "",
   "metadata": {
    "cell_id": "934110b9d84246e1a0e0097260413e98",
    "tags": [],
    "deepnote_cell_type": "code",
    "deepnote_cell_height": 66
   },
   "outputs": [],
   "execution_count": null
  },
  {
   "cell_type": "code",
   "metadata": {
    "id": "4YpjGdcGYo_s",
    "cell_id": "00009-f0849d98-3610-44b9-8e46-94f2ea7155de",
    "deepnote_to_be_reexecuted": false,
    "source_hash": "b4107eb8",
    "execution_start": 1651457900478,
    "execution_millis": 5,
    "deepnote_cell_type": "code",
    "deepnote_cell_height": 117
   },
   "source": "def agregar_adentro(codigo, transcipcion):\n    codigo2, recomendacion = main(transcipcion)\n    return codigo + codigo2, recomendacion",
   "execution_count": 9,
   "outputs": []
  },
  {
   "cell_type": "code",
   "metadata": {
    "colab": {
     "base_uri": "https://localhost:8080/",
     "height": 642
    },
    "id": "FWxAvCFV5amp",
    "outputId": "6b47d3ae-b537-4a0f-fe5c-c44ff35a932c",
    "cell_id": "00010-7a21fd34-0cf9-4083-be20-66f79e8d3088",
    "deepnote_to_be_reexecuted": false,
    "source_hash": "a23afafa",
    "execution_start": 1651457910749,
    "execution_millis": 1538,
    "owner_user_id": "e0c6afe4-99d0-40b0-b8eb-7b5ca2d084e6",
    "deepnote_cell_type": "code",
    "deepnote_cell_height": 1557.796875,
    "deepnote_output_heights": [
     null,
     502,
     501.984375
    ]
   },
   "source": "# Variables globales\nbloque = '' # Define el contexto (si es función, condicional, ciclo, etc.)\ncodigo = None # Guarda el código hasta el momento\nindentacion = 0 # Nivel de indentación\nlinea_codigo = 0 # Esto para dar seguimiento al eliminado de una linea\n\ndef transcribe(audio, state=\"\"):\n    global bloque\n    global codigo\n    \n\n    transcriptions_es = model.transcribe([audio])[0]\n    # quitamos el acento de la transcripcion\n    frase = unidecode.unidecode(transcriptions_es['transcription']).lower()\n    \n    if not bloque:\n        # Significa que es la primera vez\n        codigo, recomendacion = main2(frase)\n        \n    else:        \n        if bloque == 'funcion':\n            codigo, recomendacion = agregar_adentro(codigo, frase)\n        elif bloque == 'clase':\n            pass\n    \n    \n    # Prueba\n    # codigo = transcriptions_es['transcription']\n    # recomendacion = \"hola\"\n    return codigo, recomendacion\n\ninputs = gr.inputs.Audio(label=\"Dar click para escuchar tu voz\", type=\"filepath\", source=\"microphone\")\noutput1 = gr.outputs.Textbox(label=\"Asi se ve tu código\")\noutput2 = gr.outputs.Textbox(label=\"Sugerencia\")\n\ntitle = \"Expresate con voz\"\ndescription = \"Aplicación que ayuda a programar a traves de tu voz\"\nexamples = ['definir función con nombre magica y parámetros x y z','definir función', 'definir variable', 'definir clase']\narticle = \"<a  style='color:#eb9f59;' href = 'https://github.com/gandres-dev/Hackaton-Common-Voice'> Repositorio de la app\"\ndemo = gr.Interface(fn=transcribe, inputs=inputs, outputs=[output1,output2],\n                    title=title, description=description, article=article,\n                    allow_flagging=\"never\", theme=\"darkpeach\", examples=examples,\n                    # live=True\n                    )\n\nif __name__ == \"__main__\":\n    demo.launch()",
   "execution_count": 11,
   "outputs": [
    {
     "name": "stderr",
     "text": "/root/venv/lib/python3.7/site-packages/gradio/interface.py:317: UserWarning: 'darkpeach' theme name is deprecated, using dark-peach instead.\n  f\"'{theme}' theme name is deprecated, using {DEPRECATED_THEME_MAP[theme]} instead.\"\nRunning on local URL:  http://127.0.0.1:7861/\n\nTo create a public link, set `share=True` in `launch()`.\n",
     "output_type": "stream"
    },
    {
     "data": {
      "text/plain": "<IPython.lib.display.IFrame at 0x7f0e279e24d0>",
      "text/html": "\n        <iframe\n            width=\"900\"\n            height=\"500\"\n            src=\"http://127.0.0.1:7861/\"\n            frameborder=\"0\"\n            allowfullscreen\n            \n        ></iframe>\n        "
     },
     "metadata": {},
     "output_type": "display_data"
    }
   ]
  },
  {
   "cell_type": "markdown",
   "source": "## Probando la aplicación con widget",
   "metadata": {
    "id": "2xwqihCl8KK6",
    "cell_id": "00011-4c133c9e-15c1-497d-b48e-3d45ce4781e4",
    "deepnote_cell_type": "markdown",
    "deepnote_cell_height": 70
   }
  },
  {
   "cell_type": "markdown",
   "source": "Crea el widget de audio",
   "metadata": {
    "id": "ZTN3PO3XjJH9",
    "cell_id": "00014-dc882777-111a-47a7-83cb-07eed9462e1e",
    "deepnote_cell_type": "markdown",
    "deepnote_cell_height": 52.390625
   }
  },
  {
   "cell_type": "code",
   "metadata": {
    "colab": {
     "base_uri": "https://localhost:8080/",
     "height": 93,
     "referenced_widgets": [
      "b39e9835f1a449f59b7834751e7da84f",
      "bebe38c157424db69e5033f50d3ea569",
      "9fa6e616d247427f83b4298611161a91",
      "275ca945e1ec4a29911dc2f6a58ec8d9",
      "dbcdcb73272e46ce8023c119b1669a49",
      "ef5c4ad333b94c1cb09b1730bc6c89db"
     ]
    },
    "id": "xidhCTEyh76O",
    "outputId": "dc60a0cf-c40c-42f4-b656-8f3fe58a4fbf",
    "cell_id": "00015-7c8bf207-1ebf-4528-bed3-db2bcccf3755",
    "deepnote_to_be_reexecuted": false,
    "source_hash": "3cc84f8f",
    "execution_start": 1651457970280,
    "execution_millis": 45,
    "deepnote_cell_type": "code",
    "deepnote_cell_height": 289
   },
   "source": "from ipywebrtc import AudioRecorder, CameraStream\nfrom IPython.display import Audio\n\ncamera = CameraStream(constraints={'audio': True,'video':False})\nrecorder = AudioRecorder(stream=camera)\nrecorder",
   "execution_count": 14,
   "outputs": [
    {
     "data": {
      "text/plain": "AudioRecorder(audio=Audio(value=b'', format='webm'), stream=CameraStream(constraints={'audio': True, 'video': …",
      "application/vnd.jupyter.widget-view+json": {
       "version_major": 2,
       "version_minor": 0,
       "model_id": "4a0e3e05cbf345e3966bcda426fb167e"
      }
     },
     "metadata": {},
     "output_type": "display_data"
    }
   ]
  },
  {
   "cell_type": "markdown",
   "source": "Reescribir audio ahora en formato .wav",
   "metadata": {
    "id": "xCWsb1Aui69D",
    "cell_id": "00016-f828010b-c616-4155-b1cd-64c8c6121ab7",
    "deepnote_cell_type": "markdown",
    "deepnote_cell_height": 52.390625
   }
  },
  {
   "cell_type": "markdown",
   "source": "\n## Audios de Avitua",
   "metadata": {
    "cell_id": "8482ba949e374b2cb60745e93c8f51eb",
    "tags": [],
    "deepnote_cell_type": "markdown",
    "deepnote_cell_height": 70
   },
   "outputs": [],
   "execution_count": null
  },
  {
   "cell_type": "code",
   "metadata": {
    "id": "87c8iXXdiG6A",
    "cell_id": "00017-2c159d27-32dc-4fb5-a0f9-47b5876035ac",
    "deepnote_to_be_reexecuted": false,
    "source_hash": "b43fda13",
    "execution_start": 1651459322665,
    "execution_millis": 1171,
    "deepnote_cell_type": "code",
    "deepnote_cell_height": 171
   },
   "source": "# Escribe el formato en webm\nwith open('./grabaciones-webm/test_audio_avitua_linea4.webm', 'wb') as f:\n    f.write(recorder.audio.value)\n\n# Convierte en webm -> wav\n!ffmpeg -i ./grabaciones-webm/test_audio_avitua_linea4.webm -ac 1 -f wav ./grabaciones-wav/test_audio_avitua_linea4.wav -y -hide_banner -loglevel panic",
   "execution_count": 32,
   "outputs": []
  },
  {
   "cell_type": "markdown",
   "source": "## Audios Vizuet",
   "metadata": {
    "cell_id": "c322427fcebe41138df1d5723deaa55b",
    "tags": [],
    "deepnote_cell_type": "markdown",
    "deepnote_cell_height": 70
   },
   "outputs": [],
   "execution_count": null
  },
  {
   "cell_type": "code",
   "source": "# Escribe el formato en webm\nwith open('./grabaciones-webm/test_audio_vizuet.webm', 'wb') as f:\n    f.write(recorder.audio.value)\n\n# Convierte en webm -> wav\n!ffmpeg -i ./grabaciones-webm/test_audio_vizuet.webm -ac 1 -f wav ./grabaciones-wav/test_audio_vizuet.wav -y -hide_banner -loglevel panic",
   "metadata": {
    "cell_id": "6b05b5e674334f529760f0ced11acdc1",
    "tags": [],
    "deepnote_cell_type": "code",
    "deepnote_cell_height": 156
   },
   "outputs": [],
   "execution_count": null
  },
  {
   "cell_type": "markdown",
   "source": "## Audios Memo",
   "metadata": {
    "cell_id": "7682171068b54d8798bef7f7a52b90ec",
    "tags": [],
    "deepnote_cell_type": "markdown",
    "deepnote_cell_height": 70
   },
   "outputs": [],
   "execution_count": null
  },
  {
   "cell_type": "code",
   "source": "# Escribe el formato en webm\nwith open('./grabaciones-webm/test_audio_memo.webm', 'wb') as f:\n    f.write(recorder.audio.value)\n\n# Convierte en webm -> wav\n!ffmpeg -i ./grabaciones-webm/test_audio_memo.webm -ac 1 -f wav ./grabaciones-wav/test_audio_memo.wav -y -hide_banner -loglevel panic",
   "metadata": {
    "cell_id": "a4a19162eb0c4c03acb052b942819d00",
    "tags": [],
    "deepnote_to_be_reexecuted": false,
    "source_hash": "ff38002a",
    "execution_start": 1651459726406,
    "execution_millis": 1033,
    "deepnote_cell_type": "code",
    "deepnote_cell_height": 171
   },
   "outputs": [],
   "execution_count": 42
  },
  {
   "cell_type": "markdown",
   "source": "## Modelos",
   "metadata": {
    "id": "osf6ApA4i5HT",
    "cell_id": "00018-67a6f4ff-a025-46ac-8cb5-a762e6e998b7",
    "deepnote_cell_type": "markdown",
    "deepnote_cell_height": 70
   }
  },
  {
   "cell_type": "code",
   "metadata": {
    "id": "jGJ1e8Dbi4Al",
    "colab": {
     "base_uri": "https://localhost:8080/",
     "height": 451
    },
    "outputId": "b4a93ff8-cca0-4458-bcb1-4ffe42f207bb",
    "cell_id": "00019-be460626-4c05-40b0-aa69-c0c45613ca47",
    "deepnote_to_be_reexecuted": false,
    "source_hash": "b0b20063",
    "execution_start": 1651459339537,
    "execution_millis": 7166,
    "deepnote_cell_type": "code",
    "deepnote_cell_height": 254.1875,
    "deepnote_output_heights": [
     null,
     21.1875
    ]
   },
   "source": "audio_paths = [\"./grabaciones-wav/test_audio_avitua_linea4.wav\"]\n\n# Obtenemos la frase del usuario\ntranscriptions_es = model.transcribe(audio_paths)[0]\n# Obtener la frase\ntranscriptions_es['transcription']",
   "execution_count": 34,
   "outputs": [
    {
     "name": "stderr",
     "text": "100%|██████████| 1/1 [00:07<00:00,  7.15s/it]\n",
     "output_type": "stream"
    },
    {
     "output_type": "execute_result",
     "execution_count": 34,
     "data": {
      "text/plain": "'definir variable con nombre india igual a india más uno'"
     },
     "metadata": {}
    }
   ]
  },
  {
   "cell_type": "code",
   "source": "voice1 = 'definir variable con nombre india igual a número uno'\nvoice2 = 'mientras india sea menoro igual a número seis'\nvoice3 = 'imprime india producto cadena guion'\nvoice4 = 'definir variable con nombre india igual a india más uno'",
   "metadata": {
    "cell_id": "e3a9825d336f4d168356a958a1291bea",
    "tags": [],
    "deepnote_to_be_reexecuted": false,
    "source_hash": "fc1a801b",
    "execution_start": 1651459485695,
    "execution_millis": 3,
    "deepnote_cell_type": "code",
    "deepnote_cell_height": 135
   },
   "outputs": [],
   "execution_count": 38
  },
  {
   "cell_type": "markdown",
   "metadata": {
    "id": "4Ce8vwrKBL0P",
    "cell_id": "00020-8f6d1f68-114f-4846-b076-a87f59391de9",
    "deepnote_cell_type": "markdown",
    "deepnote_cell_height": 52.390625
   },
   "source": "Para no usar la interfaz de usuario podemos simplementar llamar la funcion:",
   "execution_count": null
  },
  {
   "cell_type": "code",
   "source": "# Variables globales\nbloque = '' # Define el contexto (si es función, condicional, ciclo, etc.)\ncodigo = None # Guarda el código hasta el momento\nindentacion = 0 # Nivel de indentación\nlinea_codigo = 0 # Esto para dar seguimiento al eliminado de una linea\n\ndef transcribe_test(audio):\n    global bloque\n    global codigo\n    \n    transcriptions_es = model.transcribe([audio])[0]\n    # quitamos el acento de la transcripcion\n    frase = unidecode.unidecode(transcriptions_es['transcription'])    \n    \n    if not bloque:\n        # Significa que es la primera vez\n        codigo, recomendacion = main(frase)        \n    else:        \n        if bloque == 'funcion':\n            codigo, recomendacion = agregar_adentro(codigo, frase)\n        elif bloque == 'clase':\n            pass\n    \n    # codigo = \n    # recomendacion = \"hola\"\n    return codigo, recomendacion",
   "metadata": {
    "cell_id": "274283305c2844efad840c7f3a6159d5",
    "tags": [],
    "deepnote_to_be_reexecuted": false,
    "source_hash": "e97dfe15",
    "execution_start": 1651459622698,
    "execution_millis": 0,
    "deepnote_cell_type": "code",
    "deepnote_cell_height": 531
   },
   "outputs": [],
   "execution_count": 40
  },
  {
   "cell_type": "code",
   "source": "transcribe_test('./grabaciones-wav/test_audio_memo.wav')",
   "metadata": {
    "cell_id": "ae4f3d70c217410093eef6cfd8ac7d40",
    "tags": [],
    "deepnote_to_be_reexecuted": false,
    "source_hash": "4b17257c",
    "execution_start": 1651459738868,
    "execution_millis": 8423,
    "deepnote_cell_type": "code",
    "deepnote_cell_height": 418.375,
    "deepnote_output_heights": [
     347.671875,
     213.1875
    ]
   },
   "outputs": [
    {
     "name": "stderr",
     "text": "100%|██████████| 1/1 [00:07<00:00,  7.99s/it]\n",
     "output_type": "stream"
    },
    {
     "output_type": "error",
     "ename": "UnboundLocalError",
     "evalue": "local variable 'recomendacion' referenced before assignment",
     "traceback": [
      "\u001b[0;31m---------------------------------------------------------------------------\u001b[0m",
      "\u001b[0;31mUnboundLocalError\u001b[0m                         Traceback (most recent call last)",
      "\u001b[0;32m<ipython-input-43-72e000a11759>\u001b[0m in \u001b[0;36m<module>\u001b[0;34m\u001b[0m\n\u001b[0;32m----> 1\u001b[0;31m \u001b[0mtranscribe_test\u001b[0m\u001b[0;34m(\u001b[0m\u001b[0;34m'./grabaciones-wav/test_audio_memo.wav'\u001b[0m\u001b[0;34m)\u001b[0m\u001b[0;34m\u001b[0m\u001b[0;34m\u001b[0m\u001b[0m\n\u001b[0m",
      "\u001b[0;32m<ipython-input-40-203673e5fc6f>\u001b[0m in \u001b[0;36mtranscribe_test\u001b[0;34m(audio)\u001b[0m\n\u001b[1;32m     26\u001b[0m     \u001b[0;31m# codigo =\u001b[0m\u001b[0;34m\u001b[0m\u001b[0;34m\u001b[0m\u001b[0;34m\u001b[0m\u001b[0m\n\u001b[1;32m     27\u001b[0m     \u001b[0;31m# recomendacion = \"hola\"\u001b[0m\u001b[0;34m\u001b[0m\u001b[0;34m\u001b[0m\u001b[0;34m\u001b[0m\u001b[0m\n\u001b[0;32m---> 28\u001b[0;31m     \u001b[0;32mreturn\u001b[0m \u001b[0mcodigo\u001b[0m\u001b[0;34m,\u001b[0m \u001b[0mrecomendacion\u001b[0m\u001b[0;34m\u001b[0m\u001b[0;34m\u001b[0m\u001b[0m\n\u001b[0m",
      "\u001b[0;31mUnboundLocalError\u001b[0m: local variable 'recomendacion' referenced before assignment"
     ]
    }
   ],
   "execution_count": 43
  },
  {
   "cell_type": "markdown",
   "source": "<a style='text-decoration:none;line-height:16px;display:flex;color:#5B5B62;padding:10px;justify-content:end;' href='https://deepnote.com?utm_source=created-in-deepnote-cell&projectId=17740a58-e960-4de3-bb66-1575286930f1' target=\"_blank\">\n<img alt='Created in deepnote.com' style='display:inline;max-height:16px;margin:0px;margin-right:7.5px;' src='data:image/svg+xml;base64,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' > </img>\nCreated in <span style='font-weight:600;margin-left:4px;'>Deepnote</span></a>",
   "metadata": {
    "tags": [],
    "created_in_deepnote_cell": true,
    "deepnote_cell_type": "markdown"
   }
  }
 ],
 "nbformat": 4,
 "nbformat_minor": 0,
 "metadata": {
  "colab": {
   "name": "Hackaton_v2.ipynb",
   "provenance": [],
   "collapsed_sections": []
  },
  "kernelspec": {
   "name": "python3",
   "display_name": "Python 3"
  },
  "language_info": {
   "name": "python"
  },
  "widgets": {
   "application/vnd.jupyter.widget-state+json": {
    "b39e9835f1a449f59b7834751e7da84f": {
     "model_module": "jupyter-webrtc",
     "model_name": "AudioRecorderModel",
     "model_module_version": "~0.6.0",
     "state": {
      "_data_src": "",
      "_dom_classes": [],
      "_model_module": "jupyter-webrtc",
      "_model_module_version": "~0.6.0",
      "_model_name": "AudioRecorderModel",
      "_view_count": null,
      "_view_module": "jupyter-webrtc",
      "_view_module_version": "~0.6.0",
      "_view_name": "AudioRecorderView",
      "audio": "IPY_MODEL_bebe38c157424db69e5033f50d3ea569",
      "autosave": false,
      "codecs": "",
      "filename": "record",
      "format": "webm",
      "layout": "IPY_MODEL_9fa6e616d247427f83b4298611161a91",
      "recording": false,
      "stream": "IPY_MODEL_275ca945e1ec4a29911dc2f6a58ec8d9"
     }
    },
    "bebe38c157424db69e5033f50d3ea569": {
     "model_module": "@jupyter-widgets/controls",
     "model_name": "AudioModel",
     "model_module_version": "1.5.0",
     "state": {
      "_dom_classes": [],
      "_model_module": "@jupyter-widgets/controls",
      "_model_module_version": "1.5.0",
      "_model_name": "AudioModel",
      "_view_count": null,
      "_view_module": "@jupyter-widgets/controls",
      "_view_module_version": "1.5.0",
      "_view_name": "AudioView",
      "autoplay": true,
      "controls": true,
      "format": "webm",
      "layout": "IPY_MODEL_dbcdcb73272e46ce8023c119b1669a49",
      "loop": true
     }
    },
    "9fa6e616d247427f83b4298611161a91": {
     "model_module": "@jupyter-widgets/base",
     "model_name": "LayoutModel",
     "model_module_version": "1.2.0",
     "state": {
      "_model_module": "@jupyter-widgets/base",
      "_model_module_version": "1.2.0",
      "_model_name": "LayoutModel",
      "_view_count": null,
      "_view_module": "@jupyter-widgets/base",
      "_view_module_version": "1.2.0",
      "_view_name": "LayoutView",
      "align_content": null,
      "align_items": null,
      "align_self": null,
      "border": null,
      "bottom": null,
      "display": null,
      "flex": null,
      "flex_flow": null,
      "grid_area": null,
      "grid_auto_columns": null,
      "grid_auto_flow": null,
      "grid_auto_rows": null,
      "grid_column": null,
      "grid_gap": null,
      "grid_row": null,
      "grid_template_areas": null,
      "grid_template_columns": null,
      "grid_template_rows": null,
      "height": null,
      "justify_content": null,
      "justify_items": null,
      "left": null,
      "margin": null,
      "max_height": null,
      "max_width": null,
      "min_height": null,
      "min_width": null,
      "object_fit": null,
      "object_position": null,
      "order": null,
      "overflow": null,
      "overflow_x": null,
      "overflow_y": null,
      "padding": null,
      "right": null,
      "top": null,
      "visibility": null,
      "width": null
     }
    },
    "275ca945e1ec4a29911dc2f6a58ec8d9": {
     "model_module": "jupyter-webrtc",
     "model_name": "CameraStreamModel",
     "model_module_version": "~0.6.0",
     "state": {
      "_dom_classes": [],
      "_model_module": "jupyter-webrtc",
      "_model_module_version": "~0.6.0",
      "_model_name": "CameraStreamModel",
      "_view_count": null,
      "_view_module": "jupyter-webrtc",
      "_view_module_version": "~0.6.0",
      "_view_name": "MediaStreamView",
      "constraints": {
       "audio": true,
       "video": false
      },
      "layout": "IPY_MODEL_ef5c4ad333b94c1cb09b1730bc6c89db"
     }
    },
    "dbcdcb73272e46ce8023c119b1669a49": {
     "model_module": "@jupyter-widgets/base",
     "model_name": "LayoutModel",
     "model_module_version": "1.2.0",
     "state": {
      "_model_module": "@jupyter-widgets/base",
      "_model_module_version": "1.2.0",
      "_model_name": "LayoutModel",
      "_view_count": null,
      "_view_module": "@jupyter-widgets/base",
      "_view_module_version": "1.2.0",
      "_view_name": "LayoutView",
      "align_content": null,
      "align_items": null,
      "align_self": null,
      "border": null,
      "bottom": null,
      "display": null,
      "flex": null,
      "flex_flow": null,
      "grid_area": null,
      "grid_auto_columns": null,
      "grid_auto_flow": null,
      "grid_auto_rows": null,
      "grid_column": null,
      "grid_gap": null,
      "grid_row": null,
      "grid_template_areas": null,
      "grid_template_columns": null,
      "grid_template_rows": null,
      "height": null,
      "justify_content": null,
      "justify_items": null,
      "left": null,
      "margin": null,
      "max_height": null,
      "max_width": null,
      "min_height": null,
      "min_width": null,
      "object_fit": null,
      "object_position": null,
      "order": null,
      "overflow": null,
      "overflow_x": null,
      "overflow_y": null,
      "padding": null,
      "right": null,
      "top": null,
      "visibility": null,
      "width": null
     }
    },
    "ef5c4ad333b94c1cb09b1730bc6c89db": {
     "model_module": "@jupyter-widgets/base",
     "model_name": "LayoutModel",
     "model_module_version": "1.2.0",
     "state": {
      "_model_module": "@jupyter-widgets/base",
      "_model_module_version": "1.2.0",
      "_model_name": "LayoutModel",
      "_view_count": null,
      "_view_module": "@jupyter-widgets/base",
      "_view_module_version": "1.2.0",
      "_view_name": "LayoutView",
      "align_content": null,
      "align_items": null,
      "align_self": null,
      "border": null,
      "bottom": null,
      "display": null,
      "flex": null,
      "flex_flow": null,
      "grid_area": null,
      "grid_auto_columns": null,
      "grid_auto_flow": null,
      "grid_auto_rows": null,
      "grid_column": null,
      "grid_gap": null,
      "grid_row": null,
      "grid_template_areas": null,
      "grid_template_columns": null,
      "grid_template_rows": null,
      "height": null,
      "justify_content": null,
      "justify_items": null,
      "left": null,
      "margin": null,
      "max_height": null,
      "max_width": null,
      "min_height": null,
      "min_width": null,
      "object_fit": null,
      "object_position": null,
      "order": null,
      "overflow": null,
      "overflow_x": null,
      "overflow_y": null,
      "padding": null,
      "right": null,
      "top": null,
      "visibility": null,
      "width": null
     }
    }
   }
  },
  "deepnote_notebook_id": "c0e8b1a7-8e3b-479c-858b-bb0c01c9d1c7",
  "deepnote": {},
  "deepnote_execution_queue": []
 }
}