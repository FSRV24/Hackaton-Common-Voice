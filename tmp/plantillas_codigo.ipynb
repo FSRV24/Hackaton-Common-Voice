{
 "cells": [
  {
   "cell_type": "code",
   "metadata": {
    "cell_id": "1684653742b2424bb02219a2ed7395c1",
    "deepnote_to_be_reexecuted": false,
    "execution_millis": 2,
    "execution_start": 1651609395935,
    "id": "pb8DGyPAp6l-",
    "source_hash": "84c81ca2",
    "tags": [],
    "owner_user_id": "e0c6afe4-99d0-40b0-b8eb-7b5ca2d084e6",
    "deepnote_cell_type": "code",
    "deepnote_cell_height": 227.46665954589844
   },
   "source": "%run \"./variables_globales.ipynb\"",
   "execution_count": null,
   "outputs": [
    {
     "output_type": "error",
     "ename": "SyntaxError",
     "evalue": "invalid syntax (<ipython-input-82-71825f599c9d>, line 8)",
     "traceback": [
      "\u001b[0;36m  File \u001b[0;32m\"<ipython-input-82-71825f599c9d>\"\u001b[0;36m, line \u001b[0;32m8\u001b[0m\n\u001b[0;31m    'hotel','h',\u001b[0m\n\u001b[0m           ^\u001b[0m\n\u001b[0;31mSyntaxError\u001b[0m\u001b[0;31m:\u001b[0m invalid syntax\n"
     ]
    },
    {
     "output_type": "error",
     "ename": "SyntaxError",
     "evalue": "invalid syntax (<ipython-input-82-71825f599c9d>, line 8)",
     "traceback": [
      "Traceback \u001b[0;36m(most recent call last)\u001b[0m:\n",
      "  File \u001b[1;32m\"/shared-libs/python3.7/py-core/lib/python3.7/site-packages/IPython/core/interactiveshell.py\"\u001b[0m, line \u001b[1;32m3524\u001b[0m, in \u001b[1;35mrun_code\u001b[0m\n    exec(code_obj, self.user_global_ns, self.user_ns)\n",
      "  File \u001b[1;32m\"<ipython-input-82-41358dd7738b>\"\u001b[0m, line \u001b[1;32m1\u001b[0m, in \u001b[1;35m<module>\u001b[0m\n    get_ipython().run_line_magic('run', '\"./variables_globales.ipynb\"')\n",
      "  File \u001b[1;32m\"/shared-libs/python3.7/py-core/lib/python3.7/site-packages/IPython/core/interactiveshell.py\"\u001b[0m, line \u001b[1;32m2407\u001b[0m, in \u001b[1;35mrun_line_magic\u001b[0m\n    result = fn(*args, **kwargs)\n",
      "  File \u001b[1;32m\"/shared-libs/python3.7/py-core/lib/python3.7/site-packages/decorator.py\"\u001b[0m, line \u001b[1;32m232\u001b[0m, in \u001b[1;35mfun\u001b[0m\n    return caller(func, *(extras + args), **kw)\n",
      "  File \u001b[1;32m\"/shared-libs/python3.7/py-core/lib/python3.7/site-packages/IPython/core/magic.py\"\u001b[0m, line \u001b[1;32m187\u001b[0m, in \u001b[1;35m<lambda>\u001b[0m\n    call = lambda f, *a, **k: f(*a, **k)\n",
      "  File \u001b[1;32m\"/shared-libs/python3.7/py-core/lib/python3.7/site-packages/IPython/core/magics/execution.py\"\u001b[0m, line \u001b[1;32m735\u001b[0m, in \u001b[1;35mrun\u001b[0m\n    self.shell.safe_execfile_ipy(filename, raise_exceptions=True)\n",
      "  File \u001b[1;32m\"/shared-libs/python3.7/py-core/lib/python3.7/site-packages/IPython/core/interactiveshell.py\"\u001b[0m, line \u001b[1;32m2894\u001b[0m, in \u001b[1;35msafe_execfile_ipy\u001b[0m\n    result.raise_error()\n",
      "  File \u001b[1;32m\"/shared-libs/python3.7/py-core/lib/python3.7/site-packages/IPython/core/interactiveshell.py\"\u001b[0m, line \u001b[1;32m336\u001b[0m, in \u001b[1;35mraise_error\u001b[0m\n    raise self.error_before_exec\n",
      "  File \u001b[1;32m\"/shared-libs/python3.7/py-core/lib/python3.7/site-packages/IPython/core/interactiveshell.py\"\u001b[0m, line \u001b[1;32m3197\u001b[0m, in \u001b[1;35mrun_cell_async\u001b[0m\n    code_ast = compiler.ast_parse(cell, filename=cell_name)\n",
      "\u001b[0;36m  File \u001b[0;32m\"/shared-libs/python3.7/py-core/lib/python3.7/site-packages/IPython/core/compilerop.py\"\u001b[0;36m, line \u001b[0;32m101\u001b[0;36m, in \u001b[0;35mast_parse\u001b[0;36m\u001b[0m\n\u001b[0;31m    return compile(source, filename, symbol, self.flags | PyCF_ONLY_AST, 1)\u001b[0m\n",
      "\u001b[0;36m  File \u001b[0;32m\"<ipython-input-82-71825f599c9d>\"\u001b[0;36m, line \u001b[0;32m8\u001b[0m\n\u001b[0;31m    'hotel','h',\u001b[0m\n\u001b[0m           ^\u001b[0m\n\u001b[0;31mSyntaxError\u001b[0m\u001b[0;31m:\u001b[0m invalid syntax\n"
     ]
    }
   ]
  },
  {
   "cell_type": "markdown",
   "source": "# Plantillas de codigo\nFunciones para hacer las plantillas",
   "metadata": {
    "cell_id": "5be469d9-8e46-4d48-aa60-f10a6d1139c3",
    "id": "GMCxnCGZp6mC",
    "tags": [],
    "deepnote_cell_type": "markdown",
    "deepnote_cell_height": 119.93333435058594
   }
  },
  {
   "cell_type": "code",
   "metadata": {
    "cell_id": "3d08508f12184df3b9e21a27153e4b7a",
    "deepnote_to_be_reexecuted": false,
    "execution_millis": 3,
    "execution_start": 1651611344281,
    "id": "9YzFj7DKp6mF",
    "source_hash": "53ee8fe1",
    "tags": [],
    "deepnote_cell_type": "code",
    "deepnote_cell_height": 1502.5333251953125
   },
   "source": "def crear_funcion(instruccion):\n    \"\"\"\n    Crea el template de la estructura de una función\n\n    Parametros\n    ----------\n    instrucion: str\n        La intruccion de voz en texto.\n\n    Regresa\n    ---------\n    output: str\n        Codigo generado\n    recomendacion: str\n        Una sugerencia o fallo\n    \"\"\"\n\n    global indentacion\n    global recomendacion\n    global bloque\n\n    bloque='funcion'\n\n    # guarda los avisos o recomendaciones que el programa te hace\n    recomendacion = ''\n\n    # guarda la línea de código\n    output = ''\n    \n    # pivote que ayuda a definir el nombre de una función\n    before_keyword, keyword, after_keyword = instruccion.partition('nombre')\n\n    # verifica que haya o esté escrita la frase \"nombre\"\n    if len(after_keyword) == 0:\n        recomendacion = f'¡No me dijiste el nombre de la función!'\n\n    # de otro modo, si tiene nombre la función\n    else:\n\n        # obtenemos el nombre de la función por el usuario\n        name_func = after_keyword.split(' ')[1]\n\n        # verificamos si no desea poner parametros                                \n        if instruccion.strip().split(' ')[-1] == name_func:\n            parametros = ''\n\n        # de otro modo, si desea una función con parámetros\n        else:\n            before_keyword, keyword, after_keyword = instruccion.partition('parametros')\n\n            # verifica que si exista el nombre de los parámetros\n            if len(after_keyword) == 0:\n                parametros = ''\n                recomendacion = f'¡No me dijiste el nombre de los parámetros!'\n\n            # escribe como parámetros todo lo que está después de \"parámetros\"\n            else:\n                candidatos = []\n                cadena_separada = after_keyword.strip().split(' ')\n\n                for palabra in cadena_separada:\n                    try:\n                        candidatos.append(diccionario_fonetico[palabra])\n                    except:\n                        continue\n                \n                if len(candidatos) == 0:\n                    parametros = after_keyword.split(' ')[1:]\n                    parametros = ', '.join(parametros)\n\n                else:\n                    parametros = ', '.join(candidatos)\n\n        # indenta aunque marque que detecte que no le dije parámetros\n        if not recomendacion or recomendacion == '¡No me dijiste el nombre de los parámetros!':\n            indentacion += 1\n\n        # concatenación del nombre y parámetros de la función\n        output = f'def {name_func}({parametros}):\\n' + '\\t' * indentacion + '|'\n    return output",
   "execution_count": null,
   "outputs": []
  },
  {
   "cell_type": "markdown",
   "source": "#### Prueba para la funcion \"crear_funcion\"",
   "metadata": {
    "cell_id": "b703f3a6d066484a945f7c4fa0d6d03f",
    "id": "3iICsqXnp6mH",
    "tags": [],
    "deepnote_cell_type": "markdown",
    "deepnote_cell_height": 53.53334045410156
   }
  },
  {
   "cell_type": "code",
   "metadata": {
    "cell_id": "d7c182f840cd4efdb559afad206256fc",
    "deepnote_to_be_reexecuted": false,
    "execution_millis": 5,
    "execution_start": 1651611782504,
    "id": "CT6Svv24p6mI",
    "outputId": "b8fc629f-9d3a-472e-b8aa-f01d9e06c7be",
    "source_hash": "3f67e27",
    "tags": [],
    "deepnote_cell_type": "code",
    "deepnote_cell_height": 117.30000305175781,
    "deepnote_output_heights": [
     21
    ]
   },
   "source": "crear_funcion('definir función con nombre magica y parametros alfa y julieta')",
   "execution_count": null,
   "outputs": [
    {
     "output_type": "execute_result",
     "execution_count": 101,
     "data": {
      "text/plain": "'def magica(a, j):\\n\\t\\t\\t\\t\\t\\t\\t\\t\\t\\t\\t\\t\\t|'"
     },
     "metadata": {}
    }
   ]
  },
  {
   "cell_type": "markdown",
   "source": "## crear_condicional ",
   "metadata": {
    "cell_id": "19cae42d2f7e4fd08f5e39e80168c09f",
    "id": "UK1sefzEp6mJ",
    "tags": [],
    "deepnote_cell_type": "markdown",
    "deepnote_cell_height": 69.53334045410156
   }
  },
  {
   "cell_type": "code",
   "metadata": {
    "cell_id": "51891e72df4f468d99c0e65449c3b201",
    "deepnote_to_be_reexecuted": false,
    "execution_millis": 23,
    "execution_start": 1651607898448,
    "id": "taIMIHUKp6mK",
    "source_hash": "69bfcbeb",
    "tags": [],
    "deepnote_cell_type": "code",
    "deepnote_cell_height": 1772.5333251953125
   },
   "source": "import re\ndef encontrar_palabras(transcript,cjto_palabras):\n\n    \"\"\"\n    Toma un string (en minúsculos) y un conjunto de palabras. Busca el primer match\n    de cjto_palabras en transcript y particiona el string\n\n    Parametros\n    ----------\n    transcript: str\n        La intruccion de voz en texto ya en minúsculas.\n    cjto_palabras: list(str)\n        Lista de strings donde se comienza a dividir el transcript original\n\n    Regresa\n    ---------\n    output: list(str)\n        [antes_palabra,palabra,despues_palabra]\n\n        antes_palabra: string que está antes de la palabra de interés (de cjto_palabras)\n        palabra: string que da la palabra clave donde dividimos\n        despues_palabra: string que está después de la palabra\n    \n    Ejemplo\n    --------\n    encontrar_palabras('variable india producto variable alfa',['producto','suma','menos','entre'])\n    >> ['variable india','producto',' variable alfa]\n    \"\"\" \n    inicio,final=list(re.finditer(r'|'.join(cjto_palabras),transcript))[0].span()\n    antes_palabra=transcript[:inicio].strip()\n    despues_palabra=transcript[final:].strip()\n    palabra=transcript[inicio:final]\n    return antes_palabra,palabra,despues_palabra\n\ndef crear_condicional(transcript):\n    ''' \n    Toma el transcript de un enunciado condicional y regresa su traducción a código en Python\n\n    Parametros\n    ----------\n    transcript: str\n        La intruccion de voz en texto ya en minúsculas.\n\n\n    Regresa\n    ---------\n    output: str\n        Cadena con el código en python, tiene una línea al final y un pipe \n        que representa el prompt donde se seguirá escribiendo\n    \n    Ejemplo\n    --------\n    crear_condicional('mientras variable india sea menor igual a numero seis')\n    >> while (i<=6):\n    >>      |\n    '''    \n    global indentacion\n    global bloque\n\n    keyword_mapeo={'mientras':'while','si':'if','contrario':'else'}\n    antes_keyword,keyword,desp_keyword=encontrar_palabras(transcript,keyword_mapeo.keys())\n    cadena=keyword_mapeo[keyword]\n    bloque = keyword\n\n    if cadena=='else':\n        indentacion=indentacion+1\n        return 'else:'+'\\n' +'\\t'* indentacion+'|'\n\n    # Primera división\n    condicional_mapeo={'menor estricto':'<','menor o igual':'<=','igual':'==','diferente':'!='\n    ,'mayor estricto':'>','mayor o igual':'>='}\n    cjto_condicional=condicional_mapeo.keys()\n    antes_condicional,palabra_condicional,despues_condicional=encontrar_palabras(transcript,cjto_condicional) \n    \n    \n    # Buscar antes en la lista de variables\n    a_var,var,d_var=encontrar_palabras(antes_condicional,['variable'])\n    nombre_var=d_var.split(' ')[0]\n\n    if diccionario_fonetico.get(nombre_var,False):\n        nombre_var=diccionario_fonetico[nombre_var]\n\n\n    cadena+=' '+nombre_var+' ' +condicional_mapeo[palabra_condicional]\n\n    # Buscar en despues_condicional el número \n\n    valor=despues_condicional.split(' ')[-1]\n\n    if dict_numeros.get(valor,False):\n        valor=str(dict_numeros[valor])\n\n    indentacion+=1\n\n    return f'{keyword_mapeo[keyword]} {nombre_var} {condicional_mapeo[palabra_condicional]} {valor}:'+'\\n' +'\\t'* indentacion+'|'",
   "execution_count": null,
   "outputs": []
  },
  {
   "cell_type": "markdown",
   "source": "#### Prueba para la funcion \"crear_condicional\"",
   "metadata": {
    "cell_id": "333e5b3bf5354e9e8b737f52eff95985",
    "id": "Cuoz327Lp6mL",
    "tags": [],
    "deepnote_cell_type": "markdown",
    "deepnote_cell_height": 53.53334045410156
   }
  },
  {
   "cell_type": "code",
   "metadata": {
    "cell_id": "62e45d9f63264a019b99bdc6d16c813c",
    "deepnote_to_be_reexecuted": false,
    "execution_millis": 8,
    "execution_start": 1651607901076,
    "id": "B6jL-GE9p6mN",
    "outputId": "97d8bb4d-d620-4f73-d901-80befc35fac1",
    "source_hash": "2506055f",
    "tags": [],
    "deepnote_cell_type": "code",
    "deepnote_cell_height": 352.79998779296875
   },
   "source": "indentacion = 0\ntest_frases_condicional = [\n    'si variable india es menor o igual a numero seis',\n    'mientras variable alpha es menor igual a numero dos',\n    'de lo contrario'\n    ]\n\nfor ai in test_frases_condicional:    \n    print(crear_condicional(ai))    ",
   "execution_count": null,
   "outputs": [
    {
     "name": "stdout",
     "text": "if i <= 6:\n\t|\nwhile alpha == 2:\n\t\t|\nelse:\n\t\t\t|\n",
     "output_type": "stream"
    }
   ]
  },
  {
   "cell_type": "markdown",
   "source": "## crear_cadena",
   "metadata": {
    "cell_id": "e36592425ed945299280b9e44a5283cf",
    "id": "ohEKsBxZp6mO",
    "tags": [],
    "deepnote_cell_type": "markdown",
    "deepnote_cell_height": 69.53334045410156
   }
  },
  {
   "cell_type": "code",
   "metadata": {
    "cell_id": "d015067470674b2ebf28a31f98c427b2",
    "deepnote_to_be_reexecuted": false,
    "execution_millis": 114,
    "execution_start": 1651606105272,
    "id": "CNeKnlVyp6mP",
    "source_hash": "653ca282",
    "tags": [],
    "deepnote_cell_type": "code",
    "deepnote_cell_height": 620.5333251953125
   },
   "source": "def crear_cadena(transcript):\n    \"\"\"\n    Toma el transcript de un enunciado que contiene una cadena y regresa el código en Python.\n    Para usarse cuando ya se sabe que transcript sólo es los límites de la cadena\n\n    Parametros\n    ----------\n    transcript: str\n        La intruccion de voz en texto ya en minúsculas.\n\n\n    Regresa\n    ---------\n    output: list(str)\n        antes_palabra:parte del transcript que va antes de las comillas\n        palabra: Cadena con el código en python de las comillas y lo que está adentro\n        despues_palabra:parte del transcript que va antes de las comillas\n    \n    Ejemplo\n    --------\n    crear_cadena('ejecuta print con argumentos variable India producto cadena guion cadena')[1]\n    >> ['ejecuta print con argumentos variable India producto','\"guion\"','']\n    \"\"\"\n    try:\n        inicio,final=list(re.finditer(r\"cadena (.+) cadena\",transcript))[0].span()\n    except:\n        return ''\n    antes_palabra=transcript[:inicio].strip()\n    despues_palabra=transcript[final:].strip()\n    palabra=list(re.finditer(r\"cadena (.+) cadena\",transcript))[0].group(1)\n    return antes_palabra,f'\"{palabra}\"',despues_palabra",
   "execution_count": null,
   "outputs": []
  },
  {
   "cell_type": "markdown",
   "source": "\n#### Prueba para la funcion \"crear_cadena\"",
   "metadata": {
    "cell_id": "c3e30abfb8e84091833810a04c174796",
    "id": "NLfBHLgQp6mP",
    "tags": [],
    "deepnote_cell_type": "markdown",
    "deepnote_cell_height": 53.53334045410156
   }
  },
  {
   "cell_type": "code",
   "metadata": {
    "cell_id": "39bb8f1688564c42aa6818fa8636b5b9",
    "deepnote_to_be_reexecuted": false,
    "execution_millis": 76255840,
    "execution_start": 1651606105273,
    "id": "dJ1nxzASp6mQ",
    "outputId": "d9cdb264-c216-4701-ef25-25d0658d5331",
    "source_hash": "8d0a34a",
    "tags": [],
    "deepnote_cell_type": "code",
    "deepnote_cell_height": 238.46665954589844
   },
   "source": "test_str_cadena=[\n    'ejecuta print con argumentos variable India producto cadena guión cadena',\n    'ejecuta print con argumentos cadena Hola mundo cadena'\n    ]\n\nfor ti in test_str_cadena:\n    print(crear_cadena(ti))",
   "execution_count": null,
   "outputs": [
    {
     "name": "stdout",
     "text": "('ejecuta print con argumentos variable India producto', '\"guión\"', '')\n('ejecuta print con argumentos', '\"Hola mundo\"', '')\n",
     "output_type": "stream"
    }
   ]
  },
  {
   "cell_type": "markdown",
   "source": "## crear_var_existente",
   "metadata": {
    "cell_id": "c1372e5aaf1545ccac6b3c4d734dd521",
    "id": "-r2j6LTZp6mQ",
    "tags": [],
    "deepnote_cell_type": "markdown",
    "deepnote_cell_height": 69.53334045410156
   }
  },
  {
   "cell_type": "code",
   "metadata": {
    "cell_id": "3f550bad3955463b99ac81031f433d23",
    "deepnote_to_be_reexecuted": false,
    "execution_millis": 76291681,
    "execution_start": 1651606105378,
    "id": "BhpfpX3Dp6mR",
    "source_hash": "4de67bb1",
    "tags": [],
    "deepnote_cell_type": "code",
    "deepnote_cell_height": 638.5333251953125
   },
   "source": "def crear_var_existente(transcript):\n    \"\"\"\n    Toma el transcript de un enunciado que contiene la mención de una variable\n     y devuelve dicha variable\n\n    Parametros\n    ----------\n    transcript: str\n        La intruccion de voz en texto ya en minúsculas.\n\n\n    Regresa\n    ---------\n    output: str\n        palabra: Cadena con el código en python del nombre de la variable\n    \n    Ejemplo\n    --------\n    crear_var_existente('ejecuta print con argumentos variable india producto cadena guión cadena')\n    >> i\n    \"\"\"\n    try:\n        antes_var,var,desp_var=encontrar_palabras(transcript,['variable'])\n    except:\n        return '' \n\n    nombre_var=desp_var.split(' ')[0]\n    if diccionario_fonetico.get(nombre_var,False):\n        nombre_var=diccionario_fonetico[nombre_var]\n    \n    return nombre_var\n",
   "execution_count": null,
   "outputs": []
  },
  {
   "cell_type": "markdown",
   "source": "#### Test crear_var_existente",
   "metadata": {
    "cell_id": "31723917bd554ec98307827605c4e30b",
    "id": "TGBoV_8rp6mR",
    "tags": [],
    "deepnote_cell_type": "markdown",
    "deepnote_cell_height": 53.53334045410156
   }
  },
  {
   "cell_type": "code",
   "metadata": {
    "cell_id": "139b8151a07b46738f13921bf5a81b5c",
    "deepnote_to_be_reexecuted": false,
    "execution_millis": 76289754,
    "execution_start": 1651606105378,
    "id": "UK_c9dFSp6mS",
    "outputId": "e20ff9cd-34bc-4d25-ba82-8089a7d49781",
    "source_hash": "12aef74a",
    "tags": [],
    "deepnote_cell_type": "code",
    "deepnote_cell_height": 238.46665954589844
   },
   "source": "test_str_cadena=[\n    'ejecuta print con argumentos variable india producto cadena guión cadena',\n    'ejecuta print con argumentos cadena Hola mundo cadea'\n    ]\n\nfor ti in test_str_cadena:\n    print(crear_var_existente(ti))",
   "execution_count": null,
   "outputs": [
    {
     "name": "stdout",
     "text": "i\n\n",
     "output_type": "stream"
    }
   ]
  },
  {
   "cell_type": "markdown",
   "source": "## crear_operacion",
   "metadata": {
    "cell_id": "19dd85e179b34d389c050fb919b44fe3",
    "id": "hNXWg9qbp6mS",
    "tags": [],
    "deepnote_cell_type": "markdown"
   }
  },
  {
   "cell_type": "code",
   "metadata": {
    "cell_id": "10af7c36b5814db982f21f606cbccf8c",
    "deepnote_to_be_reexecuted": false,
    "execution_millis": 10,
    "execution_start": 1651611040121,
    "id": "qulmpdkXp6mS",
    "source_hash": "a8b93ddf",
    "tags": [],
    "deepnote_cell_type": "code"
   },
   "source": "# TODO: Hay que ver:\n    # Si es otra operación hay que llamar la función recursivamente en cada pedazo\n    # 1. si es cadena\n    # 2. si es otra operación. Para esto, hay que regresar error o algo así cuando no se encuentre\ndef crear_operacion(transcript):\n    '''\n\n    Toma el transcript de una operación binaria y la traduce a código de Python.\n    Para traducir las variables que se usan en la operación binaria busca \n    si son cadenas o sólo menciones de variables usando las funciones\n    crear_cadena y crear_var_existente\n\n    Parametros\n    ----------\n    transcript: str\n        La intruccion de voz en texto ya en minúsculas.\n\n\n    Regresa\n    ---------\n    output: str\n        Cadena con el código en python\n    \n    Ejemplo\n    --------\n    crear_operacion('variable India producto cadena guión cadena')\n    >> i*'-'\n    '''\n    global dict_operaciones\n    \n\n    try:\n        antes_op,op,desp_op=encontrar_palabras(transcript,dict_operaciones.keys())\n    except:\n        return '' \n\n    # Buscamos la información en la cadena detrás del operador\n    cadena_izq=crear_var_existente(antes_op)\n    try:\n        cadena_izq+=f'{crear_cadena(antes_op)[1]}'\n    except:\n        cadena_izq+=''\n        \n    if len(cadena_izq)==0:\n        nombre_var=antes_op.split(' ')[-1]\n        if dict_numeros.get(nombre_var,False):\n            nombre_var=dict_numeros[nombre_var]\n        cadena_izq+=str(nombre_var)\n        \n    # Buscamos la información en la cadena después del operador\n    cadena_der=crear_var_existente(desp_op)\n    try:\n        cadena_der+=f'{crear_cadena(desp_op)[1]}'\n    except:\n        cadena_der+=''\n    \n    if len(cadena_der)==0:\n        nombre_var=desp_op.split(' ')[0]\n        if dict_numeros.get(nombre_var,False):\n            nombre_var=dict_numeros[nombre_var]\n        if diccionario_fonetico.get(nombre_var,False):\n            nombre_var=diccionario_fonetico[nombre_var]\n        cadena_der+=str(nombre_var)\n\n                \n    return f'{cadena_izq} {dict_operaciones[op]} {cadena_der}'",
   "execution_count": null,
   "outputs": []
  },
  {
   "cell_type": "markdown",
   "source": "#### Test crear_operacion",
   "metadata": {
    "cell_id": "1b1c10ae507442e6b711d40945ea5cd1",
    "id": "I2jEmuhxp6mT",
    "tags": [],
    "deepnote_cell_type": "markdown"
   }
  },
  {
   "cell_type": "code",
   "metadata": {
    "cell_id": "568a9ccd1bcf4332b6d4f18fddfed608",
    "deepnote_to_be_reexecuted": false,
    "execution_millis": 10,
    "execution_start": 1651611042385,
    "id": "2hCjvwoBp6mT",
    "outputId": "212263fd-d30f-4b5a-db00-8401a3fa1d8a",
    "source_hash": "62afc400",
    "tags": [],
    "deepnote_cell_type": "code"
   },
   "source": "test_str_operacion=[\n    'variable india producto cadena guión cadena',\n    'variable india menos variable Francis','cinco entre tres',\n    'variable india mas variable bravo',\n    'variable india mas bravo',\n    'variable india modulo dos'\n    ] \n\n#checar tercer caso, usando números enteros o lo que están en el diccionario\n\nfor ti in test_str_operacion:\n    print(crear_operacion(ti))",
   "execution_count": null,
   "outputs": [
    {
     "name": "stdout",
     "text": "i * \"guión\"\ni - Francis\n5 / 3\ni + b\ni + b\ni % 2\n",
     "output_type": "stream"
    }
   ]
  },
  {
   "cell_type": "code",
   "metadata": {
    "cell_id": "72f640a8f3104905952f30bcbb32fb42",
    "deepnote_to_be_reexecuted": false,
    "execution_millis": 24,
    "execution_start": 1651606105380,
    "id": "8hcDk1lCp6mU",
    "outputId": "380a3891-3024-4c69-eaf6-efe423a0c2dc",
    "source_hash": "b623e53d",
    "tags": [],
    "deepnote_cell_type": "code"
   },
   "source": "",
   "execution_count": null,
   "outputs": []
  },
  {
   "cell_type": "markdown",
   "source": "## crear_llamada",
   "metadata": {
    "cell_id": "92f3698bb61a4548acc05ec10b762b5f",
    "id": "4p-Hx7Kfp6mU",
    "tags": [],
    "deepnote_cell_type": "markdown"
   }
  },
  {
   "cell_type": "code",
   "metadata": {
    "cell_id": "c0a953cfac1d455c9bdd2fc190397440",
    "deepnote_to_be_reexecuted": false,
    "execution_millis": 2,
    "execution_start": 1651606343518,
    "id": "zPZE1KEYp6mV",
    "source_hash": "bc05ffbc",
    "tags": [],
    "deepnote_cell_type": "code"
   },
   "source": "def crear_llamada(transcript):\n    \"\"\"\n    Toma el transcript de la llamada de una función y la convierte en código de Python\n        Hace uso de las funciones que detectan operaciones, variables y comillas\n        ,para cada argumento de la función\n\n    Parametros\n    ----------\n    transcript: str\n        La intruccion de voz en texto ya en minúsculas.\n\n\n    Regresa\n    ---------\n    output: str\n        Cadena con el código en python\n    \n    Ejemplo\n    --------\n    crear_llamada(ejecuta print con argumentos variable India producto cadena guión cadena \n                    coma cadena hola cadena')\n    >> print(i*'-','hola')\n    \n    \"\"\"\n    global bloque\n    global indentacion\n\n    bloque='llamada'\n    try:\n        antes_ej,ej,desp_ej=encontrar_palabras(transcript,['ejecuta'])\n    except:\n        return ''\n    funcion_nombre=desp_ej.split(' ')[0]\n    # Aquí tal vez valdría la pena tener un registro de las funciones previamente definidas para\n    # poder buscar en un directorio con Jaccard y no aproximar\n\n    antes_arg,keyword,desp_arg=encontrar_palabras(desp_ej,['argumentos','parametros'])\n\n    argumentos=desp_arg.split('coma')\n    lista_cadenas=[]\n    for arg in argumentos:\n        arg=arg.strip()\n        cadena_arg=''\n        # print('arg',arg)\n        # Caso cuando es operacion\n        cadena_op=crear_operacion(arg)\n        cadena_var=crear_var_existente(arg)\n        cadena_cadena=crear_cadena(arg)\n        if len(cadena_op)!=0:\n            lista_cadenas.append(cadena_op)\n        elif len(cadena_var)!=0:\n            lista_cadenas.append(cadena_var)\n        elif len(cadena_cadena)!=0:\n            lista_cadenas.append(cadena_cadena[1])\n        else:\n            nombre_var=arg\n            if dict_numeros.get(nombre_var,False):\n                nombre_var=str(dict_numeros[nombre_var])\n                \n            lista_cadenas.append(nombre_var)\n\n        # Caso cuando es variable\n    \n    cadena_final=','.join(lista_cadenas)\n    cadena=f'{funcion_nombre}({cadena_final})\\n'+'\\t'*indentacion+'|'\n\n    return cadena\n\n",
   "execution_count": null,
   "outputs": []
  },
  {
   "cell_type": "markdown",
   "source": "#### test crear_llamada",
   "metadata": {
    "cell_id": "b40e92e116d34d8fb98696ae66fb1941",
    "id": "-N2vfMlbp6mV",
    "tags": [],
    "deepnote_cell_type": "markdown"
   }
  },
  {
   "cell_type": "code",
   "metadata": {
    "cell_id": "cb7b93ff5fda4660a1e97d937dec742a",
    "deepnote_to_be_reexecuted": false,
    "execution_millis": 6,
    "execution_start": 1651606362144,
    "id": "MI9atfFrp6mV",
    "outputId": "710332f8-6904-493d-acca-71ea7befef67",
    "source_hash": "bb41a996",
    "tags": [],
    "deepnote_cell_type": "code"
   },
   "source": "indentacion=0\ntest_str_ej=[\n    'ejecuta print con argumentos variable india producto cadena guión cadena coma cadena hola cadena coma cinco',\n    'ejecuta print con argumentos cadena hola mundo cadena'\n]\nfor ti in test_str_ej:\n    print(crear_llamada(ti))",
   "execution_count": null,
   "outputs": [
    {
     "name": "stdout",
     "text": "print(i * \"guión\",\"hola\",5)\n|\nprint(\"hola mundo\")\n|\n",
     "output_type": "stream"
    }
   ]
  },
  {
   "cell_type": "markdown",
   "source": "## crear_regresa",
   "metadata": {
    "cell_id": "00028-e7f958e9-944c-4468-9a2d-acd925731d2a",
    "deepnote_cell_type": "markdown"
   }
  },
  {
   "cell_type": "code",
   "metadata": {
    "cell_id": "00029-c22351c2-edfc-4db7-86e9-60d7577745df",
    "deepnote_to_be_reexecuted": false,
    "source_hash": "cd7bb0c4",
    "execution_start": 1651606784647,
    "execution_millis": 5,
    "deepnote_cell_type": "code"
   },
   "source": "def crear_regresa(transcript):\n    antes_reg,reg,desp_reg=encontrar_palabras(transcript,['regresa'])\n\n    arg=desp_reg.strip()\n    cadena_arg=''\n\n    # Si es llamada\n    cadena_llamada=crear_llamada(arg)\n    # Caso cuando es operacion\n    cadena_op=crear_operacion(arg)\n    cadena_var=crear_var_existente(arg)\n    cadena_cadena=crear_cadena(arg)\n    \n    cadena_final=''\n    if len(cadena_llamada)!=0:\n        cadena_final+=cadena_llamada[:-2]\n    elif len(cadena_op)!=0:\n        cadena_final+=cadena_op\n    elif len(cadena_var)!=0:\n        cadena_final+=cadena_var\n    elif len(cadena_cadena)!=0:\n        cadena_final+=cadena_cadena[1]\n    else:\n        nombre_var=arg\n        if dict_numeros.get(nombre_var,False):\n            nombre_var=str(dict_numeros[nombre_var])\n            \n        cadena_final+=nombre_var\n    global indentacion\n    indentacion-=1\n    return f'return {cadena_final}\\n'+'\\t'*indentacion+'|'\n",
   "execution_count": null,
   "outputs": []
  },
  {
   "cell_type": "markdown",
   "source": "pruebas crear_regresa",
   "metadata": {
    "cell_id": "7e9db6c4ebce4f3e9d0e8d5483ac1c22",
    "tags": [],
    "deepnote_cell_type": "markdown"
   }
  },
  {
   "cell_type": "code",
   "metadata": {
    "cell_id": "34bcf3f25df64109926834981f455506",
    "tags": [],
    "deepnote_to_be_reexecuted": false,
    "source_hash": "64e4fafe",
    "execution_start": 1651606788864,
    "execution_millis": 17,
    "deepnote_cell_type": "code"
   },
   "source": "test_str_return=[\n    'regresa ejecuta print con argumentos variable india producto cadena guión cadena coma cadena hola cadena coma cinco',\n    'regresa variable india',\n    'regresa variable india producto cinco',\n    'regresa cinco'\n]\n\nfor ti in test_str_return:\n    print(crear_regresa(ti))",
   "execution_count": null,
   "outputs": [
    {
     "name": "stdout",
     "text": "return print(i * \"guión\",\"hola\",5)\n|\nreturn i\n|\nreturn i * 5\n|\nreturn 5\n|\n",
     "output_type": "stream"
    }
   ]
  },
  {
   "cell_type": "markdown",
   "source": "## crear_variable",
   "metadata": {
    "cell_id": "2476f11d771f4c33adb48ea11bb4bf84",
    "id": "a57yzHlvp6mW",
    "tags": [],
    "deepnote_cell_type": "markdown"
   }
  },
  {
   "cell_type": "code",
   "metadata": {
    "cell_id": "7d72427aa6704083a9cf1e89440d025b",
    "deepnote_to_be_reexecuted": false,
    "execution_millis": 1,
    "execution_start": 1651606105383,
    "id": "Kd0ZaiKpp6mW",
    "source_hash": "b27d85d6",
    "tags": [],
    "deepnote_cell_type": "code"
   },
   "source": "def crear_variable(instruccion):\n    \"\"\"\n    Estructura:\n    definir variable con nombre [nombre_variable] igual a /*objeto_basico* valor/ \n\n    Parametros\n    ----------\n    instrucion: str\n        La intruccion de voz en texto.\n\n    Regresa\n    ---------\n    output: str\n        Codigo generado\n    recomendacion: str\n        Una sugerencia o fallo\n\n    Testing\n    -------\n    >>> definir variable con nombre india igual a numero uno\n    >>> definir variable con nombre i igual a numero 1 (int)\n    >>> definir variable con nombre i igual a flotante tres punto cinco (float) \n    >>> definir variable con nombre i igual a cadena hola (string) \n    >>> definir variable con nombre i igual a lista/dic (string)   \n    \"\"\"     \n    global indentacion\n    global bloque\n\n    bloque='variable'\n\n    # pivote que ayuda a definir el nombre de la variable\n    before_keyword, keyword, after_keyword = instruccion.partition('nombre')\n    after_keyword_list = after_keyword.strip().split(' ')\n    # [india igual a numero uno]\n    name_variable = after_keyword_list[0]\n    \n    # Como sabemos que despues del nombre va seguido de \"igual a\"\n    tipo_dato = after_keyword_list[3]        \n    #print(after_keyword_list[4:]) -> lista\n    valor = tipos_datos[tipo_dato](after_keyword_list[4:])        \n    \n    # Verificamos si es una palabra fonetica\n    if diccionario_fonetico.get(name_variable,False):\n        name_variable=diccionario_fonetico[name_variable] \n\n    codigo_generado = f'{name_variable} = {valor}\\n'+ '\\t' * indentacion + '|'\n    return codigo_generado",
   "execution_count": null,
   "outputs": []
  },
  {
   "cell_type": "markdown",
   "source": "####  Prueba para la funcion \"crear_variable\"",
   "metadata": {
    "cell_id": "a2c4ef2ffdb74edebda8bec6226db73c",
    "id": "RD_E7ALDp6mW",
    "tags": [],
    "deepnote_cell_type": "markdown"
   }
  },
  {
   "cell_type": "code",
   "metadata": {
    "cell_id": "5ba5e7a77e9b42468ec69ed0b9b2385e",
    "deepnote_to_be_reexecuted": false,
    "execution_millis": 0,
    "execution_start": 1651606105384,
    "id": "44VXIU17p6mW",
    "source_hash": "b03f696c",
    "tags": [],
    "deepnote_cell_type": "code"
   },
   "source": "test_frases_variables = [\n'definir variable con nombre india igual a numero cuatro',\n'definir variable con nombre i igual a flotante tres punto cinco',\n'definir variable con nombre i igual a cadena hola mundo',\n'definir variable con nombre i igual a lista',\n]",
   "execution_count": null,
   "outputs": []
  },
  {
   "cell_type": "code",
   "metadata": {
    "cell_id": "d6af7c7dddde4443a527753b5ff722e1",
    "deepnote_to_be_reexecuted": false,
    "execution_millis": 21,
    "execution_start": 1651606105385,
    "id": "HNGJeX4Cp6mX",
    "outputId": "1feedae6-3012-45bf-b99f-3423df8148ee",
    "source_hash": "13bb4e15",
    "tags": [],
    "deepnote_cell_type": "code"
   },
   "source": "crear_variable(test_frases_variables[0])",
   "execution_count": null,
   "outputs": [
    {
     "output_type": "execute_result",
     "execution_count": 18,
     "data": {
      "text/plain": "'i = 4\\n\\t\\t|'"
     },
     "metadata": {}
    }
   ]
  },
  {
   "cell_type": "code",
   "metadata": {
    "cell_id": "33dd65882be34381a3a305ff99878c3d",
    "deepnote_to_be_reexecuted": false,
    "execution_millis": 0,
    "execution_start": 1651606105401,
    "id": "GDBn8pujp6mX",
    "source_hash": "460c8d36",
    "tags": [],
    "deepnote_cell_type": "code"
   },
   "source": "def asignar_variable(instruccion):\n    \"\"\"    \n    Asigna una variable (eg. indio = indio + 1)\n\n    Parametros\n    ----------\n    instrucion: str\n        La intruccion de voz en texto.\n\n    Regresa\n    ---------\n    output: str\n        Codigo generado (indio = indio + 1)\n    \n    Testing\n    --------\n    >>>'asignar variable india con india suma uno',\n    >>>'asignar variable contador con contador menos uno',\n    >>>'asignar variable contador con alfa',\n    >>>'asignar variable india con india',\n    \n    \"\"\" \n   \n    before_keyword, keyword, after_keyword = instruccion.partition('variable')\n    after_keyword_list = after_keyword.strip().split(' ')\n    name_variable = after_keyword_list[0]\n    start = after_keyword_list.index('con') + 1\n    operacion = after_keyword_list[start:]\n    if len(operacion) != 1:\n        operacion_str = crear_operacion(keyword + ' ' + ' '.join(operacion))\n    else:\n        operacion_str = operacion[0]\n        # Verificamos si es una palabra fonetica para lado derecho de la \n        # asignacion\n        if diccionario_fonetico.get(operacion_str,False):\n            operacion_str=diccionario_fonetico[operacion_str] \n\n    # Verificamos si es una palabra fonetica\n    if diccionario_fonetico.get(name_variable,False):\n        name_variable=diccionario_fonetico[name_variable] \n\n    codigo_generado = f'{name_variable} = {operacion_str}\\n'+ '\\t' * indentacion + '|'\n    return codigo_generado",
   "execution_count": null,
   "outputs": []
  },
  {
   "cell_type": "markdown",
   "source": "#### Testing asignar_variable",
   "metadata": {
    "cell_id": "a7598673028840689354ce47309b7381",
    "id": "SVIpmQBPp6mX",
    "tags": [],
    "deepnote_cell_type": "markdown"
   }
  },
  {
   "cell_type": "code",
   "metadata": {
    "cell_id": "d2fa19fbbe214b468f8602383055fc35",
    "deepnote_to_be_reexecuted": false,
    "execution_millis": 20,
    "execution_start": 1651606105402,
    "id": "VwnTZ6f5p6mX",
    "outputId": "93e977fd-c904-45f8-e103-e2f642c57d11",
    "source_hash": "d006402",
    "tags": [],
    "deepnote_cell_type": "code"
   },
   "source": "test_asignar_var = [\n'asignar variable india con india suma uno',\n'asignar variable contador con contador menos uno',\n'asignar variable contador con alfa',\n'asignar variable india con india',\n]\n\nasignar_variable(test_asignar_var[1])",
   "execution_count": null,
   "outputs": [
    {
     "output_type": "execute_result",
     "execution_count": 20,
     "data": {
      "text/plain": "'contador = contador - 1\\n\\t\\t|'"
     },
     "metadata": {}
    }
   ]
  },
  {
   "cell_type": "markdown",
   "source": "# crear_for",
   "metadata": {
    "cell_id": "14a70a19b78446beb82b7b14d2b66cd0",
    "id": "3BOXLZmkp6mY",
    "tags": [],
    "deepnote_cell_type": "markdown"
   }
  },
  {
   "cell_type": "code",
   "metadata": {
    "cell_id": "28b5f12cc5dd4c6a912c32c8a239135f",
    "deepnote_to_be_reexecuted": false,
    "execution_millis": 1,
    "execution_start": 1651611331213,
    "id": "h4EyMgWGp6mY",
    "source_hash": "12de566e",
    "tags": [],
    "deepnote_cell_type": "code"
   },
   "source": "def crear_for(instruccion):\n    \"\"\"\n    Crea el template de la estructura de un ciclo for.\n\n    Parámetros\n    ----------\n    instrucción: str\n        La intrucción de voz en texto.\n\n    Regresa\n    ---------\n    output: str\n        Estructura del ciclo for\n    recomendacion: str\n        Una sugerencia o error\n    \"\"\"\n    global bloque \n    global indentacion\n    global recomendacion\n\n    bloque='for'\n    vocabulario_basico = ['iteracion', 'rango']\n\n    # verificamos si la frase cumple los requisitos\n    instruccion_tokens = instruccion.strip().split(' ')\n\n    for i in vocabulario_basico:\n        try:\n            instruccion_tokens.index(i)\n        except:\n            recomendacion = 'Parece que quieres una iteración pero no reconozco tus comandos, inténtalo de nuevo'\n            return f'', recomendacion\n\n    # guarda los avisos o recomendaciones que el programa te hace\n    recomendacion = ''\n\n    # guarda la línea de código\n    output = ''\n    \n    # pivote que ayuda a definir el rango e iterador\n    before_keyword, keyword, after_keyword = instruccion.partition('iteracion')\n\n    if after_keyword.strip().split(' ')[1] in diccionario_fonetico:\n        iterador = diccionario_fonetico[after_keyword.strip().split(' ')[1]]\n\n    else:\n        iterador = after_keyword.strip().split(' ')[1]\n\n    before_keyword, keyword, after_keyword = instruccion.partition('rango')\n\n    limites = []\n\n\n    for i, item in enumerate(after_keyword.strip().split(' ')):\n        try:\n            limites.append(dict_numeros[item])\n        except:\n            continue\n\n    if len(limites) == 0:\n        for i, item in enumerate(after_keyword.strip().split(' ')):\n            try:\n                limites.append(diccionario_fonetico[item])\n            except:\n                continue\n    \n    indentacion += 1\n\n    if len(limites) == 0:\n        return f'', 'No encontré los límites del rango, vuelve a intentarlo'\n\n    elif len(limites) == 1:\n        return f'for {iterador} in range({limites[-1]}):\\n' + '\\t' * indentacion + '|'\n\n    elif len(limites) == 2:\n        return f'for {iterador} in range({limites[0]}, {limites[1]}):\\n' + '\\t' * indentacion + '|'\n\n    elif len(limites) >= 2:\n        recomendacion = 'Me dictaste más de un número en el rango pero tomé los dos primeros'\n        return f'for {iterador} in range({limites[0]}, {limites[1]}):\\n' + '\\t' * indentacion + '|'",
   "execution_count": null,
   "outputs": []
  },
  {
   "cell_type": "markdown",
   "source": "####  Prueba para la funcion \"crear_for\"",
   "metadata": {
    "cell_id": "8a42f8d6e89246ecad1963fb8cabefee",
    "id": "XEjOnm6Kp6mY",
    "tags": [],
    "deepnote_cell_type": "markdown"
   }
  },
  {
   "cell_type": "code",
   "metadata": {
    "cell_id": "7c42ee3ff7b849b18d9b77a031d9258c",
    "deepnote_to_be_reexecuted": false,
    "execution_millis": 149,
    "execution_start": 1651611335780,
    "id": "8EnuF1Xfp6mZ",
    "outputId": "7cd6ada9-bffa-413e-bbb9-60738c032d53",
    "source_hash": "733753f7",
    "tags": [],
    "deepnote_cell_type": "code"
   },
   "source": "print(crear_for('ejecuta una iteracion para alfa en un rango de uno a dos'))\nprint(crear_for('ejecuta una iteracion para alfa en un rango de a dos'))\nprint(crear_for('ejecuta una iteracion para alfa en un rango dos'))\nprint(crear_for('ejecuta una iteracion para india en un rango cinco'))\nprint(crear_for('ejecuta una iteracion para india en un rango noviembre'))\n",
   "execution_count": null,
   "outputs": [
    {
     "name": "stdout",
     "text": "for a in range(1, 2):\n\t\t\t\t\t\t|\nfor a in range(2):\n\t\t\t\t\t\t\t|\nfor a in range(2):\n\t\t\t\t\t\t\t\t|\nfor i in range(5):\n\t\t\t\t\t\t\t\t\t|\nfor i in range(n):\n\t\t\t\t\t\t\t\t\t\t|\n",
     "output_type": "stream"
    }
   ]
  },
  {
   "cell_type": "markdown",
   "source": "Propuestas:\n\n- **para** alfa **en** un **rango** de uno a dos",
   "metadata": {
    "cell_id": "02d5ee3bfc9d4391af148b946d3e84e8",
    "id": "EqTS-Wnap6mZ",
    "tags": [],
    "deepnote_cell_type": "markdown"
   }
  },
  {
   "cell_type": "markdown",
   "source": "## crear_comentario",
   "metadata": {
    "cell_id": "d507132e580e498882aff4d5eb2d9dfe",
    "tags": [],
    "deepnote_cell_type": "markdown"
   }
  },
  {
   "cell_type": "code",
   "metadata": {
    "cell_id": "fb8e3b2fbff1409cb3ecde2c4ee9bf11",
    "tags": [],
    "deepnote_to_be_reexecuted": false,
    "source_hash": "b343c9c1",
    "execution_start": 1651610487959,
    "execution_millis": 0,
    "deepnote_cell_type": "code"
   },
   "source": "def crear_comentario(instruccion):\n    \"\"\"\n    Agrega el comentario de la intrucción en una línea de código\n\n    Parámetros\n    ----------\n    instrucción: str\n        La intrucción de voz en texto.\n\n    Regresa\n    ---------\n    output: str\n        Comentario\n    \"\"\"\n\n    global bloque \n    global indentacion\n\n    # guarda los avisos o recomendaciones que el programa te hace\n    recomendacion = ''\n\n    # guarda la línea de código\n    output = ''\n\n    before_keyword, keyword, after_keyword = instruccion.partition('comentario')\n\n    return '# ' + after_keyword + '\\n' + '\\t' * indentacion + '|'",
   "execution_count": null,
   "outputs": []
  },
  {
   "cell_type": "code",
   "metadata": {
    "cell_id": "52d260b2b7ee492081175bf8df52774b",
    "tags": [],
    "deepnote_to_be_reexecuted": false,
    "source_hash": "12013d97",
    "execution_start": 1651610488911,
    "execution_millis": 629,
    "deepnote_cell_type": "code"
   },
   "source": "print(crear_comentario('agregar comentario esta funcion comenta muy bien!'))",
   "execution_count": null,
   "outputs": [
    {
     "name": "stdout",
     "text": "#  esta funcion comenta muy bien!\n|\n",
     "output_type": "stream"
    }
   ]
  },
  {
   "cell_type": "markdown",
   "source": "## Fin de bloque",
   "metadata": {
    "cell_id": "0ea55918bb6b47b194f8ad8bb20248ad",
    "tags": [],
    "deepnote_cell_type": "markdown"
   }
  },
  {
   "cell_type": "code",
   "metadata": {
    "cell_id": "1dcb8409785448d497f8ddf335ddbe8c",
    "tags": [],
    "deepnote_to_be_reexecuted": false,
    "source_hash": "1f0da342",
    "execution_start": 1651609320038,
    "execution_millis": 0,
    "owner_user_id": "b7f90450-0770-40af-820a-2f5d5913daed",
    "deepnote_cell_type": "code"
   },
   "source": "def fin_de_bloque(transcripcion):\n  global indentacion\n  global bloque\n  bloque='fin'\n\n\n  indentacion=indentacion-1\n\n  return ''",
   "execution_count": null,
   "outputs": []
  },
  {
   "cell_type": "markdown",
   "source": "### Funciones pendientes",
   "metadata": {
    "cell_id": "bc9fe03eb3f44b81b0b394779500b37f",
    "id": "_OKvcZIsp6ma",
    "tags": [],
    "deepnote_cell_type": "markdown"
   }
  },
  {
   "cell_type": "code",
   "metadata": {
    "cell_id": "44b38695ad0846dcb2759b6e3d4481ce",
    "deepnote_to_be_reexecuted": false,
    "execution_millis": 1,
    "execution_start": 1651606105442,
    "id": "68JUT-kCp6ma",
    "source_hash": "62e8b3a7",
    "tags": [],
    "deepnote_cell_type": "code"
   },
   "source": "def crear_clase():\n    global indentacion\n    # ....\n    \n    indentacion += 1\n    pass    ",
   "execution_count": null,
   "outputs": []
  },
  {
   "cell_type": "markdown",
   "source": "<a style='text-decoration:none;line-height:16px;display:flex;color:#5B5B62;padding:10px;justify-content:end;' href='https://deepnote.com?utm_source=created-in-deepnote-cell&projectId=17740a58-e960-4de3-bb66-1575286930f1' target=\"_blank\">\n<img alt='Created in deepnote.com' style='display:inline;max-height:16px;margin:0px;margin-right:7.5px;' src='data:image/svg+xml;base64,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' > </img>\nCreated in <span style='font-weight:600;margin-left:4px;'>Deepnote</span></a>",
   "metadata": {
    "tags": [],
    "created_in_deepnote_cell": true,
    "deepnote_cell_type": "markdown"
   }
  }
 ],
 "nbformat": 4,
 "nbformat_minor": 0,
 "metadata": {
  "colab": {
   "name": "plantillas_codigo.ipynb",
   "provenance": []
  },
  "deepnote": {},
  "deepnote_execution_queue": [],
  "deepnote_notebook_id": "a6ed14c8-ed7f-4c18-907c-5548096489f7",
  "interpreter": {
   "hash": "684b1123683431d89d3bfe9a89cc763215f4b8cd94b4aba1fb40ad45ff7c8b41"
  },
  "kernelspec": {
   "display_name": "Python 3.7.9 64-bit",
   "language": "python",
   "name": "python3"
  },
  "language_info": {
   "codemirror_mode": {
    "name": "ipython",
    "version": 3
   },
   "file_extension": ".py",
   "mimetype": "text/x-python",
   "name": "python",
   "nbconvert_exporter": "python",
   "pygments_lexer": "ipython3",
   "version": "3.7.9"
  },
  "orig_nbformat": 2
 }
}