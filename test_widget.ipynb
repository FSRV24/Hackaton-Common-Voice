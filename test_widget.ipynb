{
 "cells": [
  {
   "cell_type": "markdown",
   "metadata": {
    "tags": [],
    "cell_id": "66cd885d-fde1-4613-ab5f-8c43c4e8094d",
    "deepnote_cell_type": "markdown",
    "deepnote_cell_height": 69.53334045410156
   },
   "source": "## Probando la aplicación con widget",
   "execution_count": null
  },
  {
   "cell_type": "code",
   "source": "!pip install ipywebrtc",
   "metadata": {
    "cell_id": "dd0bdd412ffa469884dfb5807f77b7c7",
    "tags": [],
    "deepnote_cell_type": "code",
    "deepnote_cell_height": 65.53334045410156
   },
   "outputs": [],
   "execution_count": null
  },
  {
   "cell_type": "code",
   "source": "from google.colab import output\noutput.enable_custom_widget_manager()",
   "metadata": {
    "cell_id": "4a24343d5225451b8e5c2445022195e0",
    "tags": [],
    "deepnote_cell_type": "code",
    "deepnote_cell_height": 83.53334045410156
   },
   "outputs": [],
   "execution_count": null
  },
  {
   "cell_type": "code",
   "source": "from ipywebrtc import AudioRecorder, CameraStream\nfrom IPython.display import Audio\n\ncamera = CameraStream(constraints={'audio': True,'video':False})\nrecorder = AudioRecorder(stream=camera)\nrecorder",
   "metadata": {
    "cell_id": "501ce51f866646bf9f99edd291057fa4",
    "tags": [],
    "deepnote_cell_type": "code",
    "deepnote_cell_height": 155.53334045410156
   },
   "outputs": [],
   "execution_count": null
  },
  {
   "cell_type": "markdown",
   "source": "Reescribir audio ahora en formato .wav",
   "metadata": {
    "cell_id": "7be62705eab44519af1733efc742656f",
    "tags": [],
    "deepnote_cell_type": "markdown",
    "deepnote_cell_height": 51.93333435058594
   },
   "outputs": [],
   "execution_count": null
  },
  {
   "cell_type": "code",
   "source": "# Escribe el formato en webm\nwith open('test_audio_avitua_linea5.webm', 'wb') as f:\n    f.write(recorder.audio.value)\n\n# Convierte en webm -> wav\n!ffmpeg -i test_audio_avitua_linea5.webm -ac 1 -f wav test_audio_avitua_linea5.wav -y -hide_banner -loglevel panic",
   "metadata": {
    "cell_id": "81e7a1363cdc446c8439e6053486faf3",
    "tags": [],
    "deepnote_cell_type": "code",
    "deepnote_cell_height": 155.53334045410156
   },
   "outputs": [],
   "execution_count": null
  },
  {
   "cell_type": "markdown",
   "source": "## Modelo",
   "metadata": {
    "cell_id": "69a324f9bcab48e8ae176ec36223b85d",
    "tags": [],
    "deepnote_cell_type": "markdown",
    "deepnote_cell_height": 69.53334045410156
   },
   "outputs": [],
   "execution_count": null
  },
  {
   "cell_type": "code",
   "source": "audio_paths = [\"test_audio_avitua_linea4.wav\"]\n\n# Obtenemos la frase del usuario\ntranscriptions_es = model.transcribe(audio_paths)[0]\n# Obtener la frase\ntranscriptions_es['transcription']",
   "metadata": {
    "cell_id": "bb765e58d60a413686906125e746734f",
    "tags": [],
    "deepnote_cell_type": "code",
    "deepnote_cell_height": 155.53334045410156
   },
   "outputs": [],
   "execution_count": null
  },
  {
   "cell_type": "markdown",
   "source": "## Tests ",
   "metadata": {
    "cell_id": "e52d7e7843ae42e3962e247be57ad805",
    "tags": [],
    "deepnote_cell_type": "markdown",
    "deepnote_cell_height": 69.53334045410156
   },
   "outputs": [],
   "execution_count": null
  },
  {
   "cell_type": "code",
   "source": "voice1 = 'definir variable con nombre india igual a número uno'\nvoice2 = 'mientras india sea menoro igual a número seis'\nvoice3 = 'imprime india producto cadena guion'\nvoice4 = 'definir variable con nombre india igual a india más uno'",
   "metadata": {
    "cell_id": "2753626fbbb8465fb6975efa70988466",
    "tags": [],
    "deepnote_cell_type": "code",
    "deepnote_cell_height": 119.53334045410156
   },
   "outputs": [],
   "execution_count": null
  },
  {
   "cell_type": "markdown",
   "source": "Para no usar la interfaz de usuario podemos simplementar llamar la funcion:",
   "metadata": {
    "cell_id": "e17d43fb50a146e0bfb3f933fe74d897",
    "tags": [],
    "deepnote_to_be_reexecuted": false,
    "source_hash": "a01e5d0",
    "execution_start": 1651507848237,
    "execution_millis": 2,
    "deepnote_cell_type": "markdown",
    "deepnote_cell_height": 51.93333435058594
   },
   "outputs": [],
   "execution_count": 1
  },
  {
   "cell_type": "markdown",
   "source": "",
   "metadata": {
    "cell_id": "f3bb91c7e3584d108bc2fb1d7447c0c3",
    "tags": [],
    "owner_user_id": "e0c6afe4-99d0-40b0-b8eb-7b5ca2d084e6",
    "deepnote_cell_type": "markdown",
    "deepnote_cell_height": 45.53334045410156
   }
  },
  {
   "cell_type": "markdown",
   "source": "<a style='text-decoration:none;line-height:16px;display:flex;color:#5B5B62;padding:10px;justify-content:end;' href='https://deepnote.com?utm_source=created-in-deepnote-cell&projectId=17740a58-e960-4de3-bb66-1575286930f1' target=\"_blank\">\n<img alt='Created in deepnote.com' style='display:inline;max-height:16px;margin:0px;margin-right:7.5px;' src='data:image/svg+xml;base64,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' > </img>\nCreated in <span style='font-weight:600;margin-left:4px;'>Deepnote</span></a>",
   "metadata": {
    "tags": [],
    "created_in_deepnote_cell": true,
    "deepnote_cell_type": "markdown"
   }
  }
 ],
 "nbformat": 4,
 "nbformat_minor": 2,
 "metadata": {
  "orig_nbformat": 2,
  "deepnote": {},
  "deepnote_notebook_id": "48093b23-b274-4fd2-9ddf-564ec1fa616f",
  "deepnote_execution_queue": []
 }
}