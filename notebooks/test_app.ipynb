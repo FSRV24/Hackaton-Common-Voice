{
 "cells": [
  {
   "cell_type": "markdown",
   "source": "## Test funcionalidad de la aplicación",
   "metadata": {
    "tags": [],
    "id": "gWkAXqMcP2h7",
    "cell_id": "00015-d4bc2881-d9cb-4db2-8e7c-eaa358308d5e",
    "deepnote_cell_type": "markdown",
    "deepnote_cell_height": 70
   }
  },
  {
   "cell_type": "markdown",
   "source": "### Probando frase 1",
   "metadata": {
    "tags": [],
    "id": "3TGmC5kGP2h7",
    "cell_id": "00016-b411287d-9839-45cd-8a57-b48c2b1e5151",
    "deepnote_cell_type": "markdown",
    "deepnote_cell_height": 62
   }
  },
  {
   "cell_type": "code",
   "metadata": {
    "tags": [],
    "deepnote_to_be_reexecuted": false,
    "source_hash": "11269a85",
    "execution_start": 1651461355117,
    "execution_millis": 5,
    "colab": {
     "base_uri": "https://localhost:8080/"
    },
    "id": "K1tKg2E5P2h8",
    "outputId": "1da75b69-e2a8-406b-eee3-4f94e64e78d6",
    "cell_id": "00017-7fe8c53b-3123-49e7-9ef6-b00fff0de5d2",
    "deepnote_cell_type": "code",
    "deepnote_cell_height": 320
   },
   "source": "# Probando cuando se desea crear una funcion\ncodigo_generado, sugerencia = main2('Definir funcion con nombre saludar y parametros mensaje')\nprint('Codigo generado')\nprint(codigo_generado)\nprint('---------------')\nprint('Sugerencia')\nprint(sugerencia)",
   "execution_count": null,
   "outputs": [
    {
     "output_type": "stream",
     "name": "stdout",
     "text": "Codigo generado\ndef saludar(mensaje):\n\t\t\t\n---------------\nSugerencia\n\n"
    }
   ]
  },
  {
   "cell_type": "markdown",
   "source": "El valor de la variable de `codigo_generado` es que se mandara a la interfaz del usuario.",
   "metadata": {
    "tags": [],
    "id": "0KO812mwP2h8",
    "cell_id": "00018-2319f3fe-c554-41e8-bded-5088add46428",
    "deepnote_cell_type": "markdown",
    "deepnote_cell_height": 52.390625
   }
  },
  {
   "cell_type": "markdown",
   "source": "### Probando frase 2",
   "metadata": {
    "tags": [],
    "id": "83GDWDTrP2h8",
    "cell_id": "00019-f690678e-1671-4ddf-936f-e56e5cbb3d71",
    "deepnote_cell_type": "markdown",
    "deepnote_cell_height": 62
   }
  },
  {
   "cell_type": "code",
   "metadata": {
    "tags": [],
    "colab": {
     "base_uri": "https://localhost:8080/"
    },
    "id": "O8x-YkDHP2h8",
    "outputId": "17f48dd6-1d7d-4190-8c88-bb80a2029b8f",
    "cell_id": "00020-3861eed5-a3e9-42bb-bcc7-ad463d509cb4",
    "deepnote_cell_type": "code",
    "deepnote_cell_height": 338
   },
   "source": "# Probando cuando se desea crear una funcion\nvoice1 = 'definir variable con nombre india igual a número uno'\ncodigo_generado, sugerencia = main2(voice1)\nprint('Codigo generado')\nprint(codigo_generado)\nprint('---------------')\nprint('Sugerencia')\nprint(sugerencia)",
   "execution_count": null,
   "outputs": [
    {
     "output_type": "stream",
     "name": "stdout",
     "text": "Codigo generado\ndef saludar(mensaje):\n\t\t\t\n---------------\nSugerencia\n\n"
    }
   ]
  },
  {
   "cell_type": "code",
   "metadata": {
    "tags": [],
    "deepnote_to_be_reexecuted": false,
    "source_hash": "7a458162",
    "execution_start": 1651469125921,
    "execution_millis": 9,
    "id": "Ici2sHZFP2iC",
    "cell_id": "00026-818b6607-2709-46fd-84fe-f568631f2dce",
    "deepnote_cell_type": "code",
    "deepnote_cell_height": 99
   },
   "source": "#main2('mientras variable india es menor o igual a seis')\n#main2('definir variable con nombre india igual a numero cinco')",
   "execution_count": null,
   "outputs": []
  },
  {
   "cell_type": "markdown",
   "source": "## Programas que puede hacer ",
   "metadata": {
    "cell_id": "6c27e03dd217447f88f54cafd41a0585",
    "tags": [],
    "deepnote_cell_type": "markdown",
    "deepnote_cell_height": 70
   }
  },
  {
   "cell_type": "code",
   "metadata": {
    "cell_id": "0bde0e68daca40d09a27dc28a6899e52",
    "tags": [],
    "deepnote_to_be_reexecuted": false,
    "source_hash": "f7fba3b4",
    "execution_start": 1651606666735,
    "execution_millis": 12,
    "deepnote_cell_type": "code",
    "deepnote_cell_height": 190.1875,
    "deepnote_output_heights": [
     21.1875
    ]
   },
   "source": "def saludar(nombre):\n    mensaje = \"Hola\" + \" \" + nombre\n    return mensaje\n\nsaludar('Fer')",
   "execution_count": 2,
   "outputs": [
    {
     "output_type": "execute_result",
     "execution_count": 2,
     "data": {
      "text/plain": "'Hola Fer'"
     },
     "metadata": {}
    }
   ]
  },
  {
   "cell_type": "code",
   "metadata": {
    "cell_id": "f8c39499a9e14efbbc32aeb919f61b62",
    "tags": [],
    "owner_user_id": "e0c6afe4-99d0-40b0-b8eb-7b5ca2d084e6",
    "deepnote_cell_type": "code",
    "deepnote_cell_height": 156
   },
   "source": "grabaciones = [\n    'definir funcion con nombre saludar y parametro nombre',\n    'asignar variable mensaje cadena hola cadena mas cadena espacio blanco cadena mas nombre,\n    'regresar mensaje',\n    'ejecutar saludar con parametros cadena fer cadena'\n]",
   "execution_count": null,
   "outputs": []
  },
  {
   "cell_type": "markdown",
   "source": "### Comandos\n\n1. definir funcion con nombre saludar y parametros nombre\n2. asignar variable con nombre india igual a cadena hola cadena mas espacio mas nombre\n3. regresa mensaje\n4. ejecuta saludar con argumentos cadena fer cadena",
   "metadata": {
    "cell_id": "49438672e05741cc9102a25e8d5e9396",
    "tags": [],
    "deepnote_cell_type": "markdown",
    "deepnote_cell_height": 190.59375
   }
  },
  {
   "cell_type": "code",
   "metadata": {
    "cell_id": "bf8b2f7a4dc048e6b965e0b1d6d8e6b0",
    "tags": [],
    "deepnote_cell_type": "code",
    "deepnote_cell_height": 66
   },
   "source": "",
   "execution_count": null,
   "outputs": []
  },
  {
   "cell_type": "code",
   "metadata": {
    "cell_id": "22bc74aa50d244f39e7280b2f2a72fed",
    "tags": [],
    "deepnote_to_be_reexecuted": false,
    "source_hash": "e58e0c6a",
    "execution_start": 1651611361779,
    "execution_millis": 100,
    "deepnote_cell_type": "code",
    "deepnote_cell_height": 117,
    "deepnote_output_heights": [
     251.59375,
     606.1875,
     606.1875
    ]
   },
   "source": "%%capture\n%run \"plantillas_codigo.ipynb\"\n%run \"model.ipynb\"",
   "execution_count": 107,
   "outputs": []
  },
  {
   "cell_type": "code",
   "metadata": {
    "cell_id": "6f7ae91aebb646afa5350706f9218835",
    "tags": [],
    "deepnote_to_be_reexecuted": false,
    "source_hash": "433d5ad9",
    "execution_start": 1651611366021,
    "execution_millis": 1,
    "deepnote_cell_type": "code",
    "deepnote_cell_height": 567
   },
   "source": "# Funcion que devuelve el numero \ndef fib(n):\n    a=0\n    b=1\n    for i in range(n):\n        c=b\n        b=a+b\n        a=c\n    return a\n\nfib(10)\n\n# Poner el diccionario fonético completo\n# cambiar print por ¿imprimir?\ninstrucciones=[\n'agregar comentario Funcion que devuelve el numero',\n'definir funcion con nombre magica y parametros n',\n'definir variable con nombre alfa igual a numero cero',\n'definir variable con nombre bravo igual a numero uno',\n'ejecuta una iteracion para india en un rango noviembre',\n'asignar variable carlos con bravo',\n'asignar variable bravo con alfa mas bravo',\n'asignar variable alfa con carlos',\n'terminar bloque',\n'regresa variable alfa',\n'ejecuta fib con argumentos diez'\n]\n",
   "execution_count": 108,
   "outputs": []
  },
  {
   "cell_type": "code",
   "metadata": {
    "cell_id": "bdf1c75879f74bca80f6ddcada251d57",
    "tags": [],
    "deepnote_to_be_reexecuted": false,
    "source_hash": "6b0d5d3b",
    "execution_start": 1651611367331,
    "execution_millis": 4,
    "deepnote_cell_type": "code",
    "deepnote_cell_height": 530
   },
   "source": "for instruccion in instrucciones:\n    print(main(instruccion))",
   "execution_count": 109,
   "outputs": [
    {
     "name": "stdout",
     "text": "#  Funcion que devuelve el numero\n\t|\ndef magica(n):\n\t\t|\na = 0\n\t\t|\nb = 1\n\t\t|\nfor i in range(n):\n\t\t\t|\nc = b\n\t\t\t|\nb = a + b\n\t\t\t|\na = c\n\t\t\t|\n\nreturn a\n\t|\nfib(10)\n\t|\n",
     "output_type": "stream"
    }
   ]
  },
  {
   "cell_type": "code",
   "metadata": {
    "cell_id": "29606d185397479885d3756319d125c9",
    "tags": [],
    "deepnote_to_be_reexecuted": false,
    "source_hash": "342fe937",
    "execution_start": 1651610097891,
    "execution_millis": 8,
    "owner_user_id": "0c4dcfb5-18e5-4741-8d58-1d382d2f5d7d",
    "deepnote_cell_type": "code",
    "deepnote_cell_height": 690,
    "deepnote_output_heights": [
     21.1875,
     194
    ]
   },
   "source": "indentacion=0\nprint(crear_funcion(instrucciones[0]))\nprint(crear_variable(instrucciones[1]))\nprint(crear_variable(instrucciones[2]))\nprint(crear_for(instrucciones[3]))\nprint(asignar_variable(instrucciones[4]))\nprint(asignar_variable(instrucciones[5]))\nprint(asignar_variable(instrucciones[6]))\nprint(fin_de_bloque(instrucciones[7]))\nprint(indentacion*'\\t'+'|')\nprint(crear_regresa(instrucciones[8]))\nprint(crear_llamada(instrucciones[9]))",
   "execution_count": 80,
   "outputs": [
    {
     "name": "stdout",
     "text": "def magica(n):\n\t|\na = 0\n\t|\nbeta = 1\n\t|\nfor i in range(n):\n\t\t|\ncharlie = beta\n\t\t|\nbeta = a + beta\n\t\t|\na = charlie\n\t\t|\n\n\t|\nreturn a\n|\nfib(10)\n|\n",
     "output_type": "stream"
    }
   ]
  },
  {
   "cell_type": "code",
   "metadata": {
    "cell_id": "92d2be2b0ccc476d9b0179b1c58b7ea6",
    "tags": [],
    "deepnote_cell_type": "code",
    "deepnote_cell_height": 246
   },
   "source": "# Paridad de un numero\ndef paridad(x):\n    if x % 2 == 0:\n        return \"Es par\"\n    else:\n        return \"Es impar\"\n\ninstrucciones_par = [\n    'definir funcion con nombre paridad y parametros x',\n    ''\n]",
   "execution_count": null,
   "outputs": []
  },
  {
   "cell_type": "code",
   "metadata": {
    "cell_id": "63ba061bd0224acab6c1b568cb91b2a7",
    "tags": [],
    "deepnote_cell_type": "code",
    "deepnote_cell_height": 210
   },
   "source": "## Fizbuzz\nfor fizzbuzz in range(10):\n    if fizzbuzz % 3 == 0 and fizzbuzz % 5 == 0:\n        print(\"fizzbuzz\")        \n    elif fizzbuzz % 3 == 0:\n        print(\"fizz\")        \n    elif fizzbuzz % 5 == 0:\n        print(\"buzz\")        \n    print(fizzbuzz)",
   "execution_count": null,
   "outputs": []
  },
  {
   "cell_type": "markdown",
   "source": "<a style='text-decoration:none;line-height:16px;display:flex;color:#5B5B62;padding:10px;justify-content:end;' href='https://deepnote.com?utm_source=created-in-deepnote-cell&projectId=17740a58-e960-4de3-bb66-1575286930f1' target=\"_blank\">\n<img alt='Created in deepnote.com' style='display:inline;max-height:16px;margin:0px;margin-right:7.5px;' src='data:image/svg+xml;base64,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' > </img>\nCreated in <span style='font-weight:600;margin-left:4px;'>Deepnote</span></a>",
   "metadata": {
    "tags": [],
    "created_in_deepnote_cell": true,
    "deepnote_cell_type": "markdown"
   }
  }
 ],
 "nbformat": 4,
 "nbformat_minor": 0,
 "metadata": {
  "colab": {
   "name": "Hackaton_v2_nuevo.ipynb",
   "provenance": [],
   "collapsed_sections": []
  },
  "kernelspec": {
   "name": "python3",
   "display_name": "Python 3"
  },
  "language_info": {
   "name": "python"
  },
  "widgets": {
   "application/vnd.jupyter.widget-state+json": {
    "c22e7ee8f1a94a0999586816be52d8a1": {
     "model_module": "jupyter-webrtc",
     "model_name": "AudioRecorderModel",
     "model_module_version": "~0.6.0",
     "state": {
      "_data_src": "blob:https://6tf5blygfu-496ff2e9c6d22116-0-colab.googleusercontent.com/7a75ca24-c713-4712-87df-b3efc760386c",
      "_dom_classes": [],
      "_model_module": "jupyter-webrtc",
      "_model_module_version": "~0.6.0",
      "_model_name": "AudioRecorderModel",
      "_view_count": null,
      "_view_module": "jupyter-webrtc",
      "_view_module_version": "~0.6.0",
      "_view_name": "AudioRecorderView",
      "audio": "IPY_MODEL_dd16ad71e89545498b39fe46141e66b2",
      "autosave": false,
      "codecs": "",
      "filename": "record",
      "format": "webm",
      "layout": "IPY_MODEL_2ee5f2fcf8cd4d1a9cf32ace3fc6b89e",
      "recording": false,
      "stream": "IPY_MODEL_48b341ff9794453fb99a356008ac6d60"
     }
    },
    "dd16ad71e89545498b39fe46141e66b2": {
     "model_module": "@jupyter-widgets/controls",
     "model_name": "AudioModel",
     "model_module_version": "1.5.0",
     "state": {
      "_dom_classes": [],
      "_model_module": "@jupyter-widgets/controls",
      "_model_module_version": "1.5.0",
      "_model_name": "AudioModel",
      "_view_count": null,
      "_view_module": "@jupyter-widgets/controls",
      "_view_module_version": "1.5.0",
      "_view_name": "AudioView",
      "autoplay": true,
      "controls": true,
      "format": "webm",
      "layout": "IPY_MODEL_3592dc1d250d48ce85644450c493b8a8",
      "loop": true
     }
    },
    "2ee5f2fcf8cd4d1a9cf32ace3fc6b89e": {
     "model_module": "@jupyter-widgets/base",
     "model_name": "LayoutModel",
     "model_module_version": "1.2.0",
     "state": {
      "_model_module": "@jupyter-widgets/base",
      "_model_module_version": "1.2.0",
      "_model_name": "LayoutModel",
      "_view_count": null,
      "_view_module": "@jupyter-widgets/base",
      "_view_module_version": "1.2.0",
      "_view_name": "LayoutView",
      "align_content": null,
      "align_items": null,
      "align_self": null,
      "border": null,
      "bottom": null,
      "display": null,
      "flex": null,
      "flex_flow": null,
      "grid_area": null,
      "grid_auto_columns": null,
      "grid_auto_flow": null,
      "grid_auto_rows": null,
      "grid_column": null,
      "grid_gap": null,
      "grid_row": null,
      "grid_template_areas": null,
      "grid_template_columns": null,
      "grid_template_rows": null,
      "height": null,
      "justify_content": null,
      "justify_items": null,
      "left": null,
      "margin": null,
      "max_height": null,
      "max_width": null,
      "min_height": null,
      "min_width": null,
      "object_fit": null,
      "object_position": null,
      "order": null,
      "overflow": null,
      "overflow_x": null,
      "overflow_y": null,
      "padding": null,
      "right": null,
      "top": null,
      "visibility": null,
      "width": null
     }
    },
    "48b341ff9794453fb99a356008ac6d60": {
     "model_module": "jupyter-webrtc",
     "model_name": "CameraStreamModel",
     "model_module_version": "~0.6.0",
     "state": {
      "_dom_classes": [],
      "_model_module": "jupyter-webrtc",
      "_model_module_version": "~0.6.0",
      "_model_name": "CameraStreamModel",
      "_view_count": null,
      "_view_module": "jupyter-webrtc",
      "_view_module_version": "~0.6.0",
      "_view_name": "MediaStreamView",
      "constraints": {
       "audio": true,
       "video": false
      },
      "layout": "IPY_MODEL_056663a4d44d40ad91efd27824e35fbd"
     }
    },
    "3592dc1d250d48ce85644450c493b8a8": {
     "model_module": "@jupyter-widgets/base",
     "model_name": "LayoutModel",
     "model_module_version": "1.2.0",
     "state": {
      "_model_module": "@jupyter-widgets/base",
      "_model_module_version": "1.2.0",
      "_model_name": "LayoutModel",
      "_view_count": null,
      "_view_module": "@jupyter-widgets/base",
      "_view_module_version": "1.2.0",
      "_view_name": "LayoutView",
      "align_content": null,
      "align_items": null,
      "align_self": null,
      "border": null,
      "bottom": null,
      "display": null,
      "flex": null,
      "flex_flow": null,
      "grid_area": null,
      "grid_auto_columns": null,
      "grid_auto_flow": null,
      "grid_auto_rows": null,
      "grid_column": null,
      "grid_gap": null,
      "grid_row": null,
      "grid_template_areas": null,
      "grid_template_columns": null,
      "grid_template_rows": null,
      "height": null,
      "justify_content": null,
      "justify_items": null,
      "left": null,
      "margin": null,
      "max_height": null,
      "max_width": null,
      "min_height": null,
      "min_width": null,
      "object_fit": null,
      "object_position": null,
      "order": null,
      "overflow": null,
      "overflow_x": null,
      "overflow_y": null,
      "padding": null,
      "right": null,
      "top": null,
      "visibility": null,
      "width": null
     }
    },
    "056663a4d44d40ad91efd27824e35fbd": {
     "model_module": "@jupyter-widgets/base",
     "model_name": "LayoutModel",
     "model_module_version": "1.2.0",
     "state": {
      "_model_module": "@jupyter-widgets/base",
      "_model_module_version": "1.2.0",
      "_model_name": "LayoutModel",
      "_view_count": null,
      "_view_module": "@jupyter-widgets/base",
      "_view_module_version": "1.2.0",
      "_view_name": "LayoutView",
      "align_content": null,
      "align_items": null,
      "align_self": null,
      "border": null,
      "bottom": null,
      "display": null,
      "flex": null,
      "flex_flow": null,
      "grid_area": null,
      "grid_auto_columns": null,
      "grid_auto_flow": null,
      "grid_auto_rows": null,
      "grid_column": null,
      "grid_gap": null,
      "grid_row": null,
      "grid_template_areas": null,
      "grid_template_columns": null,
      "grid_template_rows": null,
      "height": null,
      "justify_content": null,
      "justify_items": null,
      "left": null,
      "margin": null,
      "max_height": null,
      "max_width": null,
      "min_height": null,
      "min_width": null,
      "object_fit": null,
      "object_position": null,
      "order": null,
      "overflow": null,
      "overflow_x": null,
      "overflow_y": null,
      "padding": null,
      "right": null,
      "top": null,
      "visibility": null,
      "width": null
     }
    }
   }
  },
  "deepnote_notebook_id": "d671daca-0895-4060-8362-95a52bd498a4",
  "deepnote": {},
  "deepnote_execution_queue": []
 }
}