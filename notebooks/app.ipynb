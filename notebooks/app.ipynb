{
 "cells": [
  {
   "cell_type": "markdown",
   "source": "<a href=\"https://colab.research.google.com/github/gandres-dev/Hackaton-Common-Voice/blob/master/app.ipynb\" target=\"_parent\"><img src=\"https://colab.research.google.com/assets/colab-badge.svg\" alt=\"Open In Colab\"/></a>",
   "metadata": {
    "cell_id": "424a42ce-55c8-4017-bd18-de7880debd38",
    "id": "view-in-github",
    "deepnote_cell_type": "markdown",
    "deepnote_cell_height": 89.53334045410156
   }
  },
  {
   "cell_type": "code",
   "metadata": {
    "cell_id": "00001-50dbeb83-8dfc-402c-98c7-f443e0a8d700",
    "colab": {
     "base_uri": "https://localhost:8080/"
    },
    "deepnote_to_be_reexecuted": false,
    "executionInfo": {
     "elapsed": 857,
     "status": "ok",
     "timestamp": 1651599043091,
     "user": {
      "displayName": "Fernando Avitúa Varela",
      "userId": "10816756260962357353"
     },
     "user_tz": 300
    },
    "execution_millis": 107,
    "execution_start": 1651527574614,
    "id": "CGDYGyjWKYHI",
    "outputId": "4d45b0d4-2b1c-483a-8600-2c44719b9705",
    "source_hash": "2023676d",
    "deepnote_cell_type": "code",
    "deepnote_cell_height": 184.46665954589844
   },
   "source": "from google.colab import drive\ndrive.mount('/gdrive')\n%cd /gdrive/MyDrive/LCD/Semestre 7/Hackathon Lenguas Indígenas/Proyecto Hackathon/Hackaton-Common-Voice\n",
   "execution_count": null,
   "outputs": [
    {
     "name": "stdout",
     "output_type": "stream",
     "text": "Drive already mounted at /gdrive; to attempt to forcibly remount, call drive.mount(\"/gdrive\", force_remount=True).\n/gdrive/MyDrive/LCD/Semestre 7/Hackathon Lenguas Indígenas/Proyecto Hackathon/Hackaton-Common-Voice\n"
    }
   ]
  },
  {
   "cell_type": "code",
   "metadata": {
    "cell_id": "00002-b400d648-6921-4b63-bccc-6d8185d4a069",
    "colab": {
     "base_uri": "https://localhost:8080/"
    },
    "deepnote_to_be_reexecuted": false,
    "executionInfo": {
     "elapsed": 6447,
     "status": "ok",
     "timestamp": 1651599049536,
     "user": {
      "displayName": "Fernando Avitúa Varela",
      "userId": "10816756260962357353"
     },
     "user_tz": 300
    },
    "execution_millis": 5233,
    "execution_start": 1651527956768,
    "id": "bFMScB76LjzK",
    "outputId": "07f493b0-2f2c-46bc-9814-191c20766ccd",
    "source_hash": "7958d4a9",
    "deepnote_cell_type": "code",
    "deepnote_cell_height": 700.2999877929688
   },
   "source": "!pip install -r requirements.txt",
   "execution_count": null,
   "outputs": [
    {
     "name": "stdout",
     "output_type": "stream",
     "text": "Requirement already satisfied: transformers==4.18.0 in /usr/local/lib/python3.7/dist-packages (from -r requirements.txt (line 1)) (4.18.0)\nRequirement already satisfied: huggingsound in /usr/local/lib/python3.7/dist-packages (from -r requirements.txt (line 2)) (0.1.2)\nRequirement already satisfied: ipywebrtc in /usr/local/lib/python3.7/dist-packages (from -r requirements.txt (line 3)) (0.6.0)\nRequirement already satisfied: ipywidgets==7.7.0 in /usr/local/lib/python3.7/dist-packages (from -r requirements.txt (line 4)) (7.7.0)\nRequirement already satisfied: torchaudio==0.11.0 in /usr/local/lib/python3.7/dist-packages (from -r requirements.txt (line 6)) (0.11.0+cu113)\nRequirement already satisfied: gradio in /usr/local/lib/python3.7/dist-packages (from -r requirements.txt (line 7)) (2.9.4)\nRequirement already satisfied: unidecode in /usr/local/lib/python3.7/dist-packages (from -r requirements.txt (line 9)) (1.3.4)\nRequirement already satisfied: pyyaml>=5.1 in /usr/local/lib/python3.7/dist-packages (from transformers==4.18.0->-r requirements.txt (line 1)) (6.0)\nRequirement already satisfied: packaging>=20.0 in /usr/local/lib/python3.7/dist-packages (from transformers==4.18.0->-r requirements.txt (line 1)) (21.3)\nRequirement already satisfied: huggingface-hub<1.0,>=0.1.0 in /usr/local/lib/python3.7/dist-packages (from transformers==4.18.0->-r requirements.txt (line 1)) (0.5.1)\nRequirement already satisfied: filelock in /usr/local/lib/python3.7/dist-packages (from transformers==4.18.0->-r requirements.txt (line 1)) (3.6.0)\nRequirement already satisfied: tqdm>=4.27 in /usr/local/lib/python3.7/dist-packages (from transformers==4.18.0->-r requirements.txt (line 1)) (4.64.0)\nRequirement already satisfied: tokenizers!=0.11.3,<0.13,>=0.11.1 in /usr/local/lib/python3.7/dist-packages (from transformers==4.18.0->-r requirements.txt (line 1)) (0.12.1)\nRequirement already satisfied: importlib-metadata in /usr/local/lib/python3.7/dist-packages (from transformers==4.18.0->-r requirements.txt (line 1)) (4.11.3)\nRequirement already satisfied: numpy>=1.17 in /usr/local/lib/python3.7/dist-packages (from transformers==4.18.0->-r requirements.txt (line 1)) (1.21.6)\nRequirement already satisfied: regex!=2019.12.17 in /usr/local/lib/python3.7/dist-packages (from transformers==4.18.0->-r requirements.txt (line 1)) (2019.12.20)\nRequirement already satisfied: requests in /usr/local/lib/python3.7/dist-packages (from transformers==4.18.0->-r requirements.txt (line 1)) (2.23.0)\nRequirement already satisfied: sacremoses in /usr/local/lib/python3.7/dist-packages (from transformers==4.18.0->-r requirements.txt (line 1)) (0.0.53)\nRequirement already satisfied: nbformat>=4.2.0 in /usr/local/lib/python3.7/dist-packages (from ipywidgets==7.7.0->-r requirements.txt (line 4)) (5.3.0)\nRequirement already satisfied: ipython>=4.0.0 in /usr/local/lib/python3.7/dist-packages (from ipywidgets==7.7.0->-r requirements.txt (line 4)) (5.5.0)\nRequirement already satisfied: jupyterlab-widgets>=1.0.0 in /usr/local/lib/python3.7/dist-packages (from ipywidgets==7.7.0->-r requirements.txt (line 4)) (1.1.0)\nRequirement already satisfied: widgetsnbextension~=3.6.0 in /usr/local/lib/python3.7/dist-packages (from ipywidgets==7.7.0->-r requirements.txt (line 4)) (3.6.0)\nRequirement already satisfied: ipython-genutils~=0.2.0 in /usr/local/lib/python3.7/dist-packages (from ipywidgets==7.7.0->-r requirements.txt (line 4)) (0.2.0)\nRequirement already satisfied: ipykernel>=4.5.1 in /usr/local/lib/python3.7/dist-packages (from ipywidgets==7.7.0->-r requirements.txt (line 4)) (4.10.1)\nRequirement already satisfied: traitlets>=4.3.1 in /usr/local/lib/python3.7/dist-packages (from ipywidgets==7.7.0->-r requirements.txt (line 4)) (5.1.1)\nRequirement already satisfied: torch==1.11.0 in /usr/local/lib/python3.7/dist-packages (from torchaudio==0.11.0->-r requirements.txt (line 6)) (1.11.0+cu113)\nRequirement already satisfied: typing-extensions in /usr/local/lib/python3.7/dist-packages (from torch==1.11.0->torchaudio==0.11.0->-r requirements.txt (line 6)) (4.2.0)\nRequirement already satisfied: jupyter-client in /usr/local/lib/python3.7/dist-packages (from ipykernel>=4.5.1->ipywidgets==7.7.0->-r requirements.txt (line 4)) (5.3.5)\nRequirement already satisfied: tornado>=4.0 in /usr/local/lib/python3.7/dist-packages (from ipykernel>=4.5.1->ipywidgets==7.7.0->-r requirements.txt (line 4)) (5.1.1)\nRequirement already satisfied: simplegeneric>0.8 in /usr/local/lib/python3.7/dist-packages (from ipython>=4.0.0->ipywidgets==7.7.0->-r requirements.txt (line 4)) (0.8.1)\nRequirement already satisfied: setuptools>=18.5 in /usr/local/lib/python3.7/dist-packages (from ipython>=4.0.0->ipywidgets==7.7.0->-r requirements.txt (line 4)) (57.4.0)\nRequirement already satisfied: pickleshare in /usr/local/lib/python3.7/dist-packages (from ipython>=4.0.0->ipywidgets==7.7.0->-r requirements.txt (line 4)) (0.7.5)\nRequirement already satisfied: decorator in /usr/local/lib/python3.7/dist-packages (from ipython>=4.0.0->ipywidgets==7.7.0->-r requirements.txt (line 4)) (4.4.2)\nRequirement already satisfied: prompt-toolkit<2.0.0,>=1.0.4 in /usr/local/lib/python3.7/dist-packages (from ipython>=4.0.0->ipywidgets==7.7.0->-r requirements.txt (line 4)) (1.0.18)\nRequirement already satisfied: pexpect in /usr/local/lib/python3.7/dist-packages (from ipython>=4.0.0->ipywidgets==7.7.0->-r requirements.txt (line 4)) (4.8.0)\nRequirement already satisfied: pygments in /usr/local/lib/python3.7/dist-packages (from ipython>=4.0.0->ipywidgets==7.7.0->-r requirements.txt (line 4)) (2.6.1)\nRequirement already satisfied: fastjsonschema in /usr/local/lib/python3.7/dist-packages (from nbformat>=4.2.0->ipywidgets==7.7.0->-r requirements.txt (line 4)) (2.15.3)\nRequirement already satisfied: jupyter-core in /usr/local/lib/python3.7/dist-packages (from nbformat>=4.2.0->ipywidgets==7.7.0->-r requirements.txt (line 4)) (4.10.0)\nRequirement already satisfied: jsonschema>=2.6 in /usr/local/lib/python3.7/dist-packages (from nbformat>=4.2.0->ipywidgets==7.7.0->-r requirements.txt (line 4)) (4.3.3)\nRequirement already satisfied: importlib-resources>=1.4.0 in /usr/local/lib/python3.7/dist-packages (from jsonschema>=2.6->nbformat>=4.2.0->ipywidgets==7.7.0->-r requirements.txt (line 4)) (5.7.1)\nRequirement already satisfied: pyrsistent!=0.17.0,!=0.17.1,!=0.17.2,>=0.14.0 in /usr/local/lib/python3.7/dist-packages (from jsonschema>=2.6->nbformat>=4.2.0->ipywidgets==7.7.0->-r requirements.txt (line 4)) (0.18.1)\nRequirement already satisfied: attrs>=17.4.0 in /usr/local/lib/python3.7/dist-packages (from jsonschema>=2.6->nbformat>=4.2.0->ipywidgets==7.7.0->-r requirements.txt (line 4)) (21.4.0)\nRequirement already satisfied: zipp>=3.1.0 in /usr/local/lib/python3.7/dist-packages (from importlib-resources>=1.4.0->jsonschema>=2.6->nbformat>=4.2.0->ipywidgets==7.7.0->-r requirements.txt (line 4)) (3.8.0)\nRequirement already satisfied: pyparsing!=3.0.5,>=2.0.2 in /usr/local/lib/python3.7/dist-packages (from packaging>=20.0->transformers==4.18.0->-r requirements.txt (line 1)) (3.0.8)\nRequirement already satisfied: six>=1.9.0 in /usr/local/lib/python3.7/dist-packages (from prompt-toolkit<2.0.0,>=1.0.4->ipython>=4.0.0->ipywidgets==7.7.0->-r requirements.txt (line 4)) (1.15.0)\nRequirement already satisfied: wcwidth in /usr/local/lib/python3.7/dist-packages (from prompt-toolkit<2.0.0,>=1.0.4->ipython>=4.0.0->ipywidgets==7.7.0->-r requirements.txt (line 4)) (0.2.5)\nRequirement already satisfied: notebook>=4.4.1 in /usr/local/lib/python3.7/dist-packages (from widgetsnbextension~=3.6.0->ipywidgets==7.7.0->-r requirements.txt (line 4)) (5.3.1)\nRequirement already satisfied: jinja2 in /usr/local/lib/python3.7/dist-packages (from notebook>=4.4.1->widgetsnbextension~=3.6.0->ipywidgets==7.7.0->-r requirements.txt (line 4)) (2.11.3)\nRequirement already satisfied: Send2Trash in /usr/local/lib/python3.7/dist-packages (from notebook>=4.4.1->widgetsnbextension~=3.6.0->ipywidgets==7.7.0->-r requirements.txt (line 4)) (1.8.0)\nRequirement already satisfied: nbconvert in /usr/local/lib/python3.7/dist-packages (from notebook>=4.4.1->widgetsnbextension~=3.6.0->ipywidgets==7.7.0->-r requirements.txt (line 4)) (5.6.1)\nRequirement already satisfied: terminado>=0.8.1 in /usr/local/lib/python3.7/dist-packages (from notebook>=4.4.1->widgetsnbextension~=3.6.0->ipywidgets==7.7.0->-r requirements.txt (line 4)) (0.13.3)\nRequirement already satisfied: pyzmq>=13 in /usr/local/lib/python3.7/dist-packages (from jupyter-client->ipykernel>=4.5.1->ipywidgets==7.7.0->-r requirements.txt (line 4)) (22.3.0)\nRequirement already satisfied: python-dateutil>=2.1 in /usr/local/lib/python3.7/dist-packages (from jupyter-client->ipykernel>=4.5.1->ipywidgets==7.7.0->-r requirements.txt (line 4)) (2.8.2)\nRequirement already satisfied: ptyprocess in /usr/local/lib/python3.7/dist-packages (from terminado>=0.8.1->notebook>=4.4.1->widgetsnbextension~=3.6.0->ipywidgets==7.7.0->-r requirements.txt (line 4)) (0.7.0)\nRequirement already satisfied: datasets<2.0.0,>=1.18.3 in /usr/local/lib/python3.7/dist-packages (from huggingsound->-r requirements.txt (line 2)) (1.18.4)\nRequirement already satisfied: numba<0.54.0,>=0.53.1 in /usr/local/lib/python3.7/dist-packages (from huggingsound->-r requirements.txt (line 2)) (0.53.1)\nRequirement already satisfied: jiwer<3.0.0,>=2.3.0 in /usr/local/lib/python3.7/dist-packages (from huggingsound->-r requirements.txt (line 2)) (2.3.0)\nRequirement already satisfied: librosa<0.9.0,>=0.8.1 in /usr/local/lib/python3.7/dist-packages (from huggingsound->-r requirements.txt (line 2)) (0.8.1)\nRequirement already satisfied: llvmlite<0.37.0,>=0.36.0 in /usr/local/lib/python3.7/dist-packages (from huggingsound->-r requirements.txt (line 2)) (0.36.0)\nRequirement already satisfied: dill in /usr/local/lib/python3.7/dist-packages (from datasets<2.0.0,>=1.18.3->huggingsound->-r requirements.txt (line 2)) (0.3.4)\nRequirement already satisfied: xxhash in /usr/local/lib/python3.7/dist-packages (from datasets<2.0.0,>=1.18.3->huggingsound->-r requirements.txt (line 2)) (3.0.0)\nRequirement already satisfied: multiprocess in /usr/local/lib/python3.7/dist-packages (from datasets<2.0.0,>=1.18.3->huggingsound->-r requirements.txt (line 2)) (0.70.12.2)\nRequirement already satisfied: responses<0.19 in /usr/local/lib/python3.7/dist-packages (from datasets<2.0.0,>=1.18.3->huggingsound->-r requirements.txt (line 2)) (0.18.0)\nRequirement already satisfied: pyarrow!=4.0.0,>=3.0.0 in /usr/local/lib/python3.7/dist-packages (from datasets<2.0.0,>=1.18.3->huggingsound->-r requirements.txt (line 2)) (6.0.1)\nRequirement already satisfied: fsspec[http]>=2021.05.0 in /usr/local/lib/python3.7/dist-packages (from datasets<2.0.0,>=1.18.3->huggingsound->-r requirements.txt (line 2)) (2022.3.0)\nRequirement already satisfied: pandas in /usr/local/lib/python3.7/dist-packages (from datasets<2.0.0,>=1.18.3->huggingsound->-r requirements.txt (line 2)) (1.3.5)\nRequirement already satisfied: aiohttp in /usr/local/lib/python3.7/dist-packages (from datasets<2.0.0,>=1.18.3->huggingsound->-r requirements.txt (line 2)) (3.8.1)\nRequirement already satisfied: python-Levenshtein==0.12.2 in /usr/local/lib/python3.7/dist-packages (from jiwer<3.0.0,>=2.3.0->huggingsound->-r requirements.txt (line 2)) (0.12.2)\nRequirement already satisfied: soundfile>=0.10.2 in /usr/local/lib/python3.7/dist-packages (from librosa<0.9.0,>=0.8.1->huggingsound->-r requirements.txt (line 2)) (0.10.3.post1)\nRequirement already satisfied: scikit-learn!=0.19.0,>=0.14.0 in /usr/local/lib/python3.7/dist-packages (from librosa<0.9.0,>=0.8.1->huggingsound->-r requirements.txt (line 2)) (1.0.2)\nRequirement already satisfied: pooch>=1.0 in /usr/local/lib/python3.7/dist-packages (from librosa<0.9.0,>=0.8.1->huggingsound->-r requirements.txt (line 2)) (1.6.0)\nRequirement already satisfied: resampy>=0.2.2 in /usr/local/lib/python3.7/dist-packages (from librosa<0.9.0,>=0.8.1->huggingsound->-r requirements.txt (line 2)) (0.2.2)\nRequirement already satisfied: joblib>=0.14 in /usr/local/lib/python3.7/dist-packages (from librosa<0.9.0,>=0.8.1->huggingsound->-r requirements.txt (line 2)) (1.1.0)\nRequirement already satisfied: audioread>=2.0.0 in /usr/local/lib/python3.7/dist-packages (from librosa<0.9.0,>=0.8.1->huggingsound->-r requirements.txt (line 2)) (2.1.9)\nRequirement already satisfied: scipy>=1.0.0 in /usr/local/lib/python3.7/dist-packages (from librosa<0.9.0,>=0.8.1->huggingsound->-r requirements.txt (line 2)) (1.4.1)\nRequirement already satisfied: appdirs>=1.3.0 in /usr/local/lib/python3.7/dist-packages (from pooch>=1.0->librosa<0.9.0,>=0.8.1->huggingsound->-r requirements.txt (line 2)) (1.4.4)\nRequirement already satisfied: certifi>=2017.4.17 in /usr/local/lib/python3.7/dist-packages (from requests->transformers==4.18.0->-r requirements.txt (line 1)) (2021.10.8)\nRequirement already satisfied: urllib3!=1.25.0,!=1.25.1,<1.26,>=1.21.1 in /usr/local/lib/python3.7/dist-packages (from requests->transformers==4.18.0->-r requirements.txt (line 1)) (1.25.11)\nRequirement already satisfied: idna<3,>=2.5 in /usr/local/lib/python3.7/dist-packages (from requests->transformers==4.18.0->-r requirements.txt (line 1)) (2.10)\nRequirement already satisfied: chardet<4,>=3.0.2 in /usr/local/lib/python3.7/dist-packages (from requests->transformers==4.18.0->-r requirements.txt (line 1)) (3.0.4)\nRequirement already satisfied: threadpoolctl>=2.0.0 in /usr/local/lib/python3.7/dist-packages (from scikit-learn!=0.19.0,>=0.14.0->librosa<0.9.0,>=0.8.1->huggingsound->-r requirements.txt (line 2)) (3.1.0)\nRequirement already satisfied: cffi>=1.0 in /usr/local/lib/python3.7/dist-packages (from soundfile>=0.10.2->librosa<0.9.0,>=0.8.1->huggingsound->-r requirements.txt (line 2)) (1.15.0)\nRequirement already satisfied: pycparser in /usr/local/lib/python3.7/dist-packages (from cffi>=1.0->soundfile>=0.10.2->librosa<0.9.0,>=0.8.1->huggingsound->-r requirements.txt (line 2)) (2.21)\nRequirement already satisfied: analytics-python in /usr/local/lib/python3.7/dist-packages (from gradio->-r requirements.txt (line 7)) (1.4.0)\nRequirement already satisfied: matplotlib in /usr/local/lib/python3.7/dist-packages (from gradio->-r requirements.txt (line 7)) (3.2.2)\nRequirement already satisfied: pillow in /usr/local/lib/python3.7/dist-packages (from gradio->-r requirements.txt (line 7)) (7.1.2)\nRequirement already satisfied: uvicorn in /usr/local/lib/python3.7/dist-packages (from gradio->-r requirements.txt (line 7)) (0.17.6)\nRequirement already satisfied: pycryptodome in /usr/local/lib/python3.7/dist-packages (from gradio->-r requirements.txt (line 7)) (3.14.1)\nRequirement already satisfied: ffmpy in /usr/local/lib/python3.7/dist-packages (from gradio->-r requirements.txt (line 7)) (0.3.0)\nRequirement already satisfied: fastapi in /usr/local/lib/python3.7/dist-packages (from gradio->-r requirements.txt (line 7)) (0.75.2)\nRequirement already satisfied: orjson in /usr/local/lib/python3.7/dist-packages (from gradio->-r requirements.txt (line 7)) (3.6.8)\nRequirement already satisfied: markdown-it-py[linkify,plugins] in /usr/local/lib/python3.7/dist-packages (from gradio->-r requirements.txt (line 7)) (2.1.0)\nRequirement already satisfied: paramiko in /usr/local/lib/python3.7/dist-packages (from gradio->-r requirements.txt (line 7)) (2.10.4)\nRequirement already satisfied: pydub in /usr/local/lib/python3.7/dist-packages (from gradio->-r requirements.txt (line 7)) (0.25.1)\nRequirement already satisfied: python-multipart in /usr/local/lib/python3.7/dist-packages (from gradio->-r requirements.txt (line 7)) (0.0.5)\nRequirement already satisfied: charset-normalizer<3.0,>=2.0 in /usr/local/lib/python3.7/dist-packages (from aiohttp->datasets<2.0.0,>=1.18.3->huggingsound->-r requirements.txt (line 2)) (2.0.12)\nRequirement already satisfied: yarl<2.0,>=1.0 in /usr/local/lib/python3.7/dist-packages (from aiohttp->datasets<2.0.0,>=1.18.3->huggingsound->-r requirements.txt (line 2)) (1.7.2)\nRequirement already satisfied: multidict<7.0,>=4.5 in /usr/local/lib/python3.7/dist-packages (from aiohttp->datasets<2.0.0,>=1.18.3->huggingsound->-r requirements.txt (line 2)) (6.0.2)\nRequirement already satisfied: frozenlist>=1.1.1 in /usr/local/lib/python3.7/dist-packages (from aiohttp->datasets<2.0.0,>=1.18.3->huggingsound->-r requirements.txt (line 2)) (1.3.0)\nRequirement already satisfied: asynctest==0.13.0 in /usr/local/lib/python3.7/dist-packages (from aiohttp->datasets<2.0.0,>=1.18.3->huggingsound->-r requirements.txt (line 2)) (0.13.0)\nRequirement already satisfied: aiosignal>=1.1.2 in /usr/local/lib/python3.7/dist-packages (from aiohttp->datasets<2.0.0,>=1.18.3->huggingsound->-r requirements.txt (line 2)) (1.2.0)\nRequirement already satisfied: async-timeout<5.0,>=4.0.0a3 in /usr/local/lib/python3.7/dist-packages (from aiohttp->datasets<2.0.0,>=1.18.3->huggingsound->-r requirements.txt (line 2)) (4.0.2)\nRequirement already satisfied: monotonic>=1.5 in /usr/local/lib/python3.7/dist-packages (from analytics-python->gradio->-r requirements.txt (line 7)) (1.6)\nRequirement already satisfied: backoff==1.10.0 in /usr/local/lib/python3.7/dist-packages (from analytics-python->gradio->-r requirements.txt (line 7)) (1.10.0)\nRequirement already satisfied: pydantic!=1.7,!=1.7.1,!=1.7.2,!=1.7.3,!=1.8,!=1.8.1,<2.0.0,>=1.6.2 in /usr/local/lib/python3.7/dist-packages (from fastapi->gradio->-r requirements.txt (line 7)) (1.9.0)\nRequirement already satisfied: starlette==0.17.1 in /usr/local/lib/python3.7/dist-packages (from fastapi->gradio->-r requirements.txt (line 7)) (0.17.1)\nRequirement already satisfied: anyio<4,>=3.0.0 in /usr/local/lib/python3.7/dist-packages (from starlette==0.17.1->fastapi->gradio->-r requirements.txt (line 7)) (3.5.0)\nRequirement already satisfied: sniffio>=1.1 in /usr/local/lib/python3.7/dist-packages (from anyio<4,>=3.0.0->starlette==0.17.1->fastapi->gradio->-r requirements.txt (line 7)) (1.2.0)\nRequirement already satisfied: MarkupSafe>=0.23 in /usr/local/lib/python3.7/dist-packages (from jinja2->notebook>=4.4.1->widgetsnbextension~=3.6.0->ipywidgets==7.7.0->-r requirements.txt (line 4)) (2.0.1)\nRequirement already satisfied: mdurl~=0.1 in /usr/local/lib/python3.7/dist-packages (from markdown-it-py[linkify,plugins]->gradio->-r requirements.txt (line 7)) (0.1.1)\nRequirement already satisfied: mdit-py-plugins in /usr/local/lib/python3.7/dist-packages (from markdown-it-py[linkify,plugins]->gradio->-r requirements.txt (line 7)) (0.3.0)\nRequirement already satisfied: linkify-it-py~=1.0 in /usr/local/lib/python3.7/dist-packages (from markdown-it-py[linkify,plugins]->gradio->-r requirements.txt (line 7)) (1.0.3)\nRequirement already satisfied: uc-micro-py in /usr/local/lib/python3.7/dist-packages (from linkify-it-py~=1.0->markdown-it-py[linkify,plugins]->gradio->-r requirements.txt (line 7)) (1.0.1)\nRequirement already satisfied: kiwisolver>=1.0.1 in /usr/local/lib/python3.7/dist-packages (from matplotlib->gradio->-r requirements.txt (line 7)) (1.4.2)\nRequirement already satisfied: cycler>=0.10 in /usr/local/lib/python3.7/dist-packages (from matplotlib->gradio->-r requirements.txt (line 7)) (0.11.0)\nRequirement already satisfied: entrypoints>=0.2.2 in /usr/local/lib/python3.7/dist-packages (from nbconvert->notebook>=4.4.1->widgetsnbextension~=3.6.0->ipywidgets==7.7.0->-r requirements.txt (line 4)) (0.4)\nRequirement already satisfied: bleach in /usr/local/lib/python3.7/dist-packages (from nbconvert->notebook>=4.4.1->widgetsnbextension~=3.6.0->ipywidgets==7.7.0->-r requirements.txt (line 4)) (5.0.0)\nRequirement already satisfied: pandocfilters>=1.4.1 in /usr/local/lib/python3.7/dist-packages (from nbconvert->notebook>=4.4.1->widgetsnbextension~=3.6.0->ipywidgets==7.7.0->-r requirements.txt (line 4)) (1.5.0)\nRequirement already satisfied: mistune<2,>=0.8.1 in /usr/local/lib/python3.7/dist-packages (from nbconvert->notebook>=4.4.1->widgetsnbextension~=3.6.0->ipywidgets==7.7.0->-r requirements.txt (line 4)) (0.8.4)\nRequirement already satisfied: testpath in /usr/local/lib/python3.7/dist-packages (from nbconvert->notebook>=4.4.1->widgetsnbextension~=3.6.0->ipywidgets==7.7.0->-r requirements.txt (line 4)) (0.6.0)\nRequirement already satisfied: defusedxml in /usr/local/lib/python3.7/dist-packages (from nbconvert->notebook>=4.4.1->widgetsnbextension~=3.6.0->ipywidgets==7.7.0->-r requirements.txt (line 4)) (0.7.1)\nRequirement already satisfied: webencodings in /usr/local/lib/python3.7/dist-packages (from bleach->nbconvert->notebook>=4.4.1->widgetsnbextension~=3.6.0->ipywidgets==7.7.0->-r requirements.txt (line 4)) (0.5.1)\nRequirement already satisfied: pytz>=2017.3 in /usr/local/lib/python3.7/dist-packages (from pandas->datasets<2.0.0,>=1.18.3->huggingsound->-r requirements.txt (line 2)) (2022.1)\nRequirement already satisfied: bcrypt>=3.1.3 in /usr/local/lib/python3.7/dist-packages (from paramiko->gradio->-r requirements.txt (line 7)) (3.2.2)\nRequirement already satisfied: cryptography>=2.5 in /usr/local/lib/python3.7/dist-packages (from paramiko->gradio->-r requirements.txt (line 7)) (37.0.1)\nRequirement already satisfied: pynacl>=1.0.1 in /usr/local/lib/python3.7/dist-packages (from paramiko->gradio->-r requirements.txt (line 7)) (1.5.0)\nRequirement already satisfied: click in /usr/local/lib/python3.7/dist-packages (from sacremoses->transformers==4.18.0->-r requirements.txt (line 1)) (7.1.2)\nRequirement already satisfied: h11>=0.8 in /usr/local/lib/python3.7/dist-packages (from uvicorn->gradio->-r requirements.txt (line 7)) (0.13.0)\nRequirement already satisfied: asgiref>=3.4.0 in /usr/local/lib/python3.7/dist-packages (from uvicorn->gradio->-r requirements.txt (line 7)) (3.5.1)\n"
    }
   ]
  },
  {
   "cell_type": "markdown",
   "source": "# App.ipynb\nEste notebook contiene sólo la interfaz de usuario",
   "metadata": {
    "cell_id": "1dc23f80c74d4c339e19f4c09ee111c4",
    "id": "7KjS3HBPKVaX",
    "tags": [],
    "deepnote_cell_type": "markdown",
    "deepnote_cell_height": 119.93333435058594
   }
  },
  {
   "cell_type": "markdown",
   "source": "Instalación de la bibliotecas",
   "metadata": {
    "cell_id": "862a10a0b945486d82bc08f9e4f29879",
    "id": "gGUMXwx6KVaf",
    "owner_user_id": "b7f90450-0770-40af-820a-2f5d5913daed",
    "tags": [],
    "deepnote_cell_type": "markdown",
    "deepnote_cell_height": 51.93333435058594
   }
  },
  {
   "cell_type": "code",
   "metadata": {
    "cell_id": "b3ae44e9-0559-4e91-b512-133a994f45ed",
    "deepnote_to_be_reexecuted": true,
    "id": "TQy3KJ2wKVag",
    "source_hash": "e5d4fe7f",
    "tags": [],
    "deepnote_cell_type": "code",
    "deepnote_cell_height": 116.53334045410156
   },
   "source": "#!pip install -q gradio\n#!pip install huggingsound\n#!pip install unidecode",
   "execution_count": null,
   "outputs": []
  },
  {
   "cell_type": "markdown",
   "source": "## Carga del modelo de voz",
   "metadata": {
    "cell_id": "c2189b02b2af403a98555e21ef51ec37",
    "id": "EdO_uMrtKVah",
    "tags": [],
    "deepnote_cell_type": "markdown",
    "deepnote_cell_height": 69.53334045410156
   }
  },
  {
   "cell_type": "code",
   "metadata": {
    "cell_id": "c9e151b5021a416884cf9d8cfae30e6b",
    "colab": {
     "base_uri": "https://localhost:8080/"
    },
    "deepnote_to_be_reexecuted": true,
    "executionInfo": {
     "elapsed": 12777,
     "status": "ok",
     "timestamp": 1651599062308,
     "user": {
      "displayName": "Fernando Avitúa Varela",
      "userId": "10816756260962357353"
     },
     "user_tz": 300
    },
    "id": "nSvzQtB8KVah",
    "outputId": "f0ef0d0f-7043-4d91-a410-4318b9ee9750",
    "source_hash": "b6391d2d",
    "tags": [],
    "deepnote_cell_type": "code",
    "deepnote_cell_height": 332.183349609375
   },
   "source": "# cargamos el modelo de huggingsound\nimport re\nimport unidecode\nfrom huggingsound import SpeechRecognitionModel\n\n# creación del modelo\nmodel = SpeechRecognitionModel(\"patrickvonplaten/wav2vec2-large-xlsr-53-spanish-with-lm\")",
   "execution_count": null,
   "outputs": [
    {
     "name": "stdout",
     "output_type": "stream",
     "text": "05/03/2022 17:30:55 - INFO - huggingsound.speech_recognition.model - Loading model...\n"
    },
    {
     "name": "stderr",
     "output_type": "stream",
     "text": "/usr/local/lib/python3.7/dist-packages/paramiko/transport.py:236: CryptographyDeprecationWarning: Blowfish has been deprecated\n  \"class\": algorithms.Blowfish,\n/usr/local/lib/python3.7/dist-packages/transformers/configuration_utils.py:359: UserWarning: Passing `gradient_checkpointing` to a config initialization is deprecated and will be removed in v5 Transformers. Using `model.gradient_checkpointing_enable()` instead, or if you are using the `Trainer` API, pass `gradient_checkpointing=True` in your `TrainingArguments`.\n  \"Passing `gradient_checkpointing` to a config initialization is deprecated and will be removed in v5 \"\n"
    }
   ]
  },
  {
   "cell_type": "markdown",
   "source": "## App (UI)",
   "metadata": {
    "cell_id": "80485acd85c24ac78c70236772af4bdd",
    "id": "iseTNYcmKVal",
    "tags": [],
    "deepnote_cell_type": "markdown",
    "deepnote_cell_height": 69.53334045410156
   }
  },
  {
   "cell_type": "markdown",
   "source": "**Cargamos la funciones de los otros notebooks** \n\n`%%capture` es para suprimir output\n\nEs como hicieramos tipo import:",
   "metadata": {
    "cell_id": "842ea5357ed9454ea9e66c7d58ef4856",
    "id": "2JtfZ6_SKVad",
    "tags": [],
    "deepnote_cell_type": "markdown",
    "deepnote_cell_height": 124.73333740234375
   }
  },
  {
   "cell_type": "code",
   "metadata": {
    "cell_id": "dcc73b4765db4642b6c220fc327dae1a",
    "deepnote_to_be_reexecuted": false,
    "executionInfo": {
     "elapsed": 1736,
     "status": "ok",
     "timestamp": 1651603990981,
     "user": {
      "displayName": "Fernando Avitúa Varela",
      "userId": "10816756260962357353"
     },
     "user_tz": 300
    },
    "execution_millis": 471,
    "execution_start": 1651537937536,
    "id": "trIHQs-BKVae",
    "source_hash": "eda326f8",
    "tags": [],
    "deepnote_cell_type": "code",
    "deepnote_cell_height": 134.53334045410156
   },
   "source": "%%capture \n%run \"./variables_globales.ipynb\"\n%run \"./plantillas_codigo.ipynb\" \n%run \"./model.ipynb\"",
   "execution_count": 52,
   "outputs": []
  },
  {
   "cell_type": "code",
   "metadata": {
    "cell_id": "fc0a7c38bbde488c9eda589965b46b95",
    "colab": {
     "base_uri": "https://localhost:8080/",
     "height": 648
    },
    "deepnote_to_be_reexecuted": true,
    "executionInfo": {
     "elapsed": 6408,
     "status": "ok",
     "timestamp": 1651604000565,
     "user": {
      "displayName": "Fernando Avitúa Varela",
      "userId": "10816756260962357353"
     },
     "user_tz": 300
    },
    "id": "V0MqN8AWKVal",
    "outputId": "2460b174-26c6-4dbd-f5d4-ae9b005372e5",
    "source_hash": "d53c539a",
    "tags": [],
    "owner_user_id": "e0c6afe4-99d0-40b0-b8eb-7b5ca2d084e6",
    "deepnote_cell_type": "code",
    "deepnote_cell_height": 1822.316650390625,
    "deepnote_output_heights": [
     null,
     null,
     511
    ]
   },
   "source": "# Variables globales\nbloque = '' # Define el contexto (si es función, condicional, ciclo, etc.)\ncodigo = None # Guarda el código hasta el momento\nindentacion = 0 # Nivel de indentación\nlinea_codigo = 0 # Esto para dar seguimiento al eliminado de una linea\nrecomendacion = \"\"\n# fin_de_bloque=False\n\nimport gradio as gr\n\ndef transcribe(audio, state=\"\"):\n    global bloque\n    global codigo\n    \n\n    transcriptions_es = model.transcribe([audio])[0]\n    # quitamos el acento de la transcripcion\n    frase = unidecode.unidecode(transcriptions_es['transcription']).lower()\n    \n    # print(frase)\n    if not bloque:\n        # Significa que es la primera vez\n        codigo = main(frase)        \n    else:        \n        codigo = agregar_adentro(codigo, frase)\n            \n    return codigo, frase\n\ninputs = gr.inputs.Audio(label=\"Dar click para escuchar tu voz\", type=\"filepath\", source=\"microphone\")\noutput1 = gr.outputs.Textbox(label=\"Asi se ve tu código\")\noutput2 = gr.outputs.Textbox(label=\"Transcripción en español de la última línea de código\")\n\ntitle = \"Expresate con voz\"\ndescription = \"<h1>Hola</h1> Aplicación que ayuda a programar a traves de tu voz\"\n# ,'mientras variable alpha es menor igual a numero dos'\n# ,'Definir variable con nombre india igual a numero uno'\nexamples = [\n            'definir función con nombre magica y parámetros x y z'\n            'mientras variable india es menor o igual a  seis',\n            'ejecuta print con argumentos variable india producto cadena o cadena','Asignar variable india con india mas uno',\n            './grabaciones-wav/codigo_o/Audios demo while/definir_func_avitua.wav',\n            './grabaciones-wav/codigo_o/Audios demo while/linea1_avitua.wav',\n            './grabaciones-wav/codigo_o/Audios demo while/linea2_avitua.wav',\n            './grabaciones-wav/codigo_o/Audios demo while/linea3_avitua.wav',\n            './grabaciones-wav/codigo_o/Audios demo while/linea4_avitua.wav',\n            './grabaciones-wav/codigo_o/Audios demo while/fin_bloque_avitua.wav',\n            ]\n\narticle = \"<a  style='color:#eb9f59;' href = 'https://github.com/gandres-dev/Hackaton-Common-Voice'> Repositorio de la app\"\ndemo = gr.Interface(fn=transcribe, inputs=inputs, outputs=[output1,output2],\n                    title=title, description=description, article=article,\n                    allow_flagging=\"never\", theme=\"darkpeach\", examples=examples,\n                    # live=True\n                    )\n\nif __name__ == \"__main__\":\n    demo.launch()",
   "execution_count": 53,
   "outputs": [
    {
     "output_type": "stream",
     "name": "stderr",
     "text": "/usr/local/lib/python3.7/dist-packages/gradio/interface.py:317: UserWarning: 'darkpeach' theme name is deprecated, using dark-peach instead.\n  f\"'{theme}' theme name is deprecated, using {DEPRECATED_THEME_MAP[theme]} instead.\"\n"
    },
    {
     "output_type": "stream",
     "name": "stdout",
     "text": "Colab notebook detected. To show errors in colab notebook, set `debug=True` in `launch()`\nYour interface requires microphone or webcam permissions - this may cause issues in Colab. Use the External URL in case of issues.\nRunning on public URL: https://57232.gradio.app\n\nThis share link expires in 72 hours. For free permanent hosting, check out Spaces (https://huggingface.co/spaces)\n"
    },
    {
     "output_type": "display_data",
     "data": {
      "text/plain": "<IPython.lib.display.IFrame at 0x7f43dedbc290>",
      "text/html": "\n        <iframe\n            width=\"900\"\n            height=\"500\"\n            src=\"https://57232.gradio.app\"\n            frameborder=\"0\"\n            allowfullscreen\n        ></iframe>\n        "
     },
     "metadata": {}
    }
   ]
  },
  {
   "cell_type": "markdown",
   "source": "<a style='text-decoration:none;line-height:16px;display:flex;color:#5B5B62;padding:10px;justify-content:end;' href='https://deepnote.com?utm_source=created-in-deepnote-cell&projectId=17740a58-e960-4de3-bb66-1575286930f1' target=\"_blank\">\n<img alt='Created in deepnote.com' style='display:inline;max-height:16px;margin:0px;margin-right:7.5px;' src='data:image/svg+xml;base64,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' > </img>\nCreated in <span style='font-weight:600;margin-left:4px;'>Deepnote</span></a>",
   "metadata": {
    "tags": [],
    "created_in_deepnote_cell": true,
    "deepnote_cell_type": "markdown"
   }
  }
 ],
 "nbformat": 4,
 "nbformat_minor": 0,
 "metadata": {
  "colab": {
   "collapsed_sections": [],
   "name": "app.ipynb",
   "provenance": []
  },
  "deepnote": {},
  "deepnote_execution_queue": [],
  "deepnote_notebook_id": "3ba52d33-c51c-44e8-a40f-8833ddc6115c",
  "interpreter": {
   "hash": "684b1123683431d89d3bfe9a89cc763215f4b8cd94b4aba1fb40ad45ff7c8b41"
  },
  "kernelspec": {
   "display_name": "Python 3.7.9 64-bit",
   "language": "python",
   "name": "python3"
  },
  "language_info": {
   "codemirror_mode": {
    "name": "ipython",
    "version": 3
   },
   "file_extension": ".py",
   "mimetype": "text/x-python",
   "name": "python",
   "nbconvert_exporter": "python",
   "pygments_lexer": "ipython3",
   "version": "3.7.9"
  },
  "orig_nbformat": 2
 }
}