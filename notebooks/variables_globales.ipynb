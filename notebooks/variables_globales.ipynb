{
 "cells": [
  {
   "cell_type": "markdown",
   "source": "# Definición para variables globales",
   "metadata": {
    "cell_id": "ea1650e245cf45b6a358a3b2738dcec3",
    "tags": [],
    "id": "3kHL1B5bC-NM",
    "deepnote_cell_type": "markdown",
    "deepnote_cell_height": 81.53334045410156
   }
  },
  {
   "cell_type": "code",
   "metadata": {
    "cell_id": "f6be19fd5b9640ea91a75bca436e89a4",
    "deepnote_to_be_reexecuted": false,
    "execution_millis": 1,
    "execution_start": 1651527619089,
    "source_hash": "c8dcd34a",
    "tags": [],
    "id": "aqaNzCkeC-NS",
    "deepnote_cell_type": "code",
    "deepnote_cell_height": 152.53334045410156
   },
   "source": "# Variables globales\nbloque = '' # Define el contexto (si es función, condicional, ciclo, etc.)\ncodigo = None # Guarda el código hasta el momento\nindentacion = 0 # Nivel de indentación\nlinea_codigo = 0 # Esto para dar seguimiento al eliminado de una linea",
   "execution_count": null,
   "outputs": []
  },
  {
   "cell_type": "code",
   "metadata": {
    "cell_id": "8867f4b7a1b44f319e2449244d494ae6",
    "deepnote_to_be_reexecuted": false,
    "execution_millis": 2,
    "execution_start": 1651608486013,
    "source_hash": "ae4b5656",
    "tags": [],
    "owner_user_id": "e0c6afe4-99d0-40b0-b8eb-7b5ca2d084e6",
    "id": "jEGvd2WIC-NU",
    "deepnote_cell_type": "code",
    "deepnote_cell_height": 1466.5333251953125
   },
   "source": "def numero(text):\n    \"\"\"Convierte un texto de numero en numero entero (int)    \n\n    Parametros\n    ----------\n    text: list\n        Serie de valores\n\n    Regresa\n    ---------\n    dict_numeros: int\n        El número correspondiente\n    \"\"\"\n    global dict_numeros    \n    # Como sabemos que siempre sera el primer elemento el valor despues\n    # de número (eg. cuatro or veintecinco)\n    numero_str = text[0]           \n    return dict_numeros[numero_str]\n\ndef flotante(text): \n    \"\"\"Convierte un texto de numero en numero floatante (float)    \n\n    Parametros\n    ----------\n    text: list\n        Serie de valores\n\n    Regresa\n    ---------\n    dict_numeros: float\n        El número correspondiente en floatante (eg 3.4)\n    \"\"\"\n    global dict_numeros\n    text = \" \".join(text)\n    before_keyword, keyword, after_keyword = text.partition('punto')\n    print(before_keyword)\n    print(after_keyword)\n\n    # Obtenemos los dos numeros antes y despues del punto\n    before_num = before_keyword.strip().split(' ')[0]\n    after_num = after_keyword.strip().split(' ')[0]\n    \n    # Hacemos el mapeo uno -> 1\n    num1_int = dict_numeros[before_num]\n    num2_int = dict_numeros[after_num]        \n    \n    return float(str(num1_int) + '.' + str(num2_int))\n\ndef cadena(text):\n    \"\"\"Convierte un texto de numero en string (str)    \n\n    Parametros\n    ----------\n    text: list\n        Serie de valores\n\n    Regresa\n    ---------\n    string: str\n        Una cadena con el contenido del texto\n    \"\"\"    \n    numero_str = text[:]                   \n    return ' '.join(text)\n\ndef lista(text):\n    \"\"\"Convierte un texto de numero en string (str)    \n\n    Parametros\n    ----------\n    text: list\n        Serie de valores\n\n    Regresa\n    ---------\n    lista: list\n        Una lista vacia\n    \"\"\"\n    return []",
   "execution_count": null,
   "outputs": []
  },
  {
   "cell_type": "code",
   "metadata": {
    "cell_id": "3c288410-8ea3-48e2-ad0e-2934e9d38e53",
    "deepnote_to_be_reexecuted": false,
    "execution_millis": 3,
    "execution_start": 1651609706083,
    "source_hash": "369d9833",
    "tags": [],
    "id": "LZZilZD9C-Nb",
    "deepnote_cell_type": "code",
    "deepnote_cell_height": 1304.5333251953125
   },
   "source": "diccionario_fonetico={'andrea':'a',\n                    'bravo':'b',\n                    'carlos':'c',\n                    'delta':'d',\n                    'eduardo':'e',\n                    'fernando':'f',\n                    'garcia':'g',\n                    'hotel':'h',\n                    'india':'i',\n                    'julieta':'j',\n                    'kilo':'k',\n                    'lima':'l',\n                    'miguel':'m',\n                    'noviembre':'n',\n                    'oscar':'o',\n                    'papa':'p',\n                    'queretaro':'q',\n                    'romero':'',\n                    'sierra':'s',\n                    'tango':'t',\n                    'uniforme':'u',\n                    'victor':'v',\n                    'wafle':'w',\n                    'equis':'x',\n                    'yarda':'y',\n                    'llarda':'y',\n                    'espacio':' '}\n\n# Separa en operadores comunes\n\n# si esto se lematiza puedes agarrar todas las frases de la forma suma, sumar, etc.\ndict_operaciones={\n    'producto':'*','mas':'+','menos':'-','concatena':'+','entre':'/','modulo':'%'\n    } \n\ndict_numeros = {\n    'cero':0,\n    'uno': 1,\n    'dos': 2,\n    'tres': 3,\n    'cuatro':4,\n    'cinco': 5,\n    'seis': 6,\n    'siete': 7,\n    'ocho': 8,\n    'nueve': 9,\n    'diez': 10,\n    'once': 11,\n    'doce': 12,\n    'trece': 13,\n    'catorce': 14,\n    'quince': 15,\n    'dieciseis': 16,\n    'diecisiete': 17,\n    'dieciocho': 18,\n    'diecinueve': 19,\n    'veinte': 20,\n    'treinta': 30,\n    'cuarenta': 40,\n    'cicuenta': 50,\n}\n    \n# Diccionario de funciones\ntipos_datos ={\n    'natural': numero,\n    'flotante': flotante,\n    'cadena': cadena,\n    'lista': lista,\n}",
   "execution_count": null,
   "outputs": []
  },
  {
   "cell_type": "markdown",
   "source": "<a style='text-decoration:none;line-height:16px;display:flex;color:#5B5B62;padding:10px;justify-content:end;' href='https://deepnote.com?utm_source=created-in-deepnote-cell&projectId=17740a58-e960-4de3-bb66-1575286930f1' target=\"_blank\">\n<img alt='Created in deepnote.com' style='display:inline;max-height:16px;margin:0px;margin-right:7.5px;' src='data:image/svg+xml;base64,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' > </img>\nCreated in <span style='font-weight:600;margin-left:4px;'>Deepnote</span></a>",
   "metadata": {
    "tags": [],
    "created_in_deepnote_cell": true,
    "deepnote_cell_type": "markdown"
   }
  }
 ],
 "nbformat": 4,
 "nbformat_minor": 0,
 "metadata": {
  "deepnote": {},
  "deepnote_execution_queue": [],
  "deepnote_notebook_id": "901488f3-bdb3-4752-bed3-bcf452d6ce8e",
  "language_info": {
   "name": "python"
  },
  "orig_nbformat": 2,
  "colab": {
   "name": "variables_globales.ipynb",
   "provenance": [],
   "collapsed_sections": []
  }
 }
}