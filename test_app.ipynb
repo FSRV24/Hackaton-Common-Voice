{
 "cells": [
  {
   "cell_type": "markdown",
   "source": "## Test funcionalidad de la aplicación",
   "metadata": {
    "tags": [],
    "id": "gWkAXqMcP2h7",
    "cell_id": "00015-d4bc2881-d9cb-4db2-8e7c-eaa358308d5e",
    "deepnote_cell_type": "markdown",
    "deepnote_cell_height": 69.53334045410156
   }
  },
  {
   "cell_type": "markdown",
   "source": "### Probando frase 1",
   "metadata": {
    "tags": [],
    "id": "3TGmC5kGP2h7",
    "cell_id": "00016-b411287d-9839-45cd-8a57-b48c2b1e5151",
    "deepnote_cell_type": "markdown",
    "deepnote_cell_height": 61.53334045410156
   }
  },
  {
   "cell_type": "code",
   "metadata": {
    "tags": [],
    "deepnote_to_be_reexecuted": false,
    "source_hash": "11269a85",
    "execution_start": 1651461355117,
    "execution_millis": 5,
    "colab": {
     "base_uri": "https://localhost:8080/"
    },
    "id": "K1tKg2E5P2h8",
    "outputId": "1da75b69-e2a8-406b-eee3-4f94e64e78d6",
    "cell_id": "00017-7fe8c53b-3123-49e7-9ef6-b00fff0de5d2",
    "owner_user_id": "0c4dcfb5-18e5-4741-8d58-1d382d2f5d7d",
    "deepnote_cell_type": "code",
    "deepnote_cell_height": 316.79998779296875
   },
   "source": "# Probando cuando se desea crear una funcion\ncodigo_generado, sugerencia = main2('Definir funcion con nombre saludar y parametros mensaje')\nprint('Codigo generado')\nprint(codigo_generado)\nprint('---------------')\nprint('Sugerencia')\nprint(sugerencia)",
   "execution_count": null,
   "outputs": [
    {
     "output_type": "stream",
     "name": "stdout",
     "text": "Codigo generado\ndef saludar(mensaje):\n\t\t\t\n---------------\nSugerencia\n\n"
    }
   ]
  },
  {
   "cell_type": "markdown",
   "source": "El valor de la variable de `codigo_generado` es que se mandara a la interfaz del usuario.",
   "metadata": {
    "tags": [],
    "id": "0KO812mwP2h8",
    "cell_id": "00018-2319f3fe-c554-41e8-bded-5088add46428",
    "deepnote_cell_type": "markdown",
    "deepnote_cell_height": 51.93333435058594
   }
  },
  {
   "cell_type": "markdown",
   "source": "### Probando frase 2",
   "metadata": {
    "tags": [],
    "id": "83GDWDTrP2h8",
    "cell_id": "00019-f690678e-1671-4ddf-936f-e56e5cbb3d71",
    "deepnote_cell_type": "markdown",
    "deepnote_cell_height": 61.53334045410156
   }
  },
  {
   "cell_type": "code",
   "metadata": {
    "tags": [],
    "colab": {
     "base_uri": "https://localhost:8080/"
    },
    "id": "O8x-YkDHP2h8",
    "outputId": "17f48dd6-1d7d-4190-8c88-bb80a2029b8f",
    "cell_id": "00020-3861eed5-a3e9-42bb-bcc7-ad463d509cb4",
    "deepnote_cell_type": "code",
    "deepnote_cell_height": 334.79998779296875
   },
   "source": "# Probando cuando se desea crear una funcion\nvoice1 = 'definir variable con nombre india igual a número uno'\ncodigo_generado, sugerencia = main2(voice1)\nprint('Codigo generado')\nprint(codigo_generado)\nprint('---------------')\nprint('Sugerencia')\nprint(sugerencia)",
   "execution_count": null,
   "outputs": [
    {
     "output_type": "stream",
     "name": "stdout",
     "text": "Codigo generado\ndef saludar(mensaje):\n\t\t\t\n---------------\nSugerencia\n\n"
    }
   ]
  },
  {
   "cell_type": "code",
   "metadata": {
    "tags": [],
    "deepnote_to_be_reexecuted": false,
    "source_hash": "7a458162",
    "execution_start": 1651469125921,
    "execution_millis": 9,
    "id": "Ici2sHZFP2iC",
    "cell_id": "00026-818b6607-2709-46fd-84fe-f568631f2dce",
    "deepnote_cell_type": "code",
    "deepnote_cell_height": 98.53334045410156
   },
   "source": "#main2('mientras variable india es menor o igual a seis')\n#main2('definir variable con nombre india igual a numero cinco')",
   "execution_count": null,
   "outputs": []
  },
  {
   "cell_type": "markdown",
   "source": "<a style='text-decoration:none;line-height:16px;display:flex;color:#5B5B62;padding:10px;justify-content:end;' href='https://deepnote.com?utm_source=created-in-deepnote-cell&projectId=17740a58-e960-4de3-bb66-1575286930f1' target=\"_blank\">\n<img alt='Created in deepnote.com' style='display:inline;max-height:16px;margin:0px;margin-right:7.5px;' src='data:image/svg+xml;base64,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' > </img>\nCreated in <span style='font-weight:600;margin-left:4px;'>Deepnote</span></a>",
   "metadata": {
    "tags": [],
    "created_in_deepnote_cell": true,
    "deepnote_cell_type": "markdown"
   }
  }
 ],
 "nbformat": 4,
 "nbformat_minor": 0,
 "metadata": {
  "colab": {
   "name": "Hackaton_v2_nuevo.ipynb",
   "provenance": [],
   "collapsed_sections": []
  },
  "kernelspec": {
   "name": "python3",
   "display_name": "Python 3"
  },
  "language_info": {
   "name": "python"
  },
  "widgets": {
   "application/vnd.jupyter.widget-state+json": {
    "c22e7ee8f1a94a0999586816be52d8a1": {
     "model_module": "jupyter-webrtc",
     "model_name": "AudioRecorderModel",
     "model_module_version": "~0.6.0",
     "state": {
      "_data_src": "blob:https://6tf5blygfu-496ff2e9c6d22116-0-colab.googleusercontent.com/7a75ca24-c713-4712-87df-b3efc760386c",
      "_dom_classes": [],
      "_model_module": "jupyter-webrtc",
      "_model_module_version": "~0.6.0",
      "_model_name": "AudioRecorderModel",
      "_view_count": null,
      "_view_module": "jupyter-webrtc",
      "_view_module_version": "~0.6.0",
      "_view_name": "AudioRecorderView",
      "audio": "IPY_MODEL_dd16ad71e89545498b39fe46141e66b2",
      "autosave": false,
      "codecs": "",
      "filename": "record",
      "format": "webm",
      "layout": "IPY_MODEL_2ee5f2fcf8cd4d1a9cf32ace3fc6b89e",
      "recording": false,
      "stream": "IPY_MODEL_48b341ff9794453fb99a356008ac6d60"
     }
    },
    "dd16ad71e89545498b39fe46141e66b2": {
     "model_module": "@jupyter-widgets/controls",
     "model_name": "AudioModel",
     "model_module_version": "1.5.0",
     "state": {
      "_dom_classes": [],
      "_model_module": "@jupyter-widgets/controls",
      "_model_module_version": "1.5.0",
      "_model_name": "AudioModel",
      "_view_count": null,
      "_view_module": "@jupyter-widgets/controls",
      "_view_module_version": "1.5.0",
      "_view_name": "AudioView",
      "autoplay": true,
      "controls": true,
      "format": "webm",
      "layout": "IPY_MODEL_3592dc1d250d48ce85644450c493b8a8",
      "loop": true
     }
    },
    "2ee5f2fcf8cd4d1a9cf32ace3fc6b89e": {
     "model_module": "@jupyter-widgets/base",
     "model_name": "LayoutModel",
     "model_module_version": "1.2.0",
     "state": {
      "_model_module": "@jupyter-widgets/base",
      "_model_module_version": "1.2.0",
      "_model_name": "LayoutModel",
      "_view_count": null,
      "_view_module": "@jupyter-widgets/base",
      "_view_module_version": "1.2.0",
      "_view_name": "LayoutView",
      "align_content": null,
      "align_items": null,
      "align_self": null,
      "border": null,
      "bottom": null,
      "display": null,
      "flex": null,
      "flex_flow": null,
      "grid_area": null,
      "grid_auto_columns": null,
      "grid_auto_flow": null,
      "grid_auto_rows": null,
      "grid_column": null,
      "grid_gap": null,
      "grid_row": null,
      "grid_template_areas": null,
      "grid_template_columns": null,
      "grid_template_rows": null,
      "height": null,
      "justify_content": null,
      "justify_items": null,
      "left": null,
      "margin": null,
      "max_height": null,
      "max_width": null,
      "min_height": null,
      "min_width": null,
      "object_fit": null,
      "object_position": null,
      "order": null,
      "overflow": null,
      "overflow_x": null,
      "overflow_y": null,
      "padding": null,
      "right": null,
      "top": null,
      "visibility": null,
      "width": null
     }
    },
    "48b341ff9794453fb99a356008ac6d60": {
     "model_module": "jupyter-webrtc",
     "model_name": "CameraStreamModel",
     "model_module_version": "~0.6.0",
     "state": {
      "_dom_classes": [],
      "_model_module": "jupyter-webrtc",
      "_model_module_version": "~0.6.0",
      "_model_name": "CameraStreamModel",
      "_view_count": null,
      "_view_module": "jupyter-webrtc",
      "_view_module_version": "~0.6.0",
      "_view_name": "MediaStreamView",
      "constraints": {
       "audio": true,
       "video": false
      },
      "layout": "IPY_MODEL_056663a4d44d40ad91efd27824e35fbd"
     }
    },
    "3592dc1d250d48ce85644450c493b8a8": {
     "model_module": "@jupyter-widgets/base",
     "model_name": "LayoutModel",
     "model_module_version": "1.2.0",
     "state": {
      "_model_module": "@jupyter-widgets/base",
      "_model_module_version": "1.2.0",
      "_model_name": "LayoutModel",
      "_view_count": null,
      "_view_module": "@jupyter-widgets/base",
      "_view_module_version": "1.2.0",
      "_view_name": "LayoutView",
      "align_content": null,
      "align_items": null,
      "align_self": null,
      "border": null,
      "bottom": null,
      "display": null,
      "flex": null,
      "flex_flow": null,
      "grid_area": null,
      "grid_auto_columns": null,
      "grid_auto_flow": null,
      "grid_auto_rows": null,
      "grid_column": null,
      "grid_gap": null,
      "grid_row": null,
      "grid_template_areas": null,
      "grid_template_columns": null,
      "grid_template_rows": null,
      "height": null,
      "justify_content": null,
      "justify_items": null,
      "left": null,
      "margin": null,
      "max_height": null,
      "max_width": null,
      "min_height": null,
      "min_width": null,
      "object_fit": null,
      "object_position": null,
      "order": null,
      "overflow": null,
      "overflow_x": null,
      "overflow_y": null,
      "padding": null,
      "right": null,
      "top": null,
      "visibility": null,
      "width": null
     }
    },
    "056663a4d44d40ad91efd27824e35fbd": {
     "model_module": "@jupyter-widgets/base",
     "model_name": "LayoutModel",
     "model_module_version": "1.2.0",
     "state": {
      "_model_module": "@jupyter-widgets/base",
      "_model_module_version": "1.2.0",
      "_model_name": "LayoutModel",
      "_view_count": null,
      "_view_module": "@jupyter-widgets/base",
      "_view_module_version": "1.2.0",
      "_view_name": "LayoutView",
      "align_content": null,
      "align_items": null,
      "align_self": null,
      "border": null,
      "bottom": null,
      "display": null,
      "flex": null,
      "flex_flow": null,
      "grid_area": null,
      "grid_auto_columns": null,
      "grid_auto_flow": null,
      "grid_auto_rows": null,
      "grid_column": null,
      "grid_gap": null,
      "grid_row": null,
      "grid_template_areas": null,
      "grid_template_columns": null,
      "grid_template_rows": null,
      "height": null,
      "justify_content": null,
      "justify_items": null,
      "left": null,
      "margin": null,
      "max_height": null,
      "max_width": null,
      "min_height": null,
      "min_width": null,
      "object_fit": null,
      "object_position": null,
      "order": null,
      "overflow": null,
      "overflow_x": null,
      "overflow_y": null,
      "padding": null,
      "right": null,
      "top": null,
      "visibility": null,
      "width": null
     }
    }
   }
  },
  "deepnote_notebook_id": "d671daca-0895-4060-8362-95a52bd498a4",
  "deepnote": {},
  "deepnote_execution_queue": []
 }
}