{
 "cells": [
  {
   "cell_type": "markdown",
   "source": "# model.ipynb\nEn este notebook se encontrará todas la funciones que no son para crear templete, por ejemplos funciones auxiliares",
   "metadata": {
    "cell_id": "85ae4ca4497c436c819e1467f2981c5c",
    "tags": [],
    "deepnote_cell_type": "markdown",
    "deepnote_cell_height": 120.390625
   },
   "outputs": [],
   "execution_count": null
  },
  {
   "cell_type": "code",
   "source": "#%run \"./variables_globales.ipynb\"\n#%run \"./plantillas_codigo.ipynb\"",
   "metadata": {
    "cell_id": "8594db9457974d4487d0d3fabc59bdb2",
    "tags": [],
    "deepnote_to_be_reexecuted": false,
    "source_hash": "542fc47e",
    "execution_start": 1651514021641,
    "execution_millis": 1,
    "deepnote_cell_type": "code",
    "deepnote_cell_height": 99
   },
   "outputs": [],
   "execution_count": 1
  },
  {
   "cell_type": "markdown",
   "source": "## Modelo\nFunciones de la aplicación ",
   "metadata": {
    "cell_id": "600a5fc486114b57b86279a475b27436",
    "tags": [],
    "deepnote_cell_type": "markdown",
    "deepnote_cell_height": 108.390625
   }
  },
  {
   "cell_type": "code",
   "metadata": {
    "cell_id": "3e3f9d1a9bab4655932b825e282f1602",
    "tags": [],
    "deepnote_to_be_reexecuted": false,
    "source_hash": "a11b08fd",
    "execution_start": 1651514023345,
    "execution_millis": 2,
    "deepnote_cell_type": "code",
    "deepnote_cell_height": 387
   },
   "source": "def sim_jac(s1, s2):\n\n    bigrams_s1 = []\n    bigrams_s2 = []\n\n    for i in range(len(s1) - 1):\n        bigrams_s1.append(s1[i:i+2])\n    \n    for i in range(len(s2) - 1):\n        bigrams_s2.append(s2[i:i+2])\n\n    c_common = 0\n\n    for i in bigrams_s1:\n        if bigrams_s2.count(i) > 0:\n            c_common += 1\n\n    return c_common / ((len(s1) - 1) + (len(s2) - 1) - c_common)",
   "execution_count": 2,
   "outputs": []
  },
  {
   "cell_type": "code",
   "source": "def numero(text):\n    \"\"\"Convierte un texto de numero en numero entero (int)\"\"\"\n    global dict_numeros    \n    return dict_numeros[text] ",
   "metadata": {
    "cell_id": "ff777640ab6f450e9c3f6c1e01dc306c",
    "tags": [],
    "deepnote_to_be_reexecuted": false,
    "source_hash": "2ccb6678",
    "execution_start": 1651514025254,
    "execution_millis": 3,
    "deepnote_cell_type": "code",
    "deepnote_cell_height": 135
   },
   "outputs": [],
   "execution_count": 3
  },
  {
   "cell_type": "code",
   "source": "def encontrar_palabras(transcript,cjto_palabras):\n    '''\n    Toma un string (en minúsculos) y un conjunto de palabras. Busca el primer match\n    de cjto_palabras en transcript y particiona el string en:\n        1. El slice de la cadena antes del primer match (antes_palabra)\n        2. La cadena del primer match (coincidencia de cjto_palabras)\n        3. El slice de la cadena después del match (despues_palabra)\n    '''\n    inicio,final=list(re.finditer(r'|'.join(cjto_palabras),transcript))[0].span()\n    antes_palabra=transcript[:inicio].strip()\n    despues_palabra=transcript[final:].strip()\n    palabra=transcript[inicio:final]\n    return antes_palabra,palabra,despues_palabra",
   "metadata": {
    "cell_id": "9a2608db36734f5ebe21438a093aafd3",
    "tags": [],
    "deepnote_to_be_reexecuted": false,
    "source_hash": "18ad31a7",
    "execution_start": 1651514026651,
    "execution_millis": 2,
    "deepnote_cell_type": "code",
    "deepnote_cell_height": 297
   },
   "outputs": [],
   "execution_count": 4
  },
  {
   "cell_type": "code",
   "source": "def agregar_adentro(codigo, transcipcion):\n    codigo2 = main2(transcipcion)\n    return codigo[:-1] + codigo2",
   "metadata": {
    "cell_id": "eb7361004b3e409ab7a6af4dfc224878",
    "tags": [],
    "deepnote_to_be_reexecuted": false,
    "source_hash": "efcc6c50",
    "execution_start": 1651514028536,
    "execution_millis": 6,
    "deepnote_cell_type": "code",
    "deepnote_cell_height": 102
   },
   "outputs": [],
   "execution_count": 5
  },
  {
   "cell_type": "code",
   "source": "import unidecode\nimport re\n\ndef main2(instruccion):\n    global bloque\n    \n    candidatos_instruccion = instruccion.split(' ')[:5]\n\n    # lista de comandos disponibles\n    # []: Todo lo que esta corchetes son los valores que vamos obtener\n    comandos = [\n                'funcion',  # con nombre [nameFuc](y parámetros [x y z])\n                'mientras',\n                'variable', # con nombre [nombre_variable] igual a /objeto_basico/\n                'cadena',\n                'numero',\n                'lista',\n                'diccionario'                       \n                ]\n\n    # Lista de funciones que nos devolveran las plantillas\n    plantillas = [crear_funcion, crear_condicional, crear_variable]\n\n    # buscar el comando correspondiente más cercano al deseado\n    scores = [[] for _ in range(len(comandos))]\n\n    ind_max_score = [0, 0]\n\n    # similitud de Jaccard para las primeras dos palabras de la grabación\n    \n    for i, comando in enumerate(comandos):\n        for j, palabra in enumerate(candidatos_instruccion):\n            scores[i].append(sim_jac(palabra, comando))\n\n            # guardamos índice de la instrucción con más similitud\n            if scores[i][-1] > scores[ind_max_score[0]][ind_max_score[1]]:\n                ind_max_score = [i, j]    \n    \n    return plantillas[ind_max_score[0]](instruccion)",
   "metadata": {
    "cell_id": "0dd3c81fcbfb404692405d17fc9ed296",
    "tags": [],
    "owner_user_id": "e0c6afe4-99d0-40b0-b8eb-7b5ca2d084e6",
    "deepnote_to_be_reexecuted": false,
    "source_hash": "6dbf6649",
    "execution_start": 1651514030001,
    "execution_millis": 4,
    "deepnote_cell_type": "code",
    "deepnote_cell_height": 750
   },
   "outputs": [],
   "execution_count": 6
  },
  {
   "cell_type": "markdown",
   "source": "<a style='text-decoration:none;line-height:16px;display:flex;color:#5B5B62;padding:10px;justify-content:end;' href='https://deepnote.com?utm_source=created-in-deepnote-cell&projectId=17740a58-e960-4de3-bb66-1575286930f1' target=\"_blank\">\n<img alt='Created in deepnote.com' style='display:inline;max-height:16px;margin:0px;margin-right:7.5px;' src='data:image/svg+xml;base64,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' > </img>\nCreated in <span style='font-weight:600;margin-left:4px;'>Deepnote</span></a>",
   "metadata": {
    "tags": [],
    "created_in_deepnote_cell": true,
    "deepnote_cell_type": "markdown"
   }
  }
 ],
 "nbformat": 4,
 "nbformat_minor": 2,
 "metadata": {
  "orig_nbformat": 2,
  "deepnote": {},
  "deepnote_notebook_id": "10f9ec72-bc7c-4818-b2e2-cb06a5a614e2",
  "deepnote_execution_queue": []
 }
}