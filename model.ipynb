{
 "cells": [
  {
   "cell_type": "markdown",
   "source": "# model.ipynb\nEn este notebook se encontrará todas la funciones que no son para crear templete, por ejemplos funciones auxiliares",
   "metadata": {
    "cell_id": "85ae4ca4497c436c819e1467f2981c5c",
    "tags": [],
    "deepnote_cell_type": "markdown",
    "deepnote_cell_height": 120.390625
   }
  },
  {
   "cell_type": "code",
   "metadata": {
    "cell_id": "8594db9457974d4487d0d3fabc59bdb2",
    "tags": [],
    "deepnote_to_be_reexecuted": false,
    "source_hash": "8db50940",
    "execution_start": 1651538434939,
    "execution_millis": 66,
    "is_output_hidden": true,
    "deepnote_cell_type": "code",
    "deepnote_cell_height": 129.796875
   },
   "source": "# %run \"./variables_globales.ipynb\"\n%run \"./plantillas_codigo.ipynb\"",
   "execution_count": 15,
   "outputs": [
    {
     "name": "stdout",
     "text": "if i <= 6:\n\t|\nwhile alpha == 2:\n\t\t|\n('ejecuta print con argumentos variable India producto', '\"guión\"', '')\n('ejecuta print con argumentos', '\"Hola mundo\"', '')\ni\n\ni * \"guión\"\ni - Francis\n5 / 3\ni + a\nprint(i * \"guión\",\"hola\",5)\n\nprint(\"hola mundo\")\n\nfor a in range(1, 2):\n\t\t|\nfor a in range(2):\n\t\t|\nfor a in range(2):\n\t\t|\nfor i in range(5):\n\t\t|\n",
     "output_type": "stream"
    }
   ]
  },
  {
   "cell_type": "markdown",
   "source": "## Modelo\nFunciones de la aplicación ",
   "metadata": {
    "cell_id": "600a5fc486114b57b86279a475b27436",
    "tags": [],
    "deepnote_cell_type": "markdown",
    "deepnote_cell_height": 108.390625
   }
  },
  {
   "cell_type": "code",
   "metadata": {
    "cell_id": "3e3f9d1a9bab4655932b825e282f1602",
    "tags": [],
    "deepnote_to_be_reexecuted": false,
    "source_hash": "a11b08fd",
    "execution_start": 1651528473081,
    "execution_millis": 0,
    "deepnote_cell_type": "code",
    "deepnote_cell_height": 387
   },
   "source": "def sim_jac(s1, s2):\n\n    bigrams_s1 = []\n    bigrams_s2 = []\n\n    for i in range(len(s1) - 1):\n        bigrams_s1.append(s1[i:i+2])\n    \n    for i in range(len(s2) - 1):\n        bigrams_s2.append(s2[i:i+2])\n\n    c_common = 0\n\n    for i in bigrams_s1:\n        if bigrams_s2.count(i) > 0:\n            c_common += 1\n\n    return c_common / ((len(s1) - 1) + (len(s2) - 1) - c_common)",
   "execution_count": 3,
   "outputs": []
  },
  {
   "cell_type": "code",
   "metadata": {
    "cell_id": "9a2608db36734f5ebe21438a093aafd3",
    "tags": [],
    "deepnote_to_be_reexecuted": false,
    "source_hash": "18ad31a7",
    "execution_start": 1651528473100,
    "execution_millis": 1,
    "deepnote_cell_type": "code",
    "deepnote_cell_height": 297
   },
   "source": "def encontrar_palabras(transcript,cjto_palabras):\n    '''\n    Toma un string (en minúsculos) y un conjunto de palabras. Busca el primer match\n    de cjto_palabras en transcript y particiona el string en:\n        1. El slice de la cadena antes del primer match (antes_palabra)\n        2. La cadena del primer match (coincidencia de cjto_palabras)\n        3. El slice de la cadena después del match (despues_palabra)\n    '''\n    inicio,final=list(re.finditer(r'|'.join(cjto_palabras),transcript))[0].span()\n    antes_palabra=transcript[:inicio].strip()\n    despues_palabra=transcript[final:].strip()\n    palabra=transcript[inicio:final]\n    return antes_palabra,palabra,despues_palabra",
   "execution_count": 5,
   "outputs": []
  },
  {
   "cell_type": "code",
   "metadata": {
    "cell_id": "eb7361004b3e409ab7a6af4dfc224878",
    "tags": [],
    "deepnote_to_be_reexecuted": false,
    "source_hash": "efcc6c50",
    "execution_start": 1651528473101,
    "execution_millis": 0,
    "deepnote_cell_type": "code",
    "deepnote_cell_height": 117
   },
   "source": "def agregar_adentro(codigo, transcipcion):\n    codigo2 = main(transcipcion)\n    return codigo[:-1] + codigo2",
   "execution_count": 6,
   "outputs": []
  },
  {
   "cell_type": "code",
   "source": "import numpy as np\n\ndef main(instruccion):\n    global bloque\n\n    plantillas = [\n                crear_funcion,\n                crear_condicional,\n                crear_condicional,\n                asignar_variable,\n                crear_variable,\n                crear_llamada,\n                crear_for         \n                ]\n\n    comandos = [set(['definir', 'funcion', 'parametros']),\n                set(['mientras']),\n                set(['si']), # si se cumple / mientras se cumpla\n                set(['asignar', 'con']),\n                set(['definir', 'igual', 'a']),\n                set(['ejecuta', 'argumentos']),\n                set(['para', 'rango'])\n                ]\n\n    pesos = [[0.2, 0.5, 0.3],\n            [1]]\n\n    J = []\n    for comando in comandos:\n        J.append(len(set(instruccion.strip().split(' ')).intersection(comando)) / len(set(instruccion.strip().split(' ')).union(comando)))\n\n    return plantillas[np.argmax(J)](instruccion)",
   "metadata": {
    "cell_id": "5a21576f65b14b5c8353a193268b7cdc",
    "tags": [],
    "deepnote_to_be_reexecuted": false,
    "source_hash": "b488fc9f",
    "execution_start": 1651542855253,
    "execution_millis": 7,
    "owner_user_id": "b7f90450-0770-40af-820a-2f5d5913daed",
    "deepnote_cell_type": "code",
    "deepnote_cell_height": 639
   },
   "outputs": [],
   "execution_count": 89
  },
  {
   "cell_type": "code",
   "metadata": {
    "cell_id": "0dd3c81fcbfb404692405d17fc9ed296",
    "tags": [],
    "deepnote_to_be_reexecuted": false,
    "source_hash": "ae9d9aed",
    "execution_start": 1651539888722,
    "execution_millis": 2,
    "deepnote_cell_type": "code",
    "deepnote_cell_height": 909
   },
   "source": "# import unidecode\n# import re\n\n# def main2(instruccion):\n#     global bloque\n    \n#     candidatos_instruccion = instruccion.strip().split(' ')[:5]\n\n#     # lista de comandos disponibles\n#     # []: Todo lo que esta corchetes son los valores que vamos obtener\n#     comandos = [\n#                 'funcion',  # con nombre [nameFuc](y parámetros [x y z])\n#                 'mientras',\n#                 'si',\n#                 'asignar',\n#                 'crear',\n#                 'ejecuta',\n#                 'iteracion'        \n#                 ]\n\n#     # Lista de funciones que nos devolveran las plantillas\n#     plantillas = [\n#                 crear_funcion,\n#                 crear_condicional,\n#                 crear_condicional,\n#                 asignar_variable,\n#                 crear_variable,\n#                 crear_llamada,\n#                 crear_for         \n#                 ]\n\n#     # buscar el comando correspondiente más cercano al deseado\n#     scores = [[] for _ in range(len(comandos))]\n\n#     ind_max_score = [0, 0]\n\n#     # similitud de Jaccard para las primeras dos palabras de la grabación\n    \n#     for i, comando in enumerate(comandos):\n#         for j, palabra in enumerate(candidatos_instruccion):\n#             scores[i].append(sim_jac(palabra, comando))\n\n#             # guardamos índice de la instrucción con más similitud\n#             if scores[i][-1] > scores[ind_max_score[0]][ind_max_score[1]]:\n#                 ind_max_score = [i, j]    \n    \n#     return plantillas[ind_max_score[0]](instruccion)",
   "execution_count": 54,
   "outputs": []
  },
  {
   "cell_type": "code",
   "metadata": {
    "cell_id": "d8891b230f7e4837a8d8cfca1e45fad3",
    "tags": [],
    "deepnote_to_be_reexecuted": false,
    "source_hash": "3bcdebf3",
    "execution_start": 1651538924028,
    "execution_millis": 24,
    "owner_user_id": "e0c6afe4-99d0-40b0-b8eb-7b5ca2d084e6",
    "deepnote_cell_type": "code",
    "deepnote_cell_height": 352.1875,
    "deepnote_output_heights": [
     21.1875
    ]
   },
   "source": "main('definir funcion con nombre fulano y parametros x y z')\nmain('definir mientras con nombre funlano parametros x y ')\nmain('ejecuta print con argumentos variable india producto cadena guión cadena coma cadena hola cadena coma cinco')\nmain('mientras variable india sea menor o igual a cinco')\nmain('definir variable con nombre india igual a numero cinco')\nmain('definir variable con nombre india igual a cadena hola mundo')\nmain('asignar variable contador con contador menos uno')\nmain('asignar variable india con contador mas uno')\nmain('ejecuta print con argumentos cadena hola mundo cadena')\nmain('ejecuta saludar con argumentos variable hola')\nmain('iteracion para alfa en un rango de uno a dos')\nmain('ejecuta saludar con argumentos cadena hola cadena')\nmain('ejecuta print con argumentos variable india producto cadena guion cadena coma cadena hola cadena coma cinco')\nmain('una iteracion para india en un rango cinco')",
   "execution_count": 23,
   "outputs": [
    {
     "output_type": "execute_result",
     "execution_count": 23,
     "data": {
      "text/plain": "'def fulano(x, y, z):\\n\\t\\t\\t\\t|'"
     },
     "metadata": {}
    }
   ]
  },
  {
   "cell_type": "code",
   "source": "pruebas = {'funcion':['definir funcion con nombre fulano y parametros x y z',\n                      'definir funcion con nombre puma'],\n            'condicional': ['si variable india es menor o igual a numero seis',\n                            'mientras variable alpha es menor igual a numero dos'],\n            'llamada':['ejecuta print con argumentos variable india producto cadena guión cadena coma cadena hola cadena coma cinco',\n                        'ejecuta print con argumentos cadena hola mundo cadena']\n    }",
   "metadata": {
    "cell_id": "0b395e7fca4348acb66c78dd642253f2",
    "tags": [],
    "deepnote_to_be_reexecuted": false,
    "source_hash": "91a078e7",
    "execution_start": 1651542710686,
    "execution_millis": 3,
    "deepnote_cell_type": "code",
    "deepnote_cell_height": 189
   },
   "outputs": [],
   "execution_count": 86
  },
  {
   "cell_type": "markdown",
   "source": "<a style='text-decoration:none;line-height:16px;display:flex;color:#5B5B62;padding:10px;justify-content:end;' href='https://deepnote.com?utm_source=created-in-deepnote-cell&projectId=17740a58-e960-4de3-bb66-1575286930f1' target=\"_blank\">\n<img alt='Created in deepnote.com' style='display:inline;max-height:16px;margin:0px;margin-right:7.5px;' src='data:image/svg+xml;base64,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' > </img>\nCreated in <span style='font-weight:600;margin-left:4px;'>Deepnote</span></a>",
   "metadata": {
    "tags": [],
    "created_in_deepnote_cell": true,
    "deepnote_cell_type": "markdown"
   }
  }
 ],
 "nbformat": 4,
 "nbformat_minor": 2,
 "metadata": {
  "orig_nbformat": 2,
  "deepnote": {},
  "deepnote_notebook_id": "10f9ec72-bc7c-4818-b2e2-cb06a5a614e2",
  "deepnote_execution_queue": []
 }
}