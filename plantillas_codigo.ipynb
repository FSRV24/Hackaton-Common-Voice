{
 "cells": [
  {
   "cell_type": "code",
   "metadata": {
    "cell_id": "1684653742b2424bb02219a2ed7395c1",
    "tags": [],
    "deepnote_to_be_reexecuted": false,
    "source_hash": "84c81ca2",
    "execution_start": 1651533590257,
    "execution_millis": 15,
    "deepnote_cell_type": "code",
    "deepnote_cell_height": 81
   },
   "source": "%run \"./variables_globales.ipynb\"",
   "execution_count": 145,
   "outputs": []
  },
  {
   "cell_type": "markdown",
   "source": "# Plantillas de codigo\nFunciones para hacer las plantillas",
   "metadata": {
    "tags": [],
    "cell_id": "5be469d9-8e46-4d48-aa60-f10a6d1139c3",
    "deepnote_cell_type": "markdown",
    "deepnote_cell_height": 120.390625
   }
  },
  {
   "cell_type": "code",
   "metadata": {
    "cell_id": "3d08508f12184df3b9e21a27153e4b7a",
    "tags": [],
    "deepnote_to_be_reexecuted": false,
    "source_hash": "b26511e8",
    "execution_start": 1651528515907,
    "execution_millis": 5,
    "deepnote_cell_type": "code",
    "deepnote_cell_height": 1215
   },
   "source": "def crear_funcion(instruccion):\n    \"\"\"\n    Crea el template de la estructura de una función\n\n    Parametros\n    ----------\n    instrucion: str\n        La intruccion de voz en texto.\n\n    Regresa\n    ---------\n    output: str\n        Codigo generado\n    recomendacion: str\n        Una sugerencia o fallo\n    \"\"\"\n\n    global indentacion\n    global recomendacion\n\n    # guarda los avisos o recomendaciones que el programa te hace\n    recomendacion = ''\n\n    # guarda la línea de código\n    output = ''\n    \n    # pivote que ayuda a definir el nombre de una función\n    before_keyword, keyword, after_keyword = instruccion.partition('nombre')\n\n    # verifica que haya o esté escrita la frase \"nombre\"\n    if len(after_keyword) == 0:\n        recomendacion = f'¡No me dijiste el nombre de la función!'\n\n    # de otro modo, si tiene nombre la función\n    else:\n\n        # obtenemos el nombre de la función por el usuario\n        name_func = after_keyword.split(' ')[1]\n\n        # verificamos si no desea poner parametros                                \n        if instruccion.strip().split(' ')[-1] == name_func:\n            parametros = ''\n\n        # de otro modo, si desea una función con parámetros\n        else:\n            before_keyword, keyword, after_keyword = instruccion.partition('parametros')\n\n            # verifica que si exista el nombre de los parámetros\n            if len(after_keyword) == 0:\n                parametros = ''\n                recomendacion = f'¡No me dijiste el nombre de los parámetros!'\n\n            # escribe como parámetros todo lo que está después de \"parámetros\"\n            else:\n                parametros = after_keyword.split(' ')[1:]\n                parametros = ', '.join(parametros)\n\n        # indenta aunque marque que detecte que no le dije parámetros\n        if not recomendacion or recomendacion == '¡No me dijiste el nombre de los parámetros!':\n            indentacion += 1\n\n        # concatenación del nombre y parámetros de la función\n        output = f'def {name_func}({parametros}):\\n' + '\\t' * indentacion + '|'\n    return output",
   "execution_count": 22,
   "outputs": []
  },
  {
   "cell_type": "markdown",
   "source": "#### Prueba para la funcion \"crear_funcion\"",
   "metadata": {
    "cell_id": "b703f3a6d066484a945f7c4fa0d6d03f",
    "tags": [],
    "deepnote_cell_type": "markdown",
    "deepnote_cell_height": 54
   }
  },
  {
   "cell_type": "code",
   "metadata": {
    "cell_id": "d7c182f840cd4efdb559afad206256fc",
    "tags": [],
    "deepnote_to_be_reexecuted": false,
    "source_hash": "fc4d09e0",
    "execution_start": 1651528519580,
    "execution_millis": 9,
    "deepnote_cell_type": "code",
    "deepnote_cell_height": 118.1875,
    "deepnote_output_heights": [
     21.1875
    ]
   },
   "source": "crear_funcion('definir función con nombre magica y parametros x y z')",
   "execution_count": 23,
   "outputs": [
    {
     "output_type": "execute_result",
     "execution_count": 23,
     "data": {
      "text/plain": "'def magica(x, y, z):\\n\\t'"
     },
     "metadata": {}
    }
   ]
  },
  {
   "cell_type": "markdown",
   "source": "## crear_condicional ",
   "metadata": {
    "cell_id": "19cae42d2f7e4fd08f5e39e80168c09f",
    "tags": [],
    "deepnote_cell_type": "markdown",
    "deepnote_cell_height": 70
   }
  },
  {
   "cell_type": "code",
   "metadata": {
    "cell_id": "51891e72df4f468d99c0e65449c3b201",
    "tags": [],
    "deepnote_to_be_reexecuted": false,
    "source_hash": "7ae3770e",
    "execution_start": 1651533596744,
    "execution_millis": 5,
    "deepnote_cell_type": "code",
    "deepnote_cell_height": 1719
   },
   "source": "import re\ndef encontrar_palabras(transcript,cjto_palabras):\n\n    \"\"\"\n    Toma un string (en minúsculos) y un conjunto de palabras. Busca el primer match\n    de cjto_palabras en transcript y particiona el string\n\n    Parametros\n    ----------\n    transcript: str\n        La intruccion de voz en texto ya en minúsculas.\n    cjto_palabras: list(str)\n        Lista de strings donde se comienza a dividir el transcript original\n\n    Regresa\n    ---------\n    output: list(str)\n        [antes_palabra,palabra,despues_palabra]\n\n        antes_palabra: string que está antes de la palabra de interés (de cjto_palabras)\n        palabra: string que da la palabra clave donde dividimos\n        despues_palabra: string que está después de la palabra\n    \n    Ejemplo\n    --------\n    encontrar_palabras('variable india producto variable alfa',['producto','suma','menos','entre'])\n    >> ['variable india','producto',' variable alfa]\n    \"\"\" \n    inicio,final=list(re.finditer(r'|'.join(cjto_palabras),transcript))[0].span()\n    antes_palabra=transcript[:inicio].strip()\n    despues_palabra=transcript[final:].strip()\n    palabra=transcript[inicio:final]\n    return antes_palabra,palabra,despues_palabra\n\ndef crear_condicional(transcript):\n    ''' \n    Toma el transcript de un enunciado condicional y regresa su traducción a código en Python\n\n    Parametros\n    ----------\n    transcript: str\n        La intruccion de voz en texto ya en minúsculas.\n\n\n    Regresa\n    ---------\n    output: str\n        Cadena con el código en python, tiene una línea al final y un pipe \n        que representa el prompt donde se seguirá escribiendo\n    \n    Ejemplo\n    --------\n    crear_condicional('mientras variable india sea menor igual a numero seis')\n    >> while (i<=6):\n    >>      |\n    '''    \n    global bloque\n\n    keyword_mapeo={'mientras':'while','si':'if','no si':'elif'}\n    antes_keyword,keyword,desp_keyword=encontrar_palabras(transcript,keyword_mapeo.keys())\n    cadena=keyword_mapeo[keyword]\n    bloque = keyword\n\n    # Primera división\n    condicional_mapeo={'menor estricto':'<','menor o igual':'<=','igual':'==','diferente':'!='\n    ,'mayor estricto':'>','mayor o igual':'>='}\n    cjto_condicional=condicional_mapeo.keys()\n    antes_condicional,palabra_condicional,despues_condicional=encontrar_palabras(transcript,cjto_condicional) \n    \n    \n    # Buscar antes en la lista de variables\n    \n    a_var,var,d_var=encontrar_palabras(antes_condicional,['variable'])\n    nombre_var=d_var.split(' ')[0]\n\n    if diccionario_fonetico.get(nombre_var,False):\n        nombre_var=diccionario_fonetico[nombre_var]\n\n\n    cadena+=' '+nombre_var+' ' +condicional_mapeo[palabra_condicional]\n\n    # Buscar en despues_condicional el número \n\n    valor=despues_condicional.split(' ')[-1]\n\n    if dict_numeros.get(valor,False):\n        valor=str(dict_numeros[valor])\n\n    global indentacion\n    indentacion+=1\n\n    return f'{keyword_mapeo[keyword]} {nombre_var} {condicional_mapeo[palabra_condicional]} {valor}:'+'\\n' +'\\t'* indentacion+'|'",
   "execution_count": 146,
   "outputs": []
  },
  {
   "cell_type": "markdown",
   "source": "#### Prueba para la funcion \"crear_condicional\"",
   "metadata": {
    "cell_id": "333e5b3bf5354e9e8b737f52eff95985",
    "tags": [],
    "deepnote_cell_type": "markdown",
    "deepnote_cell_height": 54
   }
  },
  {
   "cell_type": "code",
   "source": "a=set('definir variable india'.split(' '))\nb=set(['definir','variable'])\n\na.union(b)",
   "metadata": {
    "cell_id": "c0c8829de304469681035ed2881114a1",
    "tags": [],
    "deepnote_to_be_reexecuted": false,
    "source_hash": "582dc7c4",
    "execution_start": 1651541037996,
    "execution_millis": 12,
    "deepnote_cell_type": "code",
    "deepnote_cell_height": 172.1875,
    "deepnote_output_heights": [
     21.1875
    ]
   },
   "outputs": [
    {
     "output_type": "execute_result",
     "execution_count": 254,
     "data": {
      "text/plain": "{'definir', 'india', 'variable'}"
     },
     "metadata": {}
    }
   ],
   "execution_count": 254
  },
  {
   "cell_type": "code",
   "source": "",
   "metadata": {
    "cell_id": "c125d61870b64d4cbc7504c6ab8606fa",
    "tags": [],
    "deepnote_to_be_reexecuted": false,
    "source_hash": "21543731",
    "execution_start": 1651540975324,
    "execution_millis": 162,
    "deepnote_cell_type": "code",
    "deepnote_cell_height": 118.1875,
    "deepnote_output_heights": [
     21.1875
    ]
   },
   "outputs": [
    {
     "output_type": "execute_result",
     "execution_count": 251,
     "data": {
      "text/plain": "['definir', 'variable', 'india']"
     },
     "metadata": {}
    }
   ],
   "execution_count": 251
  },
  {
   "cell_type": "code",
   "metadata": {
    "cell_id": "62e45d9f63264a019b99bdc6d16c813c",
    "tags": [],
    "deepnote_to_be_reexecuted": false,
    "source_hash": "ba00f6e3",
    "execution_start": 1651529407816,
    "execution_millis": 2,
    "deepnote_cell_type": "code",
    "deepnote_cell_height": 298
   },
   "source": "indentacion = 0\ntest_frases_condicional = [\n    'si variable india es menor o igual a numero seis',\n    'mientras variable alpha es menor igual a numero dos'\n    ]\n\nfor ai in test_frases_condicional:    \n    print(crear_condicional(ai))    ",
   "execution_count": 41,
   "outputs": [
    {
     "name": "stdout",
     "text": "if i <= 6:\n\t|\nwhile alpha == 2:\n\t\t|\n",
     "output_type": "stream"
    }
   ]
  },
  {
   "cell_type": "markdown",
   "source": "## crear_cadena",
   "metadata": {
    "cell_id": "e36592425ed945299280b9e44a5283cf",
    "tags": [],
    "deepnote_cell_type": "markdown",
    "deepnote_cell_height": 70
   }
  },
  {
   "cell_type": "code",
   "metadata": {
    "cell_id": "d015067470674b2ebf28a31f98c427b2",
    "tags": [],
    "deepnote_to_be_reexecuted": false,
    "source_hash": "11154ad4",
    "execution_start": 1651529633478,
    "execution_millis": 5,
    "deepnote_cell_type": "code",
    "deepnote_cell_height": 621
   },
   "source": "def crear_cadena(transcript):\n    \"\"\"\n    Toma el transcript de un enunciado que contiene una cadena y regresa el código en Python.\n    Para usarse cuando ya se sabe que transcript sólo es los límites de la cadena\n\n    Parametros\n    ----------\n    transcript: str\n        La intruccion de voz en texto ya en minúsculas.\n\n\n    Regresa\n    ---------\n    output: list(str)\n        antes_palabra:parte del transcript que va antes de las comillas\n        palabra: Cadena con el código en python de las comillas y lo que está adentro\n        despues_palabra:parte del transcript que va antes de las comillas\n    \n    Ejemplo\n    --------\n    crear_cadena('ejecuta print con argumentos variable India producto cadena guion cadena')[1]\n    >> ['ejecuta print con argumentos variable India producto','\"guion\"','']\n    \"\"\"\n    try:\n        inicio,final=list(re.finditer(r\"cadena (.+) cadena\",transcript))[0].span()\n    except:\n        return ''\n    antes_palabra=transcript[:inicio].strip()\n    despues_palabra=transcript[final:].strip()\n    palabra=list(re.finditer(r\"cadena (.+) cadena\",transcript))[0].group(1)\n    return antes_palabra,f'\"{palabra}\"',despues_palabra",
   "execution_count": 43,
   "outputs": []
  },
  {
   "cell_type": "markdown",
   "source": "\n#### Prueba para la funcion \"crear_cadena\"",
   "metadata": {
    "cell_id": "c3e30abfb8e84091833810a04c174796",
    "tags": [],
    "deepnote_cell_type": "markdown",
    "deepnote_cell_height": 54
   }
  },
  {
   "cell_type": "code",
   "metadata": {
    "cell_id": "39bb8f1688564c42aa6818fa8636b5b9",
    "tags": [],
    "deepnote_to_be_reexecuted": false,
    "source_hash": "8d0a34a",
    "execution_start": 1651529849433,
    "execution_millis": 3,
    "deepnote_cell_type": "code",
    "deepnote_cell_height": 240
   },
   "source": "test_str_cadena=[\n    'ejecuta print con argumentos variable India producto cadena guión cadena',\n    'ejecuta print con argumentos cadena Hola mundo cadena'\n    ]\n\nfor ti in test_str_cadena:\n    print(crear_cadena(ti))",
   "execution_count": 51,
   "outputs": [
    {
     "name": "stdout",
     "text": "('ejecuta print con argumentos variable India producto', '\"guión\"', '')\n('ejecuta print con argumentos', '\"Hola mundo\"', '')\n",
     "output_type": "stream"
    }
   ]
  },
  {
   "cell_type": "markdown",
   "source": "## crear_var_existente",
   "metadata": {
    "cell_id": "c1372e5aaf1545ccac6b3c4d734dd521",
    "tags": [],
    "deepnote_cell_type": "markdown",
    "deepnote_cell_height": 70
   }
  },
  {
   "cell_type": "code",
   "metadata": {
    "cell_id": "3f550bad3955463b99ac81031f433d23",
    "tags": [],
    "deepnote_to_be_reexecuted": false,
    "source_hash": "4de67bb1",
    "execution_start": 1651529813697,
    "execution_millis": 1,
    "deepnote_cell_type": "code",
    "deepnote_cell_height": 639
   },
   "source": "def crear_var_existente(transcript):\n    \"\"\"\n    Toma el transcript de un enunciado que contiene la mención de una variable\n     y devuelve dicha variable\n\n    Parametros\n    ----------\n    transcript: str\n        La intruccion de voz en texto ya en minúsculas.\n\n\n    Regresa\n    ---------\n    output: str\n        palabra: Cadena con el código en python del nombre de la variable\n    \n    Ejemplo\n    --------\n    crear_var_existente('ejecuta print con argumentos variable india producto cadena guión cadena')\n    >> i\n    \"\"\"\n    try:\n        antes_var,var,desp_var=encontrar_palabras(transcript,['variable'])\n    except:\n        return '' \n\n    nombre_var=desp_var.split(' ')[0]\n    if diccionario_fonetico.get(nombre_var,False):\n        nombre_var=diccionario_fonetico[nombre_var]\n    \n    return nombre_var\n",
   "execution_count": 49,
   "outputs": []
  },
  {
   "cell_type": "markdown",
   "source": "#### Test crear_var_existente",
   "metadata": {
    "cell_id": "31723917bd554ec98307827605c4e30b",
    "tags": [],
    "deepnote_cell_type": "markdown",
    "deepnote_cell_height": 54
   }
  },
  {
   "cell_type": "code",
   "metadata": {
    "cell_id": "139b8151a07b46738f13921bf5a81b5c",
    "tags": [],
    "deepnote_to_be_reexecuted": false,
    "source_hash": "12aef74a",
    "execution_start": 1651529815624,
    "execution_millis": 9,
    "deepnote_cell_type": "code",
    "deepnote_cell_height": 240
   },
   "source": "test_str_cadena=[\n    'ejecuta print con argumentos variable india producto cadena guión cadena',\n    'ejecuta print con argumentos cadena Hola mundo cadea'\n    ]\n\nfor ti in test_str_cadena:\n    print(crear_var_existente(ti))",
   "execution_count": 50,
   "outputs": [
    {
     "name": "stdout",
     "text": "i\n\n",
     "output_type": "stream"
    }
   ]
  },
  {
   "cell_type": "markdown",
   "source": "## crear_operacion",
   "metadata": {
    "cell_id": "19dd85e179b34d389c050fb919b44fe3",
    "tags": [],
    "deepnote_cell_type": "markdown",
    "deepnote_cell_height": 70
   }
  },
  {
   "cell_type": "code",
   "metadata": {
    "cell_id": "10af7c36b5814db982f21f606cbccf8c",
    "tags": [],
    "deepnote_to_be_reexecuted": false,
    "source_hash": "31d3f99f",
    "execution_start": 1651534123278,
    "execution_millis": 4,
    "deepnote_cell_type": "code",
    "deepnote_cell_height": 1215
   },
   "source": "# TODO: Hay que ver:\n    # Si es otra operación hay que llamar la función recursivamente en cada pedazo\n    # 1. si es cadena\n    # 2. si es otra operación. Para esto, hay que regresar error o algo así cuando no se encuentre\ndef crear_operacion(transcript):\n    '''\n\n    Toma el transcript de una operación binaria y la traduce a código de Python.\n    Para traducir las variables que se usan en la operación binaria busca \n    si son cadenas o sólo menciones de variables usando las funciones\n    crear_cadena y crear_var_existente\n\n    Parametros\n    ----------\n    transcript: str\n        La intruccion de voz en texto ya en minúsculas.\n\n\n    Regresa\n    ---------\n    output: str\n        Cadena con el código en python\n    \n    Ejemplo\n    --------\n    crear_operacion('variable India producto cadena guión cadena')\n    >> i*'-'\n    '''\n    global dict_operaciones\n    \n\n    try:\n        antes_op,op,desp_op=encontrar_palabras(transcript,dict_operaciones.keys())\n    except:\n        return '' \n\n    # Buscamos la información en la cadena detrás del operador\n    cadena_izq=crear_var_existente(antes_op)\n    try:\n        cadena_izq+=f'{crear_cadena(antes_op)[1]}'\n    except:\n        cadena_izq+=''\n        \n    if len(cadena_izq)==0:\n        nombre_var=antes_op.split(' ')[-1]\n        if dict_numeros.get(nombre_var,False):\n            nombre_var=dict_numeros[nombre_var]\n        cadena_izq+=str(nombre_var)\n        \n    # Buscamos la información en la cadena después del operador\n    cadena_der=crear_var_existente(desp_op)\n    try:\n        cadena_der+=f'{crear_cadena(desp_op)[1]}'\n    except:\n        cadena_der+=''\n    \n    if len(cadena_der)==0:\n        nombre_var=desp_op.split(' ')[0]\n        if dict_numeros.get(nombre_var,False):\n            nombre_var=dict_numeros[nombre_var]\n        cadena_der+=str(nombre_var)\n\n                \n    return f'{cadena_izq} {dict_operaciones[op]} {cadena_der}'",
   "execution_count": 175,
   "outputs": []
  },
  {
   "cell_type": "markdown",
   "source": "#### Test crear_operacion",
   "metadata": {
    "cell_id": "1b1c10ae507442e6b711d40945ea5cd1",
    "tags": [],
    "deepnote_cell_type": "markdown",
    "deepnote_cell_height": 54
   }
  },
  {
   "cell_type": "code",
   "metadata": {
    "cell_id": "568a9ccd1bcf4332b6d4f18fddfed608",
    "tags": [],
    "deepnote_to_be_reexecuted": false,
    "source_hash": "a0df3bb0",
    "execution_start": 1651534284543,
    "execution_millis": 186,
    "deepnote_cell_type": "code",
    "deepnote_cell_height": 334
   },
   "source": "test_str_operacion=[\n    'variable india producto cadena guión cadena',\n    'variable india menos variable Francis','cinco entre tres',\n    'variable india mas variable alfa'\n    ] \n\n#checar tercer caso, usando números enteros o lo que están en el diccionario\n\nfor ti in test_str_operacion:\n    print(crear_operacion(ti))",
   "execution_count": 183,
   "outputs": [
    {
     "name": "stdout",
     "text": "i * \"guión\"\ni - Francis\n5 / 3\n\n",
     "output_type": "stream"
    }
   ]
  },
  {
   "cell_type": "code",
   "source": "",
   "metadata": {
    "cell_id": "72f640a8f3104905952f30bcbb32fb42",
    "tags": [],
    "deepnote_to_be_reexecuted": false,
    "source_hash": "bafcb35f",
    "execution_start": 1651533671050,
    "execution_millis": 14,
    "deepnote_cell_type": "code",
    "deepnote_cell_height": 118.1875,
    "deepnote_output_heights": [
     21.1875
    ]
   },
   "outputs": [
    {
     "output_type": "execute_result",
     "execution_count": 150,
     "data": {
      "text/plain": "'i * '"
     },
     "metadata": {}
    }
   ],
   "execution_count": 150
  },
  {
   "cell_type": "markdown",
   "source": "## crear_llamada",
   "metadata": {
    "cell_id": "92f3698bb61a4548acc05ec10b762b5f",
    "tags": [],
    "deepnote_cell_type": "markdown",
    "deepnote_cell_height": 70
   }
  },
  {
   "cell_type": "code",
   "metadata": {
    "cell_id": "c0a953cfac1d455c9bdd2fc190397440",
    "tags": [],
    "deepnote_to_be_reexecuted": false,
    "source_hash": "7c828054",
    "execution_start": 1651536566377,
    "execution_millis": 0,
    "deepnote_cell_type": "code",
    "deepnote_cell_height": 1179,
    "deepnote_output_heights": [
     null,
     290
    ]
   },
   "source": "def crear_llamada(transcript):\n    \"\"\"\n    Toma el transcript de la llamada de una función y la convierte en código de Python\n        Hace uso de las funciones que detectan operaciones, variables y comillas\n        ,para cada argumento de la función\n\n    Parametros\n    ----------\n    transcript: str\n        La intruccion de voz en texto ya en minúsculas.\n\n\n    Regresa\n    ---------\n    output: str\n        Cadena con el código en python\n    \n    Ejemplo\n    --------\n    crear_llamada(ejecuta print con argumentos variable India producto cadena guión cadena \n                    coma cadena hola cadena')\n    >> print(i*'-','hola')\n    \n    \"\"\"\n    antes_ej,ej,desp_ej=encontrar_palabras(transcript,['ejecuta'])\n    funcion_nombre=desp_ej.split(' ')[0]\n    # Aquí tal vez valdría la pena tener un registro de las funciones previamente definidas para\n    # poder buscar en un directorio con Jaccard y no aproximar\n\n    antes_arg,keyword,desp_arg=encontrar_palabras(desp_ej,['argumentos','parametros'])\n\n    argumentos=desp_arg.split('coma')\n    lista_cadenas=[]\n    for arg in argumentos:\n        arg=arg.strip()\n        cadena_arg=''\n        # print('arg',arg)\n        # Caso cuando es operacion\n        cadena_op=crear_operacion(arg)\n        cadena_var=crear_var_existente(arg)\n        cadena_cadena=crear_cadena(arg)\n        if len(cadena_op)!=0:\n            lista_cadenas.append(cadena_op)\n        elif len(cadena_var)!=0:\n            lista_cadenas.append(cadena_var)\n        elif len(cadena_cadena)!=0:\n            lista_cadenas.append(cadena_cadena[1])\n        else:\n            nombre_var=arg\n            if dict_numeros.get(nombre_var,False):\n                nombre_var=str(dict_numeros[nombre_var])\n                \n            lista_cadenas.append(nombre_var)\n\n        # Caso cuando es variable\n        \n    cadena_final=','.join(lista_cadenas)\n    cadena=f'{funcion_nombre}({cadena_final})\\n'+'\\t'*identacion\n\n    return cadena\n\n",
   "execution_count": 234,
   "outputs": []
  },
  {
   "cell_type": "markdown",
   "source": "#### test crear_llamada",
   "metadata": {
    "cell_id": "b40e92e116d34d8fb98696ae66fb1941",
    "tags": [],
    "deepnote_cell_type": "markdown",
    "deepnote_cell_height": 54
   }
  },
  {
   "cell_type": "code",
   "metadata": {
    "cell_id": "cb7b93ff5fda4660a1e97d937dec742a",
    "tags": [],
    "deepnote_to_be_reexecuted": false,
    "source_hash": "be7a4ecd",
    "execution_start": 1651536568845,
    "execution_millis": 5,
    "owner_user_id": "0c4dcfb5-18e5-4741-8d58-1d382d2f5d7d",
    "deepnote_cell_type": "code",
    "deepnote_cell_height": 222
   },
   "source": "test_str_ej=[\n    'ejecuta print con argumentos variable india producto cadena guión cadena coma cadena hola cadena coma cinco',\n    'ejecuta print con argumentos cadena hola mundo cadena'\n]\nfor ti in test_str_ej:\n    print(crear_llamada(ti))",
   "execution_count": 235,
   "outputs": [
    {
     "name": "stdout",
     "text": "print(i * \"guión\",\"hola\",5)\nprint(\"hola mundo\")\n",
     "output_type": "stream"
    }
   ]
  },
  {
   "cell_type": "markdown",
   "source": "## crear_variable",
   "metadata": {
    "cell_id": "2476f11d771f4c33adb48ea11bb4bf84",
    "tags": [],
    "deepnote_cell_type": "markdown",
    "deepnote_cell_height": 70
   }
  },
  {
   "cell_type": "code",
   "metadata": {
    "cell_id": "7d72427aa6704083a9cf1e89440d025b",
    "tags": [],
    "deepnote_to_be_reexecuted": false,
    "source_hash": "f90c0f86",
    "execution_start": 1651528460508,
    "execution_millis": 13,
    "deepnote_cell_type": "code",
    "deepnote_cell_height": 855
   },
   "source": "def crear_variable(instruccion):\n    \"\"\"\n    Estructura:\n    definir variable con nombre [nombre_variable] igual a /*objeto_basico* valor/ \n\n    Parametros\n    ----------\n    instrucion: str\n        La intruccion de voz en texto.\n\n    Regresa\n    ---------\n    output: str\n        Codigo generado\n    recomendacion: str\n        Una sugerencia o fallo\n\n    Testing\n    -------\n    >>> definir variable con nombre india igual a numero uno\n    >>> definir variable con nombre i igual a numero 1 (int)\n    >>> definir variable con nombre i igual a flotante tres punto cinco (float) \n    >>> definir variable con nombre i igual a cadena hola (string) \n    >>> definir variable con nombre i igual a lista/dic (string)   \n    \"\"\"     \n    global indentacion\n\n    # pivote que ayuda a definir el nombre de la variable\n    before_keyword, keyword, after_keyword = instruccion.partition('nombre')\n    after_keyword_list = after_keyword.strip().split(' ')\n    # [india igual a numero uno]\n    name_variable = after_keyword_list[0]\n    \n    # Como sabemos que despues del nombre va seguido de \"igual a\"\n    tipo_dato = after_keyword_list[3]        \n    #print(after_keyword_list[4:]) -> lista\n    valor = tipos_datos[tipo_dato](after_keyword_list[4:])        \n    \n    # Verificamos si es una palabra fonetica\n    if diccionario_fonetico.get(name_variable,False):\n        name_variable=diccionario_fonetico[name_variable] \n\n    codigo_generado = f'{name_variable} = {valor}\\n'+ '\\t' * indentacion + '|'\n    return codigo_generado",
   "execution_count": 17,
   "outputs": []
  },
  {
   "cell_type": "markdown",
   "source": "####  Prueba para la funcion \"crear_variable\"",
   "metadata": {
    "cell_id": "a2c4ef2ffdb74edebda8bec6226db73c",
    "tags": [],
    "deepnote_cell_type": "markdown",
    "deepnote_cell_height": 54
   }
  },
  {
   "cell_type": "code",
   "metadata": {
    "cell_id": "5ba5e7a77e9b42468ec69ed0b9b2385e",
    "tags": [],
    "deepnote_to_be_reexecuted": false,
    "source_hash": "b03f696c",
    "execution_start": 1651532174256,
    "execution_millis": 3,
    "deepnote_cell_type": "code",
    "deepnote_cell_height": 171
   },
   "source": "test_frases_variables = [\n'definir variable con nombre india igual a numero cuatro',\n'definir variable con nombre i igual a flotante tres punto cinco',\n'definir variable con nombre i igual a cadena hola mundo',\n'definir variable con nombre i igual a lista',\n]",
   "execution_count": 99,
   "outputs": []
  },
  {
   "cell_type": "code",
   "metadata": {
    "cell_id": "d6af7c7dddde4443a527753b5ff722e1",
    "tags": [],
    "deepnote_to_be_reexecuted": false,
    "source_hash": "13bb4e15",
    "execution_start": 1651532558372,
    "execution_millis": 8,
    "deepnote_cell_type": "code",
    "deepnote_cell_height": 118.1875,
    "deepnote_output_heights": [
     21.1875,
     21.1875
    ]
   },
   "source": "crear_variable(test_frases_variables[0])",
   "execution_count": 108,
   "outputs": [
    {
     "output_type": "execute_result",
     "execution_count": 108,
     "data": {
      "text/plain": "'i = 4\\n|'"
     },
     "metadata": {}
    }
   ]
  },
  {
   "cell_type": "code",
   "source": "def asignar_variable(instruccion):\n    \"\"\"    \n    Asigna una variable (eg. indio = indio + 1)\n\n    Parametros\n    ----------\n    instrucion: str\n        La intruccion de voz en texto.\n\n    Regresa\n    ---------\n    output: str\n        Codigo generado (indio = indio + 1)\n    \n    Testing\n    --------\n    >>>'asignar variable india con india suma uno',\n    >>>'asignar variable contador con contador menos uno',\n    >>>'asignar variable contador con alfa',\n    >>>'asignar variable india con india',\n    \n    \"\"\" \n    before_keyword, keyword, after_keyword = instruccion.partition('variable')\n    after_keyword_list = after_keyword.strip().split(' ')\n    name_variable = after_keyword_list[0]\n    start = after_keyword_list.index('con') + 1\n    operacion = after_keyword_list[start:]\n    if len(operacion) != 1:\n        operacion_str = crear_operacion(keyword + ' ' + ' '.join(operacion))\n    else:\n        operacion_str = operacion[0]\n        # Verificamos si es una palabra fonetica para lado derecho de la \n        # asignacion\n        if diccionario_fonetico.get(operacion_str,False):\n            operacion_str=diccionario_fonetico[operacion_str] \n\n    # Verificamos si es una palabra fonetica\n    if diccionario_fonetico.get(name_variable,False):\n        name_variable=diccionario_fonetico[name_variable] \n\n    codigo_generado = f'{name_variable} = {operacion_str}\\n'+ '\\t' * indentacion + '|'\n    return codigo_generado",
   "metadata": {
    "cell_id": "33dd65882be34381a3a305ff99878c3d",
    "tags": [],
    "deepnote_to_be_reexecuted": false,
    "source_hash": "75bbadc7",
    "execution_start": 1651536239373,
    "execution_millis": 2,
    "owner_user_id": "e0c6afe4-99d0-40b0-b8eb-7b5ca2d084e6",
    "deepnote_cell_type": "code",
    "deepnote_cell_height": 819
   },
   "outputs": [],
   "execution_count": 229
  },
  {
   "cell_type": "markdown",
   "source": "#### Testing asignar_variable",
   "metadata": {
    "cell_id": "a7598673028840689354ce47309b7381",
    "tags": [],
    "deepnote_cell_type": "markdown",
    "deepnote_cell_height": 54
   },
   "outputs": [],
   "execution_count": null
  },
  {
   "cell_type": "code",
   "source": "test_asignar_var = [\n'asignar variable india con india suma uno',\n'asignar variable contador con contador menos uno',\n'asignar variable contador con alfa',\n'asignar variable india con india',\n]\n\nasignar_variable(test_asignar_var[1])",
   "metadata": {
    "cell_id": "d2fa19fbbe214b468f8602383055fc35",
    "tags": [],
    "deepnote_to_be_reexecuted": false,
    "source_hash": "d006402",
    "execution_start": 1651536310374,
    "execution_millis": 5,
    "deepnote_cell_type": "code",
    "deepnote_cell_height": 244.1875,
    "deepnote_output_heights": [
     21.1875
    ]
   },
   "outputs": [
    {
     "output_type": "execute_result",
     "execution_count": 231,
     "data": {
      "text/plain": "'contador = contador - 1\\n|'"
     },
     "metadata": {}
    }
   ],
   "execution_count": 231
  },
  {
   "cell_type": "markdown",
   "source": "# crear_for",
   "metadata": {
    "cell_id": "14a70a19b78446beb82b7b14d2b66cd0",
    "tags": [],
    "deepnote_cell_type": "markdown",
    "deepnote_cell_height": 82
   }
  },
  {
   "cell_type": "code",
   "metadata": {
    "cell_id": "28b5f12cc5dd4c6a912c32c8a239135f",
    "tags": [],
    "deepnote_to_be_reexecuted": false,
    "source_hash": "88955e47",
    "execution_start": 1651534544171,
    "execution_millis": 6,
    "deepnote_cell_type": "code",
    "deepnote_cell_height": 1305
   },
   "source": "def crear_for(instruccion):\n    \"\"\"\n    Crea el template de la estructura de un ciclo for.\n\n    Parámetros\n    ----------\n    instrucción: str\n        La intrucción de voz en texto.\n\n    Regresa\n    ---------\n    output: str\n        Estructura del ciclo for\n    recomendacion: str\n        Una sugerencia o error\n    \"\"\"\n\n    global indentacion\n    global recomendacion\n\n    vocabulario_basico = ['iteracion', 'rango']\n\n    # verificamos si la frase cumple los requisitos\n    instruccion_tokens = instruccion.strip().split(' ')\n\n    for i in vocabulario_basico:\n        try:\n            instruccion_tokens.index(i)\n        except:\n            recomendacion = 'Parece que quieres una iteración pero no reconozco tus comandos, inténtalo de nuevo'\n            return f'', recomendacion\n\n    # guarda los avisos o recomendaciones que el programa te hace\n    recomendacion = ''\n\n    # guarda la línea de código\n    output = ''\n    \n    # pivote que ayuda a definir el rango e iterador\n    before_keyword, keyword, after_keyword = instruccion.partition('iteracion')\n\n    if after_keyword.strip().split(' ')[1] in diccionario_fonetico:\n        iterador = diccionario_fonetico[after_keyword.strip().split(' ')[1]]\n\n    else:\n        iterador = after_keyword.strip().split(' ')[1]\n\n    before_keyword, keyword, after_keyword = instruccion.partition('rango')\n\n    limites = []\n\n    for i, item in enumerate(after_keyword.strip().split(' ')):\n        try:\n            limites.append(dict_numeros[item])\n        except:\n            continue\n\n    if len(limites) == 0:\n        return f'', 'No encontré los límites del rango, vuelve a intentarlo'\n\n    elif len(limites) == 1:\n        return f'for {iterador} in range({limites[-1]}):\\n' + '\\t' * indentacion + '|', recomendacion\n\n    elif len(limites) == 2:\n        return f'for {iterador} in range({limites[0]}, {limites[1]}):\\n' + '\\t' * indentacion + '|', recomendacion\n\n    elif len(limites) >= 2:\n        recomendacion = 'Me dictaste más de un número en el rango pero tomé los dos primeros'\n        return f'for {iterador} in range({limites[0]}, {limites[1]}):\\n' + '\\t' * indentacion + '|', recomendacion",
   "execution_count": 189,
   "outputs": []
  },
  {
   "cell_type": "markdown",
   "source": "####  Prueba para la funcion \"crear_for\"",
   "metadata": {
    "cell_id": "8a42f8d6e89246ecad1963fb8cabefee",
    "tags": [],
    "deepnote_cell_type": "markdown",
    "deepnote_cell_height": 54
   }
  },
  {
   "cell_type": "code",
   "source": "print(crear_for('ejecuta una iteracion para alfa en un rango de uno a dos')[0])\nprint(crear_for('ejecuta una iteracion para alfa en un rango de a dos')[0])\nprint(crear_for('ejecuta una iteracion para alfa en un rango dos')[0])\nprint(crear_for('ejecuta una iteracion para india en un rango cinco')[0])",
   "metadata": {
    "cell_id": "7c42ee3ff7b849b18d9b77a031d9258c",
    "tags": [],
    "deepnote_to_be_reexecuted": false,
    "source_hash": "70ecd823",
    "execution_start": 1651535353474,
    "execution_millis": 11,
    "deepnote_cell_type": "code",
    "deepnote_cell_height": 306,
    "deepnote_output_heights": [
     21.1875,
     21.1875
    ]
   },
   "outputs": [
    {
     "name": "stdout",
     "text": "for a in range(1, 2):\n|\nfor a in range(2):\n|\nfor a in range(2):\n|\nfor i in range(5):\n|\n",
     "output_type": "stream"
    }
   ],
   "execution_count": 200
  },
  {
   "cell_type": "markdown",
   "source": "Propuestas:\n\n- **para** alfa **en** un **rango** de uno a dos",
   "metadata": {
    "cell_id": "02d5ee3bfc9d4391af148b946d3e84e8",
    "tags": [],
    "owner_user_id": "b7f90450-0770-40af-820a-2f5d5913daed",
    "deepnote_cell_type": "markdown",
    "deepnote_cell_height": 102.796875
   }
  },
  {
   "cell_type": "markdown",
   "source": "# borrar_linea",
   "metadata": {
    "cell_id": "eb325c8fdc1c476eaff0f28f92222932",
    "tags": [],
    "deepnote_cell_type": "markdown",
    "deepnote_cell_height": 82
   }
  },
  {
   "cell_type": "code",
   "source": "def borrar_linea(contexto):\n    \"\"\"\n    Borra la última línea dado un bloque de código creado.\n\n    Parámetros\n    ----------\n    instrucción: str\n        Bloque de código hasta el momento.\n\n    Regresa\n    ---------\n    output: str\n        Nuevo bloque de código.\n    \"\"\"\n    pass\n    ",
   "metadata": {
    "cell_id": "c679868d93bb430bbb12ffe0e444fa1c",
    "tags": [],
    "deepnote_to_be_reexecuted": false,
    "source_hash": "510bceaf",
    "execution_start": 1651538106910,
    "execution_millis": 15,
    "deepnote_cell_type": "code",
    "deepnote_cell_height": 351
   },
   "outputs": [],
   "execution_count": 244
  },
  {
   "cell_type": "markdown",
   "source": "#### prueba para la función \"borrar_linea\"",
   "metadata": {
    "cell_id": "97a8acd71c0143399285d0b5ce42ee79",
    "tags": [],
    "deepnote_cell_type": "markdown",
    "deepnote_cell_height": 54
   }
  },
  {
   "cell_type": "code",
   "source": "cadena_prueba = 'def generica(x, y)\\n\\ti = x\\n\\tj = y'\n\ncadena_prueba[::-1]",
   "metadata": {
    "cell_id": "b79fa60e42614ae381b20729ca179d32",
    "tags": [],
    "deepnote_to_be_reexecuted": false,
    "source_hash": "e5475f53",
    "execution_start": 1651538037901,
    "execution_millis": 2,
    "deepnote_cell_type": "code",
    "deepnote_cell_height": 154.1875,
    "deepnote_output_heights": [
     21.1875
    ]
   },
   "outputs": [
    {
     "output_type": "execute_result",
     "execution_count": 243,
     "data": {
      "text/plain": "'y = j\\t\\nx = i\\t\\n)y ,x(acireneg fed'"
     },
     "metadata": {}
    }
   ],
   "execution_count": 243
  },
  {
   "cell_type": "markdown",
   "source": "### Funciones pendientes",
   "metadata": {
    "cell_id": "bc9fe03eb3f44b81b0b394779500b37f",
    "tags": [],
    "deepnote_cell_type": "markdown",
    "deepnote_cell_height": 62
   }
  },
  {
   "cell_type": "code",
   "metadata": {
    "cell_id": "44b38695ad0846dcb2759b6e3d4481ce",
    "tags": [],
    "deepnote_to_be_reexecuted": false,
    "source_hash": "62e8b3a7",
    "execution_start": 1651528460534,
    "execution_millis": 0,
    "deepnote_cell_type": "code",
    "deepnote_cell_height": 171
   },
   "source": "def crear_clase():\n    global indentacion\n    # ....\n    \n    indentacion += 1\n    pass    ",
   "execution_count": 20,
   "outputs": []
  },
  {
   "cell_type": "code",
   "source": "",
   "metadata": {
    "cell_id": "69151d00b593449f97f56cb435c1ebd4",
    "tags": [],
    "deepnote_cell_type": "code",
    "deepnote_cell_height": 66
   },
   "outputs": [],
   "execution_count": null
  },
  {
   "cell_type": "markdown",
   "source": "<a style='text-decoration:none;line-height:16px;display:flex;color:#5B5B62;padding:10px;justify-content:end;' href='https://deepnote.com?utm_source=created-in-deepnote-cell&projectId=17740a58-e960-4de3-bb66-1575286930f1' target=\"_blank\">\n<img alt='Created in deepnote.com' style='display:inline;max-height:16px;margin:0px;margin-right:7.5px;' src='data:image/svg+xml;base64,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' > </img>\nCreated in <span style='font-weight:600;margin-left:4px;'>Deepnote</span></a>",
   "metadata": {
    "tags": [],
    "created_in_deepnote_cell": true,
    "deepnote_cell_type": "markdown"
   }
  }
 ],
 "nbformat": 4,
 "nbformat_minor": 2,
 "metadata": {
  "orig_nbformat": 2,
  "deepnote": {},
  "deepnote_notebook_id": "a6ed14c8-ed7f-4c18-907c-5548096489f7",
  "deepnote_execution_queue": []
 }
}