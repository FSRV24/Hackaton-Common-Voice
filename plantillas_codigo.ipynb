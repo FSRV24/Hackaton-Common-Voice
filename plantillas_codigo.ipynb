{
 "cells": [
  {
   "cell_type": "code",
   "source": "%run \"./variables_globales.ipynb\"",
   "metadata": {
    "cell_id": "1684653742b2424bb02219a2ed7395c1",
    "tags": [],
    "deepnote_to_be_reexecuted": false,
    "source_hash": "84c81ca2",
    "execution_start": 1651512999732,
    "execution_millis": 35,
    "owner_user_id": "e0c6afe4-99d0-40b0-b8eb-7b5ca2d084e6",
    "deepnote_cell_type": "code",
    "deepnote_cell_height": 80.53334045410156
   },
   "outputs": [],
   "execution_count": 3
  },
  {
   "cell_type": "markdown",
   "metadata": {
    "tags": [],
    "cell_id": "5be469d9-8e46-4d48-aa60-f10a6d1139c3",
    "deepnote_cell_type": "markdown",
    "deepnote_cell_height": 119.93333435058594
   },
   "source": "# Plantillas de codigo\nFunciones para hacer las plantillas",
   "execution_count": null
  },
  {
   "cell_type": "code",
   "metadata": {
    "cell_id": "3d08508f12184df3b9e21a27153e4b7a",
    "tags": [],
    "deepnote_cell_type": "code",
    "deepnote_cell_height": 1199.5333251953125
   },
   "source": "def crear_funcion(instruccion):\n    \"\"\"\n    Crea el template de la estructura de una función\n\n    Parametros\n    ----------\n    instrucion: str\n        La intruccion de voz en texto.\n\n    Regresa\n    ---------\n    output: str\n        Codigo generado\n    recomendacion: str\n        Una sugerencia o fallo\n    \"\"\"\n\n    global indentacion\n    global recomendacion\n\n    # guarda los avisos o recomendaciones que el programa te hace\n    recomendacion = ''\n\n    # guarda la línea de código\n    output = ''\n    \n    # pivote que ayuda a definir el nombre de una función\n    before_keyword, keyword, after_keyword = instruccion.partition('nombre')\n\n    # verifica que haya o esté escrita la frase \"nombre\"\n    if len(after_keyword) == 0:\n        recomendacion = f'¡No me dijiste el nombre de la función!'\n\n    # de otro modo, si tiene nombre la función\n    else:\n\n        # obtenemos el nombre de la función por el usuario\n        name_func = after_keyword.split(' ')[1]\n\n        # verificamos si no desea poner parametros                                \n        if instruccion.strip().split(' ')[-1] == name_func:\n            parametros = ''\n\n        # de otro modo, si desea una función con parámetros\n        else:\n            before_keyword, keyword, after_keyword = instruccion.partition('parametros')\n\n            # verifica que si exista el nombre de los parámetros\n            if len(after_keyword) == 0:\n                parametros = ''\n                recomendacion = f'¡No me dijiste el nombre de los parámetros!'\n\n            # escribe como parámetros todo lo que está después de \"parámetros\"\n            else:\n                parametros = after_keyword.split(' ')[1:]\n                parametros = ', '.join(parametros)\n\n        # indenta aunque marque que detecte que no le dije parámetros\n        if not recomendacion or recomendacion == '¡No me dijiste el nombre de los parámetros!':\n            indentacion += 1\n\n        # concatenación del nombre y parámetros de la función\n        output = f'def {name_func}({parametros}):\\n' + '\\t' * indentacion\n    return output",
   "execution_count": null,
   "outputs": []
  },
  {
   "cell_type": "markdown",
   "source": "#### Prueba para la funcion \"crear_funcion\"",
   "metadata": {
    "cell_id": "b703f3a6d066484a945f7c4fa0d6d03f",
    "tags": [],
    "deepnote_cell_type": "markdown",
    "deepnote_cell_height": 53.53334045410156
   },
   "outputs": [],
   "execution_count": null
  },
  {
   "cell_type": "code",
   "source": "crear_funcion('definir función con nombre magica y parametros x y z')[0]",
   "metadata": {
    "cell_id": "d7c182f840cd4efdb559afad206256fc",
    "tags": [],
    "deepnote_cell_type": "code",
    "deepnote_cell_height": 65.53334045410156
   },
   "outputs": [],
   "execution_count": null
  },
  {
   "cell_type": "code",
   "metadata": {
    "cell_id": "51891e72df4f468d99c0e65449c3b201",
    "tags": [],
    "deepnote_to_be_reexecuted": false,
    "source_hash": "a62e0d35",
    "execution_start": 1651513029265,
    "execution_millis": 0,
    "deepnote_cell_type": "code",
    "deepnote_cell_height": 872.5333251953125
   },
   "source": "def crear_condicional(transcript):\n    ''' \n    Toma transcript y condicional (if,elif,while) y devuelve código\n    El transcript ya está preprocesado para comenzar con la palabra \"mientras\"\n\n    Test\n    >>> mientras variable india sea menor igual a numero seis => while (i<=6):\n    '''    \n    global bloque\n\n    keyword_mapeo={'mientras':'while','si':'if','no si':'elif'}\n    antes_keyword,keyword,desp_keyword=encontrar_palabras(transcript,keyword_mapeo.keys())\n    cadena=keyword_mapeo[keyword]\n    bloque = keyword\n\n    # Primera división\n    condicional_mapeo={'menor estricto':'<','menor o igual':'<=','igual':'==','diferente':'!='\n    ,'mayor estricto':'>','mayor o igual':'>='}\n    cjto_condicional=condicional_mapeo.keys()\n    antes_condicional,palabra_condicional,despues_condicional=encontrar_palabras(transcript,cjto_condicional) \n    \n    \n    # Buscar en antes condicional la lista de variables\n    \n\n    a_var,var,d_var=encontrar_palabras(antes_condicional,['variable'])\n    nombre_var=d_var.split(' ')[0]\n\n    if diccionario_fonetico.get(nombre_var,False):\n        nombre_var=diccionario_fonetico[nombre_var]\n\n\n    cadena+=' '+nombre_var+' ' +condicional_mapeo[palabra_condicional]\n\n    # Buscar en despues_condicional el número \n\n    valor=despues_condicional.split(' ')[-1]\n\n    if dict_numeros.get(valor,False):\n        valor=str(dict_numeros[valor])\n\n    global indentacion\n    indentacion+=1\n\n    return cadena+' '+ valor+':\\n'+ '\\t'* indentacion+'|'",
   "execution_count": 7,
   "outputs": []
  },
  {
   "cell_type": "markdown",
   "source": "#### Prueba para la funcion \"crear_condicional\"",
   "metadata": {
    "cell_id": "333e5b3bf5354e9e8b737f52eff95985",
    "tags": [],
    "deepnote_cell_type": "markdown",
    "deepnote_cell_height": 53.53334045410156
   },
   "outputs": [],
   "execution_count": null
  },
  {
   "cell_type": "code",
   "source": "indentacion = 0\ntest_frases_condicional = [\n    'si variable india es menor o igual a numero seis',\n    'mientras variable alpha es menor igual a numero dos'\n    ]\n\nfor ai in test_frases_condicional:    \n    print(crear_condicional(ai))    ",
   "metadata": {
    "cell_id": "62e45d9f63264a019b99bdc6d16c813c",
    "tags": [],
    "deepnote_to_be_reexecuted": false,
    "source_hash": "62d2327a",
    "execution_start": 1651513036343,
    "execution_millis": 3,
    "deepnote_cell_type": "code",
    "deepnote_cell_height": 256.4666748046875
   },
   "outputs": [
    {
     "name": "stdout",
     "text": "('if i <= 6:\\n\\t|', '')\n('while alpha == 2:\\n\\t\\t|', '')\n",
     "output_type": "stream"
    }
   ],
   "execution_count": 8
  },
  {
   "cell_type": "code",
   "metadata": {
    "cell_id": "d015067470674b2ebf28a31f98c427b2",
    "tags": [],
    "deepnote_to_be_reexecuted": false,
    "source_hash": "769eddbc",
    "execution_start": 1651513168733,
    "execution_millis": 1,
    "deepnote_cell_type": "code",
    "deepnote_cell_height": 242.53334045410156
   },
   "source": "def crear_cadena(transcript):\n    cjto_palabras=[\"'\",'\"']\n    try:\n        inicio,final=list(re.finditer(r\"cadena (.+) cadena\",transcript))[0].span()\n    except:\n        return ''\n    antes_palabra=transcript[:inicio].strip()\n    despues_palabra=transcript[final:].strip()\n    palabra=list(re.finditer(r\"cadena (.+) cadena\",transcript))[0].group(1)\n    return antes_palabra,palabra,despues_palabra",
   "execution_count": 9,
   "outputs": []
  },
  {
   "cell_type": "markdown",
   "source": "\n#### Prueba para la funcion \"crear_funcion\"",
   "metadata": {
    "cell_id": "c3e30abfb8e84091833810a04c174796",
    "tags": [],
    "deepnote_cell_type": "markdown",
    "deepnote_cell_height": 53.53334045410156
   },
   "outputs": [],
   "execution_count": null
  },
  {
   "cell_type": "code",
   "source": "test_str_cadena=[\n    'ejecuta print con argumentos variable India producto cadena guión cadena',\n    'ejecuta print con argumentos cadena Hola mundo cadea'\n    ]\n\nfor ti in test_str_cadena:\n    print(crear_cadena(ti))",
   "metadata": {
    "cell_id": "39bb8f1688564c42aa6818fa8636b5b9",
    "tags": [],
    "deepnote_to_be_reexecuted": false,
    "source_hash": "2dca6701",
    "execution_start": 1651513181667,
    "execution_millis": 8,
    "deepnote_cell_type": "code",
    "deepnote_cell_height": 238.46665954589844
   },
   "outputs": [
    {
     "name": "stdout",
     "text": "('ejecuta print con argumentos variable India producto', 'guión', '')\n\n",
     "output_type": "stream"
    }
   ],
   "execution_count": 10
  },
  {
   "cell_type": "code",
   "metadata": {
    "cell_id": "3f550bad3955463b99ac81031f433d23",
    "tags": [],
    "deepnote_to_be_reexecuted": false,
    "source_hash": "dcda9314",
    "execution_start": 1651513693359,
    "execution_millis": 2,
    "deepnote_cell_type": "code",
    "deepnote_cell_height": 170.53334045410156
   },
   "source": "def crear_var_existente(transcript):\n    try:\n        antes_var,var,desp_var=encontrar_palabras(transcript,['variable'])\n    except:\n        return '' \n    return desp_var.split(' ')[0]",
   "execution_count": 13,
   "outputs": []
  },
  {
   "cell_type": "markdown",
   "source": "#### Test crear_var_existente",
   "metadata": {
    "cell_id": "31723917bd554ec98307827605c4e30b",
    "tags": [],
    "deepnote_cell_type": "markdown",
    "deepnote_cell_height": 53.53334045410156
   },
   "outputs": [],
   "execution_count": null
  },
  {
   "cell_type": "code",
   "source": "test_str_cadena=[\n    'ejecuta print con argumentos variable India producto cadena guión cadena',\n    'ejecuta print con argumentos cadena Hola mundo cadea'\n    ]\n\nfor ti in test_str_cadena:\n    print(crear_var_existente(ti))",
   "metadata": {
    "cell_id": "139b8151a07b46738f13921bf5a81b5c",
    "tags": [],
    "deepnote_to_be_reexecuted": false,
    "source_hash": "8d90b5e9",
    "execution_start": 1651513696693,
    "execution_millis": 5,
    "deepnote_cell_type": "code",
    "deepnote_cell_height": 238.46665954589844
   },
   "outputs": [
    {
     "name": "stdout",
     "text": "India\n\n",
     "output_type": "stream"
    }
   ],
   "execution_count": 14
  },
  {
   "cell_type": "code",
   "metadata": {
    "cell_id": "10af7c36b5814db982f21f606cbccf8c",
    "tags": [],
    "deepnote_to_be_reexecuted": false,
    "source_hash": "2eb35e60",
    "execution_start": 1651513648852,
    "execution_millis": 4,
    "deepnote_cell_type": "code",
    "deepnote_cell_height": 764.5333251953125
   },
   "source": "# TODO: Hay que ver:\n    # Si es otra operación hay que llamar la función recursivamente en cada pedazo\n    # 1. si es cadena\n    # 2. si es otra operación. Para esto, hay que regresar error o algo así cuando no se encuentre\ndef crear_operacion(transcript):\n    '''\n    Debe poder tomar una secuencia e inferir si se están haciendo operaciones\n    Al llamar una función entre cada coma ver si se están haciendo operaciones\n\n    ej\n    >> crear_operacion('variable India producto cadena guión cadena') \n    >> i*'-'\n    '''\n\n    # Separa en operadores comunes\n    dict_operaciones={'producto':'*','suma':'+','menos':'-'\n    ,'concatena':'+','entre':'/'} # si esto se lematiza puedes agarrar todas las frases de la forma suma, sumar, etc.\n\n    try:\n        antes_op,op,desp_op=encontrar_palabras(transcript,dict_operaciones.keys())\n    except:\n        return '' \n\n    # Buscamos la información en la cadena detrás del operador\n    var_izq=crear_var_existente(antes_op)\n    try:\n        cadena_izq=f'\"{crear_cadena(antes_op)[1]}'\n    except:\n        cadena_izq=''\n        \n        \n    # Buscamos la información en la cadena después del operador\n    var_der=crear_var_existente(desp_op)\n    try:\n        cadena_der=f'\"{crear_cadena(desp_op)[1]}\"'\n    except:\n        cadena_der=''\n                \n    return f'{var_izq}{cadena_izq} {dict_operaciones[op]} {var_der}{cadena_der}'",
   "execution_count": 11,
   "outputs": []
  },
  {
   "cell_type": "markdown",
   "source": "#### Test crear_operacion",
   "metadata": {
    "cell_id": "1b1c10ae507442e6b711d40945ea5cd1",
    "tags": [],
    "deepnote_cell_type": "markdown",
    "deepnote_cell_height": 53.53334045410156
   },
   "outputs": [],
   "execution_count": null
  },
  {
   "cell_type": "code",
   "source": "test_str_operacion=[\n    'variable India producto cadena guión cadena',\n    'variable India menos variable Francis','20 mil entre 3' #checar tercer caso, como agarrar valor solamente\n    ] \n\nfor ti in test_str_operacion:\n    print(crear_operacion(ti))",
   "metadata": {
    "cell_id": "568a9ccd1bcf4332b6d4f18fddfed608",
    "tags": [],
    "deepnote_to_be_reexecuted": false,
    "source_hash": "2e938630",
    "execution_start": 1651513792057,
    "execution_millis": 0,
    "deepnote_cell_type": "code",
    "deepnote_cell_height": 258.04998779296875
   },
   "outputs": [
    {
     "name": "stdout",
     "text": "India * \"guión\"\nIndia - Francis\n / \n",
     "output_type": "stream"
    }
   ],
   "execution_count": 15
  },
  {
   "cell_type": "code",
   "metadata": {
    "cell_id": "c0a953cfac1d455c9bdd2fc190397440",
    "tags": [],
    "deepnote_cell_type": "code",
    "deepnote_cell_height": 335.5333251953125
   },
   "source": "def crear_llamada(transcript):\n    \"\"\"Template para la llamada de una funcion\"\"\"\n    antes_ej,ej,desp_ej=encontrar_palabras(transcript,['ejecuta'])\n    funcion_nombre=desp_ej[0]\n    # Aquí tal vez valdría la pena tener un registro de las funciones previamente definidas para\n    # poder buscar en un directorio con Jaccard y no aproximar\n\n    antes_arg,keyword,desp_arg=encontrar_palabras(desp_ej,['argumentos','parametros'])\n\n    argumentos=desp_arg.split('coma')\n\n    for arg in argumentos:\n        print(arg,crear_operacion(arg))\n    cadena=f'{funcion_nombre}()'\n\n    return argumentos",
   "execution_count": null,
   "outputs": []
  },
  {
   "cell_type": "code",
   "source": "test_str_ej=[\n    'ejecuta print con argumentos variable India producto cadena guión cadena coma cadena hola cadena'\n]\nfor ti in test_str_ej:\n    print(crear_llamada(ti))",
   "metadata": {
    "cell_id": "cb7b93ff5fda4660a1e97d937dec742a",
    "tags": [],
    "deepnote_cell_type": "code",
    "deepnote_cell_height": 137.53334045410156
   },
   "outputs": [],
   "execution_count": null
  },
  {
   "cell_type": "code",
   "metadata": {
    "cell_id": "7d72427aa6704083a9cf1e89440d025b",
    "tags": [],
    "deepnote_to_be_reexecuted": false,
    "source_hash": "78ad0381",
    "execution_start": 1651513927005,
    "execution_millis": 4,
    "deepnote_cell_type": "code",
    "deepnote_cell_height": 836.5333251953125
   },
   "source": "def crear_variable(instruccion):\n    \"\"\"\n    Estructura:\n    definir variable con nombre [nombre_variable] igual a /*objeto_basico* valor/ \n\n    Parametros\n    ----------\n    instrucion: str\n        La intruccion de voz en texto.\n\n    Regresa\n    ---------\n    output: str\n        Codigo generado\n    recomendacion: str\n        Una sugerencia o fallo\n\n    Testing\n    -------\n    >>> definir variable con nombre india igual a número uno\n    >>> Definir variable con nombre i igual a numero 1 (int)\n    >>> Definir variable con nombre i igual a numero 3.5 (float) \n    >>> Definir variable con nombre i igual a cadena hola (string) \n    >>> Definir variable con nombre i igual a lista/dic (string)   \n    \"\"\"     \n    global indentacion\n\n    # pivote que ayuda a definir el nombre de la variable\n    before_keyword, keyword, after_keyword = instruccion.partition('nombre')\n    after_keyword_list = after_keyword.strip().split(' ')\n    name_variable = after_keyword_list[0]\n\n    \n    # Como sabemos que despues del nombre va seguido de \"igual a\"\n    tipo_dato = after_keyword_list[3]        \n    #print(after_keyword_list[4:]) -> lista\n    valor = tipos_datos[tipo_dato](after_keyword_list[4:][0])        \n    # Verificamos si es una palabra fonetica\n    if diccionario_fonetico.get(name_variable,False):\n        name_variable=diccionario_fonetico[name_variable] \n\n    codigo_generado = f'{name_variable} = {valor}\\n'+ '\\t' * indentacion + '|'\n    return codigo_generado, ''   ",
   "execution_count": 16,
   "outputs": []
  },
  {
   "cell_type": "markdown",
   "source": "####  Prueba para la funcion \"crear_variable\"",
   "metadata": {
    "cell_id": "a2c4ef2ffdb74edebda8bec6226db73c",
    "tags": [],
    "deepnote_cell_type": "markdown",
    "deepnote_cell_height": 53.53334045410156
   },
   "outputs": [],
   "execution_count": null
  },
  {
   "cell_type": "code",
   "source": "crear_variable('definir variable con nombre india igual a numero cuatro')",
   "metadata": {
    "cell_id": "032db0d11a4c49ddbf4c10f1982ecb25",
    "tags": [],
    "deepnote_to_be_reexecuted": false,
    "source_hash": "3d87a7b7",
    "execution_start": 1651513929881,
    "execution_millis": 3,
    "deepnote_cell_type": "code",
    "deepnote_cell_height": 117.30000305175781,
    "deepnote_output_heights": [
     21
    ]
   },
   "outputs": [
    {
     "output_type": "execute_result",
     "execution_count": 17,
     "data": {
      "text/plain": "('i = 4\\n\\t\\t|', '')"
     },
     "metadata": {}
    }
   ],
   "execution_count": 17
  },
  {
   "cell_type": "markdown",
   "source": "### Funciones pendientes",
   "metadata": {
    "cell_id": "bc9fe03eb3f44b81b0b394779500b37f",
    "tags": [],
    "deepnote_cell_type": "markdown",
    "deepnote_cell_height": 61.53334045410156
   },
   "outputs": [],
   "execution_count": null
  },
  {
   "cell_type": "code",
   "metadata": {
    "cell_id": "44b38695ad0846dcb2759b6e3d4481ce",
    "tags": [],
    "deepnote_cell_type": "code",
    "deepnote_cell_height": 155.53334045410156
   },
   "source": "def crear_clase():\n    global indentacion\n    # ....\n    \n    indentacion += 1\n    pass    ",
   "execution_count": null,
   "outputs": []
  },
  {
   "cell_type": "code",
   "metadata": {
    "cell_id": "28b5f12cc5dd4c6a912c32c8a239135f",
    "tags": [],
    "deepnote_cell_type": "code",
    "deepnote_cell_height": 65.53334045410156
   },
   "source": "",
   "execution_count": null,
   "outputs": []
  },
  {
   "cell_type": "markdown",
   "source": "<a style='text-decoration:none;line-height:16px;display:flex;color:#5B5B62;padding:10px;justify-content:end;' href='https://deepnote.com?utm_source=created-in-deepnote-cell&projectId=17740a58-e960-4de3-bb66-1575286930f1' target=\"_blank\">\n<img alt='Created in deepnote.com' style='display:inline;max-height:16px;margin:0px;margin-right:7.5px;' src='data:image/svg+xml;base64,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' > </img>\nCreated in <span style='font-weight:600;margin-left:4px;'>Deepnote</span></a>",
   "metadata": {
    "tags": [],
    "created_in_deepnote_cell": true,
    "deepnote_cell_type": "markdown"
   }
  }
 ],
 "nbformat": 4,
 "nbformat_minor": 2,
 "metadata": {
  "orig_nbformat": 2,
  "deepnote": {},
  "deepnote_notebook_id": "a6ed14c8-ed7f-4c18-907c-5548096489f7",
  "deepnote_execution_queue": []
 }
}