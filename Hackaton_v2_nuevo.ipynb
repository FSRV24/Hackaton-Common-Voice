{
 "cells": [
  {
   "cell_type": "code",
   "metadata": {
    "colab": {
     "base_uri": "https://localhost:8080/"
    },
    "id": "jm9DcYh_P9Tx",
    "outputId": "5d45dcc4-2ab5-4702-e8ea-ff9a32331fe9",
    "cell_id": "e8e48e87-2243-4d1f-a0c5-92fc95660b36",
    "deepnote_cell_type": "code"
   },
   "source": "!pip install -q gradio\n!pip install huggingsound\n!pip install unidecode",
   "execution_count": 1,
   "outputs": [
    {
     "output_type": "stream",
     "name": "stdout",
     "text": "Requirement already satisfied: huggingsound in /usr/local/lib/python3.7/dist-packages (0.1.2)\nRequirement already satisfied: datasets<2.0.0,>=1.18.3 in /usr/local/lib/python3.7/dist-packages (from huggingsound) (1.18.4)\nRequirement already satisfied: librosa<0.9.0,>=0.8.1 in /usr/local/lib/python3.7/dist-packages (from huggingsound) (0.8.1)\nRequirement already satisfied: numba<0.54.0,>=0.53.1 in /usr/local/lib/python3.7/dist-packages (from huggingsound) (0.53.1)\nRequirement already satisfied: llvmlite<0.37.0,>=0.36.0 in /usr/local/lib/python3.7/dist-packages (from huggingsound) (0.36.0)\nRequirement already satisfied: jiwer<3.0.0,>=2.3.0 in /usr/local/lib/python3.7/dist-packages (from huggingsound) (2.3.0)\nRequirement already satisfied: transformers<5.0.0,>=4.16.2 in /usr/local/lib/python3.7/dist-packages (from huggingsound) (4.18.0)\nRequirement already satisfied: torch<2.0.0,>=1.9.0 in /usr/local/lib/python3.7/dist-packages (from huggingsound) (1.11.0+cu113)\nRequirement already satisfied: pyarrow!=4.0.0,>=3.0.0 in /usr/local/lib/python3.7/dist-packages (from datasets<2.0.0,>=1.18.3->huggingsound) (6.0.1)\nRequirement already satisfied: importlib-metadata in /usr/local/lib/python3.7/dist-packages (from datasets<2.0.0,>=1.18.3->huggingsound) (4.11.3)\nRequirement already satisfied: aiohttp in /usr/local/lib/python3.7/dist-packages (from datasets<2.0.0,>=1.18.3->huggingsound) (3.8.1)\nRequirement already satisfied: tqdm>=4.62.1 in /usr/local/lib/python3.7/dist-packages (from datasets<2.0.0,>=1.18.3->huggingsound) (4.64.0)\nRequirement already satisfied: packaging in /usr/local/lib/python3.7/dist-packages (from datasets<2.0.0,>=1.18.3->huggingsound) (21.3)\nRequirement already satisfied: responses<0.19 in /usr/local/lib/python3.7/dist-packages (from datasets<2.0.0,>=1.18.3->huggingsound) (0.18.0)\nRequirement already satisfied: pandas in /usr/local/lib/python3.7/dist-packages (from datasets<2.0.0,>=1.18.3->huggingsound) (1.3.5)\nRequirement already satisfied: numpy>=1.17 in /usr/local/lib/python3.7/dist-packages (from datasets<2.0.0,>=1.18.3->huggingsound) (1.21.6)\nRequirement already satisfied: xxhash in /usr/local/lib/python3.7/dist-packages (from datasets<2.0.0,>=1.18.3->huggingsound) (3.0.0)\nRequirement already satisfied: fsspec[http]>=2021.05.0 in /usr/local/lib/python3.7/dist-packages (from datasets<2.0.0,>=1.18.3->huggingsound) (2022.3.0)\nRequirement already satisfied: dill in /usr/local/lib/python3.7/dist-packages (from datasets<2.0.0,>=1.18.3->huggingsound) (0.3.4)\nRequirement already satisfied: huggingface-hub<1.0.0,>=0.1.0 in /usr/local/lib/python3.7/dist-packages (from datasets<2.0.0,>=1.18.3->huggingsound) (0.5.1)\nRequirement already satisfied: requests>=2.19.0 in /usr/local/lib/python3.7/dist-packages (from datasets<2.0.0,>=1.18.3->huggingsound) (2.23.0)\nRequirement already satisfied: multiprocess in /usr/local/lib/python3.7/dist-packages (from datasets<2.0.0,>=1.18.3->huggingsound) (0.70.12.2)\nRequirement already satisfied: typing-extensions>=3.7.4.3 in /usr/local/lib/python3.7/dist-packages (from huggingface-hub<1.0.0,>=0.1.0->datasets<2.0.0,>=1.18.3->huggingsound) (4.2.0)\nRequirement already satisfied: filelock in /usr/local/lib/python3.7/dist-packages (from huggingface-hub<1.0.0,>=0.1.0->datasets<2.0.0,>=1.18.3->huggingsound) (3.6.0)\nRequirement already satisfied: pyyaml in /usr/local/lib/python3.7/dist-packages (from huggingface-hub<1.0.0,>=0.1.0->datasets<2.0.0,>=1.18.3->huggingsound) (6.0)\nRequirement already satisfied: python-Levenshtein==0.12.2 in /usr/local/lib/python3.7/dist-packages (from jiwer<3.0.0,>=2.3.0->huggingsound) (0.12.2)\nRequirement already satisfied: setuptools in /usr/local/lib/python3.7/dist-packages (from python-Levenshtein==0.12.2->jiwer<3.0.0,>=2.3.0->huggingsound) (57.4.0)\nRequirement already satisfied: joblib>=0.14 in /usr/local/lib/python3.7/dist-packages (from librosa<0.9.0,>=0.8.1->huggingsound) (1.1.0)\nRequirement already satisfied: soundfile>=0.10.2 in /usr/local/lib/python3.7/dist-packages (from librosa<0.9.0,>=0.8.1->huggingsound) (0.10.3.post1)\nRequirement already satisfied: scipy>=1.0.0 in /usr/local/lib/python3.7/dist-packages (from librosa<0.9.0,>=0.8.1->huggingsound) (1.4.1)\nRequirement already satisfied: decorator>=3.0.0 in /usr/local/lib/python3.7/dist-packages (from librosa<0.9.0,>=0.8.1->huggingsound) (4.4.2)\nRequirement already satisfied: pooch>=1.0 in /usr/local/lib/python3.7/dist-packages (from librosa<0.9.0,>=0.8.1->huggingsound) (1.6.0)\nRequirement already satisfied: audioread>=2.0.0 in /usr/local/lib/python3.7/dist-packages (from librosa<0.9.0,>=0.8.1->huggingsound) (2.1.9)\nRequirement already satisfied: resampy>=0.2.2 in /usr/local/lib/python3.7/dist-packages (from librosa<0.9.0,>=0.8.1->huggingsound) (0.2.2)\nRequirement already satisfied: scikit-learn!=0.19.0,>=0.14.0 in /usr/local/lib/python3.7/dist-packages (from librosa<0.9.0,>=0.8.1->huggingsound) (1.0.2)\nRequirement already satisfied: pyparsing!=3.0.5,>=2.0.2 in /usr/local/lib/python3.7/dist-packages (from packaging->datasets<2.0.0,>=1.18.3->huggingsound) (3.0.8)\nRequirement already satisfied: appdirs>=1.3.0 in /usr/local/lib/python3.7/dist-packages (from pooch>=1.0->librosa<0.9.0,>=0.8.1->huggingsound) (1.4.4)\nRequirement already satisfied: chardet<4,>=3.0.2 in /usr/local/lib/python3.7/dist-packages (from requests>=2.19.0->datasets<2.0.0,>=1.18.3->huggingsound) (3.0.4)\nRequirement already satisfied: idna<3,>=2.5 in /usr/local/lib/python3.7/dist-packages (from requests>=2.19.0->datasets<2.0.0,>=1.18.3->huggingsound) (2.10)\nRequirement already satisfied: certifi>=2017.4.17 in /usr/local/lib/python3.7/dist-packages (from requests>=2.19.0->datasets<2.0.0,>=1.18.3->huggingsound) (2021.10.8)\nRequirement already satisfied: urllib3!=1.25.0,!=1.25.1,<1.26,>=1.21.1 in /usr/local/lib/python3.7/dist-packages (from requests>=2.19.0->datasets<2.0.0,>=1.18.3->huggingsound) (1.25.11)\nRequirement already satisfied: six>=1.3 in /usr/local/lib/python3.7/dist-packages (from resampy>=0.2.2->librosa<0.9.0,>=0.8.1->huggingsound) (1.15.0)\nRequirement already satisfied: threadpoolctl>=2.0.0 in /usr/local/lib/python3.7/dist-packages (from scikit-learn!=0.19.0,>=0.14.0->librosa<0.9.0,>=0.8.1->huggingsound) (3.1.0)\nRequirement already satisfied: cffi>=1.0 in /usr/local/lib/python3.7/dist-packages (from soundfile>=0.10.2->librosa<0.9.0,>=0.8.1->huggingsound) (1.15.0)\nRequirement already satisfied: pycparser in /usr/local/lib/python3.7/dist-packages (from cffi>=1.0->soundfile>=0.10.2->librosa<0.9.0,>=0.8.1->huggingsound) (2.21)\nRequirement already satisfied: regex!=2019.12.17 in /usr/local/lib/python3.7/dist-packages (from transformers<5.0.0,>=4.16.2->huggingsound) (2019.12.20)\nRequirement already satisfied: sacremoses in /usr/local/lib/python3.7/dist-packages (from transformers<5.0.0,>=4.16.2->huggingsound) (0.0.49)\nRequirement already satisfied: tokenizers!=0.11.3,<0.13,>=0.11.1 in /usr/local/lib/python3.7/dist-packages (from transformers<5.0.0,>=4.16.2->huggingsound) (0.12.1)\nRequirement already satisfied: aiosignal>=1.1.2 in /usr/local/lib/python3.7/dist-packages (from aiohttp->datasets<2.0.0,>=1.18.3->huggingsound) (1.2.0)\nRequirement already satisfied: yarl<2.0,>=1.0 in /usr/local/lib/python3.7/dist-packages (from aiohttp->datasets<2.0.0,>=1.18.3->huggingsound) (1.7.2)\nRequirement already satisfied: charset-normalizer<3.0,>=2.0 in /usr/local/lib/python3.7/dist-packages (from aiohttp->datasets<2.0.0,>=1.18.3->huggingsound) (2.0.12)\nRequirement already satisfied: multidict<7.0,>=4.5 in /usr/local/lib/python3.7/dist-packages (from aiohttp->datasets<2.0.0,>=1.18.3->huggingsound) (6.0.2)\nRequirement already satisfied: async-timeout<5.0,>=4.0.0a3 in /usr/local/lib/python3.7/dist-packages (from aiohttp->datasets<2.0.0,>=1.18.3->huggingsound) (4.0.2)\nRequirement already satisfied: asynctest==0.13.0 in /usr/local/lib/python3.7/dist-packages (from aiohttp->datasets<2.0.0,>=1.18.3->huggingsound) (0.13.0)\nRequirement already satisfied: attrs>=17.3.0 in /usr/local/lib/python3.7/dist-packages (from aiohttp->datasets<2.0.0,>=1.18.3->huggingsound) (21.4.0)\nRequirement already satisfied: frozenlist>=1.1.1 in /usr/local/lib/python3.7/dist-packages (from aiohttp->datasets<2.0.0,>=1.18.3->huggingsound) (1.3.0)\nRequirement already satisfied: zipp>=0.5 in /usr/local/lib/python3.7/dist-packages (from importlib-metadata->datasets<2.0.0,>=1.18.3->huggingsound) (3.8.0)\nRequirement already satisfied: python-dateutil>=2.7.3 in /usr/local/lib/python3.7/dist-packages (from pandas->datasets<2.0.0,>=1.18.3->huggingsound) (2.8.2)\nRequirement already satisfied: pytz>=2017.3 in /usr/local/lib/python3.7/dist-packages (from pandas->datasets<2.0.0,>=1.18.3->huggingsound) (2022.1)\nRequirement already satisfied: click in /usr/local/lib/python3.7/dist-packages (from sacremoses->transformers<5.0.0,>=4.16.2->huggingsound) (7.1.2)\nRequirement already satisfied: unidecode in /usr/local/lib/python3.7/dist-packages (1.3.4)\n"
    }
   ]
  },
  {
   "cell_type": "code",
   "metadata": {
    "colab": {
     "base_uri": "https://localhost:8080/"
    },
    "id": "bBh_f-QO9FQ9",
    "outputId": "4d8a5050-7265-41d0-d222-843b0acab4a7",
    "deepnote_to_be_reexecuted": false,
    "source_hash": "501f0361",
    "execution_start": 1651457778747,
    "execution_millis": 79654,
    "cell_id": "00001-e7335e95-9f4a-473b-85ef-b2eecf99b74b",
    "deepnote_cell_type": "code",
    "deepnote_cell_height": 667.796875
   },
   "source": "# cargamos el modelo de huggingsound\nimport re\nfrom huggingsound import SpeechRecognitionModel\n\n# creación del modelo\nmodel = SpeechRecognitionModel(\"patrickvonplaten/wav2vec2-large-xlsr-53-spanish-with-lm\")",
   "execution_count": 2,
   "outputs": [
    {
     "output_type": "stream",
     "name": "stdout",
     "text": "05/02/2022 05:36:47 - INFO - huggingsound.speech_recognition.model - Loading model...\n"
    },
    {
     "output_type": "stream",
     "name": "stderr",
     "text": "/usr/local/lib/python3.7/dist-packages/paramiko/transport.py:236: CryptographyDeprecationWarning: Blowfish has been deprecated\n  \"class\": algorithms.Blowfish,\n/usr/local/lib/python3.7/dist-packages/transformers/configuration_utils.py:359: UserWarning: Passing `gradient_checkpointing` to a config initialization is deprecated and will be removed in v5 Transformers. Using `model.gradient_checkpointing_enable()` instead, or if you are using the `Trainer` API, pass `gradient_checkpointing=True` in your `TrainingArguments`.\n  \"Passing `gradient_checkpointing` to a config initialization is deprecated and will be removed in v5 \"\n"
    }
   ]
  },
  {
   "cell_type": "code",
   "metadata": {
    "colab": {
     "base_uri": "https://localhost:8080/",
     "height": 590
    },
    "id": "CC957zgWQ5zA",
    "outputId": "22f4f74d-3630-440b-8f85-2c748a8b3457",
    "cell_id": "00002-b615b9e5-a991-411d-b65c-9c18de377a07",
    "deepnote_cell_type": "code"
   },
   "source": "import gradio as gr\n\n\ndef greet(name):\n    return \"Hello \" + name + \"!!\"\n\n\ndemo = gr.Interface(fn=greet, inputs=\"text\", outputs=\"text\")\n\nif __name__ == \"__main__\":\n    demo.launch()",
   "execution_count": 3,
   "outputs": [
    {
     "output_type": "stream",
     "name": "stdout",
     "text": "Colab notebook detected. To show errors in colab notebook, set `debug=True` in `launch()`\nRunning on public URL: https://59262.gradio.app\n\nThis share link expires in 72 hours. For free permanent hosting, check out Spaces (https://huggingface.co/spaces)\n"
    },
    {
     "output_type": "display_data",
     "data": {
      "text/plain": "<IPython.lib.display.IFrame at 0x7f0582f98650>",
      "text/html": "\n        <iframe\n            width=\"900\"\n            height=\"500\"\n            src=\"https://59262.gradio.app\"\n            frameborder=\"0\"\n            allowfullscreen\n        ></iframe>\n        "
     },
     "metadata": {}
    }
   ]
  },
  {
   "cell_type": "code",
   "metadata": {
    "id": "jnnbnk7v5LBu",
    "deepnote_to_be_reexecuted": false,
    "source_hash": "4eaf9df2",
    "execution_start": 1651457879796,
    "execution_millis": 2097,
    "owner_user_id": "0c4dcfb5-18e5-4741-8d58-1d382d2f5d7d",
    "cell_id": "00003-e8165fb1-217e-4d09-bb7d-46e2dda276fd",
    "deepnote_cell_type": "code",
    "deepnote_cell_height": 189
   },
   "source": "import gradio as gr\n\nbloque = ''\ncodigo = None\nindentacion = 0\n# Esto para dar seguimiento al eliminado de una linea\nlinea_codigo = 0",
   "execution_count": 4,
   "outputs": []
  },
  {
   "cell_type": "code",
   "metadata": {
    "id": "6sCDtYLa87Ta",
    "deepnote_to_be_reexecuted": false,
    "source_hash": "a11b08fd",
    "execution_start": 1651457886009,
    "execution_millis": 1,
    "cell_id": "00004-dcff73d8-d70e-4452-b01c-930590deb5df",
    "deepnote_cell_type": "code",
    "deepnote_cell_height": 387
   },
   "source": "def sim_jac(s1, s2):\n\n    bigrams_s1 = []\n    bigrams_s2 = []\n\n    for i in range(len(s1) - 1):\n        bigrams_s1.append(s1[i:i+2])\n    \n    for i in range(len(s2) - 1):\n        bigrams_s2.append(s2[i:i+2])\n\n    c_common = 0\n\n    for i in bigrams_s1:\n        if bigrams_s2.count(i) > 0:\n            c_common += 1\n\n    return c_common / ((len(s1) - 1) + (len(s2) - 1) - c_common)",
   "execution_count": 5,
   "outputs": []
  },
  {
   "cell_type": "markdown",
   "source": "## Funciones por implementar\n",
   "metadata": {
    "tags": [],
    "id": "H9hv2JQCP2hq",
    "cell_id": "00005-26f46372-26bf-4564-a056-83226b275012",
    "deepnote_cell_type": "markdown",
    "deepnote_cell_height": 70
   }
  },
  {
   "cell_type": "code",
   "metadata": {
    "tags": [],
    "id": "g5tf9Ml4P2hu",
    "cell_id": "00006-81220f78-a4b4-44c1-a033-1d4e388efa1a",
    "deepnote_cell_type": "code",
    "deepnote_cell_height": 156
   },
   "source": "def crear_clase():\n    global indentacion\n    # ....\n    \n    indentacion += 1\n    pass         ",
   "execution_count": 6,
   "outputs": []
  },
  {
   "cell_type": "code",
   "metadata": {
    "id": "0bD475ZO_f6E",
    "deepnote_to_be_reexecuted": false,
    "source_hash": "bcf7ee0f",
    "execution_start": 1651468686112,
    "execution_millis": 7,
    "cell_id": "00007-b30b35aa-b4c2-470d-a6a5-bc170b90c317",
    "deepnote_cell_type": "code",
    "deepnote_cell_height": 1197
   },
   "source": "def crear_funcion(instruccion):\n    \"\"\"\n    Crea el template de la estructura de una función\n\n    Parametros\n    ----------\n    instrucion: str\n        La intruccion de voz en texto.\n\n    Regresa\n    ---------\n    output: str\n        Codigo generado\n    recomendacion: str\n        Una sugerencia o fallo\n    \"\"\"\n\n    global indentacion\n\n    # guarda los avisos o recomendaciones que el programa te hace\n    recomendacion = ''\n\n    # guarda la línea de código\n    output = ''\n    \n    # pivote que ayuda a definir el nombre de una función\n    before_keyword, keyword, after_keyword = instruccion.partition('nombre')\n\n    # verifica que haya o esté escrita la frase \"nombre\"\n    if len(after_keyword) == 0:\n        recomendacion = f'¡No me dijiste el nombre de la función!'\n\n    # de otro modo, si tiene nombre la función\n    else:\n\n        # obtenemos el nombre de la función por el usuario\n        name_func = after_keyword.split(' ')[1]\n\n        # verificamos si no desea poner parametros                                \n        if instruccion.strip().split(' ')[-1] == name_func:\n            parametros = ''\n\n        # de otro modo, si desea una función con parámetros\n        else:\n            before_keyword, keyword, after_keyword = instruccion.partition('parametros')\n\n            # verifica que si exista el nombre de los parámetros\n            if len(after_keyword) == 0:\n                parametros = ''\n                recomendacion = f'¡No me dijiste el nombre de los parámetros!'\n\n            # escribe como parámetros todo lo que está después de \"parámetros\"\n            else:\n                parametros = after_keyword.split(' ')[1:]\n                parametros = ', '.join(parametros)\n\n        # indenta aunque marque que detecte que no le dije parámetros\n        if not recomendacion or recomendacion == '¡No me dijiste el nombre de los parámetros!':\n            indentacion += 1\n\n        # concatenación del nombre y parámetros de la función\n        output = f'def {name_func}({parametros}):\\n' + '\\t' * indentacion\n    return output, recomendacion",
   "execution_count": 7,
   "outputs": []
  },
  {
   "cell_type": "code",
   "metadata": {
    "colab": {
     "base_uri": "https://localhost:8080/",
     "height": 36
    },
    "id": "3qVMj5h5Mayk",
    "outputId": "be9be5e6-cf5d-44dc-9159-fc5f39f28098",
    "deepnote_to_be_reexecuted": false,
    "source_hash": "f5071a7f",
    "execution_start": 1651457890852,
    "execution_millis": 17,
    "cell_id": "00008-810f80e8-3a91-420f-9157-916a068d0776",
    "deepnote_cell_type": "code",
    "deepnote_cell_height": 118.1875,
    "deepnote_output_heights": [
     21.1875
    ]
   },
   "source": "crear_funcion('definir función con nombre magica y parametros x y z')[0]",
   "execution_count": 8,
   "outputs": [
    {
     "output_type": "execute_result",
     "data": {
      "text/plain": "'def magica(x, y, z):\\n\\t'",
      "application/vnd.google.colaboratory.intrinsic+json": {
       "type": "string"
      }
     },
     "metadata": {},
     "execution_count": 8
    }
   ]
  },
  {
   "cell_type": "code",
   "metadata": {
    "tags": [],
    "deepnote_to_be_reexecuted": false,
    "source_hash": "e792f351",
    "execution_start": 1651468897605,
    "execution_millis": 6,
    "id": "BUwVFLl8P2hz",
    "cell_id": "00009-b5f70b7c-1fa0-4c3f-bd4c-75af83a34eff",
    "deepnote_cell_type": "code",
    "deepnote_cell_height": 639
   },
   "source": "diccionario_fonetico={'alfa':'a','india':'i'}\n\n\ndict_numeros = {\n    'uno': 1,\n    'dos': 2,\n    'tres': 3,\n    'cuatro':4,\n    'cinco': 5,\n    'seis': 6,\n    'siete': 7,\n    'ocho': 8,\n    'nueve': 9,\n    'diez': 10,\n    'once': 11,\n    'doce': 12,\n    'trece': 13,\n    'catorce': 14,\n    'quince': 15,\n    'dieciseis': 16,\n    'diecisiete': 17,\n    'dieciocho': 18,\n    'diecinueve': 19,\n    'veinte': 20,\n    'treinta': 30,\n    'cuarenta': 40,\n    'cicuenta': 50,\n}\n\ndef numero(text):\n    \"\"\"Convierte un texto de numero en numero entero (int)\"\"\"\n    global dict_numeros    \n    return dict_numeros[text] \n    \n# Diccionario de funciones\ntipos_datos ={\n    'numero': numero\n}",
   "execution_count": 9,
   "outputs": []
  },
  {
   "cell_type": "code",
   "metadata": {
    "tags": [],
    "deepnote_to_be_reexecuted": false,
    "source_hash": "11a99017",
    "execution_start": 1651469108837,
    "execution_millis": 2,
    "colab": {
     "base_uri": "https://localhost:8080/"
    },
    "id": "UKFQAxC1P2h0",
    "outputId": "62746dd3-7268-472f-e779-d8e8e5f85236",
    "cell_id": "00010-93850f1a-6302-442a-95fa-1de290c7eab0",
    "deepnote_cell_type": "code",
    "deepnote_cell_height": 1288,
    "deepnote_output_heights": [
     386,
     21.1875
    ]
   },
   "source": "def encontrar_palabras(transcript,cjto_palabras):\n    '''\n    Toma un string (en minúsculos) y un conjunto de palabras. Busca el primer match\n    de cjto_palabras en transcript y particiona el string en:\n        1. El slice de la cadena antes del primer match (antes_palabra)\n        2. La cadena del primer match (coincidencia de cjto_palabras)\n        3. El slice de la cadena después del match (despues_palabra)\n    '''\n    inicio,final=list(re.finditer(r'|'.join(cjto_palabras),transcript))[0].span()\n    antes_palabra=transcript[:inicio].strip()\n    despues_palabra=transcript[final:].strip()\n    palabra=transcript[inicio:final]\n    return antes_palabra,palabra,despues_palabra\n\ndef crear_condicional(transcript):\n    ''' \n    Toma transcript y condicional (if,elif,while) y devuelve código\n    El transcript ya está preprocesado para comenzar con la palabra \"mientras\"\n\n    Test\n    >>> mientras variable india sea menor igual a numero seis => while (i<=6):\n    '''    \n    global bloque\n\n    keyword_mapeo={'mientras':'while','si':'if','no si':'elif'}\n    antes_keyword,keyword,desp_keyword=encontrar_palabras(transcript,keyword_mapeo.keys())\n    cadena=keyword_mapeo[keyword]\n    bloque = keyword\n\n    # Primera división\n    condicional_mapeo={'menor estricto':'<','menor o igual':'<=','igual':'==','diferente':'!='\n    ,'mayor estricto':'>','mayor o igual':'>='}\n    cjto_condicional=condicional_mapeo.keys()\n    antes_condicional,palabra_condicional,despues_condicional=encontrar_palabras(transcript,cjto_condicional) \n    \n    \n    # Buscar en antes condicional la lista de variables\n    \n\n    a_var,var,d_var=encontrar_palabras(antes_condicional,['variable'])\n    nombre_var=d_var.split(' ')[0]\n\n    if diccionario_fonetico.get(nombre_var,False):\n        nombre_var=diccionario_fonetico[nombre_var]\n\n\n    cadena+=' '+nombre_var+' ' +condicional_mapeo[palabra_condicional]\n\n    # Buscar en despues_condicional el número \n\n    valor=despues_condicional.split(' ')[-1]\n\n    if dict_numeros.get(valor,False):\n        valor=str(dict_numeros[valor])\n\n    global indentacion\n    indentacion+=1\n\n    return cadena+' '+ valor+':\\n'+ '\\t'* indentacion+'|', ''\n\nindentacion=0\na=['si variable india es menor o igual a numero seis','mientras variable alpha es menor igual a numero dos']\nfor ai in a:\n    print(crear_condicional(ai))\n",
   "execution_count": 25,
   "outputs": [
    {
     "output_type": "stream",
     "name": "stdout",
     "text": "('if i <= 6:\\n\\t|', '')\n('while alpha == 2:\\n\\t\\t|', '')\n"
    }
   ]
  },
  {
   "cell_type": "code",
   "metadata": {
    "tags": [],
    "deepnote_to_be_reexecuted": false,
    "source_hash": "c3d89247",
    "execution_start": 1651468949299,
    "execution_millis": 3,
    "id": "OuLjKechP2h4",
    "cell_id": "00011-4367320e-a0c4-4bed-9f40-e6f65d0a6ca6",
    "deepnote_cell_type": "code",
    "deepnote_cell_height": 891
   },
   "source": "   \ndef crear_variable(instruccion):\n    \"\"\"\n    Estructura:\n    definir variable con nombre [nombre_variable] igual a /*objeto_basico* valor/ \n\n    Parametros\n    ----------\n    instrucion: str\n        La intruccion de voz en texto.\n\n    Regresa\n    ---------\n    output: str\n        Codigo generado\n    recomendacion: str\n        Una sugerencia o fallo\n\n    Testing\n    -------\n    >>> definir variable con nombre india igual a número uno\n    >>> Definir variable con nombre i igual a numero 1 (int)\n    >>> Definir variable con nombre i igual a numero 3.5 (float) \n    >>> Definir variable con nombre i igual a cadena hola (string) \n    >>> Definir variable con nombre i igual a lista/dic (string)   \n    \"\"\"     \n    global indentacion\n\n    # pivote que ayuda a definir el nombre de la variable\n    before_keyword, keyword, after_keyword = instruccion.partition('nombre')\n    after_keyword_list = after_keyword.strip().split(' ')\n    name_variable = after_keyword_list[0]\n    # Como sabemos que despues del nombre va seguido de \"igual a\"\n    tipo_dato = after_keyword_list[3]        \n    #print(after_keyword_list[4:]) -> lista\n    valor = tipos_datos[tipo_dato](after_keyword_list[4:][0])        \n    # Verificamos si es una palabra fonetica\n    if diccionario_fonetico.get(name_variable,False):\n        name_variable=diccionario_fonetico[name_variable] \n\n    codigo_generado = f'{name_variable} = {valor}\\n'+ '\\t' * indentacion + '|'\n    return codigo_generado, ''    ",
   "execution_count": 50,
   "outputs": []
  },
  {
   "cell_type": "markdown",
   "source": "### Test de la funcion crear variable",
   "metadata": {
    "tags": [],
    "id": "fvkmHkt2P2h5",
    "cell_id": "00012-9918c50d-2831-4892-bbde-5fd9ad16ef75",
    "deepnote_cell_type": "markdown",
    "deepnote_cell_height": 62
   }
  },
  {
   "cell_type": "code",
   "metadata": {
    "tags": [],
    "deepnote_to_be_reexecuted": false,
    "source_hash": "3d87a7b7",
    "execution_start": 1651468950873,
    "execution_millis": 14,
    "colab": {
     "base_uri": "https://localhost:8080/",
     "height": 36
    },
    "id": "GWhcP5VlP2h5",
    "outputId": "37565a71-298a-4ad1-ae29-1e79698e114b",
    "cell_id": "00013-38e38024-e9fe-471d-9b54-3ac79b340bc5",
    "deepnote_cell_type": "code",
    "deepnote_cell_height": 118.1875,
    "deepnote_output_heights": [
     21.1875,
     21.1875
    ]
   },
   "source": "crear_variable('definir variable con nombre india igual a numero cuatro')",
   "execution_count": 12,
   "outputs": [
    {
     "output_type": "execute_result",
     "data": {
      "text/plain": "'i = 4\\n\\t\\t'",
      "application/vnd.google.colaboratory.intrinsic+json": {
       "type": "string"
      }
     },
     "metadata": {},
     "execution_count": 12
    }
   ]
  },
  {
   "cell_type": "code",
   "metadata": {
    "id": "diXn-8Zd9ACC",
    "deepnote_to_be_reexecuted": false,
    "source_hash": "249a5426",
    "execution_start": 1651462736894,
    "execution_millis": 2,
    "cell_id": "00014-8e69dd89-57b1-49c7-81ce-d810667228b9",
    "deepnote_cell_type": "code",
    "deepnote_cell_height": 801
   },
   "source": "import unidecode\nimport re\n\ndef main(instruccion):\n    global bloque\n\n    # Obtenemos el bloque que será del contexto\n    # Porque son los unicos que va modificar la identacion\n    # bloque = {funcion, clase, estructura_control}        \n    bloques_patrones = r'(funcion|clase|mientras|si)'\n    bloque = re.findall(bloques_patrones, instruccion)[0]\n\n    # lista de comandos disponibles\n    # []: Todo lo que esta corchetes son los valores que vamos obtener\n    # (): Son sentencias opciones para agregar más cosas    \n    comandos = [\n                'funcion',  # con nombre [nameFuc](y parámetros [x y z])                \n                'variable', # con nombre [nombre_variable] igual a /objeto_basico/\n                'mientras',\n                'cadena',\n                'numero',\n                'lista',\n                'diccionario',                                                   \n                ]\n\n    # Lista de funciones que nos devolveran las plantillas\n    plantillas = [crear_funcion, crear_variable]\n\n    # buscar el comando correspondiente más cercano al deseado\n    scores = []\n    ind_max_score = 0\n\n    # similitud de Jaccard para las primeras dos palabras de la grabación\n    for i, comando in enumerate(comandos):\n        scores.append(sim_jac(instruccion.split(' ')[1], comando))\n\n        # guardamos índice de la instrucción con más similitud\n        if scores[-1] > scores[ind_max_score]:\n            ind_max_score = i\n    \n    return plantillas[ind_max_score](instruccion)",
   "execution_count": 13,
   "outputs": []
  },
  {
   "cell_type": "markdown",
   "source": "## Test funcionalidad de la aplicación",
   "metadata": {
    "tags": [],
    "id": "gWkAXqMcP2h7",
    "cell_id": "00015-d4bc2881-d9cb-4db2-8e7c-eaa358308d5e",
    "deepnote_cell_type": "markdown",
    "deepnote_cell_height": 70
   }
  },
  {
   "cell_type": "markdown",
   "source": "### Probando frase 1",
   "metadata": {
    "tags": [],
    "id": "3TGmC5kGP2h7",
    "cell_id": "00016-b411287d-9839-45cd-8a57-b48c2b1e5151",
    "deepnote_cell_type": "markdown",
    "deepnote_cell_height": 62
   }
  },
  {
   "cell_type": "code",
   "metadata": {
    "tags": [],
    "deepnote_to_be_reexecuted": false,
    "source_hash": "11269a85",
    "execution_start": 1651461355117,
    "execution_millis": 5,
    "colab": {
     "base_uri": "https://localhost:8080/"
    },
    "id": "K1tKg2E5P2h8",
    "outputId": "1da75b69-e2a8-406b-eee3-4f94e64e78d6",
    "cell_id": "00017-7fe8c53b-3123-49e7-9ef6-b00fff0de5d2",
    "deepnote_cell_type": "code",
    "deepnote_cell_height": 320,
    "deepnote_output_heights": [
     21.1875
    ]
   },
   "source": "# Probando cuando se desea crear una funcion\n#codigo_generado, sugerencia = main('Definir funcion con nombre saludar y parametros mensaje')\nprint('Codigo generado')\nprint(codigo_generado)\nprint('---------------')\nprint('Sugerencia')\nprint(sugerencia)",
   "execution_count": 16,
   "outputs": [
    {
     "output_type": "stream",
     "name": "stdout",
     "text": "Codigo generado\ndef saludar(mensaje):\n\t\t\t\n---------------\nSugerencia\n\n"
    }
   ]
  },
  {
   "cell_type": "markdown",
   "source": "El valor de la variable de `codigo_generado` es que se mandara a la interfaz del usuario.",
   "metadata": {
    "tags": [],
    "id": "0KO812mwP2h8",
    "cell_id": "00018-2319f3fe-c554-41e8-bded-5088add46428",
    "deepnote_cell_type": "markdown",
    "deepnote_cell_height": 52.390625
   }
  },
  {
   "cell_type": "markdown",
   "source": "### Probando frase 2",
   "metadata": {
    "tags": [],
    "id": "83GDWDTrP2h8",
    "cell_id": "00019-f690678e-1671-4ddf-936f-e56e5cbb3d71",
    "deepnote_cell_type": "markdown",
    "deepnote_cell_height": 62
   }
  },
  {
   "cell_type": "code",
   "metadata": {
    "tags": [],
    "colab": {
     "base_uri": "https://localhost:8080/"
    },
    "id": "O8x-YkDHP2h8",
    "outputId": "17f48dd6-1d7d-4190-8c88-bb80a2029b8f",
    "cell_id": "00020-3861eed5-a3e9-42bb-bcc7-ad463d509cb4",
    "deepnote_cell_type": "code",
    "deepnote_cell_height": 192
   },
   "source": "# Probando cuando se desea crear una funcion\nvoice1 = 'definir variable con nombre india igual a número uno'\n#codigo_generado, sugerencia = main(voice1)\nprint('Codigo generado')\nprint(codigo_generado)\nprint('---------------')\nprint('Sugerencia')\nprint(sugerencia)",
   "execution_count": 17,
   "outputs": [
    {
     "output_type": "stream",
     "name": "stdout",
     "text": "Codigo generado\ndef saludar(mensaje):\n\t\t\t\n---------------\nSugerencia\n\n"
    }
   ]
  },
  {
   "cell_type": "code",
   "metadata": {
    "tags": [],
    "deepnote_to_be_reexecuted": false,
    "source_hash": "6dbf6649",
    "execution_start": 1651469150777,
    "execution_millis": 0,
    "id": "88OqaY82P2h9",
    "cell_id": "00021-318eabd6-a8bf-4ae4-8592-c199dfc8232e",
    "deepnote_cell_type": "code",
    "deepnote_cell_height": 765
   },
   "source": "import unidecode\nimport re\n\ndef main2(instruccion):\n    global bloque\n    \n    candidatos_instruccion = instruccion.split(' ')[:5]\n\n    # lista de comandos disponibles\n    # []: Todo lo que esta corchetes son los valores que vamos obtener\n    comandos = [\n                'funcion',  # con nombre [nameFuc](y parámetros [x y z])\n                'mientras',\n                'variable', # con nombre [nombre_variable] igual a /objeto_basico/\n                'cadena',\n                'numero',\n                'lista',\n                'diccionario'                       \n                ]\n\n    # Lista de funciones que nos devolveran las plantillas\n    plantillas = [crear_funcion, crear_condicional, crear_variable]\n\n    # buscar el comando correspondiente más cercano al deseado\n    scores = [[] for _ in range(len(comandos))]\n\n    ind_max_score = [0, 0]\n\n    # similitud de Jaccard para las primeras dos palabras de la grabación\n    \n    for i, comando in enumerate(comandos):\n        for j, palabra in enumerate(candidatos_instruccion):\n            scores[i].append(sim_jac(palabra, comando))\n\n            # guardamos índice de la instrucción con más similitud\n            if scores[i][-1] > scores[ind_max_score[0]][ind_max_score[1]]:\n                ind_max_score = [i, j]    \n    \n    return plantillas[ind_max_score[0]](instruccion)",
   "execution_count": 18,
   "outputs": []
  },
  {
   "cell_type": "markdown",
   "source": "## Prueba con similación",
   "metadata": {
    "tags": [],
    "owner_user_id": "b7f90450-0770-40af-820a-2f5d5913daed",
    "id": "A-sdk1etP2h9",
    "cell_id": "00022-cfdfe7b1-3218-484c-b928-afb94db75823",
    "deepnote_cell_type": "markdown",
    "deepnote_cell_height": 70
   }
  },
  {
   "cell_type": "markdown",
   "source": "Voz 1",
   "metadata": {
    "tags": [],
    "id": "sXYk5xLCP2h-",
    "cell_id": "00023-8069b015-d4db-41fe-8264-c2896490f398",
    "deepnote_cell_type": "markdown",
    "deepnote_cell_height": 52.390625
   }
  },
  {
   "cell_type": "code",
   "metadata": {
    "tags": [],
    "deepnote_to_be_reexecuted": false,
    "source_hash": "18768a41",
    "execution_start": 1651469158342,
    "execution_millis": 381,
    "id": "jrgC6H4dP2h_",
    "cell_id": "00024-4c95aa80-0c99-416e-9640-fb113a59401a",
    "deepnote_cell_type": "code",
    "deepnote_cell_height": 118.1875,
    "deepnote_output_heights": [
     21.1875
    ]
   },
   "source": "main2('mientras variable india es menor o igual a seis')",
   "execution_count": null,
   "outputs": []
  },
  {
   "cell_type": "markdown",
   "source": "Voz 2",
   "metadata": {
    "tags": [],
    "id": "vsEWW0j9P2iA",
    "cell_id": "00025-78517706-f4b6-4072-a66b-ef5fd2b5b09c",
    "deepnote_cell_type": "markdown",
    "deepnote_cell_height": 52.390625
   }
  },
  {
   "cell_type": "code",
   "metadata": {
    "tags": [],
    "deepnote_to_be_reexecuted": false,
    "source_hash": "7a458162",
    "execution_start": 1651469125921,
    "execution_millis": 9,
    "id": "Ici2sHZFP2iC",
    "cell_id": "00026-818b6607-2709-46fd-84fe-f568631f2dce",
    "deepnote_cell_type": "code",
    "deepnote_cell_height": 118.1875,
    "deepnote_output_heights": [
     21.1875
    ]
   },
   "source": "main2('definir variable con nombre india igual a numero cinco')",
   "execution_count": null,
   "outputs": []
  },
  {
   "cell_type": "code",
   "metadata": {
    "id": "4YpjGdcGYo_s",
    "deepnote_to_be_reexecuted": false,
    "source_hash": "b4107eb8",
    "execution_start": 1651457900478,
    "execution_millis": 5,
    "cell_id": "00027-80dabc12-ca7e-4bb3-8afd-72d6d4d691a7",
    "deepnote_cell_type": "code",
    "deepnote_cell_height": 117
   },
   "source": "def agregar_adentro(codigo, transcipcion):\n    codigo2, recomendacion = main2(transcipcion)\n    return codigo[:-1] + codigo2, recomendacion",
   "execution_count": 51,
   "outputs": []
  },
  {
   "cell_type": "code",
   "metadata": {
    "colab": {
     "base_uri": "https://localhost:8080/",
     "height": 642
    },
    "id": "FWxAvCFV5amp",
    "outputId": "3e0b965a-8698-4371-a48d-9cf9c866105e",
    "deepnote_to_be_reexecuted": false,
    "source_hash": "a23afafa",
    "execution_start": 1651457910749,
    "execution_millis": 1538,
    "owner_user_id": "e0c6afe4-99d0-40b0-b8eb-7b5ca2d084e6",
    "cell_id": "00028-3d10d91a-14d1-4a56-9a41-4cc944d502c6",
    "deepnote_cell_type": "code",
    "deepnote_cell_height": 1557.796875,
    "deepnote_output_heights": [
     null,
     502,
     501.984375
    ]
   },
   "source": "# Variables globales\nbloque = '' # Define el contexto (si es función, condicional, ciclo, etc.)\ncodigo = None # Guarda el código hasta el momento\nindentacion = 0 # Nivel de indentación\nlinea_codigo = 0 # Esto para dar seguimiento al eliminado de una linea\n\ndef transcribe(audio, state=\"\"):\n    global bloque\n    global codigo\n    \n\n    transcriptions_es = model.transcribe([audio])[0]\n    # quitamos el acento de la transcripcion\n    frase = unidecode.unidecode(transcriptions_es['transcription']).lower()\n    \n    if not bloque:\n        # Significa que es la primera vez\n        codigo, recomendacion = main2(frase)        \n    else:        \n        if bloque == 'funcion':\n            codigo, recomendacion = agregar_adentro(codigo, frase)\n        elif bloque == 'clase':\n            pass\n        elif bloque == 'mientras':\n            codigo, recomendacion = agregar_adentro(codigo, frase)\n            pass\n        elif bloque == 'si':\n            pass\n    \n    \n    # Prueba\n    # codigo = transcriptions_es['transcription']\n    # recomendacion = \"hola\"\n    return codigo, recomendacion\n\ninputs = gr.inputs.Audio(label=\"Dar click para escuchar tu voz\", type=\"filepath\", source=\"microphone\")\noutput1 = gr.outputs.Textbox(label=\"Asi se ve tu código\")\noutput2 = gr.outputs.Textbox(label=\"Sugerencia\")\n\ntitle = \"Expresate con voz\"\ndescription = \"Aplicación que ayuda a programar a traves de tu voz\"\nexamples = ['definir función con nombre magica y parámetros x y z','definir función', 'definir variable', 'definir clase']\narticle = \"<a  style='color:#eb9f59;' href = 'https://github.com/gandres-dev/Hackaton-Common-Voice'> Repositorio de la app\"\ndemo = gr.Interface(fn=transcribe, inputs=inputs, outputs=[output1,output2],\n                    title=title, description=description, article=article,\n                    allow_flagging=\"never\", theme=\"darkpeach\", examples=examples,\n                    # live=True\n                    )\n\nif __name__ == \"__main__\":\n    demo.launch()",
   "execution_count": 52,
   "outputs": [
    {
     "output_type": "stream",
     "name": "stderr",
     "text": "/usr/local/lib/python3.7/dist-packages/gradio/interface.py:317: UserWarning: 'darkpeach' theme name is deprecated, using dark-peach instead.\n  f\"'{theme}' theme name is deprecated, using {DEPRECATED_THEME_MAP[theme]} instead.\"\n"
    },
    {
     "output_type": "stream",
     "name": "stdout",
     "text": "Colab notebook detected. To show errors in colab notebook, set `debug=True` in `launch()`\nYour interface requires microphone or webcam permissions - this may cause issues in Colab. Use the External URL in case of issues.\nRunning on public URL: https://59535.gradio.app\n\nThis share link expires in 72 hours. For free permanent hosting, check out Spaces (https://huggingface.co/spaces)\n"
    },
    {
     "output_type": "display_data",
     "data": {
      "text/plain": "<IPython.lib.display.IFrame at 0x7f0571c0d610>",
      "text/html": "\n        <iframe\n            width=\"900\"\n            height=\"500\"\n            src=\"https://59535.gradio.app\"\n            frameborder=\"0\"\n            allowfullscreen\n        ></iframe>\n        "
     },
     "metadata": {}
    }
   ]
  },
  {
   "cell_type": "markdown",
   "source": "## Probando la aplicación con widget",
   "metadata": {
    "id": "2xwqihCl8KK6",
    "cell_id": "00029-e08b50b2-0549-454e-a925-873f88ad0a7d",
    "deepnote_cell_type": "markdown",
    "deepnote_cell_height": 70
   }
  },
  {
   "cell_type": "markdown",
   "source": "Crea el widget de audio",
   "metadata": {
    "id": "ZTN3PO3XjJH9",
    "cell_id": "00030-bd729ce5-79be-43bd-9244-f50b39f93784",
    "deepnote_cell_type": "markdown",
    "deepnote_cell_height": 52.390625
   }
  },
  {
   "cell_type": "code",
   "metadata": {
    "colab": {
     "base_uri": "https://localhost:8080/"
    },
    "id": "GO6yX5ZDUKPT",
    "outputId": "6e3d36ca-2d4e-4f2b-b8b7-014e33cfafdc",
    "cell_id": "00031-a96f2c6c-c813-4412-a556-638290a9dd9d",
    "deepnote_cell_type": "code"
   },
   "source": "!pip install ipywebrtc",
   "execution_count": 32,
   "outputs": [
    {
     "output_type": "stream",
     "name": "stdout",
     "text": "Collecting ipywebrtc\n  Downloading ipywebrtc-0.6.0-py2.py3-none-any.whl (260 kB)\n\u001b[?25l\r\u001b[K     |█▎                              | 10 kB 22.9 MB/s eta 0:00:01\r\u001b[K     |██▌                             | 20 kB 11.3 MB/s eta 0:00:01\r\u001b[K     |███▊                            | 30 kB 8.7 MB/s eta 0:00:01\r\u001b[K     |█████                           | 40 kB 8.1 MB/s eta 0:00:01\r\u001b[K     |██████▎                         | 51 kB 4.6 MB/s eta 0:00:01\r\u001b[K     |███████▌                        | 61 kB 5.4 MB/s eta 0:00:01\r\u001b[K     |████████▉                       | 71 kB 5.4 MB/s eta 0:00:01\r\u001b[K     |██████████                      | 81 kB 4.2 MB/s eta 0:00:01\r\u001b[K     |███████████▎                    | 92 kB 4.6 MB/s eta 0:00:01\r\u001b[K     |████████████▋                   | 102 kB 5.0 MB/s eta 0:00:01\r\u001b[K     |█████████████▉                  | 112 kB 5.0 MB/s eta 0:00:01\r\u001b[K     |███████████████                 | 122 kB 5.0 MB/s eta 0:00:01\r\u001b[K     |████████████████▍               | 133 kB 5.0 MB/s eta 0:00:01\r\u001b[K     |█████████████████▋              | 143 kB 5.0 MB/s eta 0:00:01\r\u001b[K     |██████████████████▉             | 153 kB 5.0 MB/s eta 0:00:01\r\u001b[K     |████████████████████            | 163 kB 5.0 MB/s eta 0:00:01\r\u001b[K     |█████████████████████▍          | 174 kB 5.0 MB/s eta 0:00:01\r\u001b[K     |██████████████████████▋         | 184 kB 5.0 MB/s eta 0:00:01\r\u001b[K     |███████████████████████▉        | 194 kB 5.0 MB/s eta 0:00:01\r\u001b[K     |█████████████████████████▏      | 204 kB 5.0 MB/s eta 0:00:01\r\u001b[K     |██████████████████████████▍     | 215 kB 5.0 MB/s eta 0:00:01\r\u001b[K     |███████████████████████████▋    | 225 kB 5.0 MB/s eta 0:00:01\r\u001b[K     |█████████████████████████████   | 235 kB 5.0 MB/s eta 0:00:01\r\u001b[K     |██████████████████████████████▏ | 245 kB 5.0 MB/s eta 0:00:01\r\u001b[K     |███████████████████████████████▍| 256 kB 5.0 MB/s eta 0:00:01\r\u001b[K     |████████████████████████████████| 260 kB 5.0 MB/s \n\u001b[?25hInstalling collected packages: ipywebrtc\nSuccessfully installed ipywebrtc-0.6.0\n"
    }
   ]
  },
  {
   "cell_type": "code",
   "metadata": {
    "id": "W8q4ON9lUKpT",
    "cell_id": "00032-d9f47d98-fcd2-44ce-870a-d88993b6af02",
    "deepnote_cell_type": "code"
   },
   "source": "from google.colab import output\noutput.enable_custom_widget_manager()",
   "execution_count": 35,
   "outputs": []
  },
  {
   "cell_type": "code",
   "metadata": {
    "colab": {
     "base_uri": "https://localhost:8080/",
     "height": 93,
     "referenced_widgets": [
      "c22e7ee8f1a94a0999586816be52d8a1",
      "dd16ad71e89545498b39fe46141e66b2",
      "2ee5f2fcf8cd4d1a9cf32ace3fc6b89e",
      "48b341ff9794453fb99a356008ac6d60",
      "3592dc1d250d48ce85644450c493b8a8",
      "056663a4d44d40ad91efd27824e35fbd"
     ]
    },
    "id": "xidhCTEyh76O",
    "outputId": "0961b8e0-163d-49f4-cef6-da0e0ef58596",
    "deepnote_to_be_reexecuted": false,
    "source_hash": "3cc84f8f",
    "execution_start": 1651457970280,
    "execution_millis": 45,
    "cell_id": "00033-2883f0e9-21cf-4973-b68f-54a12d0192ec",
    "deepnote_cell_type": "code",
    "deepnote_cell_height": 289
   },
   "source": "from ipywebrtc import AudioRecorder, CameraStream\nfrom IPython.display import Audio\n\ncamera = CameraStream(constraints={'audio': True,'video':False})\nrecorder = AudioRecorder(stream=camera)\nrecorder",
   "execution_count": 36,
   "outputs": [
    {
     "output_type": "display_data",
     "data": {
      "text/plain": "AudioRecorder(audio=Audio(value=b'', format='webm'), stream=CameraStream(constraints={'audio': True, 'video': …",
      "application/vnd.jupyter.widget-view+json": {
       "version_major": 2,
       "version_minor": 0,
       "model_id": "c22e7ee8f1a94a0999586816be52d8a1"
      }
     },
     "metadata": {
      "application/vnd.jupyter.widget-view+json": {
       "colab": {
        "custom_widget_manager": {
         "url": "https://ssl.gstatic.com/colaboratory-static/widgets/colab-cdn-widget-manager/a8874ba6619b6106/manager.min.js"
        }
       }
      }
     }
    }
   ]
  },
  {
   "cell_type": "markdown",
   "source": "Reescribir audio ahora en formato .wav",
   "metadata": {
    "id": "xCWsb1Aui69D",
    "cell_id": "00034-2002f3fc-b18a-4d97-9814-94dc2f3d4817",
    "deepnote_cell_type": "markdown",
    "deepnote_cell_height": 52.390625
   }
  },
  {
   "cell_type": "code",
   "metadata": {
    "id": "QWLLcWN1UaIY",
    "cell_id": "00035-73c1414c-dff0-496a-b39f-9bb4df6cd143",
    "deepnote_cell_type": "code"
   },
   "source": "# Escribe el formato en webm\nwith open('test_audio_avitua_linea5.webm', 'wb') as f:\n    f.write(recorder.audio.value)\n\n# Convierte en webm -> wav\n!ffmpeg -i test_audio_avitua_linea5.webm -ac 1 -f wav test_audio_avitua_linea5.wav -y -hide_banner -loglevel panic",
   "execution_count": 43,
   "outputs": []
  },
  {
   "cell_type": "markdown",
   "source": "\n## Audios de Avitua",
   "metadata": {
    "tags": [],
    "id": "ZZDPnfA5P2iI",
    "cell_id": "00036-227b8831-3127-4106-98ff-44fa443232bd",
    "deepnote_cell_type": "markdown",
    "deepnote_cell_height": 70
   }
  },
  {
   "cell_type": "code",
   "metadata": {
    "id": "87c8iXXdiG6A",
    "deepnote_to_be_reexecuted": false,
    "source_hash": "b43fda13",
    "execution_start": 1651459322665,
    "execution_millis": 1171,
    "cell_id": "00037-b584d0af-fd99-49fa-97c8-4eb96cddf6e4",
    "deepnote_cell_type": "code",
    "deepnote_cell_height": 171
   },
   "source": "# Escribe el formato en webm\nwith open('./grabaciones-webm/test_audio_avitua_linea4.webm', 'wb') as f:\n    f.write(recorder.audio.value)\n\n# Convierte en webm -> wav\n!ffmpeg -i ./grabaciones-webm/test_audio_avitua_linea4.webm -ac 1 -f wav ./grabaciones-wav/test_audio_avitua_linea4.wav -y -hide_banner -loglevel panic",
   "execution_count": null,
   "outputs": []
  },
  {
   "cell_type": "markdown",
   "source": "## Audios Vizuet",
   "metadata": {
    "tags": [],
    "id": "Tp2t0hrEP2iJ",
    "cell_id": "00038-21278eb4-5a5d-4c44-8d13-d8dc0b88cced",
    "deepnote_cell_type": "markdown",
    "deepnote_cell_height": 70
   }
  },
  {
   "cell_type": "code",
   "metadata": {
    "tags": [],
    "id": "wP5wxyL8P2iJ",
    "cell_id": "00039-943b6131-66b2-4417-b2ee-ef224a0d7e12",
    "deepnote_cell_type": "code",
    "deepnote_cell_height": 156
   },
   "source": "# Escribe el formato en webm\nwith open('./grabaciones-webm/test_audio_vizuet.webm', 'wb') as f:\n    f.write(recorder.audio.value)\n\n# Convierte en webm -> wav\n!ffmpeg -i ./grabaciones-webm/test_audio_vizuet.webm -ac 1 -f wav ./grabaciones-wav/test_audio_vizuet.wav -y -hide_banner -loglevel panic",
   "execution_count": null,
   "outputs": []
  },
  {
   "cell_type": "markdown",
   "source": "## Audios Memo",
   "metadata": {
    "tags": [],
    "id": "vIw88zFYP2iJ",
    "cell_id": "00040-88b1d458-9e9b-4d4f-9c1f-9feaf58b8d84",
    "deepnote_cell_type": "markdown",
    "deepnote_cell_height": 70
   }
  },
  {
   "cell_type": "code",
   "metadata": {
    "tags": [],
    "deepnote_to_be_reexecuted": false,
    "source_hash": "ff38002a",
    "execution_start": 1651459726406,
    "execution_millis": 1033,
    "id": "u0P3MZ4jP2iJ",
    "cell_id": "00041-17db9122-5f5f-4220-92bd-970588798782",
    "deepnote_cell_type": "code",
    "deepnote_cell_height": 171
   },
   "source": "# Escribe el formato en webm\nwith open('./grabaciones-webm/test_audio_memo.webm', 'wb') as f:\n    f.write(recorder.audio.value)\n\n# Convierte en webm -> wav\n!ffmpeg -i ./grabaciones-webm/test_audio_memo.webm -ac 1 -f wav ./grabaciones-wav/test_audio_memo.wav -y -hide_banner -loglevel panic",
   "execution_count": null,
   "outputs": []
  },
  {
   "cell_type": "markdown",
   "source": "## Modelos",
   "metadata": {
    "id": "osf6ApA4i5HT",
    "cell_id": "00042-55789d6d-4029-4e0a-99fb-6d36efa4a02a",
    "deepnote_cell_type": "markdown",
    "deepnote_cell_height": 70
   }
  },
  {
   "cell_type": "code",
   "metadata": {
    "id": "jGJ1e8Dbi4Al",
    "colab": {
     "base_uri": "https://localhost:8080/",
     "height": 54
    },
    "outputId": "eae97e52-e596-4106-81dc-75837860a070",
    "deepnote_to_be_reexecuted": false,
    "source_hash": "b0b20063",
    "execution_start": 1651459339537,
    "execution_millis": 7166,
    "cell_id": "00043-a76e229f-75dd-4adb-978b-78ae37f3eb14",
    "deepnote_cell_type": "code",
    "deepnote_cell_height": 254.1875,
    "deepnote_output_heights": [
     null,
     21.1875
    ]
   },
   "source": "audio_paths = [\"test_audio_avitua_linea4.wav\"]\n\n# Obtenemos la frase del usuario\ntranscriptions_es = model.transcribe(audio_paths)[0]\n# Obtener la frase\ntranscriptions_es['transcription']",
   "execution_count": 39,
   "outputs": [
    {
     "output_type": "stream",
     "name": "stderr",
     "text": "100%|██████████| 1/1 [00:07<00:00,  7.65s/it]\n"
    },
    {
     "output_type": "execute_result",
     "data": {
      "text/plain": "'mientras variable india es menor o igual a seis'",
      "application/vnd.google.colaboratory.intrinsic+json": {
       "type": "string"
      }
     },
     "metadata": {},
     "execution_count": 39
    }
   ]
  },
  {
   "cell_type": "code",
   "metadata": {
    "id": "Z2gzVHhpU7Ju",
    "cell_id": "00044-8e7835d3-d2ac-4d23-9069-2157866b0c32",
    "deepnote_cell_type": "code"
   },
   "source": "bloque = '' # Define el contexto (si es función, condicional, ciclo, etc.)\ncodigo = None # Guarda el código hasta el momento\nindentacion = 0 # Nivel de indentación\nlinea_codigo = 0 # Esto para dar seguimiento al eliminado de una linea",
   "execution_count": 41,
   "outputs": []
  },
  {
   "cell_type": "code",
   "metadata": {
    "colab": {
     "base_uri": "https://localhost:8080/"
    },
    "id": "tBbTXRTVUi1h",
    "outputId": "98f20d64-2c03-4f69-9a78-0bbb9f50b231",
    "cell_id": "00045-d6971cf1-66fb-4a48-a18e-83385f83c5d3",
    "deepnote_cell_type": "code"
   },
   "source": "transcribe(\"test_audio_avitua_linea4.wav\")",
   "execution_count": 42,
   "outputs": [
    {
     "output_type": "stream",
     "name": "stderr",
     "text": "100%|██████████| 1/1 [00:07<00:00,  7.05s/it]\n"
    },
    {
     "output_type": "execute_result",
     "data": {
      "text/plain": "('while i <= 6:\\n\\t|', '')"
     },
     "metadata": {},
     "execution_count": 42
    }
   ]
  },
  {
   "cell_type": "markdown",
   "source": "## Segunda grabacion",
   "metadata": {
    "id": "DbwfzibcU_ph",
    "cell_id": "00046-5f8060f4-c820-407a-ac8b-b71770a53b02",
    "deepnote_cell_type": "markdown"
   }
  },
  {
   "cell_type": "code",
   "metadata": {
    "colab": {
     "base_uri": "https://localhost:8080/"
    },
    "id": "_3z30lA_UkdE",
    "outputId": "cf5ecc21-7ec7-4d43-a047-4bfdd2571cc4",
    "cell_id": "00047-f38a7b2c-c72e-4cff-8917-c3f9c7f6e383",
    "deepnote_cell_type": "code"
   },
   "source": "transcribe(\"test_audio_avitua_linea5.wav\")",
   "execution_count": 44,
   "outputs": [
    {
     "output_type": "stream",
     "name": "stderr",
     "text": "100%|██████████| 1/1 [00:07<00:00,  7.46s/it]\n"
    },
    {
     "output_type": "execute_result",
     "data": {
      "text/plain": "('while i <= 6:\\n\\t|i = 5\\n\\t', '')"
     },
     "metadata": {},
     "execution_count": 44
    }
   ]
  },
  {
   "cell_type": "code",
   "metadata": {
    "id": "Q7mZlPB8VPKa",
    "cell_id": "00048-babeda80-b724-49d9-bc8d-f0fdcaffe4a4",
    "deepnote_cell_type": "code"
   },
   "source": "",
   "execution_count": null,
   "outputs": []
  },
  {
   "cell_type": "code",
   "metadata": {
    "id": "YpGepVZzVPTk",
    "cell_id": "00049-b1495fa4-6a32-436f-9afd-644954873c90",
    "deepnote_cell_type": "code"
   },
   "source": "",
   "execution_count": null,
   "outputs": []
  },
  {
   "cell_type": "code",
   "metadata": {
    "tags": [],
    "deepnote_to_be_reexecuted": false,
    "source_hash": "fc1a801b",
    "execution_start": 1651459485695,
    "execution_millis": 3,
    "id": "Y9cqcp7rP2iL",
    "cell_id": "00050-0c5e13e9-608a-41b0-9b85-4395b777795f",
    "deepnote_cell_type": "code",
    "deepnote_cell_height": 135
   },
   "source": "voice1 = 'definir variable con nombre india igual a número uno'\nvoice2 = 'mientras india sea menoro igual a número seis'\nvoice3 = 'imprime india producto cadena guion'\nvoice4 = 'definir variable con nombre india igual a india más uno'",
   "execution_count": null,
   "outputs": []
  },
  {
   "cell_type": "markdown",
   "source": "Para no usar la interfaz de usuario podemos simplementar llamar la funcion:",
   "metadata": {
    "id": "4Ce8vwrKBL0P",
    "cell_id": "00051-a769bc2e-e1ac-444f-a444-5a56768f8516",
    "deepnote_cell_type": "markdown",
    "deepnote_cell_height": 52.390625
   }
  },
  {
   "cell_type": "code",
   "metadata": {
    "tags": [],
    "deepnote_to_be_reexecuted": false,
    "source_hash": "e97dfe15",
    "execution_start": 1651459622698,
    "execution_millis": 0,
    "id": "kUaPdyOwP2iL",
    "cell_id": "00052-23e19169-e541-470b-8b2e-7d66fe843280",
    "deepnote_cell_type": "code",
    "deepnote_cell_height": 531
   },
   "source": "# Variables globales\nbloque = '' # Define el contexto (si es función, condicional, ciclo, etc.)\ncodigo = None # Guarda el código hasta el momento\nindentacion = 0 # Nivel de indentación\nlinea_codigo = 0 # Esto para dar seguimiento al eliminado de una linea\n\ndef transcribe_test(audio):\n    global bloque\n    global codigo\n    \n    transcriptions_es = model.transcribe([audio])[0]\n    # quitamos el acento de la transcripcion\n    frase = unidecode.unidecode(transcriptions_es['transcription'])    \n    \n    if not bloque:\n        # Significa que es la primera vez\n        codigo, recomendacion = main(frase)        \n    else:        \n        if bloque == 'funcion':\n            codigo, recomendacion = agregar_adentro(codigo, frase)\n        elif bloque == 'clase':\n            pass\n    \n    # codigo = \n    # recomendacion = \"hola\"\n    return codigo, recomendacion",
   "execution_count": null,
   "outputs": []
  },
  {
   "cell_type": "code",
   "metadata": {
    "tags": [],
    "deepnote_to_be_reexecuted": false,
    "source_hash": "4b17257c",
    "execution_start": 1651459738868,
    "execution_millis": 8423,
    "id": "q2X7upycP2iL",
    "cell_id": "00053-8b474007-cfe4-4c06-9dce-3258bb69d8fe",
    "deepnote_cell_type": "code",
    "deepnote_cell_height": 418.375,
    "deepnote_output_heights": [
     347.671875,
     213.1875
    ]
   },
   "source": "transcribe_test('./grabaciones-wav/test_audio_memo.wav')",
   "execution_count": null,
   "outputs": []
  },
  {
   "cell_type": "markdown",
   "source": "<a style='text-decoration:none;line-height:16px;display:flex;color:#5B5B62;padding:10px;justify-content:end;' href='https://deepnote.com?utm_source=created-in-deepnote-cell&projectId=17740a58-e960-4de3-bb66-1575286930f1' target=\"_blank\">\n<img alt='Created in deepnote.com' style='display:inline;max-height:16px;margin:0px;margin-right:7.5px;' src='data:image/svg+xml;base64,PD94bWwgdmVyc2lvbj0iMS4wIiBlbmNvZGluZz0iVVRGLTgiPz4KPHN2ZyB3aWR0aD0iODBweCIgaGVpZ2h0PSI4MHB4IiB2aWV3Qm94PSIwIDAgODAgODAiIHZlcnNpb249IjEuMSIgeG1sbnM9Imh0dHA6Ly93d3cudzMub3JnLzIwMDAvc3ZnIiB4bWxuczp4bGluaz0iaHR0cDovL3d3dy53My5vcmcvMTk5OS94bGluayI+CiAgICA8IS0tIEdlbmVyYXRvcjogU2tldGNoIDU0LjEgKDc2NDkwKSAtIGh0dHBzOi8vc2tldGNoYXBwLmNvbSAtLT4KICAgIDx0aXRsZT5Hcm91cCAzPC90aXRsZT4KICAgIDxkZXNjPkNyZWF0ZWQgd2l0aCBTa2V0Y2guPC9kZXNjPgogICAgPGcgaWQ9IkxhbmRpbmciIHN0cm9rZT0ibm9uZSIgc3Ryb2tlLXdpZHRoPSIxIiBmaWxsPSJub25lIiBmaWxsLXJ1bGU9ImV2ZW5vZGQiPgogICAgICAgIDxnIGlkPSJBcnRib2FyZCIgdHJhbnNmb3JtPSJ0cmFuc2xhdGUoLTEyMzUuMDAwMDAwLCAtNzkuMDAwMDAwKSI+CiAgICAgICAgICAgIDxnIGlkPSJHcm91cC0zIiB0cmFuc2Zvcm09InRyYW5zbGF0ZSgxMjM1LjAwMDAwMCwgNzkuMDAwMDAwKSI+CiAgICAgICAgICAgICAgICA8cG9seWdvbiBpZD0iUGF0aC0yMCIgZmlsbD0iIzAyNjVCNCIgcG9pbnRzPSIyLjM3NjIzNzYyIDgwIDM4LjA0NzY2NjcgODAgNTcuODIxNzgyMiA3My44MDU3NTkyIDU3LjgyMTc4MjIgMzIuNzU5MjczOSAzOS4xNDAyMjc4IDMxLjY4MzE2ODMiPjwvcG9seWdvbj4KICAgICAgICAgICAgICAgIDxwYXRoIGQ9Ik0zNS4wMDc3MTgsODAgQzQyLjkwNjIwMDcsNzYuNDU0OTM1OCA0Ny41NjQ5MTY3LDcxLjU0MjI2NzEgNDguOTgzODY2LDY1LjI2MTk5MzkgQzUxLjExMjI4OTksNTUuODQxNTg0MiA0MS42NzcxNzk1LDQ5LjIxMjIyODQgMjUuNjIzOTg0Niw0OS4yMTIyMjg0IEMyNS40ODQ5Mjg5LDQ5LjEyNjg0NDggMjkuODI2MTI5Niw0My4yODM4MjQ4IDM4LjY0NzU4NjksMzEuNjgzMTY4MyBMNzIuODcxMjg3MSwzMi41NTQ0MjUgTDY1LjI4MDk3Myw2Ny42NzYzNDIxIEw1MS4xMTIyODk5LDc3LjM3NjE0NCBMMzUuMDA3NzE4LDgwIFoiIGlkPSJQYXRoLTIyIiBmaWxsPSIjMDAyODY4Ij48L3BhdGg+CiAgICAgICAgICAgICAgICA8cGF0aCBkPSJNMCwzNy43MzA0NDA1IEwyNy4xMTQ1MzcsMC4yNTcxMTE0MzYgQzYyLjM3MTUxMjMsLTEuOTkwNzE3MDEgODAsMTAuNTAwMzkyNyA4MCwzNy43MzA0NDA1IEM4MCw2NC45NjA0ODgyIDY0Ljc3NjUwMzgsNzkuMDUwMzQxNCAzNC4zMjk1MTEzLDgwIEM0Ny4wNTUzNDg5LDc3LjU2NzA4MDggNTMuNDE4MjY3Nyw3MC4zMTM2MTAzIDUzLjQxODI2NzcsNTguMjM5NTg4NSBDNTMuNDE4MjY3Nyw0MC4xMjg1NTU3IDM2LjMwMzk1NDQsMzcuNzMwNDQwNSAyNS4yMjc0MTcsMzcuNzMwNDQwNSBDMTcuODQzMDU4NiwzNy43MzA0NDA1IDkuNDMzOTE5NjYsMzcuNzMwNDQwNSAwLDM3LjczMDQ0MDUgWiIgaWQ9IlBhdGgtMTkiIGZpbGw9IiMzNzkzRUYiPjwvcGF0aD4KICAgICAgICAgICAgPC9nPgogICAgICAgIDwvZz4KICAgIDwvZz4KPC9zdmc+' > </img>\nCreated in <span style='font-weight:600;margin-left:4px;'>Deepnote</span></a>",
   "metadata": {
    "tags": [],
    "created_in_deepnote_cell": true,
    "deepnote_cell_type": "markdown"
   }
  }
 ],
 "nbformat": 4,
 "nbformat_minor": 0,
 "metadata": {
  "colab": {
   "name": "Hackaton_v2_nuevo.ipynb",
   "provenance": [],
   "collapsed_sections": []
  },
  "kernelspec": {
   "name": "python3",
   "display_name": "Python 3"
  },
  "language_info": {
   "name": "python"
  },
  "widgets": {
   "application/vnd.jupyter.widget-state+json": {
    "c22e7ee8f1a94a0999586816be52d8a1": {
     "model_module": "jupyter-webrtc",
     "model_name": "AudioRecorderModel",
     "model_module_version": "~0.6.0",
     "state": {
      "_data_src": "blob:https://6tf5blygfu-496ff2e9c6d22116-0-colab.googleusercontent.com/7a75ca24-c713-4712-87df-b3efc760386c",
      "_dom_classes": [],
      "_model_module": "jupyter-webrtc",
      "_model_module_version": "~0.6.0",
      "_model_name": "AudioRecorderModel",
      "_view_count": null,
      "_view_module": "jupyter-webrtc",
      "_view_module_version": "~0.6.0",
      "_view_name": "AudioRecorderView",
      "audio": "IPY_MODEL_dd16ad71e89545498b39fe46141e66b2",
      "autosave": false,
      "codecs": "",
      "filename": "record",
      "format": "webm",
      "layout": "IPY_MODEL_2ee5f2fcf8cd4d1a9cf32ace3fc6b89e",
      "recording": false,
      "stream": "IPY_MODEL_48b341ff9794453fb99a356008ac6d60"
     }
    },
    "dd16ad71e89545498b39fe46141e66b2": {
     "model_module": "@jupyter-widgets/controls",
     "model_name": "AudioModel",
     "model_module_version": "1.5.0",
     "state": {
      "_dom_classes": [],
      "_model_module": "@jupyter-widgets/controls",
      "_model_module_version": "1.5.0",
      "_model_name": "AudioModel",
      "_view_count": null,
      "_view_module": "@jupyter-widgets/controls",
      "_view_module_version": "1.5.0",
      "_view_name": "AudioView",
      "autoplay": true,
      "controls": true,
      "format": "webm",
      "layout": "IPY_MODEL_3592dc1d250d48ce85644450c493b8a8",
      "loop": true
     }
    },
    "2ee5f2fcf8cd4d1a9cf32ace3fc6b89e": {
     "model_module": "@jupyter-widgets/base",
     "model_name": "LayoutModel",
     "model_module_version": "1.2.0",
     "state": {
      "_model_module": "@jupyter-widgets/base",
      "_model_module_version": "1.2.0",
      "_model_name": "LayoutModel",
      "_view_count": null,
      "_view_module": "@jupyter-widgets/base",
      "_view_module_version": "1.2.0",
      "_view_name": "LayoutView",
      "align_content": null,
      "align_items": null,
      "align_self": null,
      "border": null,
      "bottom": null,
      "display": null,
      "flex": null,
      "flex_flow": null,
      "grid_area": null,
      "grid_auto_columns": null,
      "grid_auto_flow": null,
      "grid_auto_rows": null,
      "grid_column": null,
      "grid_gap": null,
      "grid_row": null,
      "grid_template_areas": null,
      "grid_template_columns": null,
      "grid_template_rows": null,
      "height": null,
      "justify_content": null,
      "justify_items": null,
      "left": null,
      "margin": null,
      "max_height": null,
      "max_width": null,
      "min_height": null,
      "min_width": null,
      "object_fit": null,
      "object_position": null,
      "order": null,
      "overflow": null,
      "overflow_x": null,
      "overflow_y": null,
      "padding": null,
      "right": null,
      "top": null,
      "visibility": null,
      "width": null
     }
    },
    "48b341ff9794453fb99a356008ac6d60": {
     "model_module": "jupyter-webrtc",
     "model_name": "CameraStreamModel",
     "model_module_version": "~0.6.0",
     "state": {
      "_dom_classes": [],
      "_model_module": "jupyter-webrtc",
      "_model_module_version": "~0.6.0",
      "_model_name": "CameraStreamModel",
      "_view_count": null,
      "_view_module": "jupyter-webrtc",
      "_view_module_version": "~0.6.0",
      "_view_name": "MediaStreamView",
      "constraints": {
       "audio": true,
       "video": false
      },
      "layout": "IPY_MODEL_056663a4d44d40ad91efd27824e35fbd"
     }
    },
    "3592dc1d250d48ce85644450c493b8a8": {
     "model_module": "@jupyter-widgets/base",
     "model_name": "LayoutModel",
     "model_module_version": "1.2.0",
     "state": {
      "_model_module": "@jupyter-widgets/base",
      "_model_module_version": "1.2.0",
      "_model_name": "LayoutModel",
      "_view_count": null,
      "_view_module": "@jupyter-widgets/base",
      "_view_module_version": "1.2.0",
      "_view_name": "LayoutView",
      "align_content": null,
      "align_items": null,
      "align_self": null,
      "border": null,
      "bottom": null,
      "display": null,
      "flex": null,
      "flex_flow": null,
      "grid_area": null,
      "grid_auto_columns": null,
      "grid_auto_flow": null,
      "grid_auto_rows": null,
      "grid_column": null,
      "grid_gap": null,
      "grid_row": null,
      "grid_template_areas": null,
      "grid_template_columns": null,
      "grid_template_rows": null,
      "height": null,
      "justify_content": null,
      "justify_items": null,
      "left": null,
      "margin": null,
      "max_height": null,
      "max_width": null,
      "min_height": null,
      "min_width": null,
      "object_fit": null,
      "object_position": null,
      "order": null,
      "overflow": null,
      "overflow_x": null,
      "overflow_y": null,
      "padding": null,
      "right": null,
      "top": null,
      "visibility": null,
      "width": null
     }
    },
    "056663a4d44d40ad91efd27824e35fbd": {
     "model_module": "@jupyter-widgets/base",
     "model_name": "LayoutModel",
     "model_module_version": "1.2.0",
     "state": {
      "_model_module": "@jupyter-widgets/base",
      "_model_module_version": "1.2.0",
      "_model_name": "LayoutModel",
      "_view_count": null,
      "_view_module": "@jupyter-widgets/base",
      "_view_module_version": "1.2.0",
      "_view_name": "LayoutView",
      "align_content": null,
      "align_items": null,
      "align_self": null,
      "border": null,
      "bottom": null,
      "display": null,
      "flex": null,
      "flex_flow": null,
      "grid_area": null,
      "grid_auto_columns": null,
      "grid_auto_flow": null,
      "grid_auto_rows": null,
      "grid_column": null,
      "grid_gap": null,
      "grid_row": null,
      "grid_template_areas": null,
      "grid_template_columns": null,
      "grid_template_rows": null,
      "height": null,
      "justify_content": null,
      "justify_items": null,
      "left": null,
      "margin": null,
      "max_height": null,
      "max_width": null,
      "min_height": null,
      "min_width": null,
      "object_fit": null,
      "object_position": null,
      "order": null,
      "overflow": null,
      "overflow_x": null,
      "overflow_y": null,
      "padding": null,
      "right": null,
      "top": null,
      "visibility": null,
      "width": null
     }
    }
   }
  },
  "deepnote_notebook_id": "d671daca-0895-4060-8362-95a52bd498a4",
  "deepnote": {},
  "deepnote_execution_queue": []
 }
}