{
 "cells": [
  {
   "cell_type": "markdown",
   "source": "# App.ipynb\nEste notebook contiene sólo la interfaz de usuario",
   "metadata": {
    "cell_id": "1dc23f80c74d4c339e19f4c09ee111c4",
    "tags": [],
    "deepnote_cell_type": "markdown",
    "deepnote_cell_height": 119.93333435058594
   },
   "outputs": [],
   "execution_count": null
  },
  {
   "cell_type": "markdown",
   "source": "**Cargamos la funciones de los otros notebooks**\n\nEs como hicieramos tipo import:",
   "metadata": {
    "cell_id": "842ea5357ed9454ea9e66c7d58ef4856",
    "tags": [],
    "deepnote_cell_type": "markdown",
    "deepnote_cell_height": 88.33332824707031
   },
   "outputs": [],
   "execution_count": null
  },
  {
   "cell_type": "code",
   "source": "#%run \"./variables_globales.ipynb\"\n%run \"./plantillas_codigo.ipynb\"",
   "metadata": {
    "cell_id": "dcc73b4765db4642b6c220fc327dae1a",
    "tags": [],
    "deepnote_to_be_reexecuted": false,
    "source_hash": "be913a87",
    "execution_start": 1651514052409,
    "execution_millis": 201,
    "owner_user_id": "e0c6afe4-99d0-40b0-b8eb-7b5ca2d084e6",
    "deepnote_cell_type": "code",
    "deepnote_cell_height": 506.23333740234375,
    "deepnote_output_heights": [
     252,
     290,
     611
    ]
   },
   "outputs": [
    {
     "name": "stdout",
     "text": "if i <= 6:\n\t|\nwhile alpha == 2:\n\t\t|\n('ejecuta print con argumentos variable India producto', 'guión', '')\n\nIndia\n\nIndia * \"guión\"\nIndia - Francis\n / \nvariable India producto cadena guión cadena  India * \"guión\"\n cadena hola cadena \n['variable India producto cadena guión cadena ', ' cadena hola cadena']\n",
     "output_type": "stream"
    }
   ],
   "execution_count": 1
  },
  {
   "cell_type": "markdown",
   "source": "Instalación de la bibliotecas",
   "metadata": {
    "cell_id": "862a10a0b945486d82bc08f9e4f29879",
    "tags": [],
    "deepnote_cell_type": "markdown",
    "deepnote_cell_height": 51.93333435058594
   },
   "outputs": [],
   "execution_count": null
  },
  {
   "cell_type": "code",
   "metadata": {
    "tags": [],
    "cell_id": "b3ae44e9-0559-4e91-b512-133a994f45ed",
    "deepnote_cell_type": "code",
    "deepnote_cell_height": 101.53334045410156
   },
   "source": "#!pip install -q gradio\n#!pip install huggingsound\n#!pip install unidecode",
   "execution_count": null,
   "outputs": []
  },
  {
   "cell_type": "markdown",
   "source": "## Carga del modelo de voz",
   "metadata": {
    "cell_id": "c2189b02b2af403a98555e21ef51ec37",
    "tags": [],
    "deepnote_cell_type": "markdown",
    "deepnote_cell_height": 69.53334045410156
   },
   "outputs": [],
   "execution_count": null
  },
  {
   "cell_type": "code",
   "source": "# cargamos el modelo de huggingsound\nimport re\nfrom huggingsound import SpeechRecognitionModel\n\n# creación del modelo\nmodel = SpeechRecognitionModel(\"patrickvonplaten/wav2vec2-large-xlsr-53-spanish-with-lm\")",
   "metadata": {
    "cell_id": "c9e151b5021a416884cf9d8cfae30e6b",
    "tags": [],
    "deepnote_cell_type": "code",
    "deepnote_cell_height": 155.53334045410156
   },
   "outputs": [],
   "execution_count": null
  },
  {
   "cell_type": "markdown",
   "source": "## App gradio template\nSólo para que funcione, porque luego falla si no se ejecuta esta:",
   "metadata": {
    "cell_id": "9074c308e20341968c5fa6f16692a26d",
    "tags": [],
    "deepnote_cell_type": "markdown",
    "deepnote_cell_height": 107.93333435058594
   },
   "outputs": [],
   "execution_count": null
  },
  {
   "cell_type": "code",
   "source": "import gradio as gr\n\n\ndef greet(name):\n    return \"Hello \" + name + \"!!\"\n\n\ndemo = gr.Interface(fn=greet, inputs=\"text\", outputs=\"text\")\n\nif __name__ == \"__main__\":\n    demo.launch()",
   "metadata": {
    "cell_id": "a9bfe28e7252406e9f1f255bf8689fcd",
    "tags": [],
    "deepnote_cell_type": "code",
    "deepnote_cell_height": 245.53334045410156
   },
   "outputs": [],
   "execution_count": null
  },
  {
   "cell_type": "markdown",
   "source": "## App (UI)",
   "metadata": {
    "cell_id": "80485acd85c24ac78c70236772af4bdd",
    "tags": [],
    "deepnote_cell_type": "markdown",
    "deepnote_cell_height": 69.53334045410156
   },
   "outputs": [],
   "execution_count": null
  },
  {
   "cell_type": "code",
   "source": "# Variables globales\nbloque = '' # Define el contexto (si es función, condicional, ciclo, etc.)\ncodigo = None # Guarda el código hasta el momento\nindentacion = 0 # Nivel de indentación\nlinea_codigo = 0 # Esto para dar seguimiento al eliminado de una linea\nrecomendacion = \"\"\n\ndef transcribe(audio, state=\"\"):\n    global bloque\n    global codigo\n    \n\n    transcriptions_es = model.transcribe([audio])[0]\n    # quitamos el acento de la transcripcion\n    frase = unidecode.unidecode(transcriptions_es['transcription']).lower()\n    \n    if not bloque:\n        # Significa que es la primera vez\n        codigo = main2(frase)        \n    else:        \n        if bloque == 'funcion':\n            codigo = agregar_adentro(codigo, frase)\n        elif bloque == 'clase':\n            pass\n        elif bloque == 'mientras':\n            codigo= agregar_adentro(codigo, frase)\n            pass\n        elif bloque == 'si':\n            pass\n    \n    \n    # Prueba\n    # codigo = transcriptions_es['transcription']\n    # recomendacion = \"hola\"\n    return codigo, recomendacion\n\ninputs = gr.inputs.Audio(label=\"Dar click para escuchar tu voz\", type=\"filepath\", source=\"microphone\")\noutput1 = gr.outputs.Textbox(label=\"Asi se ve tu código\")\noutput2 = gr.outputs.Textbox(label=\"Sugerencia\")\n\ntitle = \"Expresate con voz\"\ndescription = \"Aplicación que ayuda a programar a traves de tu voz\"\nexamples = ['definir función con nombre magica y parámetros x y z','definir función', 'definir variable', 'definir clase']\narticle = \"<a  style='color:#eb9f59;' href = 'https://github.com/gandres-dev/Hackaton-Common-Voice'> Repositorio de la app\"\ndemo = gr.Interface(fn=transcribe, inputs=inputs, outputs=[output1,output2],\n                    title=title, description=description, article=article,\n                    allow_flagging=\"never\", theme=\"darkpeach\", examples=examples,\n                    # live=True\n                    )\n\nif __name__ == \"__main__\":\n    demo.launch()",
   "metadata": {
    "cell_id": "fc0a7c38bbde488c9eda589965b46b95",
    "tags": [],
    "deepnote_cell_type": "code",
    "deepnote_cell_height": 983.5333251953125
   },
   "outputs": [],
   "execution_count": null
  },
  {
   "cell_type": "markdown",
   "source": "<a style='text-decoration:none;line-height:16px;display:flex;color:#5B5B62;padding:10px;justify-content:end;' href='https://deepnote.com?utm_source=created-in-deepnote-cell&projectId=17740a58-e960-4de3-bb66-1575286930f1' target=\"_blank\">\n<img alt='Created in deepnote.com' style='display:inline;max-height:16px;margin:0px;margin-right:7.5px;' src='data:image/svg+xml;base64,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' > </img>\nCreated in <span style='font-weight:600;margin-left:4px;'>Deepnote</span></a>",
   "metadata": {
    "tags": [],
    "created_in_deepnote_cell": true,
    "deepnote_cell_type": "markdown"
   }
  }
 ],
 "nbformat": 4,
 "nbformat_minor": 2,
 "metadata": {
  "orig_nbformat": 2,
  "deepnote": {},
  "deepnote_notebook_id": "3ba52d33-c51c-44e8-a40f-8833ddc6115c",
  "deepnote_execution_queue": []
 }
}